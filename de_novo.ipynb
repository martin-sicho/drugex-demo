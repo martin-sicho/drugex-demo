{
 "cells": [
  {
   "cell_type": "markdown",
   "id": "fc212f45-d2da-4382-b25f-a7546fb35490",
   "metadata": {},
   "source": [
    "# De Novo Drug Design with AI\n",
    "\n",
    "In this last section of the tutorial, we will show how we can generate new compounds with artificial intelligence (AI). Historically, [there have been many attempts](https://doi.org/10.3390/ijms22041676) to develop an algorithm that can generate chemical entities with desirable properties. Many of the early methods relied on evolutionary aglorithms, but today deep neural networks have become very popular for this task. It is still not clear if one approach works better than the other, but in this tutorial we will use the [DrugEx package](https://github.com/CDDLeiden/DrugEx), which integrates multiple generative deep learning models and provides a framework to train them with multiple objectives. However, there are many similar models and packages out there each with its own caveats and benefits. Therefore, it is generally a good idea to combine multiple approaches in real world applications because the overlap of the generated compounds between different methodlogies is usually very small.\n",
    "\n",
    "\n",
    "## Transfer Learning (Pretrained & Finetuned Model)\n",
    "\n",
    "We will not be training a generative model from scratch in this tutorial, but instead we will use a common technique called *transfer learning*. In transfer learning, we use an already pretrained model for one task as a starting point to finetune a second model for another task. The workflow is illustrated below:\n",
    "\n",
    "![TL](img/TL.drawio.svg)\n",
    "\n",
    "In the context of this tutorial, the pretrained model will be a large model trained on a large data set ([Papyrus](https://zenodo.org/record/7096859)). The task of this model was to observe the entirety of Papyrus data set and learn what a chemical structure looks like and be able to generate chemically valid molecules that resemble known chemistry. For this tutorial, we chose the model based on recurrent neural netoworks (RNNs). These are ususally easier to train so you can run these experiments on a regular GPU that you might have at home without too much waiting. This choice will also affect all other choices we will make in this tutorial so note that for a different model, slightly different workflow would be necessary.\n",
    "\n",
    "This global pretrained model is not very useful for our task, however, because it will likely only be able to generate very small percentage of molecules that might have some activity on the A2A receptor. Therefore, we will use the concept of transfer learning to obtain a finetuned model that can both generate valid molecules, but make those molecules much more similar to those that we extracted previously and should be relevant to the A2A receptor. \n",
    "\n",
    "### Preatrained Model\n",
    "\n",
    "First, let us start by loading and testing the pretrained model. This model is [archived on the Zenodo service](https://zenodo.org/record/7096859). There are many files archived along with the model, but at this point we only care about the `.vocab` and `.pkg` files:"
   ]
  },
  {
   "cell_type": "code",
   "execution_count": 2,
   "id": "70a859d9-a55e-4a64-8c87-8995d43f676b",
   "metadata": {},
   "outputs": [],
   "source": [
    "from drugex.training.models import RNN\n",
    "from drugex.data.corpus.vocabulary import VocSmiles\n",
    "\n",
    "PT_MODEL_FOLDER = \"data/drugex/models/pretrained/DrugEx_v2_PT_Papyrus05.5/\"\n",
    "GPUS = [0] # we will use only one GPU with ID=0, but if you have more, you can list more GPU IDs here\n",
    "\n",
    "voc = VocSmiles.fromFile(os.path.join(PT_MODEL_FOLDER, \"Papyrus05.5_smiles_rnn_PT.vocab\"))\n",
    "pretrained = RNN(voc, is_lstm=True, use_gpus=GPUS)\n",
    "pretrained.loadStatesFromFile(os.path.join(PT_MODEL_FOLDER, \"Papyrus05.5_smiles_rnn_PT.pkg\"))"
   ]
  },
  {
   "cell_type": "markdown",
   "id": "f495c430-c5f6-4d28-a6d8-caf24f4fa6ad",
   "metadata": {},
   "source": [
    "The `RNN` model requires a vocabulary of tokens to be provided. You can open this file and see the tokens defined in it. These are the words of the SMILES language that we use to define structures of molecules. What the model learned is how to combine these words into viable sentences (chemical structures) in the SMILES language. The data saved in the `.pkg` file are the weights (learned states) of the model that define the learned parameters and tell the model how to combine the tokens in the vocabulary in the correct way to generate a random compound that resembles known chemistry.\n",
    "\n",
    "At this point, we should have the pretrained model loaded and be ready to generate some molecules with it. We can validate that the model functions as expected by sampling a small number of molecules from it:"
   ]
  },
  {
   "cell_type": "code",
   "execution_count": 3,
   "id": "e2c64ef2-e7b4-4d3e-8376-fa1782bfb5ee",
   "metadata": {},
   "outputs": [
    {
     "name": "stdout",
     "output_type": "stream",
     "text": [
      "['Cc1cc(C=CC(=O)c2ccc(-c3ccccc3)cc2)ccc1O', 'CCOC(=O)c1oc2ccccc2c1COC(=O)CNC(=O)c1cc(C)cc(C)c1', 'CC(NC(=O)c1cc(COCC(N)CCC(N)=O)cc(-n2cccn2)c1)c1ccc(F)cc1', 'COCCCNC(=O)c1cc(S(=O)(=O)N2CCCCC2)ccc1C', 'O=C(O)CCn1ccc(C(=O)N2CCN(c3ccc(F)cc3)CC2)c1Sc1cc(Cl)ccc1Cl', 'CCCCC1(C)OC(=O)C(=Cc2ccc(I)cc2)S1', 'CCN(C(=O)c1ccc(C(=O)c2cnc3ccccc3c2)cc1)C1CCCCC1', 'O=[N+]([O-])c1nc(N(Cc2cnc(C3CC3)[nH]2)c2sccc2Br)sc1C(F)(F)F', 'COc1ccc(OC)c(C=NNC(=O)CNc2ccccc2C)c1', 'O=C(Nc1cc(C(=O)N2CCN(CC3CC3)CC2)no1)c1cccc(C(F)(F)F)c1']\n"
     ]
    }
   ],
   "source": [
    "from drugex.utils import canonicalize_list\n",
    "from drugex.training.scorers.smiles import SmilesChecker\n",
    "import numpy as np\n",
    "\n",
    "def sample_smiles(self, num_smiles, batch_size=100, drop_duplicates=True, drop_invalid=True):\n",
    "    smiles = []\n",
    "    while len(smiles) < num_smiles:\n",
    "        # sample SMILES\n",
    "        sequences = self.sample(batch_size)\n",
    "        # decode according to vocabulary\n",
    "        new_smiles = canonicalize_list([self.voc.decode(s, is_tk = False) for s in sequences])\n",
    "        # drop duplicates\n",
    "        if drop_duplicates:\n",
    "            new_smiles = np.array(new_smiles)\n",
    "            new_smiles = new_smiles[np.logical_not(np.isin(new_smiles, smiles))]\n",
    "            new_smiles = new_smiles.tolist()\n",
    "        # drop invalid smiles\n",
    "        if drop_invalid:\n",
    "            scores = SmilesChecker.checkSmiles(new_smiles, frags=None).ravel()\n",
    "            new_smiles = np.array(new_smiles)[scores > 0].tolist()\n",
    "        smiles += new_smiles\n",
    "    return smiles[:num_smiles]\n",
    "\n",
    "smiles_pretrained = sample_smiles(pretrained, 1000)\n",
    "print(smiles_pretrained[0:10])"
   ]
  },
  {
   "cell_type": "markdown",
   "id": "28f05f05-4a16-4f35-8976-c671fbc37f8b",
   "metadata": {},
   "source": [
    "These are the first ten SMILES strings from the 1000 requested. It is a little hard to read into the structures from the SMILES strings so let's convert them to the `scaffviz` data set, which we can use to make a visualization:"
   ]
  },
  {
   "cell_type": "code",
   "execution_count": 4,
   "id": "4ab32fa0-a0c8-4f76-8a4f-0960ce3d0abf",
   "metadata": {},
   "outputs": [
    {
     "data": {
      "text/html": [
       "<div>\n",
       "<style scoped>\n",
       "    .dataframe tbody tr th:only-of-type {\n",
       "        vertical-align: middle;\n",
       "    }\n",
       "\n",
       "    .dataframe tbody tr th {\n",
       "        vertical-align: top;\n",
       "    }\n",
       "\n",
       "    .dataframe thead th {\n",
       "        text-align: right;\n",
       "    }\n",
       "</style>\n",
       "<table border=\"1\" class=\"dataframe\">\n",
       "  <thead>\n",
       "    <tr style=\"text-align: right;\">\n",
       "      <th></th>\n",
       "      <th>SMILES</th>\n",
       "      <th>RDMol</th>\n",
       "    </tr>\n",
       "  </thead>\n",
       "  <tbody>\n",
       "    <tr>\n",
       "      <th>0</th>\n",
       "      <td>Cc1cc(C=CC(=O)c2ccc(-c3ccccc3)cc2)ccc1O</td>\n",
       "      <td style=\"text-align: center;\"><img data-content=\"rdkit/molecule\" src=\"data:image/png;base64,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\" alt=\"Mol\"/></td>\n",
       "    </tr>\n",
       "  </tbody>\n",
       "</table>\n",
       "</div>"
      ],
      "text/plain": [
       "                                    SMILES  \\\n",
       "0  Cc1cc(C=CC(=O)c2ccc(-c3ccccc3)cc2)ccc1O   \n",
       "\n",
       "                                               RDMol  \n",
       "0  <img data-content=\"rdkit/molecule\" src=\"data:i...  "
      ]
     },
     "execution_count": 4,
     "metadata": {},
     "output_type": "execute_result"
    }
   ],
   "source": [
    "from scaffviz.data.dataset import DataSetSMILES\n",
    "\n",
    "dataset = DataSetSMILES(\"data/pretrained_sampled.tsv\", smiles=smiles_pretrained, use_existing=False)\n",
    "dataset.asDataFrame().head(3)"
   ]
  },
  {
   "cell_type": "markdown",
   "id": "5961abff-792c-4ae5-bd6b-8d0d919a0369",
   "metadata": {},
   "source": [
    "You can see that the generated `DataFrame` also includes a picture of the structure, but plotting the full chemical space plot is easy so let's do that too:"
   ]
  },
  {
   "cell_type": "code",
   "execution_count": 5,
   "id": "50960900-3142-4ba7-9389-b37d293df6ef",
   "metadata": {},
   "outputs": [
    {
     "name": "stderr",
     "output_type": "stream",
     "text": [
      "/home/sichom/software/miniconda/envs/drugex-demo/lib/python3.9/site-packages/sklearn/manifold/_t_sne.py:800: FutureWarning: The default initialization in TSNE will change from 'random' to 'pca' in 1.2.\n",
      "  warnings.warn(\n",
      "/home/sichom/software/miniconda/envs/drugex-demo/lib/python3.9/site-packages/sklearn/manifold/_t_sne.py:810: FutureWarning: The default learning rate in TSNE will change from 200.0 to 'auto' in 1.2.\n",
      "  warnings.warn(\n"
     ]
    },
    {
     "data": {
      "text/html": [
       "\n",
       "        <iframe\n",
       "            width=\"100%\"\n",
       "            height=\"800\"\n",
       "            src=\"http://127.0.0.1:9292/\"\n",
       "            frameborder=\"0\"\n",
       "            allowfullscreen\n",
       "            \n",
       "        ></iframe>\n",
       "        "
      ],
      "text/plain": [
       "<IPython.lib.display.IFrame at 0x7fe4e02cfe20>"
      ]
     },
     "metadata": {},
     "output_type": "display_data"
    }
   ],
   "source": [
    "from scaffviz.depiction.plot import Plot\n",
    "from scaffviz.clustering.manifold import TSNE\n",
    "from scaffviz.clustering.descriptors import MorganFP\n",
    "\n",
    "dataset.addDescriptors([MorganFP(radius=2, nBits=1024)], recalculate=False) \n",
    "\n",
    "# make an interactive plot that will use t-SNE to embed the data set in 2D (all current descriptors in the data set will be used)\n",
    "plt = Plot(dataset, TSNE())\n",
    "\n",
    "# start the server, you can open the plot in the browser\n",
    "plt.plot(\n",
    "    recalculate=False,\n",
    "    viewport_height=800,\n",
    "    port=9292\n",
    ")"
   ]
  },
  {
   "cell_type": "markdown",
   "id": "8ff001ff-5bfd-40c8-bc45-a6eec035e44c",
   "metadata": {},
   "source": [
    "If we compare this plot to the plots generated in previous tutorials, we will notice that there are no clusters of points here. The compounds are spread out more or less evenly around the center of the plot. This is to be expected because the pretrained model is designed to make generally drug-like chemistry and should not be biased towards a particular group of compounds. \n",
    "\n",
    "### Finetuned Model\n",
    "\n",
    "Generating more concrete and more defined chemical space will be the task for the finetuned model, which we will train with transfer learning. The task will be to generate structures that resemble more the structures in our A2A data set introduced previously:"
   ]
  },
  {
   "cell_type": "code",
   "execution_count": 6,
   "id": "b42b4b0c-996c-46c2-8917-006c47e73419",
   "metadata": {},
   "outputs": [
    {
     "data": {
      "text/html": [
       "<div>\n",
       "<style scoped>\n",
       "    .dataframe tbody tr th:only-of-type {\n",
       "        vertical-align: middle;\n",
       "    }\n",
       "\n",
       "    .dataframe tbody tr th {\n",
       "        vertical-align: top;\n",
       "    }\n",
       "\n",
       "    .dataframe thead th {\n",
       "        text-align: right;\n",
       "    }\n",
       "</style>\n",
       "<table border=\"1\" class=\"dataframe\">\n",
       "  <thead>\n",
       "    <tr style=\"text-align: right;\">\n",
       "      <th></th>\n",
       "      <th>Activity_ID</th>\n",
       "      <th>Quality</th>\n",
       "      <th>source</th>\n",
       "      <th>CID</th>\n",
       "      <th>SMILES</th>\n",
       "      <th>connectivity</th>\n",
       "      <th>InChIKey</th>\n",
       "      <th>InChI</th>\n",
       "      <th>InChI_AuxInfo</th>\n",
       "      <th>target_id</th>\n",
       "      <th>...</th>\n",
       "      <th>Descriptor_MorganFP_1016</th>\n",
       "      <th>Descriptor_MorganFP_1017</th>\n",
       "      <th>Descriptor_MorganFP_1018</th>\n",
       "      <th>Descriptor_MorganFP_1019</th>\n",
       "      <th>Descriptor_MorganFP_1020</th>\n",
       "      <th>Descriptor_MorganFP_1021</th>\n",
       "      <th>Descriptor_MorganFP_1022</th>\n",
       "      <th>Descriptor_MorganFP_1023</th>\n",
       "      <th>TSNE_1</th>\n",
       "      <th>TSNE_2</th>\n",
       "    </tr>\n",
       "  </thead>\n",
       "  <tbody>\n",
       "    <tr>\n",
       "      <th>0</th>\n",
       "      <td>AACWUFIIMOHGSO_on_P29274_WT</td>\n",
       "      <td>High</td>\n",
       "      <td>ChEMBL30</td>\n",
       "      <td>CHEMBL410234</td>\n",
       "      <td>Cc1nn(-c2cc(NC(=O)CCN(C)C)nc(-c3ccc(C)o3)n2)c(...</td>\n",
       "      <td>AACWUFIIMOHGSO</td>\n",
       "      <td>AACWUFIIMOHGSO-UHFFFAOYSA-N</td>\n",
       "      <td>InChI=1S/C19H24N6O2/c1-12-10-13(2)25(23-12)17-...</td>\n",
       "      <td>\"AuxInfo=1/1/N:1,26,22,14,15,20,19,11,12,27,6,...</td>\n",
       "      <td>P29274_WT</td>\n",
       "      <td>...</td>\n",
       "      <td>0.0</td>\n",
       "      <td>1.0</td>\n",
       "      <td>0.0</td>\n",
       "      <td>0.0</td>\n",
       "      <td>0.0</td>\n",
       "      <td>0.0</td>\n",
       "      <td>0.0</td>\n",
       "      <td>0.0</td>\n",
       "      <td>-49.262220</td>\n",
       "      <td>-18.827414</td>\n",
       "    </tr>\n",
       "    <tr>\n",
       "      <th>1</th>\n",
       "      <td>AAEYTMMNWWKSKZ_on_P29274_WT</td>\n",
       "      <td>High</td>\n",
       "      <td>ChEMBL30</td>\n",
       "      <td>CHEMBL601208</td>\n",
       "      <td>Nc1c(C(=O)Nc2ccc([N+](=O)[O-])cc2)sc2c1cc1CCCC...</td>\n",
       "      <td>AAEYTMMNWWKSKZ</td>\n",
       "      <td>AAEYTMMNWWKSKZ-UHFFFAOYSA-N</td>\n",
       "      <td>InChI=1S/C18H16N4O3S/c19-15-13-9-10-3-1-2-4-14...</td>\n",
       "      <td>\"AuxInfo=1/1/N:22,23,21,24,8,15,9,14,19,20,7,1...</td>\n",
       "      <td>P29274_WT</td>\n",
       "      <td>...</td>\n",
       "      <td>0.0</td>\n",
       "      <td>0.0</td>\n",
       "      <td>0.0</td>\n",
       "      <td>0.0</td>\n",
       "      <td>0.0</td>\n",
       "      <td>0.0</td>\n",
       "      <td>0.0</td>\n",
       "      <td>0.0</td>\n",
       "      <td>-30.326859</td>\n",
       "      <td>6.892628</td>\n",
       "    </tr>\n",
       "    <tr>\n",
       "      <th>2</th>\n",
       "      <td>AAGFKZWKWAMJNP_on_P29274_WT</td>\n",
       "      <td>High</td>\n",
       "      <td>ChEMBL30</td>\n",
       "      <td>CHEMBL473650</td>\n",
       "      <td>O=C(Nc1nc2ncccc2n2c(=O)n(-c3ccccc3)nc12)c1ccccc1</td>\n",
       "      <td>AAGFKZWKWAMJNP</td>\n",
       "      <td>AAGFKZWKWAMJNP-UHFFFAOYSA-N</td>\n",
       "      <td>InChI=1S/C21H14N6O2/c28-20(14-8-3-1-4-9-14)24-...</td>\n",
       "      <td>\"AuxInfo=1/1/N:27,19,26,28,18,20,9,25,29,17,21...</td>\n",
       "      <td>P29274_WT</td>\n",
       "      <td>...</td>\n",
       "      <td>0.0</td>\n",
       "      <td>0.0</td>\n",
       "      <td>0.0</td>\n",
       "      <td>0.0</td>\n",
       "      <td>0.0</td>\n",
       "      <td>0.0</td>\n",
       "      <td>0.0</td>\n",
       "      <td>0.0</td>\n",
       "      <td>25.112610</td>\n",
       "      <td>-4.832593</td>\n",
       "    </tr>\n",
       "    <tr>\n",
       "      <th>3</th>\n",
       "      <td>AAJLGNFYNMJGSY_on_P29274_WT</td>\n",
       "      <td>High</td>\n",
       "      <td>ExCAPE-DB</td>\n",
       "      <td>9586623</td>\n",
       "      <td>NC(=NC(=O)Cn1c(O)c2CCCCc2c1O)Nc1nc2c(cccc2)s1</td>\n",
       "      <td>AAJLGNFYNMJGSY</td>\n",
       "      <td>AAJLGNFYNMJGSY-UHFFFAOYSA-N</td>\n",
       "      <td>InChI=1S/C18H19N5O3S/c19-17(22-18-20-12-7-3-4-...</td>\n",
       "      <td>\"AuxInfo=1/1/N:12,13,25,24,11,14,26,23,6,10,15...</td>\n",
       "      <td>P29274_WT</td>\n",
       "      <td>...</td>\n",
       "      <td>0.0</td>\n",
       "      <td>0.0</td>\n",
       "      <td>0.0</td>\n",
       "      <td>0.0</td>\n",
       "      <td>0.0</td>\n",
       "      <td>0.0</td>\n",
       "      <td>0.0</td>\n",
       "      <td>0.0</td>\n",
       "      <td>-21.665638</td>\n",
       "      <td>-12.843870</td>\n",
       "    </tr>\n",
       "    <tr>\n",
       "      <th>4</th>\n",
       "      <td>AANUKDYJZPKTKN_on_P29274_WT</td>\n",
       "      <td>High</td>\n",
       "      <td>ChEMBL30</td>\n",
       "      <td>CHEMBL573125;45483959;CHEMBL573125;45483959;CH...</td>\n",
       "      <td>CNC(=O)C12CC1C(n1cnc3c1nc(C#CCCCCC(=O)OC)nc3NC...</td>\n",
       "      <td>AANUKDYJZPKTKN</td>\n",
       "      <td>AANUKDYJZPKTKN-UHFFFAOYSA-N</td>\n",
       "      <td>InChI=1S/C28H31ClN6O5/c1-30-27(39)28-13-18(28)...</td>\n",
       "      <td>\"AuxInfo=1/1/N:1,25,18,19,17,20,35,36,34,16,21...</td>\n",
       "      <td>P29274_WT</td>\n",
       "      <td>...</td>\n",
       "      <td>0.0</td>\n",
       "      <td>0.0</td>\n",
       "      <td>0.0</td>\n",
       "      <td>1.0</td>\n",
       "      <td>0.0</td>\n",
       "      <td>0.0</td>\n",
       "      <td>0.0</td>\n",
       "      <td>0.0</td>\n",
       "      <td>6.994354</td>\n",
       "      <td>38.663483</td>\n",
       "    </tr>\n",
       "    <tr>\n",
       "      <th>...</th>\n",
       "      <td>...</td>\n",
       "      <td>...</td>\n",
       "      <td>...</td>\n",
       "      <td>...</td>\n",
       "      <td>...</td>\n",
       "      <td>...</td>\n",
       "      <td>...</td>\n",
       "      <td>...</td>\n",
       "      <td>...</td>\n",
       "      <td>...</td>\n",
       "      <td>...</td>\n",
       "      <td>...</td>\n",
       "      <td>...</td>\n",
       "      <td>...</td>\n",
       "      <td>...</td>\n",
       "      <td>...</td>\n",
       "      <td>...</td>\n",
       "      <td>...</td>\n",
       "      <td>...</td>\n",
       "      <td>...</td>\n",
       "      <td>...</td>\n",
       "    </tr>\n",
       "    <tr>\n",
       "      <th>3986</th>\n",
       "      <td>ZYXGKENMDDPQIE_on_P29274_WT</td>\n",
       "      <td>High</td>\n",
       "      <td>ChEMBL30</td>\n",
       "      <td>CHEMBL4283826</td>\n",
       "      <td>CNc1ncc(C(=O)NCc2ccc(OC)cc2)c2nc(-c3ccco3)nn12</td>\n",
       "      <td>ZYXGKENMDDPQIE</td>\n",
       "      <td>ZYXGKENMDDPQIE-UHFFFAOYSA-N</td>\n",
       "      <td>InChI=1S/C19H18N6O3/c1-20-19-22-11-14(17-23-16...</td>\n",
       "      <td>\"AuxInfo=1/1/N:1,16,24,23,12,18,13,17,25,10,5,...</td>\n",
       "      <td>P29274_WT</td>\n",
       "      <td>...</td>\n",
       "      <td>0.0</td>\n",
       "      <td>0.0</td>\n",
       "      <td>0.0</td>\n",
       "      <td>0.0</td>\n",
       "      <td>0.0</td>\n",
       "      <td>0.0</td>\n",
       "      <td>0.0</td>\n",
       "      <td>0.0</td>\n",
       "      <td>29.856173</td>\n",
       "      <td>-70.698350</td>\n",
       "    </tr>\n",
       "    <tr>\n",
       "      <th>3987</th>\n",
       "      <td>ZYZWFDVXMLCIOU_on_P29274_WT</td>\n",
       "      <td>High</td>\n",
       "      <td>ChEMBL30</td>\n",
       "      <td>CHEMBL260989;10132473;CHEMBL260989;10132473;CH...</td>\n",
       "      <td>Nc1nc(-c2ccco2)c2ncn(C(=O)NCCc3ccccc3)c2n1</td>\n",
       "      <td>ZYZWFDVXMLCIOU</td>\n",
       "      <td>ZYZWFDVXMLCIOU-UHFFFAOYSA-N</td>\n",
       "      <td>InChI=1S/C18H16N6O2/c19-17-22-14(13-7-4-10-26-...</td>\n",
       "      <td>\"AuxInfo=1/1/N:22,21,23,7,20,24,6,18,17,8,12,1...</td>\n",
       "      <td>P29274_WT</td>\n",
       "      <td>...</td>\n",
       "      <td>0.0</td>\n",
       "      <td>0.0</td>\n",
       "      <td>0.0</td>\n",
       "      <td>0.0</td>\n",
       "      <td>0.0</td>\n",
       "      <td>0.0</td>\n",
       "      <td>0.0</td>\n",
       "      <td>0.0</td>\n",
       "      <td>-11.900303</td>\n",
       "      <td>-42.615310</td>\n",
       "    </tr>\n",
       "    <tr>\n",
       "      <th>3988</th>\n",
       "      <td>ZZBZWSYDXUPJCT_on_P29274_WT</td>\n",
       "      <td>High</td>\n",
       "      <td>ChEMBL30</td>\n",
       "      <td>CHEMBL600404</td>\n",
       "      <td>Nc1nc(Nc2ccc(F)cc2)nc(CSc2nnc(N)s2)n1</td>\n",
       "      <td>ZZBZWSYDXUPJCT</td>\n",
       "      <td>ZZBZWSYDXUPJCT-UHFFFAOYSA-N</td>\n",
       "      <td>InChI=1S/C12H11FN8S2/c13-6-1-3-7(4-2-6)16-11-1...</td>\n",
       "      <td>\"AuxInfo=1/1/N:8,11,7,12,15,9,6,14,2,20,4,17,1...</td>\n",
       "      <td>P29274_WT</td>\n",
       "      <td>...</td>\n",
       "      <td>0.0</td>\n",
       "      <td>0.0</td>\n",
       "      <td>0.0</td>\n",
       "      <td>0.0</td>\n",
       "      <td>0.0</td>\n",
       "      <td>0.0</td>\n",
       "      <td>0.0</td>\n",
       "      <td>0.0</td>\n",
       "      <td>-1.871733</td>\n",
       "      <td>13.171981</td>\n",
       "    </tr>\n",
       "    <tr>\n",
       "      <th>3989</th>\n",
       "      <td>ZZMIPZLRKFEGIA_on_P29274_WT</td>\n",
       "      <td>High</td>\n",
       "      <td>ChEMBL30</td>\n",
       "      <td>CHEMBL2312988;71563052;CHEMBL2312988;71563052;...</td>\n",
       "      <td>CCCOc1ccc(C=Cc2cc3c(c(=O)n(C)c(=O)n3C)n2C)cc1</td>\n",
       "      <td>ZZMIPZLRKFEGIA</td>\n",
       "      <td>ZZMIPZLRKFEGIA-UHFFFAOYSA-N</td>\n",
       "      <td>InChI=1S/C20H23N3O3/c1-5-12-26-16-10-7-14(8-11...</td>\n",
       "      <td>\"AuxInfo=1/0/N:1,24,22,18,2,9,7,25,10,6,26,3,1...</td>\n",
       "      <td>P29274_WT</td>\n",
       "      <td>...</td>\n",
       "      <td>0.0</td>\n",
       "      <td>0.0</td>\n",
       "      <td>0.0</td>\n",
       "      <td>0.0</td>\n",
       "      <td>0.0</td>\n",
       "      <td>0.0</td>\n",
       "      <td>0.0</td>\n",
       "      <td>0.0</td>\n",
       "      <td>46.046997</td>\n",
       "      <td>12.641930</td>\n",
       "    </tr>\n",
       "    <tr>\n",
       "      <th>3990</th>\n",
       "      <td>ZZXIVHBZTITUIW_on_P29274_WT</td>\n",
       "      <td>High</td>\n",
       "      <td>ChEMBL30</td>\n",
       "      <td>CHEMBL3314913</td>\n",
       "      <td>CCOC(=O)c1cnc(NCC(C)C)n2nc(-c3ccco3)nc12</td>\n",
       "      <td>ZZXIVHBZTITUIW</td>\n",
       "      <td>ZZXIVHBZTITUIW-UHFFFAOYSA-N</td>\n",
       "      <td>InChI=1S/C16H19N5O3/c1-4-23-15(22)11-9-18-16(1...</td>\n",
       "      <td>\"AuxInfo=1/1/N:1,13,14,2,20,19,21,11,7,12,6,18...</td>\n",
       "      <td>P29274_WT</td>\n",
       "      <td>...</td>\n",
       "      <td>0.0</td>\n",
       "      <td>0.0</td>\n",
       "      <td>0.0</td>\n",
       "      <td>0.0</td>\n",
       "      <td>0.0</td>\n",
       "      <td>0.0</td>\n",
       "      <td>0.0</td>\n",
       "      <td>0.0</td>\n",
       "      <td>36.403248</td>\n",
       "      <td>-70.872660</td>\n",
       "    </tr>\n",
       "  </tbody>\n",
       "</table>\n",
       "<p>3991 rows × 1056 columns</p>\n",
       "</div>"
      ],
      "text/plain": [
       "                      Activity_ID Quality     source  \\\n",
       "0     AACWUFIIMOHGSO_on_P29274_WT    High   ChEMBL30   \n",
       "1     AAEYTMMNWWKSKZ_on_P29274_WT    High   ChEMBL30   \n",
       "2     AAGFKZWKWAMJNP_on_P29274_WT    High   ChEMBL30   \n",
       "3     AAJLGNFYNMJGSY_on_P29274_WT    High  ExCAPE-DB   \n",
       "4     AANUKDYJZPKTKN_on_P29274_WT    High   ChEMBL30   \n",
       "...                           ...     ...        ...   \n",
       "3986  ZYXGKENMDDPQIE_on_P29274_WT    High   ChEMBL30   \n",
       "3987  ZYZWFDVXMLCIOU_on_P29274_WT    High   ChEMBL30   \n",
       "3988  ZZBZWSYDXUPJCT_on_P29274_WT    High   ChEMBL30   \n",
       "3989  ZZMIPZLRKFEGIA_on_P29274_WT    High   ChEMBL30   \n",
       "3990  ZZXIVHBZTITUIW_on_P29274_WT    High   ChEMBL30   \n",
       "\n",
       "                                                    CID  \\\n",
       "0                                          CHEMBL410234   \n",
       "1                                          CHEMBL601208   \n",
       "2                                          CHEMBL473650   \n",
       "3                                               9586623   \n",
       "4     CHEMBL573125;45483959;CHEMBL573125;45483959;CH...   \n",
       "...                                                 ...   \n",
       "3986                                      CHEMBL4283826   \n",
       "3987  CHEMBL260989;10132473;CHEMBL260989;10132473;CH...   \n",
       "3988                                       CHEMBL600404   \n",
       "3989  CHEMBL2312988;71563052;CHEMBL2312988;71563052;...   \n",
       "3990                                      CHEMBL3314913   \n",
       "\n",
       "                                                 SMILES    connectivity  \\\n",
       "0     Cc1nn(-c2cc(NC(=O)CCN(C)C)nc(-c3ccc(C)o3)n2)c(...  AACWUFIIMOHGSO   \n",
       "1     Nc1c(C(=O)Nc2ccc([N+](=O)[O-])cc2)sc2c1cc1CCCC...  AAEYTMMNWWKSKZ   \n",
       "2      O=C(Nc1nc2ncccc2n2c(=O)n(-c3ccccc3)nc12)c1ccccc1  AAGFKZWKWAMJNP   \n",
       "3         NC(=NC(=O)Cn1c(O)c2CCCCc2c1O)Nc1nc2c(cccc2)s1  AAJLGNFYNMJGSY   \n",
       "4     CNC(=O)C12CC1C(n1cnc3c1nc(C#CCCCCC(=O)OC)nc3NC...  AANUKDYJZPKTKN   \n",
       "...                                                 ...             ...   \n",
       "3986     CNc1ncc(C(=O)NCc2ccc(OC)cc2)c2nc(-c3ccco3)nn12  ZYXGKENMDDPQIE   \n",
       "3987         Nc1nc(-c2ccco2)c2ncn(C(=O)NCCc3ccccc3)c2n1  ZYZWFDVXMLCIOU   \n",
       "3988              Nc1nc(Nc2ccc(F)cc2)nc(CSc2nnc(N)s2)n1  ZZBZWSYDXUPJCT   \n",
       "3989      CCCOc1ccc(C=Cc2cc3c(c(=O)n(C)c(=O)n3C)n2C)cc1  ZZMIPZLRKFEGIA   \n",
       "3990           CCOC(=O)c1cnc(NCC(C)C)n2nc(-c3ccco3)nc12  ZZXIVHBZTITUIW   \n",
       "\n",
       "                         InChIKey  \\\n",
       "0     AACWUFIIMOHGSO-UHFFFAOYSA-N   \n",
       "1     AAEYTMMNWWKSKZ-UHFFFAOYSA-N   \n",
       "2     AAGFKZWKWAMJNP-UHFFFAOYSA-N   \n",
       "3     AAJLGNFYNMJGSY-UHFFFAOYSA-N   \n",
       "4     AANUKDYJZPKTKN-UHFFFAOYSA-N   \n",
       "...                           ...   \n",
       "3986  ZYXGKENMDDPQIE-UHFFFAOYSA-N   \n",
       "3987  ZYZWFDVXMLCIOU-UHFFFAOYSA-N   \n",
       "3988  ZZBZWSYDXUPJCT-UHFFFAOYSA-N   \n",
       "3989  ZZMIPZLRKFEGIA-UHFFFAOYSA-N   \n",
       "3990  ZZXIVHBZTITUIW-UHFFFAOYSA-N   \n",
       "\n",
       "                                                  InChI  \\\n",
       "0     InChI=1S/C19H24N6O2/c1-12-10-13(2)25(23-12)17-...   \n",
       "1     InChI=1S/C18H16N4O3S/c19-15-13-9-10-3-1-2-4-14...   \n",
       "2     InChI=1S/C21H14N6O2/c28-20(14-8-3-1-4-9-14)24-...   \n",
       "3     InChI=1S/C18H19N5O3S/c19-17(22-18-20-12-7-3-4-...   \n",
       "4     InChI=1S/C28H31ClN6O5/c1-30-27(39)28-13-18(28)...   \n",
       "...                                                 ...   \n",
       "3986  InChI=1S/C19H18N6O3/c1-20-19-22-11-14(17-23-16...   \n",
       "3987  InChI=1S/C18H16N6O2/c19-17-22-14(13-7-4-10-26-...   \n",
       "3988  InChI=1S/C12H11FN8S2/c13-6-1-3-7(4-2-6)16-11-1...   \n",
       "3989  InChI=1S/C20H23N3O3/c1-5-12-26-16-10-7-14(8-11...   \n",
       "3990  InChI=1S/C16H19N5O3/c1-4-23-15(22)11-9-18-16(1...   \n",
       "\n",
       "                                          InChI_AuxInfo  target_id  ...  \\\n",
       "0     \"AuxInfo=1/1/N:1,26,22,14,15,20,19,11,12,27,6,...  P29274_WT  ...   \n",
       "1     \"AuxInfo=1/1/N:22,23,21,24,8,15,9,14,19,20,7,1...  P29274_WT  ...   \n",
       "2     \"AuxInfo=1/1/N:27,19,26,28,18,20,9,25,29,17,21...  P29274_WT  ...   \n",
       "3     \"AuxInfo=1/1/N:12,13,25,24,11,14,26,23,6,10,15...  P29274_WT  ...   \n",
       "4     \"AuxInfo=1/1/N:1,25,18,19,17,20,35,36,34,16,21...  P29274_WT  ...   \n",
       "...                                                 ...        ...  ...   \n",
       "3986  \"AuxInfo=1/1/N:1,16,24,23,12,18,13,17,25,10,5,...  P29274_WT  ...   \n",
       "3987  \"AuxInfo=1/1/N:22,21,23,7,20,24,6,18,17,8,12,1...  P29274_WT  ...   \n",
       "3988  \"AuxInfo=1/1/N:8,11,7,12,15,9,6,14,2,20,4,17,1...  P29274_WT  ...   \n",
       "3989  \"AuxInfo=1/0/N:1,24,22,18,2,9,7,25,10,6,26,3,1...  P29274_WT  ...   \n",
       "3990  \"AuxInfo=1/1/N:1,13,14,2,20,19,21,11,7,12,6,18...  P29274_WT  ...   \n",
       "\n",
       "     Descriptor_MorganFP_1016 Descriptor_MorganFP_1017  \\\n",
       "0                         0.0                      1.0   \n",
       "1                         0.0                      0.0   \n",
       "2                         0.0                      0.0   \n",
       "3                         0.0                      0.0   \n",
       "4                         0.0                      0.0   \n",
       "...                       ...                      ...   \n",
       "3986                      0.0                      0.0   \n",
       "3987                      0.0                      0.0   \n",
       "3988                      0.0                      0.0   \n",
       "3989                      0.0                      0.0   \n",
       "3990                      0.0                      0.0   \n",
       "\n",
       "     Descriptor_MorganFP_1018 Descriptor_MorganFP_1019  \\\n",
       "0                         0.0                      0.0   \n",
       "1                         0.0                      0.0   \n",
       "2                         0.0                      0.0   \n",
       "3                         0.0                      0.0   \n",
       "4                         0.0                      1.0   \n",
       "...                       ...                      ...   \n",
       "3986                      0.0                      0.0   \n",
       "3987                      0.0                      0.0   \n",
       "3988                      0.0                      0.0   \n",
       "3989                      0.0                      0.0   \n",
       "3990                      0.0                      0.0   \n",
       "\n",
       "      Descriptor_MorganFP_1020 Descriptor_MorganFP_1021  \\\n",
       "0                          0.0                      0.0   \n",
       "1                          0.0                      0.0   \n",
       "2                          0.0                      0.0   \n",
       "3                          0.0                      0.0   \n",
       "4                          0.0                      0.0   \n",
       "...                        ...                      ...   \n",
       "3986                       0.0                      0.0   \n",
       "3987                       0.0                      0.0   \n",
       "3988                       0.0                      0.0   \n",
       "3989                       0.0                      0.0   \n",
       "3990                       0.0                      0.0   \n",
       "\n",
       "     Descriptor_MorganFP_1022 Descriptor_MorganFP_1023     TSNE_1     TSNE_2  \n",
       "0                         0.0                      0.0 -49.262220 -18.827414  \n",
       "1                         0.0                      0.0 -30.326859   6.892628  \n",
       "2                         0.0                      0.0  25.112610  -4.832593  \n",
       "3                         0.0                      0.0 -21.665638 -12.843870  \n",
       "4                         0.0                      0.0   6.994354  38.663483  \n",
       "...                       ...                      ...        ...        ...  \n",
       "3986                      0.0                      0.0  29.856173 -70.698350  \n",
       "3987                      0.0                      0.0 -11.900303 -42.615310  \n",
       "3988                      0.0                      0.0  -1.871733  13.171981  \n",
       "3989                      0.0                      0.0  46.046997  12.641930  \n",
       "3990                      0.0                      0.0  36.403248 -70.872660  \n",
       "\n",
       "[3991 rows x 1056 columns]"
      ]
     },
     "execution_count": 6,
     "metadata": {},
     "output_type": "execute_result"
    }
   ],
   "source": [
    "import pandas as pd\n",
    "\n",
    "df_a2a = pd.read_table('data/A2A_LIGANDS.tsv')\n",
    "df_a2a"
   ]
  },
  {
   "cell_type": "markdown",
   "id": "9a8ec8d9-f9e3-499b-9f05-80d2a8a46aa3",
   "metadata": {},
   "source": [
    "There is a lot of data in this table, but for our transfer learning exercise only the SMILES are important:"
   ]
  },
  {
   "cell_type": "code",
   "execution_count": 7,
   "id": "80a97434-d8a4-4e14-ad5f-b513b320d26d",
   "metadata": {},
   "outputs": [
    {
     "data": {
      "text/plain": [
       "0       Cc1nn(-c2cc(NC(=O)CCN(C)C)nc(-c3ccc(C)o3)n2)c(...\n",
       "1       Nc1c(C(=O)Nc2ccc([N+](=O)[O-])cc2)sc2c1cc1CCCC...\n",
       "2        O=C(Nc1nc2ncccc2n2c(=O)n(-c3ccccc3)nc12)c1ccccc1\n",
       "3           NC(=NC(=O)Cn1c(O)c2CCCCc2c1O)Nc1nc2c(cccc2)s1\n",
       "4       CNC(=O)C12CC1C(n1cnc3c1nc(C#CCCCCC(=O)OC)nc3NC...\n",
       "                              ...                        \n",
       "3986       CNc1ncc(C(=O)NCc2ccc(OC)cc2)c2nc(-c3ccco3)nn12\n",
       "3987           Nc1nc(-c2ccco2)c2ncn(C(=O)NCCc3ccccc3)c2n1\n",
       "3988                Nc1nc(Nc2ccc(F)cc2)nc(CSc2nnc(N)s2)n1\n",
       "3989        CCCOc1ccc(C=Cc2cc3c(c(=O)n(C)c(=O)n3C)n2C)cc1\n",
       "3990             CCOC(=O)c1cnc(NCC(C)C)n2nc(-c3ccco3)nc12\n",
       "Name: SMILES, Length: 3991, dtype: object"
      ]
     },
     "execution_count": 7,
     "metadata": {},
     "output_type": "execute_result"
    }
   ],
   "source": [
    "smiles_train = df_a2a.SMILES\n",
    "smiles_train"
   ]
  },
  {
   "cell_type": "markdown",
   "id": "2331bb54-bc4b-45ca-a3e9-22c1dcff7a90",
   "metadata": {},
   "source": [
    "In order to train the finetuned model, we need to first standardize and prepare the SMILES strings. DrugEx has its own utility to do that for all its models:"
   ]
  },
  {
   "cell_type": "code",
   "execution_count": 8,
   "id": "d13f4c31-86db-45f3-8cd1-c98c1f22727f",
   "metadata": {},
   "outputs": [
    {
     "data": {
      "application/vnd.jupyter.widget-view+json": {
       "model_id": "ada27a505e3b4a6680dc4a7d874d27f4",
       "version_major": 2,
       "version_minor": 0
      },
      "text/plain": [
       "Standardizing molecules (batch processing):   0%|          | 0/1 [00:00<?, ?it/s]"
      ]
     },
     "metadata": {},
     "output_type": "display_data"
    },
    {
     "data": {
      "text/plain": [
       "['Cc1cc(C)n(-c2cc(NC(=O)CCN(C)C)nc(-c3ccc(C)o3)n2)n1',\n",
       " 'Nc1c(C(=O)Nc2ccc([N+](=O)[O-])cc2)sc2nc3c(cc12)CCCC3',\n",
       " 'O=C(Nc1nc2ncccc2n2c(=O)n(-c3ccccc3)nc12)c1ccccc1',\n",
       " 'NC(=NC(=O)Cn1c(O)c2c(c1O)CCCC2)Nc1nc2ccccc2s1',\n",
       " 'CNC(=O)C12CC1C(n1cnc3c(NCc4cccc(Cl)c4)nc(C#CCCCCC(=O)OC)nc31)C(O)C2O',\n",
       " 'Cn1c(-n2nccn2)nc2c(N)nc(CCc3ccccc3)nc21',\n",
       " 'Nc1nc(-c2ccccc2)cn2cc(-c3ccco3)nc12',\n",
       " 'CCCn1c(=O)c2c(nc3n2CCCN3c2ccc(OCCN3CCCC3)cc2)n(CCC)c1=O',\n",
       " 'N#Cc1c(-c2ccccc2)cc(-c2ccco2)nc1N',\n",
       " 'CCCn1c(=O)c2nc(-c3ccccc3)[nH]c2n(CCCOC)c1=O']"
      ]
     },
     "execution_count": 8,
     "metadata": {},
     "output_type": "execute_result"
    }
   ],
   "source": [
    "from drugex.data.processing import Standardization\n",
    "\n",
    "N_PROCESSES = 12 # number of CPU cores to use\n",
    "CHUNK_SIZE = 1000 # largest chunk per CPU core (regulates RAM usage)\n",
    "\n",
    "standardizer = Standardization(n_proc=N_PROCESSES, chunk_size=CHUNK_SIZE)\n",
    "smiles_train = standardizer.apply(smiles_train)\n",
    "smiles_train[0:10]"
   ]
  },
  {
   "cell_type": "markdown",
   "id": "42b8fab3-2920-48c7-8b1f-97206cfc3000",
   "metadata": {},
   "source": [
    "We write the list of SMILES back into `smiles_train` because we will not need the original SMILES anymore and proceed to generate our training data sets. In this step, the so called 'corpus' data set is generated that is nothing more than the SMILES seperated into words/tokens according to the given vocabulary. You can check out the `ligand_corpus.tsv` for yourself and see there really is nothing too special about it. The code is a little verbose, but that comes mostly from the way the data is handled by parallel processes to take advantage of multiple CPUs:"
   ]
  },
  {
   "cell_type": "code",
   "execution_count": 9,
   "id": "d53cf8e2-0f67-4ff4-8147-fd53d8f9de42",
   "metadata": {},
   "outputs": [
    {
     "data": {
      "application/vnd.jupyter.widget-view+json": {
       "model_id": "30546102c4fc4d1c94f079ea74e70998",
       "version_major": 2,
       "version_minor": 0
      },
      "text/plain": [
       "SequenceCorpus (batch processing):   0%|          | 0/1 [00:00<?, ?it/s]"
      ]
     },
     "metadata": {},
     "output_type": "display_data"
    },
    {
     "name": "stderr",
     "output_type": "stream",
     "text": [
      "Molecule does not meet min/max words requirements (min: 10, max: 100). Words found: {'O', 'C', '=', '5', 'EOS', '4', '2', 'N', 'n', ')', 'c', '1', '(', '3'} (occurrence count: 107). It will be ignored.\n",
      "Molecule does not meet min/max words requirements (min: 10, max: 100). Words found: {'6', 'F', '[N+]', 's', '4', '-', 'O', 'C', 'o', 'N', 'n', 'c', '1', '5', '[B-]', '(', '2', '3', 'EOS', '=', '7', ')'} (occurrence count: 126). It will be ignored.\n",
      "Molecule does not meet min/max words requirements (min: 10, max: 100). Words found: {'6', '[N+]', '4', '-', 'O', 'C', 'o', 'N', 'n', 'c', '1', '5', '(', '2', '3', 'EOS', '=', '7', ')'} (occurrence count: 114). It will be ignored.\n",
      "Molecule does not meet min/max words requirements (min: 10, max: 100). Words found: {'6', '4', '-', 'S', 'O', 'C', 'o', 'N', 'n', 'c', '1', '5', '(', '2', '3', 'EOS', '=', '7', ')'} (occurrence count: 128). It will be ignored.\n",
      "Molecule does not meet min/max words requirements (min: 10, max: 100). Words found: {'O', 'C', '=', '5', 'EOS', '4', '2', 'N', 'n', ')', 'c', '1', '(', '3'} (occurrence count: 109). It will be ignored.\n",
      "Molecule does not meet min/max words requirements (min: 10, max: 100). Words found: {'6', '[N+]', '4', 'S', 'O', 'C', 'N', 'n', 'c', '1', '5', 'L', '2', '(', '3', 'EOS', '=', ')', '#'} (occurrence count: 143). It will be ignored.\n",
      "Molecule does not meet min/max words requirements (min: 10, max: 100). Words found: {'S', '-', 'O', 'C', '=', '(', '5', 'EOS', '4', 'o', 'N', 'n', 'c', ')', '1', '2', '3'} (occurrence count: 106). It will be ignored.\n",
      "Molecule does not meet min/max words requirements (min: 10, max: 100). Words found: {'S', '-', 'O', 'C', '=', '(', '5', 'EOS', '4', '2', 'o', 'N', '[N+]', 'n', 'c', '1', ')', '3'} (occurrence count: 164). It will be ignored.\n",
      "Molecule does not meet min/max words requirements (min: 10, max: 100). Words found: {'6', '4', '-', 'S', 'O', 'C', 'o', 'N', 'n', 'c', '1', '5', '(', '2', '3', 'EOS', '=', '7', ')'} (occurrence count: 130). It will be ignored.\n",
      "Molecule does not meet min/max words requirements (min: 10, max: 100). Words found: {'S', '-', 'O', 'C', '=', '(', '5', 'EOS', '4', 'o', 'N', 'n', 'c', ')', '1', '2', '3'} (occurrence count: 125). It will be ignored.\n",
      "Molecule does not meet min/max words requirements (min: 10, max: 100). Words found: {'6', '[N+]', '4', 'S', 'O', 'C', 'N', 'n', 'c', '1', '5', 'L', '2', '(', '3', 'EOS', '=', ')', '#'} (occurrence count: 155). It will be ignored.\n",
      "Molecule does not meet min/max words requirements (min: 10, max: 100). Words found: {'-', 'O', 'C', '=', '(', 'EOS', 'F', '4', '2', 'N', 'n', 'c', '1', ')', 's', '3'} (occurrence count: 103). It will be ignored.\n",
      "Molecule does not meet min/max words requirements (min: 10, max: 100). Words found: {'-', 'O', 'C', '=', 'EOS', 'F', '4', '2', 'N', 'n', 'c', ')', '1', '(', 's', '3'} (occurrence count: 102). It will be ignored.\n",
      "Molecule does not meet min/max words requirements (min: 10, max: 100). Words found: {'-', 'O', 'C', '=', '5', '6', 'F', 'EOS', '4', '2', 'N', 'n', ')', 'c', '1', '(', 's', '3'} (occurrence count: 105). It will be ignored.\n",
      "Molecule does not meet min/max words requirements (min: 10, max: 100). Words found: {'6', 'F', '[N+]', 's', '4', '-', 'O', 'C', 'N', 'n', 'c', '1', '5', '[B-]', '2', '(', '3', 'EOS', '=', '7', '8', ')'} (occurrence count: 111). It will be ignored.\n",
      "Molecule does not meet min/max words requirements (min: 10, max: 100). Words found: {'S', '-', 'O', 'C', '=', '(', '5', 'EOS', '4', '2', 'o', 'N', '[N+]', 'n', 'c', '1', ')', '3'} (occurrence count: 166). It will be ignored.\n",
      "Molecule does not meet min/max words requirements (min: 10, max: 100). Words found: {'6', '[N+]', '4', 'S', 'O', 'C', 'N', 'n', 'c', '1', '5', '2', '(', '3', 'EOS', '=', '7', '[O-]', ')'} (occurrence count: 105). It will be ignored.\n",
      "Molecule does not meet min/max words requirements (min: 10, max: 100). Words found: {'-', 'S', 'O', 'C', '=', '(', '5', '6', 'EOS', '4', 'o', 'N', 'n', 'c', ')', '1', '2', '3'} (occurrence count: 135). It will be ignored.\n",
      "Molecule does not meet min/max words requirements (min: 10, max: 100). Words found: {'O', 'C', '=', '5', 'EOS', '4', '2', 'N', 'n', ')', 'c', '1', '(', '3'} (occurrence count: 110). It will be ignored.\n",
      "Molecule does not meet min/max words requirements (min: 10, max: 100). Words found: {'6', 'F', '[nH]', '[N+]', '4', '-', 'O', 'C', 'o', 'N', 'n', 'c', '1', '5', '[B-]', '(', '2', '3', 'EOS', '=', '7', ')'} (occurrence count: 127). It will be ignored.\n"
     ]
    }
   ],
   "source": [
    "from drugex.data.processing import CorpusEncoder, RandomTrainTestSplitter\n",
    "from drugex.data.corpus.corpus import SequenceCorpus\n",
    "from drugex.data.datasets import SmilesDataSet\n",
    "import os\n",
    "\n",
    "DATA_DIR = \"data/drugex/sets/\"\n",
    "os.makedirs(DATA_DIR, exist_ok=True)\n",
    "\n",
    "voc = VocSmiles.fromFile(\"data/drugex/models/pretrained/DrugEx_v2_PT_Papyrus05.5/Papyrus05.5_smiles_rnn_PT.vocab\")\n",
    "encoder = CorpusEncoder( # CorpusEcoder uses the supplied corpus class to encode tokens for the new data set\n",
    "    SequenceCorpus, # The corpus class implements how each SMILES string is divided into words by the vocabulary\n",
    "    {\n",
    "        # arguments of the SequenceCorpus\n",
    "        'vocabulary': voc, # used vocabulary\n",
    "        'update_voc': False, # if False, the vocabulary stays fixed (no new tokens are added to it)\n",
    "        'throw': True # compounds containing unknown tokens are thrown out of the resulting data set\n",
    "\n",
    "    },\n",
    "    n_proc=N_PROCESSES,\n",
    "    chunk_size=CHUNK_SIZE\n",
    ")\n",
    "\n",
    "data_collector = SmilesDataSet(os.path.join(DATA_DIR, 'ligand_corpus.tsv'), rewrite=True)\n",
    "encoder.apply(smiles_train, collector=data_collector)"
   ]
  },
  {
   "cell_type": "markdown",
   "id": "0269afd3-3c9c-456a-9756-cd4d20ca54a5",
   "metadata": {},
   "source": [
    "In this scenario, we will also compile a test/validation set of compounds. This will help us identify when the model starts to loose its ability to generate diverse and/or valid chemistry and begins overfitting on the training set. While we do want the generated structures to look like those in the training data, we also do not want them to be exactly the same. The validation set will serve as an indicator of such behaviour and the model will know to stop the training once the performance starts to deteriorate. \n",
    "\n",
    "In this case, we choose to select 10% (or a maximum of 10,000) compounds to the test set. We save the training and test set to separate files and we also save the vocabulary for safe keeping (we did not modify the original vocabulary in any way, but it is a good idea to save it anyway for future reference): "
   ]
  },
  {
   "cell_type": "code",
   "execution_count": null,
   "id": "2777c52a-952d-432c-a560-ae030e56b9d8",
   "metadata": {},
   "outputs": [],
   "source": [
    "splitter = RandomTrainTestSplitter(0.1, 1e4)\n",
    "train, test = splitter(data_collector.getData())\n",
    "for df, name in zip([train, test], ['train', 'test']):\n",
    "    df.to_csv(os.path.join(DATA_DIR, f'ligand_{name}.tsv'), header=True, index=False, sep='\\t')\n",
    "\n",
    "voc.toFile(os.path.join(DATA_DIR, 'ligand.vocab'))"
   ]
  },
  {
   "cell_type": "markdown",
   "id": "d180d008-2fbb-4ff4-b523-9a84a17be787",
   "metadata": {},
   "source": [
    "Now, we wrap our training and test set to `SmilesDataSet` instances so that we can generate data loaders for training:"
   ]
  },
  {
   "cell_type": "code",
   "execution_count": 10,
   "id": "947ff14c-478e-4505-b625-ce9b2fbc6e95",
   "metadata": {},
   "outputs": [],
   "source": [
    "BATCH_SIZE = 256\n",
    "\n",
    "data_set_train = SmilesDataSet(os.path.join(DATA_DIR, 'ligand_train.tsv'), voc=voc)\n",
    "data_set_train.voc = voc\n",
    "train_loader = data_set_train.asDataLoader(batch_size=BATCH_SIZE)\n",
    "\n",
    "data_set_test = SmilesDataSet(os.path.join(DATA_DIR, 'ligand_test.tsv'), voc=voc)\n",
    "data_set_test.voc = voc\n",
    "valid_loader = data_set_test.asDataLoader(batch_size=BATCH_SIZE)"
   ]
  },
  {
   "cell_type": "markdown",
   "id": "40b70e56-c5da-4b44-9a3e-7d6f19410b6c",
   "metadata": {},
   "source": [
    "Data loaders are a data structure used by [PyTorch](https://pytorch.org/) library for deep learning, which DrugEx uses to handle data and define models. They are responsible for batching the data so that it can be offloaded to the GPU for training because the whole data set would not be able to fit. In addition, batch size is an important hyperparameter in neural networks. The training does not proceed sample by sample, but rather the model processes each batch at a time and adjusts its parameters only after passing the whole batch through the network. This helps to save computational resources, but also affects the training process because it sometimes also has influence on how often and how significantly the model parameters are adjusted. Therefore, choosing the correct batch size is someting we might want play around with during training.\n",
    "\n",
    "Another term commonly used in the language of neural networks is an 'epoch'. It is simply one iteration of training during which the model goes through all the batches and, thus, the whole data set. It is usual after each epoch that we evaluate the performance of the model and decided if it needs further training or not. In this case, we setup our training as follows:"
   ]
  },
  {
   "cell_type": "code",
   "execution_count": 11,
   "id": "a7a7087d-110c-4a20-a29a-9ea911666150",
   "metadata": {},
   "outputs": [],
   "source": [
    "from drugex.training.monitors import FileMonitor\n",
    "\n",
    "MODEL_DIR = \"data/drugex/models/finetuned/\"\n",
    "\n",
    "ft_path = os.path.join(MODEL_DIR, 'ligand_finetune')\n",
    "finetuned = RNN(voc, is_lstm=True, use_gpus=GPUS)\n",
    "finetuned.loadStatesFromFile(os.path.join(PT_MODEL_FOLDER, 'Papyrus05.5_smiles_rnn_PT.pkg'))\n",
    "monitor = FileMonitor(ft_path, verbose=True)\n",
    "finetuned.fit(train_loader, valid_loader, epochs=10, monitor=monitor)\n",
    "\n",
    "voc.toFile(os.path.join(MODEL_DIR, 'finetune.vocab'))"
   ]
  },
  {
   "cell_type": "markdown",
   "id": "b155ce93-fb78-4edd-85cd-25195f9f908c",
   "metadata": {},
   "source": [
    "Facilitating transfer learning in this case is easy. We load the pretrained model just like we did above, but instead of generting smiles with it, we call the `fit` method and supply the finetuning data loaders. We set the number of epochs to 10 in this case. Training should not take more than an hour in this case even on an older GPU. On an NVIDIA RTX 2070 this took only a few minutes.\n",
    "\n",
    "We also set up a training monitor (`FileMonitor`), which saves some improtant data during training. You will find these files in the `MODEL_DIR` directory with the `ligand_finetune` perfix. The following file saves the training and validation loss (`loss_train` and `loss-valid`, respectively). In simple terms, the losses indicate how well the model is able to capture the probability distribution of tokens in either the training set or the test set with the compounds it generates at each epoch. We also get information about the percentage of valid SMILES it produces (`valid_ratio`). There are also some empty values that are not relevant at the moment, but will come into play later. We can load the table as any other data file:"
   ]
  },
  {
   "cell_type": "code",
   "execution_count": 12,
   "id": "72d6f496-96ff-4df9-a43a-afce5f63164e",
   "metadata": {},
   "outputs": [
    {
     "data": {
      "text/html": [
       "<div>\n",
       "<style scoped>\n",
       "    .dataframe tbody tr th:only-of-type {\n",
       "        vertical-align: middle;\n",
       "    }\n",
       "\n",
       "    .dataframe tbody tr th {\n",
       "        vertical-align: top;\n",
       "    }\n",
       "\n",
       "    .dataframe thead th {\n",
       "        text-align: right;\n",
       "    }\n",
       "</style>\n",
       "<table border=\"1\" class=\"dataframe\">\n",
       "  <thead>\n",
       "    <tr style=\"text-align: right;\">\n",
       "      <th></th>\n",
       "      <th>epoch</th>\n",
       "      <th>loss_train</th>\n",
       "      <th>loss_valid</th>\n",
       "      <th>valid_ratio</th>\n",
       "      <th>unique_ratio</th>\n",
       "      <th>desire_ratio</th>\n",
       "      <th>mean_train_loss</th>\n",
       "    </tr>\n",
       "  </thead>\n",
       "  <tbody>\n",
       "    <tr>\n",
       "      <th>0</th>\n",
       "      <td>1</td>\n",
       "      <td>0.144192</td>\n",
       "      <td>0.148087</td>\n",
       "      <td>0.938776</td>\n",
       "      <td>NaN</td>\n",
       "      <td>NaN</td>\n",
       "      <td>NaN</td>\n",
       "    </tr>\n",
       "    <tr>\n",
       "      <th>1</th>\n",
       "      <td>2</td>\n",
       "      <td>0.123565</td>\n",
       "      <td>0.141798</td>\n",
       "      <td>0.932203</td>\n",
       "      <td>NaN</td>\n",
       "      <td>NaN</td>\n",
       "      <td>NaN</td>\n",
       "    </tr>\n",
       "    <tr>\n",
       "      <th>2</th>\n",
       "      <td>3</td>\n",
       "      <td>0.112813</td>\n",
       "      <td>0.139799</td>\n",
       "      <td>0.930041</td>\n",
       "      <td>NaN</td>\n",
       "      <td>NaN</td>\n",
       "      <td>NaN</td>\n",
       "    </tr>\n",
       "    <tr>\n",
       "      <th>3</th>\n",
       "      <td>4</td>\n",
       "      <td>0.109719</td>\n",
       "      <td>0.140378</td>\n",
       "      <td>0.971193</td>\n",
       "      <td>NaN</td>\n",
       "      <td>NaN</td>\n",
       "      <td>NaN</td>\n",
       "    </tr>\n",
       "    <tr>\n",
       "      <th>4</th>\n",
       "      <td>5</td>\n",
       "      <td>0.103642</td>\n",
       "      <td>0.140776</td>\n",
       "      <td>0.975000</td>\n",
       "      <td>NaN</td>\n",
       "      <td>NaN</td>\n",
       "      <td>NaN</td>\n",
       "    </tr>\n",
       "  </tbody>\n",
       "</table>\n",
       "</div>"
      ],
      "text/plain": [
       "   epoch  loss_train  loss_valid  valid_ratio  unique_ratio  desire_ratio  \\\n",
       "0      1    0.144192    0.148087     0.938776           NaN           NaN   \n",
       "1      2    0.123565    0.141798     0.932203           NaN           NaN   \n",
       "2      3    0.112813    0.139799     0.930041           NaN           NaN   \n",
       "3      4    0.109719    0.140378     0.971193           NaN           NaN   \n",
       "4      5    0.103642    0.140776     0.975000           NaN           NaN   \n",
       "\n",
       "   mean_train_loss  \n",
       "0              NaN  \n",
       "1              NaN  \n",
       "2              NaN  \n",
       "3              NaN  \n",
       "4              NaN  "
      ]
     },
     "execution_count": 12,
     "metadata": {},
     "output_type": "execute_result"
    }
   ],
   "source": [
    "df_info = pd.read_csv('data/drugex/models/finetuned/ligand_finetune_fit.tsv', sep='\\t')\n",
    "df_info.head()"
   ]
  },
  {
   "cell_type": "markdown",
   "id": "734b4fc8-4299-447b-a10a-a51310f42cec",
   "metadata": {},
   "source": [
    "We can also plot everything quite easily:"
   ]
  },
  {
   "cell_type": "code",
   "execution_count": 13,
   "id": "d10ca1f3-4005-43be-b936-65c496c1984a",
   "metadata": {},
   "outputs": [
    {
     "data": {
      "text/plain": [
       "<AxesSubplot: >"
      ]
     },
     "execution_count": 13,
     "metadata": {},
     "output_type": "execute_result"
    },
    {
     "data": {
      "image/png": "[encoded data removed]",
      "text/plain": [
       "<Figure size 640x480 with 1 Axes>"
      ]
     },
     "metadata": {},
     "output_type": "display_data"
    }
   ],
   "source": [
    "df_info[['loss_train', 'loss_valid']].plot.line()"
   ]
  },
  {
   "cell_type": "markdown",
   "id": "b57b110d-10e9-478d-a3d0-48ef40c2a6f3",
   "metadata": {},
   "source": [
    "We can see that while the training loss is going down during training the validation loss starts to dwindle and even increases slightly. This indicates that our model is starting to overfit the training set a little so we might want to think about tweaking the parameters a little bit here. However, it is OK for the purpose of our tutorial and as we will see, even such a short round of transfer learning had an effect on our model. We can show that by sampling another set of SMILES with this model and showing the chemical space plot:"
   ]
  },
  {
   "cell_type": "code",
   "execution_count": 14,
   "id": "cbcc5ce3-c56c-43d1-8b59-d77ad59622bf",
   "metadata": {},
   "outputs": [
    {
     "data": {
      "text/plain": [
       "<scaffviz.data.dataset.DataSetSMILES at 0x7fe501fc2d30>"
      ]
     },
     "execution_count": 14,
     "metadata": {},
     "output_type": "execute_result"
    }
   ],
   "source": [
    "finetuned.loadStatesFromFile('data/drugex/models/finetuned/ligand_finetune.pkg')\n",
    "\n",
    "smiles_finetuned = sample_smiles(finetuned, 1000)\n",
    "dataset = DataSetSMILES(\"data/finetuned_sampled.tsv\", smiles=smiles_finetuned, use_existing=False)\n",
    "dataset"
   ]
  },
  {
   "cell_type": "code",
   "execution_count": 15,
   "id": "bee832ad-dfe2-4cee-9206-500fad0bf260",
   "metadata": {},
   "outputs": [
    {
     "name": "stderr",
     "output_type": "stream",
     "text": [
      "/home/sichom/software/miniconda/envs/drugex-demo/lib/python3.9/site-packages/sklearn/manifold/_t_sne.py:800: FutureWarning:\n",
      "\n",
      "The default initialization in TSNE will change from 'random' to 'pca' in 1.2.\n",
      "\n",
      "/home/sichom/software/miniconda/envs/drugex-demo/lib/python3.9/site-packages/sklearn/manifold/_t_sne.py:810: FutureWarning:\n",
      "\n",
      "The default learning rate in TSNE will change from 200.0 to 'auto' in 1.2.\n",
      "\n"
     ]
    },
    {
     "data": {
      "text/html": [
       "\n",
       "        <iframe\n",
       "            width=\"100%\"\n",
       "            height=\"800\"\n",
       "            src=\"http://127.0.0.1:9393/\"\n",
       "            frameborder=\"0\"\n",
       "            allowfullscreen\n",
       "            \n",
       "        ></iframe>\n",
       "        "
      ],
      "text/plain": [
       "<IPython.lib.display.IFrame at 0x7fe4fecc7d60>"
      ]
     },
     "metadata": {},
     "output_type": "display_data"
    }
   ],
   "source": [
    "from scaffviz.depiction.plot import Plot\n",
    "from scaffviz.clustering.manifold import TSNE\n",
    "from scaffviz.clustering.descriptors import MorganFP\n",
    "\n",
    "dataset.addDescriptors([MorganFP(radius=2, nBits=1024)], recalculate=False) \n",
    "\n",
    "# make an interactive plot that will use t-SNE to embed the data set in 2D (all current descriptors in the data set will be used)\n",
    "plt = Plot(dataset, TSNE())\n",
    "\n",
    "# start the server, you can open the plot in the browser\n",
    "plt.plot(\n",
    "    recalculate=False,\n",
    "    viewport_height=800,\n",
    "    port=9393\n",
    ")"
   ]
  },
  {
   "cell_type": "markdown",
   "id": "de68bdd1-a956-4516-9ea1-0d5f01cd106e",
   "metadata": {},
   "source": [
    "When we compare this chemical space to the space generated with the pretrained model above, it is clear that these compounds are differently distributed and if we take a look at the structures we might be able to spot some patterns commonly seen in adenosine receptor ligands, which means that the transfer learning did seem to work.\n",
    "\n",
    "### Optimizing Compound Properties with Reinforcement Learning\n",
    "\n",
    "We now successfully used transfer learning to create a model that can generate new molecules that resemble known data. That is very nice, but not often useful. Consider for example a case of a pharmaceutical company that is trying to develop a new drug, which has not been published or patented, yet. It is unlikely that with this model, we will be able to find completely new scaffolds. All it can do is copy and mimick known chemical space related to adenosine receptor A2A. It also has no information about activity of the compounds. It just creates new molecule that look like the known ligands. But what if we could create a model that can generate structures that are more likely to be binders than nonbinders of the A2A receptor? We will explain how to do exactly that in this chapter.\n",
    "\n",
    "Reinforcement learning is a well-known concept in machine learning and AI and can be used to train neural networks to successfully accomplish various tasks. The most famous example is [AlphaGo](https://en.wikipedia.org/wiki/AlphaGo), a machine learning model that was trained to successfully play the borad game Go, but there are also models that learned to [walk](https://arxiv.org/pdf/1812.11103.pdf), [play computer games](https://www.theverge.com/2018/8/6/17655086/dota2-openai-bots-professional-gaming-ai) or many [other things](https://rl-book.com/applications/). This is a simple schematic that illustrates the idea of reinforcement learning:\n",
    "\n",
    "![RL](https://upload.wikimedia.org/wikipedia/commons/1/1b/Reinforcement_learning_diagram.svg)\n",
    "\n",
    "Picture Credit: [WikiMedia Commons](https://commons.wikimedia.org/wiki/File:Reinforcement_learning_diagram.svg), Megajuice\n",
    "\n",
    "Regardless of whether the AI is learning to walk or generate molecules, the concept is the same. The model acts as an *agent* in the *environment*. The agent performs an *action* in the environment (i.e. generates a molecular structure). Based on the action, the agent then receives a *reward* from an *interpreter* (i.e. a QSAR model predicting activity on the A2A receptor). The obtained reward can then be used to adjust the actions made by the agant, for example by changing it's *state* (i.e. the weights of the neural network). This loop is repeated until the agent learns to walk, play a game or generates molecules interesting for us. \n",
    "\n",
    "In this tutorial, we will teach our model (*agent*) to generate more active and synthetically accessible molecules. That means we will have two *observers* in our environment that will each give feedback to our models. This is called multi-objective optimization and reflects more the way we think about 'good molecules' in drug discovery. It is not always just perceived activity that is important, but other criteria like synthetic accessibility play an important role too.\n",
    "\n",
    "#### Observer 1 (The QSAR Model)\n",
    "\n",
    "Therefore, the first of our observers (or more often scoring functions) will be the QSAR model we trained previously. It will provide the *agent* with information about the likely activity agains A2A receptor:"
   ]
  },
  {
   "cell_type": "code",
   "execution_count": 16,
   "id": "afb4fcec-3c90-4aa2-9bf2-9ad8f4600b05",
   "metadata": {},
   "outputs": [
    {
     "data": {
      "text/html": [
       "<style>#sk-container-id-1 {color: black;background-color: white;}#sk-container-id-1 pre{padding: 0;}#sk-container-id-1 div.sk-toggleable {background-color: white;}#sk-container-id-1 label.sk-toggleable__label {cursor: pointer;display: block;width: 100%;margin-bottom: 0;padding: 0.3em;box-sizing: border-box;text-align: center;}#sk-container-id-1 label.sk-toggleable__label-arrow:before {content: \"▸\";float: left;margin-right: 0.25em;color: #696969;}#sk-container-id-1 label.sk-toggleable__label-arrow:hover:before {color: black;}#sk-container-id-1 div.sk-estimator:hover label.sk-toggleable__label-arrow:before {color: black;}#sk-container-id-1 div.sk-toggleable__content {max-height: 0;max-width: 0;overflow: hidden;text-align: left;background-color: #f0f8ff;}#sk-container-id-1 div.sk-toggleable__content pre {margin: 0.2em;color: black;border-radius: 0.25em;background-color: #f0f8ff;}#sk-container-id-1 input.sk-toggleable__control:checked~div.sk-toggleable__content {max-height: 200px;max-width: 100%;overflow: auto;}#sk-container-id-1 input.sk-toggleable__control:checked~label.sk-toggleable__label-arrow:before {content: \"▾\";}#sk-container-id-1 div.sk-estimator input.sk-toggleable__control:checked~label.sk-toggleable__label {background-color: #d4ebff;}#sk-container-id-1 div.sk-label input.sk-toggleable__control:checked~label.sk-toggleable__label {background-color: #d4ebff;}#sk-container-id-1 input.sk-hidden--visually {border: 0;clip: rect(1px 1px 1px 1px);clip: rect(1px, 1px, 1px, 1px);height: 1px;margin: -1px;overflow: hidden;padding: 0;position: absolute;width: 1px;}#sk-container-id-1 div.sk-estimator {font-family: monospace;background-color: #f0f8ff;border: 1px dotted black;border-radius: 0.25em;box-sizing: border-box;margin-bottom: 0.5em;}#sk-container-id-1 div.sk-estimator:hover {background-color: #d4ebff;}#sk-container-id-1 div.sk-parallel-item::after {content: \"\";width: 100%;border-bottom: 1px solid gray;flex-grow: 1;}#sk-container-id-1 div.sk-label:hover label.sk-toggleable__label {background-color: #d4ebff;}#sk-container-id-1 div.sk-serial::before {content: \"\";position: absolute;border-left: 1px solid gray;box-sizing: border-box;top: 0;bottom: 0;left: 50%;z-index: 0;}#sk-container-id-1 div.sk-serial {display: flex;flex-direction: column;align-items: center;background-color: white;padding-right: 0.2em;padding-left: 0.2em;position: relative;}#sk-container-id-1 div.sk-item {position: relative;z-index: 1;}#sk-container-id-1 div.sk-parallel {display: flex;align-items: stretch;justify-content: center;background-color: white;position: relative;}#sk-container-id-1 div.sk-item::before, #sk-container-id-1 div.sk-parallel-item::before {content: \"\";position: absolute;border-left: 1px solid gray;box-sizing: border-box;top: 0;bottom: 0;left: 50%;z-index: -1;}#sk-container-id-1 div.sk-parallel-item {display: flex;flex-direction: column;z-index: 1;position: relative;background-color: white;}#sk-container-id-1 div.sk-parallel-item:first-child::after {align-self: flex-end;width: 50%;}#sk-container-id-1 div.sk-parallel-item:last-child::after {align-self: flex-start;width: 50%;}#sk-container-id-1 div.sk-parallel-item:only-child::after {width: 0;}#sk-container-id-1 div.sk-dashed-wrapped {border: 1px dashed gray;margin: 0 0.4em 0.5em 0.4em;box-sizing: border-box;padding-bottom: 0.4em;background-color: white;}#sk-container-id-1 div.sk-label label {font-family: monospace;font-weight: bold;display: inline-block;line-height: 1.2em;}#sk-container-id-1 div.sk-label-container {text-align: center;}#sk-container-id-1 div.sk-container {/* jupyter's `normalize.less` sets `[hidden] { display: none; }` but bootstrap.min.css set `[hidden] { display: none !important; }` so we also need the `!important` here to be able to override the default hidden behavior on the sphinx rendered scikit-learn.org. See: https://github.com/scikit-learn/scikit-learn/issues/21755 */display: inline-block !important;position: relative;}#sk-container-id-1 div.sk-text-repr-fallback {display: none;}</style><div id=\"sk-container-id-1\" class=\"sk-top-container\"><div class=\"sk-text-repr-fallback\"><pre>ExtraTreesClassifier(n_estimators=250)</pre><b>In a Jupyter environment, please rerun this cell to show the HTML representation or trust the notebook. <br />On GitHub, the HTML representation is unable to render, please try loading this page with nbviewer.org.</b></div><div class=\"sk-container\" hidden><div class=\"sk-item\"><div class=\"sk-estimator sk-toggleable\"><input class=\"sk-toggleable__control sk-hidden--visually\" id=\"sk-estimator-id-1\" type=\"checkbox\" checked><label for=\"sk-estimator-id-1\" class=\"sk-toggleable__label sk-toggleable__label-arrow\">ExtraTreesClassifier</label><div class=\"sk-toggleable__content\"><pre>ExtraTreesClassifier(n_estimators=250)</pre></div></div></div></div></div>"
      ],
      "text/plain": [
       "ExtraTreesClassifier(n_estimators=250)"
      ]
     },
     "execution_count": 16,
     "metadata": {},
     "output_type": "execute_result"
    }
   ],
   "source": [
    "import joblib\n",
    "\n",
    "model = joblib.load('data/qsar/models/A2A_CLS_ET_250.pickle')\n",
    "model"
   ]
  },
  {
   "cell_type": "markdown",
   "id": "4f5f5119-1936-485b-af49-99d60f215110",
   "metadata": {},
   "source": [
    "In order to feed this model to our DrugEx agent, we need to wrap it in the `Scorer` interface:"
   ]
  },
  {
   "cell_type": "code",
   "execution_count": 17,
   "id": "0480612b-780e-4b7c-bd37-551d23e1c785",
   "metadata": {},
   "outputs": [
    {
     "data": {
      "text/plain": [
       "<__main__.ModelScorer at 0x7fe4fec08430>"
      ]
     },
     "execution_count": 17,
     "metadata": {},
     "output_type": "execute_result"
    }
   ],
   "source": [
    "from drugex.training.interfaces import Scorer\n",
    "\n",
    "class ModelScorer(Scorer):\n",
    "    \n",
    "    def __init__(self, model, prefix, descriptor = MorganFP(radius=2, nBits=1024)):\n",
    "        super().__init__()\n",
    "        self.model = model\n",
    "        self.prefix = prefix\n",
    "        self.descriptor = descriptor\n",
    "    \n",
    "    def getScores(self, mols, frags=None):\n",
    "        X = pd.Series(mols).apply(lambda x : pd.Series(self.descriptor(x) if x else [0] * 1024))\n",
    "        preds = self.model.predict_proba(X)[::,1]\n",
    "        return preds\n",
    "    \n",
    "    def getKey(self):\n",
    "        return f\"{self.prefix}_{type(self.model)}\"\n",
    "\n",
    "\n",
    "\n",
    "scorer_model = ModelScorer(model, 'A2A_CLS')\n",
    "scorer_model"
   ]
  },
  {
   "cell_type": "markdown",
   "id": "7b29c1e8-61e4-4272-8f7c-221861cbd6f0",
   "metadata": {},
   "source": [
    "A scorer is a simple Python class that needs to have the `getScores` and `getKey` methods. The `getScores` method is the most important one and is used to calculate scores (model predictions) for the generated molecules at each epoch of training. The `getKey` method just gives the scorer a unique name that will appear in the outputs and will be used by the model.\n",
    "\n",
    "We can illustrate how the scorer functions by feeding it our list of smiles from the finetuned model:"
   ]
  },
  {
   "cell_type": "code",
   "execution_count": 18,
   "id": "6be660b7-e310-4292-aa67-0dc335282eaa",
   "metadata": {},
   "outputs": [
    {
     "name": "stderr",
     "output_type": "stream",
     "text": [
      "/home/sichom/software/miniconda/envs/drugex-demo/lib/python3.9/site-packages/sklearn/base.py:450: UserWarning:\n",
      "\n",
      "X does not have valid feature names, but ExtraTreesClassifier was fitted with feature names\n",
      "\n"
     ]
    },
    {
     "data": {
      "text/plain": [
       "array([0.188, 0.148, 0.396, 0.004, 1.   , 0.66 , 0.736, 0.076, 0.   ,\n",
       "       0.4  ])"
      ]
     },
     "execution_count": 18,
     "metadata": {},
     "output_type": "execute_result"
    }
   ],
   "source": [
    "predictions = scorer_model(smiles_finetuned)\n",
    "predictions[0:10]"
   ]
  },
  {
   "cell_type": "markdown",
   "id": "2d350504-8367-4397-a3b5-66370bf078b6",
   "metadata": {},
   "source": [
    "We can also calculate the percentage of molecules that would be classified as active at this point. It is just molecules for which the predicted value is more than 0.5:"
   ]
  },
  {
   "cell_type": "code",
   "execution_count": 19,
   "id": "323b5b75-817a-449c-b935-2e44297c6da7",
   "metadata": {},
   "outputs": [
    {
     "data": {
      "text/plain": [
       "0.48951048951048953"
      ]
     },
     "execution_count": 19,
     "metadata": {},
     "output_type": "execute_result"
    }
   ],
   "source": [
    "sum(predictions > 0.5) / len(predictions)"
   ]
  },
  {
   "cell_type": "markdown",
   "id": "aac135ee-4d36-488a-a64e-87dfa450739a",
   "metadata": {},
   "source": [
    "Therefore, almost half of the generated molecules are perceived as likely binders by our model. Not bad for such a simple model. But let's see if we can further improve this ration with reinforcement learning.\n",
    "\n",
    "#### Observer 2 (Synthetic Accessibility Score)\n",
    "\n",
    "Our second observer in this experiment will be the [Synthetic Accessibility Score](https://jcheminf.biomedcentral.com/articles/10.1186/1758-2946-1-8) (SAScore). It has been around for a long time and is generally considered as a reasonable measure of how complex (hard to synthesize) a compound structure is. It is available in DrugEx and we can easily create this scoring function as follows:"
   ]
  },
  {
   "cell_type": "code",
   "execution_count": 22,
   "id": "e65447f5-82bb-44e9-8f30-e812ceb80f1e",
   "metadata": {},
   "outputs": [],
   "source": [
    "from drugex.training.scorers.properties import Property\n",
    "\n",
    "sascore = Property(\"SA\")"
   ]
  },
  {
   "cell_type": "markdown",
   "id": "e5eadc0e-76ca-4c39-91a2-a6682f9767da",
   "metadata": {},
   "source": [
    "#### Desirability Score Modifiers\n",
    "\n",
    "Because the scorers that we created above each work on a different scale, it might be a good idea to normalize them somehow and make them work on the same scale and express to the model what values of the scores are actually desirable and what are not. For example, we want the SAScore as low as possible while we want the score from the model as close to 1 as possible (have the most confidence in the prediction that the generated compounds are active). This where the desirability modifier comes in. It helps us to keep things on one scale while telling the model what distribution of scores is good for us.\n",
    "\n",
    "For the QSAR model, we will choose the `ClippedScore` modifier:"
   ]
  },
  {
   "cell_type": "code",
   "execution_count": 20,
   "id": "d3141815-f27e-470e-89d9-31754dc2577a",
   "metadata": {},
   "outputs": [],
   "source": [
    "from drugex.training.scorers.modifiers import ClippedScore\n",
    "\n",
    "scorer_model.setModifier(ClippedScore(lower_x=0.2, upper_x=0.8))"
   ]
  },
  {
   "cell_type": "markdown",
   "id": "91e51f22-b27e-4e63-a941-294af282acae",
   "metadata": {},
   "source": [
    "With this modifier we are telling the agent that molecules with scores that are less than 0.2 are no good for us while scores of more than 0.8 are good with some linear progressin in between. We can easily visualize the modifier with the following code:"
   ]
  },
  {
   "cell_type": "code",
   "execution_count": 21,
   "id": "0e345109-fc3a-482e-9176-0fca6c13da42",
   "metadata": {},
   "outputs": [
    {
     "data": {
      "text/plain": [
       "<AxesSubplot: xlabel='Score', ylabel='Clipped Score'>"
      ]
     },
     "execution_count": 21,
     "metadata": {},
     "output_type": "execute_result"
    },
    {
     "data": {
      "image/png": "[encoded data removed]",
      "text/plain": [
       "<Figure size 640x480 with 1 Axes>"
      ]
     },
     "metadata": {},
     "output_type": "display_data"
    }
   ],
   "source": [
    "import numpy as np\n",
    "\n",
    "def depict_modifier(modifier, start=0, end=1, step=0.01, name = 'Clipped Score'):\n",
    "    vals = np.arange(start,end, step)\n",
    "    scores = [(x, modifier(x)) for x in vals] # get the A1R modifier for inactivity (the lower the activity, the higher the reward)\n",
    "    scores = pd.DataFrame(scores, columns=['Score', name])\n",
    "    return scores.plot.scatter(x = 'Score', y = name)\n",
    "\n",
    "depict_modifier(scorer_model.getModifier())"
   ]
  },
  {
   "cell_type": "markdown",
   "id": "6eb4cbca-a1d6-4aa0-8942-3ed527be9b3a",
   "metadata": {},
   "source": [
    "As we can see the agent will be told to stay away from molecules of scores lower then 0.2 and move towards molecules of at least score 0.8. The reason for the linear progression in between is there so that the model can evaluate whether one molecule is better than the other, but not generally desired.\n",
    "\n",
    "For the SAScore we will opt for the smoothed out variant of clipped score, `SmoothClippedScore`:"
   ]
  },
  {
   "cell_type": "code",
   "execution_count": null,
   "id": "96d2468d-f3a6-45d4-897a-108e0c7918b5",
   "metadata": {},
   "outputs": [],
   "source": [
    "from drugex.training.scorers.modifiers import SmoothClippedScore\n",
    "\n",
    "sascore.setModifier(SmoothClippedScore(lower_x=6, upper_x=3))"
   ]
  },
  {
   "cell_type": "markdown",
   "id": "e48842df-d2cc-4ad0-9134-aed692de1c9a",
   "metadata": {},
   "source": [
    "This funtion looks as follows:"
   ]
  },
  {
   "cell_type": "code",
   "execution_count": 23,
   "id": "e33afe7a-49cc-444c-9ce4-098bf3fce28f",
   "metadata": {},
   "outputs": [
    {
     "data": {
      "text/plain": [
       "<AxesSubplot: xlabel='Score', ylabel='Clipped Score'>"
      ]
     },
     "execution_count": 23,
     "metadata": {},
     "output_type": "execute_result"
    },
    {
     "data": {
      "image/png": "[encoded data removed]",
      "text/plain": [
       "<Figure size 640x480 with 1 Axes>"
      ]
     },
     "metadata": {},
     "output_type": "display_data"
    }
   ],
   "source": [
    "depict_modifier(sascore.getModifier(), 0, 10, 0.1, 'Clipped Score - Smooth')"
   ]
  },
  {
   "cell_type": "markdown",
   "id": "d7427aca-d783-4878-88d4-c0be85a12bad",
   "metadata": {},
   "source": [
    "In general, molecules with SAScore higher than 6 are considered quite complex, but can still be present in data sets so we give the distribution a more gradual decrease with a longer right tail. We will also never achieve the perfect SAScore of 1, but that is OK as long as we tell the model we want the score as close to one as possible.\n",
    "\n",
    "#### The Environment\n",
    "\n",
    "The last thing we have to do is to create the environment and to specify desirability thresholds for our scoring functions. We also need to apply a suitable multi-objective reward scheme:"
   ]
  },
  {
   "cell_type": "code",
   "execution_count": 24,
   "id": "10bb41b5-3337-45ec-88c3-e61e6943f727",
   "metadata": {},
   "outputs": [],
   "source": [
    "from drugex.training.environment import DrugExEnvironment\n",
    "from drugex.training.rewards import ParetoCrowdingDistance\n",
    "\n",
    "scorers = [\n",
    "    scorer_model,\n",
    "    sascore\n",
    "]\n",
    "thresholds = [\n",
    "    0.5,\n",
    "    0.1\n",
    "]\n",
    "\n",
    "environment = DrugExEnvironment(scorers, thresholds, reward_scheme=ParetoCrowdingDistance())"
   ]
  },
  {
   "cell_type": "markdown",
   "id": "93aa23e1-fd55-457d-8e83-891e6be15595",
   "metadata": {},
   "source": [
    "The thresholds can play some role in some reward schemes (i.e. `WeightedSum`), but in this case they will just be used to deem whether a molecule is desirable or not. We can show what that means if we get the scores for our previously generated compounds with the environment: "
   ]
  },
  {
   "cell_type": "code",
   "execution_count": 25,
   "id": "78cd2a11-04bf-4473-a1d0-f9bc5dd0ca76",
   "metadata": {},
   "outputs": [
    {
     "name": "stderr",
     "output_type": "stream",
     "text": [
      "/home/sichom/software/miniconda/envs/drugex-demo/lib/python3.9/site-packages/sklearn/base.py:450: UserWarning:\n",
      "\n",
      "X does not have valid feature names, but ExtraTreesClassifier was fitted with feature names\n",
      "\n"
     ]
    },
    {
     "data": {
      "text/html": [
       "<div>\n",
       "<style scoped>\n",
       "    .dataframe tbody tr th:only-of-type {\n",
       "        vertical-align: middle;\n",
       "    }\n",
       "\n",
       "    .dataframe tbody tr th {\n",
       "        vertical-align: top;\n",
       "    }\n",
       "\n",
       "    .dataframe thead th {\n",
       "        text-align: right;\n",
       "    }\n",
       "</style>\n",
       "<table border=\"1\" class=\"dataframe\">\n",
       "  <thead>\n",
       "    <tr style=\"text-align: right;\">\n",
       "      <th></th>\n",
       "      <th>A2A_CLS_&lt;class 'sklearn.ensemble._forest.ExtraTreesClassifier'&gt;</th>\n",
       "      <th>SA</th>\n",
       "      <th>DESIRE</th>\n",
       "      <th>VALID</th>\n",
       "    </tr>\n",
       "  </thead>\n",
       "  <tbody>\n",
       "    <tr>\n",
       "      <th>0</th>\n",
       "      <td>0.000000</td>\n",
       "      <td>0.921807</td>\n",
       "      <td>0</td>\n",
       "      <td>1</td>\n",
       "    </tr>\n",
       "    <tr>\n",
       "      <th>1</th>\n",
       "      <td>0.326667</td>\n",
       "      <td>0.690456</td>\n",
       "      <td>0</td>\n",
       "      <td>1</td>\n",
       "    </tr>\n",
       "    <tr>\n",
       "      <th>2</th>\n",
       "      <td>0.000000</td>\n",
       "      <td>0.629212</td>\n",
       "      <td>0</td>\n",
       "      <td>1</td>\n",
       "    </tr>\n",
       "    <tr>\n",
       "      <th>3</th>\n",
       "      <td>1.000000</td>\n",
       "      <td>0.891660</td>\n",
       "      <td>1</td>\n",
       "      <td>1</td>\n",
       "    </tr>\n",
       "    <tr>\n",
       "      <th>4</th>\n",
       "      <td>0.766667</td>\n",
       "      <td>0.952504</td>\n",
       "      <td>1</td>\n",
       "      <td>1</td>\n",
       "    </tr>\n",
       "    <tr>\n",
       "      <th>...</th>\n",
       "      <td>...</td>\n",
       "      <td>...</td>\n",
       "      <td>...</td>\n",
       "      <td>...</td>\n",
       "    </tr>\n",
       "    <tr>\n",
       "      <th>995</th>\n",
       "      <td>0.106667</td>\n",
       "      <td>0.938835</td>\n",
       "      <td>0</td>\n",
       "      <td>1</td>\n",
       "    </tr>\n",
       "    <tr>\n",
       "      <th>996</th>\n",
       "      <td>1.000000</td>\n",
       "      <td>0.909840</td>\n",
       "      <td>1</td>\n",
       "      <td>1</td>\n",
       "    </tr>\n",
       "    <tr>\n",
       "      <th>997</th>\n",
       "      <td>0.326667</td>\n",
       "      <td>0.933743</td>\n",
       "      <td>0</td>\n",
       "      <td>1</td>\n",
       "    </tr>\n",
       "    <tr>\n",
       "      <th>998</th>\n",
       "      <td>0.193333</td>\n",
       "      <td>0.949218</td>\n",
       "      <td>0</td>\n",
       "      <td>1</td>\n",
       "    </tr>\n",
       "    <tr>\n",
       "      <th>999</th>\n",
       "      <td>1.000000</td>\n",
       "      <td>0.954435</td>\n",
       "      <td>1</td>\n",
       "      <td>1</td>\n",
       "    </tr>\n",
       "  </tbody>\n",
       "</table>\n",
       "<p>1000 rows × 4 columns</p>\n",
       "</div>"
      ],
      "text/plain": [
       "     A2A_CLS_<class 'sklearn.ensemble._forest.ExtraTreesClassifier'>  \\\n",
       "0                                             0.000000                 \n",
       "1                                             0.326667                 \n",
       "2                                             0.000000                 \n",
       "3                                             1.000000                 \n",
       "4                                             0.766667                 \n",
       "..                                                 ...                 \n",
       "995                                           0.106667                 \n",
       "996                                           1.000000                 \n",
       "997                                           0.326667                 \n",
       "998                                           0.193333                 \n",
       "999                                           1.000000                 \n",
       "\n",
       "           SA  DESIRE  VALID  \n",
       "0    0.921807       0      1  \n",
       "1    0.690456       0      1  \n",
       "2    0.629212       0      1  \n",
       "3    0.891660       1      1  \n",
       "4    0.952504       1      1  \n",
       "..        ...     ...    ...  \n",
       "995  0.938835       0      1  \n",
       "996  0.909840       1      1  \n",
       "997  0.933743       0      1  \n",
       "998  0.949218       0      1  \n",
       "999  0.954435       1      1  \n",
       "\n",
       "[1000 rows x 4 columns]"
      ]
     },
     "execution_count": 25,
     "metadata": {},
     "output_type": "execute_result"
    }
   ],
   "source": [
    "environment.getScores(smiles_finetuned)"
   ]
  },
  {
   "cell_type": "markdown",
   "id": "bc21bb0d-ba7a-446e-86d8-a498b160f024",
   "metadata": {},
   "source": [
    "The `DESIRE` column shows a 1 for all molecules that satisfy the desirability thresholds for all objectives (SAScore higher than 0.1 and the predicted active probability from QSAE of more than 0.5). Note that the thresholds relate to the modified scores and not the original values.\n",
    "\n",
    "We can now calculate how many desirable compounds there are in this initial set:"
   ]
  },
  {
   "cell_type": "code",
   "execution_count": null,
   "id": "d1d704d0-1f29-4d13-8c7f-608d5df3276d",
   "metadata": {},
   "outputs": [],
   "source": [
    "sum(scores[\"DESIRE\"]) / len(scores)"
   ]
  },
  {
   "cell_type": "markdown",
   "id": "1b60e537-b361-40dc-8eec-6d2b95877520",
   "metadata": {},
   "source": [
    "We can see that this is not bad again for just an initial model, but we can surely do better.\n",
    "\n",
    "Finally, it is time to put it all together and start training under the reinforcement learning framework. For the RNN model, this is accomplished with the `SmilesExplorerNoFrag` class:"
   ]
  },
  {
   "cell_type": "code",
   "execution_count": 27,
   "id": "784f031e-2d82-418e-97a8-73e4de4a7c17",
   "metadata": {},
   "outputs": [],
   "source": [
    "from drugex.training.models.explorer import SmilesExplorerNoFrag\n",
    "import warnings\n",
    "warnings.filterwarnings('ignore')\n",
    "\n",
    "pretrained = RNN(voc, is_lstm=True, use_gpus=GPUS)\n",
    "pretrained.loadStatesFromFile('data/drugex/models/pretrained/DrugEx_v2_PT_Papyrus05.5/Papyrus05.5_smiles_rnn_PT.pkg')\n",
    "\n",
    "finetuned = RNN(voc, is_lstm=True, use_gpus=GPUS)\n",
    "finetuned.loadStatesFromFile('data/drugex/models/finetuned/ligand_finetune.pkg')\n",
    "\n",
    "explorer = SmilesExplorerNoFrag(\n",
    "    agent = finetuned,\n",
    "    environement = environment,\n",
    "    mutate = pretrained,\n",
    "    crover = finetuned,\n",
    "    sigma = 0,\n",
    "    epsilon = 0.01,\n",
    "    use_gpus = GPUS\n",
    ")"
   ]
  },
  {
   "cell_type": "markdown",
   "id": "34cd5576-1d47-4b33-92e9-a9d1fd1e1e2a",
   "metadata": {},
   "source": [
    "There are quite a few things we can tweak about the explorer here and the way it approaches reinforcement learning. We could for example choose the pretrained network to be the agent instead of the finetuned network. Doing that could help us find more novel structures that are also active. When using the finetuned model as the agent, the structures will be more similar to known ligands. In our current scenario, we are also using a rather low exploration parameter (`epsilon`), which is another way to influence the diversity of the generated compounds. The higher the `epsilon`, the larger the influence of the mutations introduced by the pretrained model, which adds more randomness to our structures. In short, there is a lot of space for experimentation and you can read more information in the [original paper](https://doi.org/10.1186/s13321-019-0355-6). In this particular case, we just chose the easiest setup for the algorithm so that it converges more easily and we can train it faster, but at the expense of more diverse exploration of chemical space.\n",
    "\n",
    "With that said, let's get to training. Thanks to this simplified setup, 30 epochs should be enough for us to already see a result:"
   ]
  },
  {
   "cell_type": "code",
   "execution_count": null,
   "id": "6fc9604d-9979-477c-bef7-9d7ccba7376a",
   "metadata": {},
   "outputs": [],
   "source": [
    "monitor = FileMonitor(os.path.join(MODEL_DIR, 'ligand_agent_rl'), verbose=True)\n",
    "explorer.fit(train_loader, valid_loader, monitor=monitor, epochs=30)"
   ]
  },
  {
   "cell_type": "markdown",
   "id": "f1796692-07ec-4003-8409-a384c5ffb4fb",
   "metadata": {},
   "source": [
    "Again, we can observer the evolution of certain parameters during training. Most improtantly the validity of the generated structures and the training loss:"
   ]
  },
  {
   "cell_type": "code",
   "execution_count": 28,
   "id": "10961ed4-d2f4-4132-b3ff-d5317ee57026",
   "metadata": {},
   "outputs": [
    {
     "data": {
      "text/html": [
       "<div>\n",
       "<style scoped>\n",
       "    .dataframe tbody tr th:only-of-type {\n",
       "        vertical-align: middle;\n",
       "    }\n",
       "\n",
       "    .dataframe tbody tr th {\n",
       "        vertical-align: top;\n",
       "    }\n",
       "\n",
       "    .dataframe thead th {\n",
       "        text-align: right;\n",
       "    }\n",
       "</style>\n",
       "<table border=\"1\" class=\"dataframe\">\n",
       "  <thead>\n",
       "    <tr style=\"text-align: right;\">\n",
       "      <th></th>\n",
       "      <th>epoch</th>\n",
       "      <th>loss_train</th>\n",
       "      <th>loss_valid</th>\n",
       "      <th>valid_ratio</th>\n",
       "      <th>unique_ratio</th>\n",
       "      <th>desire_ratio</th>\n",
       "      <th>mean_train_loss</th>\n",
       "    </tr>\n",
       "  </thead>\n",
       "  <tbody>\n",
       "    <tr>\n",
       "      <th>0</th>\n",
       "      <td>1</td>\n",
       "      <td>NaN</td>\n",
       "      <td>NaN</td>\n",
       "      <td>0.820312</td>\n",
       "      <td>NaN</td>\n",
       "      <td>NaN</td>\n",
       "      <td>-1.115298</td>\n",
       "    </tr>\n",
       "    <tr>\n",
       "      <th>1</th>\n",
       "      <td>2</td>\n",
       "      <td>NaN</td>\n",
       "      <td>NaN</td>\n",
       "      <td>0.914062</td>\n",
       "      <td>NaN</td>\n",
       "      <td>NaN</td>\n",
       "      <td>-0.092800</td>\n",
       "    </tr>\n",
       "    <tr>\n",
       "      <th>2</th>\n",
       "      <td>3</td>\n",
       "      <td>NaN</td>\n",
       "      <td>NaN</td>\n",
       "      <td>0.882812</td>\n",
       "      <td>NaN</td>\n",
       "      <td>NaN</td>\n",
       "      <td>-0.091159</td>\n",
       "    </tr>\n",
       "    <tr>\n",
       "      <th>3</th>\n",
       "      <td>4</td>\n",
       "      <td>NaN</td>\n",
       "      <td>NaN</td>\n",
       "      <td>0.898438</td>\n",
       "      <td>NaN</td>\n",
       "      <td>NaN</td>\n",
       "      <td>-0.088589</td>\n",
       "    </tr>\n",
       "    <tr>\n",
       "      <th>4</th>\n",
       "      <td>5</td>\n",
       "      <td>NaN</td>\n",
       "      <td>NaN</td>\n",
       "      <td>0.937500</td>\n",
       "      <td>NaN</td>\n",
       "      <td>NaN</td>\n",
       "      <td>-0.086409</td>\n",
       "    </tr>\n",
       "  </tbody>\n",
       "</table>\n",
       "</div>"
      ],
      "text/plain": [
       "   epoch  loss_train  loss_valid  valid_ratio  unique_ratio  desire_ratio  \\\n",
       "0      1         NaN         NaN     0.820312           NaN           NaN   \n",
       "1      2         NaN         NaN     0.914062           NaN           NaN   \n",
       "2      3         NaN         NaN     0.882812           NaN           NaN   \n",
       "3      4         NaN         NaN     0.898438           NaN           NaN   \n",
       "4      5         NaN         NaN     0.937500           NaN           NaN   \n",
       "\n",
       "   mean_train_loss  \n",
       "0        -1.115298  \n",
       "1        -0.092800  \n",
       "2        -0.091159  \n",
       "3        -0.088589  \n",
       "4        -0.086409  "
      ]
     },
     "execution_count": 28,
     "metadata": {},
     "output_type": "execute_result"
    }
   ],
   "source": [
    "df_info = pd.read_csv('data/drugex/models/finetuned/ligand_agent_rl_fit.tsv', sep='\\t')\n",
    "df_info.head()"
   ]
  },
  {
   "cell_type": "code",
   "execution_count": 29,
   "id": "024f80f1-dc7d-4d64-a19a-c8660a3222a5",
   "metadata": {},
   "outputs": [
    {
     "data": {
      "text/plain": [
       "<AxesSubplot: >"
      ]
     },
     "execution_count": 29,
     "metadata": {},
     "output_type": "execute_result"
    },
    {
     "data": {
      "image/png": "[encoded data removed]",
      "text/plain": [
       "<Figure size 640x480 with 1 Axes>"
      ]
     },
     "metadata": {},
     "output_type": "display_data"
    }
   ],
   "source": [
    "df_info[['valid_ratio', 'mean_train_loss']].plot.line()"
   ]
  },
  {
   "cell_type": "markdown",
   "id": "f31060f7-0830-437c-9bbc-e90fbae0ac7b",
   "metadata": {},
   "source": [
    "We can see that most of the compounds remain valid and the training loss also improves slightly. We also have a little drop in validity and loss after the first epoch, but the model quickly stabilizes itself. \n",
    "\n",
    "Let's test if this model is now able to produce better molecules. We just need to load it from the saved state and sample new structures:"
   ]
  },
  {
   "cell_type": "code",
   "execution_count": 30,
   "id": "7b4b51a2-f2c5-422c-a5f3-145f54bee748",
   "metadata": {},
   "outputs": [],
   "source": [
    "agent = RNN(voc, is_lstm=True, use_gpus=GPUS)\n",
    "agent.loadStatesFromFile('data/drugex/models/finetuned/ligand_agent_rl.pkg')\n",
    "\n",
    "smiles_rl = sample_smiles(agent, 1000)"
   ]
  },
  {
   "cell_type": "markdown",
   "id": "b9abc3b9-16c9-4d8f-b9c0-0c91be74a6a4",
   "metadata": {},
   "source": [
    "We can again push them through our environment and see how many of them are desirable according to our settings:"
   ]
  },
  {
   "cell_type": "code",
   "execution_count": 31,
   "id": "1a0d277c-8425-4856-88e1-9ccc2d1af161",
   "metadata": {},
   "outputs": [
    {
     "data": {
      "text/html": [
       "<div>\n",
       "<style scoped>\n",
       "    .dataframe tbody tr th:only-of-type {\n",
       "        vertical-align: middle;\n",
       "    }\n",
       "\n",
       "    .dataframe tbody tr th {\n",
       "        vertical-align: top;\n",
       "    }\n",
       "\n",
       "    .dataframe thead th {\n",
       "        text-align: right;\n",
       "    }\n",
       "</style>\n",
       "<table border=\"1\" class=\"dataframe\">\n",
       "  <thead>\n",
       "    <tr style=\"text-align: right;\">\n",
       "      <th></th>\n",
       "      <th>A2A_CLS_&lt;class 'sklearn.ensemble._forest.ExtraTreesClassifier'&gt;</th>\n",
       "      <th>SA</th>\n",
       "      <th>DESIRE</th>\n",
       "      <th>VALID</th>\n",
       "    </tr>\n",
       "  </thead>\n",
       "  <tbody>\n",
       "    <tr>\n",
       "      <th>0</th>\n",
       "      <td>1.000000</td>\n",
       "      <td>0.955095</td>\n",
       "      <td>1</td>\n",
       "      <td>1</td>\n",
       "    </tr>\n",
       "    <tr>\n",
       "      <th>1</th>\n",
       "      <td>1.000000</td>\n",
       "      <td>0.970007</td>\n",
       "      <td>1</td>\n",
       "      <td>1</td>\n",
       "    </tr>\n",
       "    <tr>\n",
       "      <th>2</th>\n",
       "      <td>0.340000</td>\n",
       "      <td>0.981053</td>\n",
       "      <td>0</td>\n",
       "      <td>1</td>\n",
       "    </tr>\n",
       "    <tr>\n",
       "      <th>3</th>\n",
       "      <td>1.000000</td>\n",
       "      <td>0.958384</td>\n",
       "      <td>1</td>\n",
       "      <td>1</td>\n",
       "    </tr>\n",
       "    <tr>\n",
       "      <th>4</th>\n",
       "      <td>0.653333</td>\n",
       "      <td>0.959804</td>\n",
       "      <td>1</td>\n",
       "      <td>1</td>\n",
       "    </tr>\n",
       "    <tr>\n",
       "      <th>...</th>\n",
       "      <td>...</td>\n",
       "      <td>...</td>\n",
       "      <td>...</td>\n",
       "      <td>...</td>\n",
       "    </tr>\n",
       "    <tr>\n",
       "      <th>995</th>\n",
       "      <td>0.286667</td>\n",
       "      <td>0.958571</td>\n",
       "      <td>0</td>\n",
       "      <td>1</td>\n",
       "    </tr>\n",
       "    <tr>\n",
       "      <th>996</th>\n",
       "      <td>0.900000</td>\n",
       "      <td>0.979000</td>\n",
       "      <td>1</td>\n",
       "      <td>1</td>\n",
       "    </tr>\n",
       "    <tr>\n",
       "      <th>997</th>\n",
       "      <td>0.813333</td>\n",
       "      <td>0.966077</td>\n",
       "      <td>1</td>\n",
       "      <td>1</td>\n",
       "    </tr>\n",
       "    <tr>\n",
       "      <th>998</th>\n",
       "      <td>0.513333</td>\n",
       "      <td>0.960618</td>\n",
       "      <td>1</td>\n",
       "      <td>1</td>\n",
       "    </tr>\n",
       "    <tr>\n",
       "      <th>999</th>\n",
       "      <td>0.733333</td>\n",
       "      <td>0.980455</td>\n",
       "      <td>1</td>\n",
       "      <td>1</td>\n",
       "    </tr>\n",
       "  </tbody>\n",
       "</table>\n",
       "<p>1000 rows × 4 columns</p>\n",
       "</div>"
      ],
      "text/plain": [
       "     A2A_CLS_<class 'sklearn.ensemble._forest.ExtraTreesClassifier'>  \\\n",
       "0                                             1.000000                 \n",
       "1                                             1.000000                 \n",
       "2                                             0.340000                 \n",
       "3                                             1.000000                 \n",
       "4                                             0.653333                 \n",
       "..                                                 ...                 \n",
       "995                                           0.286667                 \n",
       "996                                           0.900000                 \n",
       "997                                           0.813333                 \n",
       "998                                           0.513333                 \n",
       "999                                           0.733333                 \n",
       "\n",
       "           SA  DESIRE  VALID  \n",
       "0    0.955095       1      1  \n",
       "1    0.970007       1      1  \n",
       "2    0.981053       0      1  \n",
       "3    0.958384       1      1  \n",
       "4    0.959804       1      1  \n",
       "..        ...     ...    ...  \n",
       "995  0.958571       0      1  \n",
       "996  0.979000       1      1  \n",
       "997  0.966077       1      1  \n",
       "998  0.960618       1      1  \n",
       "999  0.980455       1      1  \n",
       "\n",
       "[1000 rows x 4 columns]"
      ]
     },
     "execution_count": 31,
     "metadata": {},
     "output_type": "execute_result"
    }
   ],
   "source": [
    "scores = environment.getScores(smiles_rl)\n",
    "scores"
   ]
  },
  {
   "cell_type": "code",
   "execution_count": 32,
   "id": "0b152b73-e5f2-4156-ba7e-cb24459c06d5",
   "metadata": {},
   "outputs": [
    {
     "data": {
      "text/plain": [
       "0.891"
      ]
     },
     "execution_count": 32,
     "metadata": {},
     "output_type": "execute_result"
    }
   ],
   "source": [
    "sum(scores[\"DESIRE\"] > 0.5) / len(scores)"
   ]
  },
  {
   "cell_type": "markdown",
   "id": "82da99c5-d9ca-4378-9b7b-f39503a1ca2a",
   "metadata": {},
   "source": [
    "That looks good! We now have a much higher ratio of desirable molecules. Let's take a look at the structures and use the model output to color them based on predicted activity:"
   ]
  },
  {
   "cell_type": "code",
   "execution_count": 33,
   "id": "7ed26665-bb3a-4121-be5c-4dc5b16228dd",
   "metadata": {},
   "outputs": [
    {
     "data": {
      "text/plain": [
       "<scaffviz.data.dataset.DataSetSMILES at 0x7fe4362ce130>"
      ]
     },
     "execution_count": 33,
     "metadata": {},
     "output_type": "execute_result"
    }
   ],
   "source": [
    "dataset = DataSetSMILES(\"data/finetuned_rl_sampled.tsv\", smiles=smiles, use_existing=False)\n",
    "dataset.addData('CLS', scores[\"A2A_CLS_<class 'sklearn.ensemble._forest.ExtraTreesClassifier'>\"])\n",
    "dataset.addDescriptors([MorganFP(radius=2, nBits=1024)], recalculate=False) \n",
    "\n",
    "plt = Plot(dataset, TSNE())\n",
    "plt.plot(\n",
    "    recalculate=False,\n",
    "    color_by='CLS',\n",
    "    color_continuous_scale=\"rdylgn\",\n",
    "    color_style='continuous',\n",
    "    viewport_height=800,\n",
    "    port=9494\n",
    ")"
   ]
  },
  {
   "cell_type": "markdown",
   "id": "34e80371-51a2-4d4c-898d-20f2f964bdca",
   "metadata": {},
   "source": [
    "A lot of the molecules are lit up green, which is good. It means the model is confident that these structures belong to active ligands. It seems that we were able to improve the original model's ability to produce more active and synthetically accessible compounds. Congratulations :)"
   ]
  },
  {
   "cell_type": "code",
   "execution_count": null,
   "id": "c445ab75-22ff-4e85-9b51-423b0c5d5d72",
   "metadata": {},
   "outputs": [],
   "source": []
  }
 ],
 "metadata": {
  "kernelspec": {
   "display_name": "Python 3 (ipykernel)",
   "language": "python",
   "name": "python3"
  },
  "language_info": {
   "codemirror_mode": {
    "name": "ipython",
    "version": 3
   },
   "file_extension": ".py",
   "mimetype": "text/x-python",
   "name": "python",
   "nbconvert_exporter": "python",
   "pygments_lexer": "ipython3",
   "version": "3.9.13"
  }
 },
 "nbformat": 4,
 "nbformat_minor": 5
}
