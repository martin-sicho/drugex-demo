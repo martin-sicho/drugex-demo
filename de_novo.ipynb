{
 "cells": [
  {
   "cell_type": "code",
   "execution_count": 1,
   "id": "69b78053-5d31-459a-914e-2840369c8edd",
   "metadata": {},
   "outputs": [],
   "source": [
    "# https://github.com/CDDLeiden/DrugEx\n",
    "# https://zenodo.org/record/7096859"
   ]
  },
  {
   "cell_type": "code",
   "execution_count": 2,
   "id": "70a859d9-a55e-4a64-8c87-8995d43f676b",
   "metadata": {},
   "outputs": [],
   "source": [
    "from drugex.training.models import RNN\n",
    "from drugex.data.corpus.vocabulary import VocSmiles\n",
    "\n",
    "GPUS = [0] # change this to match the number of GPUs you have\n",
    "\n",
    "voc = VocSmiles.fromFile(\"data/drugex/models/pretrained/DrugEx_v2_PT_Papyrus05.5/Papyrus05.5_smiles_rnn_PT.vocab\")\n",
    "pretrained = RNN(voc, is_lstm=True, use_gpus=GPUS)\n",
    "pretrained.loadStatesFromFile('data/drugex/models/pretrained/DrugEx_v2_PT_Papyrus05.5/Papyrus05.5_smiles_rnn_PT.pkg')"
   ]
  },
  {
   "cell_type": "code",
   "execution_count": 3,
   "id": "e2c64ef2-e7b4-4d3e-8376-fa1782bfb5ee",
   "metadata": {},
   "outputs": [
    {
     "name": "stdout",
     "output_type": "stream",
     "text": [
      "['CC(C)(O)C(F)CNC(=O)c1cnc(-n2ccc3cc(C#N)cnc32)cc1NC1CC1', 'CC1(C(=O)Nc2ccc3cc4ccccc4cc3c2)CCN1C(=O)Cc1ccc(Cl)cc1Cl', 'NC(=O)c1nn(-c2ccc(S(N)(=O)=O)cc2)c2c1CCc1ccc(NC(=O)c3ccc[nH]3)cc1-2', 'COc1cc(C)c(Cl)cc1S(=O)(=O)N1CCCCC1', 'COc1ccc(C=C2SC(Nc3nc4ccccc4s3)=NC2=O)c(OC)c1', 'Cc1cc[n+](Cc2ccc([N+](=O)[O-])cc2)cc1', 'CC(C(=O)NCc1ccc(C(F)(F)F)nc1SCCCN1CCCCC1)c1ccc(NS(C)(=O)=O)c(F)c1', 'CC1CCCC(N2CCC(c3c(F)ccc(Cl)c3F)=CC2=O)c2cc(ccn2)-c2ccc(N)cc2CO1', 'O=C(CN1C(=O)c2ccccc2C1=O)Nc1ccccc1C(F)(F)F', 'CCN1CCN(C(=O)CN2CCC(C(=O)NC3CCN(Cc4ccccc4)CC3)CC2=O)CC1']\n"
     ]
    }
   ],
   "source": [
    "from drugex.utils import canonicalize_list\n",
    "from drugex.training.scorers.smiles import SmilesChecker\n",
    "import numpy as np\n",
    "\n",
    "def sample_smiles(self, num_smiles, batch_size=100, drop_duplicates=True, drop_invalid=True):\n",
    "    smiles = []\n",
    "    while len(smiles) < num_smiles:\n",
    "        # sample SMILES\n",
    "        sequences = self.sample(batch_size)\n",
    "        # decode according to vocabulary\n",
    "        new_smiles = canonicalize_list([self.voc.decode(s, is_tk = False) for s in sequences])\n",
    "        # drop duplicates\n",
    "        if drop_duplicates:\n",
    "            new_smiles = np.array(new_smiles)\n",
    "            new_smiles = new_smiles[np.logical_not(np.isin(new_smiles, smiles))]\n",
    "            new_smiles = new_smiles.tolist()\n",
    "        # drop invalid smiles\n",
    "        if drop_invalid:\n",
    "            scores = SmilesChecker.checkSmiles(new_smiles, frags=None).ravel()\n",
    "            new_smiles = np.array(new_smiles)[scores > 0].tolist()\n",
    "        smiles += new_smiles\n",
    "    return smiles[:num_smiles]\n",
    "\n",
    "smiles_pretrained = sample_smiles(pretrained, 1000)\n",
    "print(smiles_pretrained[0:10])"
   ]
  },
  {
   "cell_type": "code",
   "execution_count": 4,
   "id": "4ab32fa0-a0c8-4f76-8a4f-0960ce3d0abf",
   "metadata": {},
   "outputs": [
    {
     "data": {
      "text/html": [
       "<div>\n",
       "<style scoped>\n",
       "    .dataframe tbody tr th:only-of-type {\n",
       "        vertical-align: middle;\n",
       "    }\n",
       "\n",
       "    .dataframe tbody tr th {\n",
       "        vertical-align: top;\n",
       "    }\n",
       "\n",
       "    .dataframe thead th {\n",
       "        text-align: right;\n",
       "    }\n",
       "</style>\n",
       "<table border=\"1\" class=\"dataframe\">\n",
       "  <thead>\n",
       "    <tr style=\"text-align: right;\">\n",
       "      <th></th>\n",
       "      <th>SMILES</th>\n",
       "      <th>RDMol</th>\n",
       "    </tr>\n",
       "  </thead>\n",
       "  <tbody>\n",
       "    <tr>\n",
       "      <th>0</th>\n",
       "      <td>CC(C)(O)C(F)CNC(=O)c1cnc(-n2ccc3cc(C#N)cnc32)c...</td>\n",
       "      <td style=\"text-align: center;\"><img data-content=\"rdkit/molecule\" src=\"data:image/png;base64,iVBORw0KGgoAAAANSUhEUgAAAMgAAADICAIAAAAiOjnJAAAABmJLR0QA/wD/AP+gvaeTAAAaI0lEQVR4nO3deVyU1f4H8M8wMMOwySAiCIlBKKmARrgHSkiIiFuYonhNDTMRt+41tatXcwH9uWRqudwSKcstC4zyuqNiJioKiMgiKsii4sg2DLOc3x+PESrCbCccPO+/fI1zzvNVPpxnO895eIQQMIy+GbV0AUzrxILFUMGCxVDBgsVQwYLFUMGCxVDBgsVQwYLFUMGCxVDBgsVQwYLFUMGCxVDBgsVQwYLFUMGCxVDBgsVQwYLFUMGCxVDBgsVQwYLFUMGCxVDBgsVQwYLFUMGCxVDBgsVQwYLFUMGCxVDBgsVQwYLFUMGCxVDBgsVQwYLFUMGCxVDBgsVQwYLFUMGCxVDBgsVQwYLFUMGCxVDBgsVQwYLFUMGCxVDBgsVQwYLFUMGCxVDBgsVQwYLFaOaPPxAfDwA7dzb1NRYspnmVlZg9G5WVAFBUhG+/RWEh0tKaamL891TGGK6CAoSGIj0dDx48HqtmzUJsLPj8plqxEYtpyu+/o08fpKfDzQ2ffopjxwDAygr9+uHcuaYasmAxz7V//5WBA1FainfewZkzWLUKAQG4eBH29hg3DqNHN9mYMMwzVCrVkiVLeDyer29aZCQpLiZ+fgQg5ubk4EFSVdV8D2zEYp5WU1MTFha2dOlSPp8/duy56Gj064dTp+DoiFOn8OABXnsNOTnNdMKCxTyhpKTE19f3wIED1tbWSUlJLi5dgoJUN2+id2+cP4/duzF1KkpKcOhQM/3QCtb69etDQkKOHj2qdQ9KQqQqlVSlInosi2mOlZWVkZGRq6trSkrKtWvXhg4dbGe3cPx4kpiIjz7CunUQCPD115gzp7mOKO2kIyIiAMTFxWndw76yso2Fhd+WlFQrFHosjGlWYWFhSUlJVFQUAB6PN3/+/Ly8vOHDVwkExNaWnDqlVie0rmNJpVIAIpFIl06chcJXTE3Nmr5gwuibmZlZWFjYsWPHhELhjh07XFxc+vbtW1ZW9u67zjEx41xd1eqE1q5QL8ESGBkJeTw9VcSo5caNGxMnTjx27JiDg0NycrKJiUlAQEBZWdngwYO3bx+iZqrwggeri5lZV3NzPVXENO/48eN9+vQ5ffp0cHDwH3/8UVlZOW7cOKlUGhUVlZSUZG1trUFflPbT/fr1A3D27Fkt2ipUqpW3bl2trpYplXovjHme7du3m5iYAAgODn706BEhRKVSjR8/fvPmzVr0RitYPXv2BHDp0iUt2saVlHinpoZlZqr0XhbTGIVCMX/+fG6giY6OVurj95nuwbupqammDUvq6nbcvQsg2tGRHV6pSaVSFRcX29vb8zU/0amqqgoPD09MTBQIBFu3bp00aZJeSnrhjrFW375do1IF2dgMaNOGQl2t0NmzZ7t37z5ixAg7O7tp06adOXNG/baFhYW+vr6JiYlt27Y9fPiwvlIFUDvGsrOzA1BSUqJRqyPl5d6pqX6XL5fV1VEqrJWpPzCysbGp/5l269YtJibmzp07TbdNSUlp3749ADc3t+zsbP0WRitYlpaWALhjQDVJJJJ/bNnie+nSgbIySlW1Js8eGGVkZMyfP5/LCgAjI6P+/ftv3bq1oqLi2eY//PADtz8JDAx8+PCh3sujFSxjY2MAdZoMPDNmzAAwfMIEdirYrIqK2pCQEAACgeDrr7/mPty/f/+uXbskEsmRI0ciIiLM/7xSY2pqGhYWlpCQwP046mcuAIiMjNToZ6S+JoOVlkYIIZWVJC+P1NaShARy8qQ6nSoUCgB8Pl/9Ov744w8+n29sbJzGbZR5vjt3yBtvEF/f3TY2NsePH6//3NPTs2GM7t+/v337dl9fX96fF5nt7e1nzpw5dOhQ7qezceNGekU2GawZMwghJCuLbNpEpk0j58+TH38ksbGktJQUF5PyciKTNdqusrISgIWFhZpFyOVy7vLEggULNCv/5XP2LLGzIwDx8FDl5d2q/1ypVH711Vf9+/evj1GHDh3mzZt35cqVO3fubNiwwcvLi/vc2trawsLi0KFDVOvkEfL82QMBARg0CPfvw9kZBQXYsAEApk/Hw4fYs+evr1la5vbpE3DjBp/Pt7a25vF45ubmycnJQqFw5MiRVlZWxsbGlpaWJiYmFhYWQqHQzMzM1NRUJBKJRCJTU1MzM7P9+/evX7/e2dk5MzPTnF1qf749e/D++5BKMXgw9u5Fo1fC8/Pz4+Pjv/vuu5w/50x5enpGRERERETcunVrypQpGRkZixYtWr58Od1am0pd/Yj1xRckMpL7vSCRkSQykrRvT8RiYmxMAAJkvvXWU91ypypqMjMzMzIy+uWXX6j+Dhm6FSsIj0cAEhVF5PLmv5+amhodHc2dngM4fPgwIWTTpk0Apk6dSrvaJi+QcoMHnw+RCH374t//RnU1Jk9G797YuvWvr1VUuCqVNx89UqlU3PlFenr65MmTHRwc1q5dW1lZKZfLq6qqZDJZTU1NbW2tVCqVSqW1tbU1NTUymayqqio7O7umpubu3bvqZ/HlMXw4vvsOGRkwM4NQiNhYREer1dDb29vb23vNmjVJSUkJCQlvv/02AA8PDwDp6elUawbQ5K5QW2lpaT179vTy8kpr+tmzP+3Zs2fs2LEdOnTIyckxMzPTez0GbexYdOmC/v2hUKBnTzg46NTbw4cPbWxszM3NKyoqjIwozh+m0rWml93HjBnj7e199+7dzZs306jHoDk5wcIC3BCjY6oAiMViR0fH6urqmzdv6l5bE16IYPF4vBUrVgBYtWrVw4cPaZRk0GbNwoEDeuvt79kbvhDBAvDOO+/4+/s/fPhw7dq1NEoyXMHBEAiwcCFefVU/HXKXu16WYAGIiYnh8XgbNmwoKSmhUZWB8vdHQACGDYO+/lderhELgI+Pz8iRI6urq6lfYjE03ITg9HQcOID+/R9fT9TaSxcsACtXrjQ2Nt62bVteXh6FugyVhwcApKejqgopKfj9d516c3d3NzExycnJ4X5MlFAJVm1tLbQKVpcuXSZOnCiXyxcvXkyhLkNVHyxPz8d/0IVQKHRzc1MqlVlZWXoo7jlerBELwLJly0Qi0ffff3/58mV912WouDxlZMDdHcbGuHEDMplOHf4Ne8MXLliOjo7Tp08nhHz66af6rstQicVwdAQhNcXFstDQn/r3n5ud3dzaCU16GYMFYMGCBVZWVklJSSdOnFDn+99/j+JiAEhMREICAJSU4MIF7Tb+gvL1nSqTWV29+iufv/vUqfVXrmh8nJWTk9OvX7/c3Fz8LVccqDxMoWOwbG1tP/7448WLF4eEhNjb23NTIczMzIRCYdeu/1dc7GVpCWNjWFmBz0fHjrh2DRcuYN06HD8OuRyhoSgrw+XL8PHR67+qRTk52SiVyvT0dA8Pj3379mmaid9++23s2LGPHj1aunTprl27Tpw4IRaLg4KCKFULqsHS4hGdenPmzHFxcZkwYUJ+fn7Dz2Uy09Onn/hm584YNgxeXvjf/wAgMxMrVqC0FN27a73xp+3bt6/hnB+RSCQSOYpEbYRCmJtDIHj8tZkzMXAgRo/GggVYtUpvW+fU77zCw8Oh4WCzbdu2qKgouVz+7rvvrl27dsSIEQkJCSYmJlyflFAJ1uzZs4OCgry9vbXuwcLCIjw83N/fXyqVcpMgqqur6+rqZDLxzJmoqIBSiUePoFJBKERhISZMwEcfQShEt25YtAhXr+p6Ts7Jycn5z3/+s3v37qc+9/O7dOpUzwbVomNHBAXh9GkMHgwaZ/Hczuvq1asxMTFdu3Z1c3NTp5VSqZwzZ84XX3zBre0xY8aM4ODgixcv2tjY7Nu3z9/fX/+F/olKsLp169atWzcdO+HxeA7q3XTduhU8HqKicPz449MlS0s4Oem4fRBCpk+ffuzYMVdX1+7du1dXV3NzfmpqasRik/btUVeHqirI5aiqerzduXOxZo2u220Ud/EpNzfXwcEhMzNTnSbcA/K//PKLUCjcvn17586de/XqVVJS8tprryUmJrq7u1MptB7tCV9/m/Pnyeuvk4gIvXUYFxcHoG3btmXNPTX06BF59IjMnUsIIevWkenT9VZDQ506dQIwderUrKysZr+cm5v7+uuvA7C1tU1OTt67dy93yBsQEFBeXk6lvie1nmAVFBChkBgZkcuX9dDbgwcPuLmXcXFxmZmZKlXzj/tzT+bV1ZFt28ivv+qhhoYSExONjIzq52137do1JibmeY9tXr16lXvM0MvLq6CggLsJC+CDDz6g9EzOs1pPsAghs2YRgAwbpoeuJk+eDMDPz6+goMDCwmLQoEE1NTXqNDx0iADExeV5D5po4+bNm23btgUQGRk5ZcqUNn8+I25iYhISErJnzx6pVNrw+zKZzM/Pb8iQIaWlpePHjwfA5/NjYmL0VpAaWlWw7t0jVlYEUPMptedKTk7m8XhCoTArKys0NBTAe++9p2ZbpZJ4eRGAfPGFTjXUk0qlb7zxBoDQ0FBu4KytrU1ISAgLC6t/sKBNmzYRERFHjhypH1klEklhYWGvXr0AWFpaJiYm6qcatbWqYBFCliwhABkwQPseZDJZ165dASxdunT//v0ArKysCgsL1Wl79Sr55hvy008EIO3akcaeQNYYt56Cm5ubRCJ56q/Ky8u3bt3a8JEvJyen6OjotLS0K1eudOzYEYCLi0tGRoYe6tBQawtWRQXx9Lw5YMA/Dh3S8pmfZcuWAejcuXNZWZmTkxOALVu2qNPw9m1ibExMTcnt26RfPwKQzz7TroS/fPml0s/vR3Nz8/T09Ca+lpWVtWjRImdn5/pzMu4i4ltvvXXv3j1di9BKawsWIWT9+vUAPDw8tFjnKScnx9TUlMfjHTt2bObMmQB69eqlfj/h4QQgU6aQkycJQFxdi+/d0/4U7Nw5IhAQgBw4UKpmE+6RLzMzMycnp8GDB8v0eKCnoVYYLJlM5uLiAiA+Pl7TtgEBAQDef//9CxcucI/8X9bkJDM/nwgEhM8nmZlk+vR4c3PzefPmaVoDp7SUODkRgMyerXHb9957D8C3336r3ab1ohUGixDyzTffAOjUqVNtba36rXbt2sVduCouLuaOl//1r39puuno6Bo/vzUREVOvXLliZGRkamp669at5ps9SaEggYEEIH37anN2OWrUKAAHDhzQuKX+tM5g5efnczc9li5dWlZWVl5e3uzurP7C1c6dO7kHOjp27FhZWanppktLS7klnFJSUsaNGwdg8uTJmnaydi0BiL09KSrStCkhhAwZMgRAUlKSNo31pHUGa8iQIUKhkM/nP7V0orW1tVgsdnFxcXV19fb27tWrV0BAQFBQUFhYGBfEQYMGKRSKHj16AND6kf+FCxcC8PX1zc/PFwgEfD4/MzNTnYa3bxPuglR2Npk0Sd2l+p81cOBAACdOnNCyvT60whdh7tmz59dffxWLxYcOHQoKCuLz+TwejztXl0gkAJ736KKFhcWHH37I5/NTUlIOHjwYHBysXQH//Oc/v/rqq+Tk5Hv37k2dOnXLli2jRo0aMWKEubm5QCCwsLAwMTGxs/OTy7u0aQMjI4jFMDKCtTU2boStLRYtwpYt+OYb7f8H9LIWuo5aW7AqKirmzZsHIDY29tKlS5WVlc7Ozjk5Ody1RG5pCYlEolQqKyoqFApF/dISu3fv/umnnzZv3jxmzBiRSMTNTtGOtbX15s2b7ezsevXqJZFI4uLi8vPzY2NjG35n4MDkkye7NPzE0hKRkRAIoN4t5qawYOnfJ598UlRUNGDAgKFDh3IzLD7//PP6K9RisRhPLtdZLygo6LXXXktOTv7tt990nwE3duxYAEqlcuHChdXV1f7+/oGBgVVVVXK5vKKiQqlUWliYt2sHiQQqFSQSKJUwNgaA6GjMmgWhUKet6z4fTg9acDesd+XnzztaWQkEgoyMjNGjRwMYOXKk+s3XrFkDwNPTUy8LnRNC1q1bB01OArhLE4cPk7Fjddoud1339u3bOvWim1YUrLo64umpsLf/dfXqpKQkAJaWls2uHNyQVCrlboN8//33updz+/Zt7vQwISFBzSb1t7mPHycDBhCt1/jl7li31DV3TisKVkwMAUinTqS0tDA4uE+HDhs2bNC0jx07dgB49dVXdb9mPXz4cABhYWFatPX3JwAZN07LTXNLQVWp84ZdalpLsG7dIubmBCC//EI+/pgAigEDFJq/6FChUHB3oNW8P/g8Bw8ehCZ3r59y8yaxtCQA2btXm61zC19p8c/Xo9YSrGHDCEDCw8nVq8TEhPD5JDVVu564GQ0ODg5a/8ZXVVVxsz03bdqkXQ+EkC+/JACxtSXNvoPh3r17e/fujYiIGDVqFCGEewxdIBBovWm9aBXBunyZ8PlELCZ375K+fbW8wdZA3759AaxcuVK75rNnzwbg4+Ojy5ihUpGAAAKQd99t5ExCoVCkpKR8+umnb775Zv3CfCYmJhUVFdxVujZt2mi9ab1oFcEihFy4QH78kWzaRADi4ECembqkkVOnTgGwtrZ+8OAB98mNGzeOHj2ampp66dKlvLy8goKC8vLyRt/4kJaWZmxsbGxsrN2bzxoqLCTdu+f36DFw9+7d3Cf379/ftWvXuHHjuMNzjpmZWXBw8KZNm3Jzc+/cucOd29rb2+u4dR0ZfrAqK8mGDWTNGlJWRr76ilhYkIMHde81MDAQDW5Cc4NQowQCgZOTE/c1pVLZu3dvAB9//LHuNRBC/vvf/wKwsbG5e/cuIWTv3r3123VxcYmMjNy7d69EIklNTV2yZIm3tzc348/S0vKkjpNodWb4wZo5kxQVkYcPyZQphBDtz9GflJaWxs1N4K4Gbdiwwd/f39vbu0ePHi4uLh07dhSLxfWPNrRr145rxU0F0+7u9fNwd5ZCQkIIIRKJJDg4+PPPP8/JySkqKtqxY8fo0aPbNHhNmoWFxYgRI7Zu3frULPi/n+EHa9q0x3/48EP9djxmzBgAQUFB+/btO3LkyPHjx1NTU9PS0vLy8u7cuVNeXl5dXU0Iqa2t5W5EFhUVcT/jn3/+WY9lFBUVcbcKdu7cqVAonhqcGo5eCQkJGk0Tosrwg/XBB0QuJyoV0Xx2StPOnj1rZmbW7PLgIpGIW4qYe2Xy6NGj9VsGISQ+Ph6Aqalpw8HJ3Nw8NDT0yy+/LCgo0PsWdUdlnfe/1fXriIsDn49hw9C7tx47njBhwnfffffKK6/4+PjU37Guq6urrq7mXobAvQahYZPVq1eHh4c7OjrqsQzO5MmTy8vLf/75ZxcXl4CAgJCQkMDAQKGO9xRpMvxg0XHy5El/f39TU9OMjAxuovPz1L9fQy6Xd+rUid6q/EVFRXV1da/qa/FkyliwGiGTyby8vLKzs2NiYupfNslohOJLLwzXZ599lp2d3b1797lz57Z0LYaKBetp167h3LkwKyvHbdu2afQOM6Yhtit8AiHw88Pp05g9W7Z+/Yt7aPziY8F6wo4d+OAD2Nvj2jWIxS1djSFjwfrL/ft4/XXcv48ffsB777V0NQaOHWP9Zc4c3L+Pd95hqdIDFqzHVCpYWsLcHFu2tHQprUJre0pHTadOQSyGpyc+/xw2NmjTBqGh8PBAXh7at2/p4lqFlzRYZWXg7uHm5KBdO9y5g4EDceMGS5XevLy7wvh4rFiBixcBYPZsPPk8KaOrl3TEAhARAV/fx+9KeeUV2NrqZ2l4hvOSBqtbN3Cz9IKDIRRCKERUFEQipKbizTdburhWgV3HeiwrC/37w9IS2dlo2WfTW4eX9xjrKe7u6NQJt2+zyw36wUasvyQlYehQ2NoiLw9WVi1djYFjI9ZfgoMxaBDu38fatS1diuFjI9YTzp1Dv36wsEBurqx9eza7QXtsxHpC376IjLz66qsDVqz4Z0vXYtjYiPW069eve3h48Hi8rKwsV1fXli7HULER62nu7u7jx4+Xy+VLly5t6VoMGBuxGnHr1q0uXbrI5fKLFy9yKygzmmIjViOcnZ2nT5+uUqkWLFjQ0rUYKjZiNe7evXvdunXj8/lubm7bt2/v0qVL822YBtiI1bh27dqJRKKSkpLTp0+/8cYbsbGxcrm8pYsyJCxYz6VQKACMHz9eKpV+8skn3t7eKSkpLV2UwWDBei5utfSNGzeeOHHC3d09PT19wIABEydOfPDgQUuXZghaZi0SQ8AtwM+9CloqlS5ZsoRbhKN9+/ZxcXEtXd2LjgWrcSqVisfj8Xi8hu+vv3Hjxttvv839Qg4aNOj69estWOELjgWrcTU1NQBMTU2f+lylUsXFxdna2gIQiURLlixpwbeYvshYsBrHHUiJxeJG/7a0tHTChAnc0OXu7s6Grmexg/fGNf0CLTs7u/j4+E2bNolEotzc3Ebf+vSSY8FqXNPBSk1NDQwMjIqKkkql3Krdf291BoAFq3HcGpDPBqugoGDatGm9e/c+cuSIpaXl/Pnz8/Pz3d3dW6LGF9pL+pROs54dsYqKipYtW/b1118rFAqBQDBp0qTly5e3a9eu5Wp8obFgNa5hsMrLy1evXr1x40apVGpsbBwZGbl48WIaK9i2JixYjeOCJRAIYmNjY2JiJBIJj8cLCwtbvnx5586dW7o6A8CC1TguWGfOnDl69CiAwMDAlStXent7t3RdBoMdvDfOycnJx8entrbWx8fn6NGjhw8fZqnSCJuP9Vx1dXWHDx8OCQlp+HIRRk0sWAwVbFfIUMGCxVDBgsVQwYLFUMGCxVDBgsVQwYLFUMGCxVDBgsVQwYLFUMGCxVDBgsVQwYLFUMGCxVDBgsVQwYLFUMGCxVDBgsVQwYLFUMGCxVDBgsVQwYLFUMGCxVDBgsVQwYLFUMGCxVDBgsVQwYLFUMGCxVDBgsVQwYLFUMGCxVDBgsVQwYLFUMGCxVDBgsVQwYLFUMGCxVDBgsVQwYLFUMGCxVDBgsVQwYLFUMGCxVDBgsVQ8f/ZqtRSzeDl8wAAAkB6VFh0cmRraXRQS0wgcmRraXQgMjAyMi4wMy41AAB4nHu/b+09BiDgZYAARiCWB2IlIG5gZGNIAIkxszEoAGkWGJcDQkOlmRk5wdJQLhMTO0MGSJgJKKABYrBwQGgmNgcIn80BrICZkR0iwAyTQPChCpAYaFrhAmCzmVjYITQzTrMxdCI5E+INmPthNDcwNBiZgP5lYGRhYGEF+Z+NnYGdQ4GDU4OJg0uBizuDiZsngYc3g4mXT4GPP4FfIINJQDBBUCiDSUg4QVhEQURUg1lYLINJTDxBXAKoSjJBUiqDSUpaQVqGQUaWQVaOQYorQU6GQYIvQUIwQYSFjUtKkpeHm5WfT0JQgE1IWExcQpBZVkZOvI4REjVgIO8o/+ZAUq6iPYjzteTVgV4fDgcQe9WpFwcO2WaA2SfMeA+qLOQGs6Nrdh34/p0FzL7Pt/CAT0oYmG3zcfEBzTsOYHOcP6YfONdpDGaz3bY68LhSfj+I/Xdr7oG5Uz+B2Ysub91vd0YHzE6zVtgv8VQCrD63M95+3yRuMNvw40n7LwXuYDXnXro4+B8OAbMPzalySDvCcgDEXlm42uHOpCtg8S/Sax0mNKvuA7Er7l90iGj2BZuj1X7SYeorQbA713m9c1iy2B/MlmzndIxa1wZmR2bPcXDbbQRmr/HPd8hneQXWq8zQ4LDv8GY7ELu1zMN+sgcz2F5/P/P9P57/B9srFntwf2BCIFjcPNFv/3yByWC23YJ3dtJ1a8DsSZuj91tyHgazxQAXb5lKGLyPMwAAAt96VFh0TU9MIHJka2l0IDIwMjIuMDMuNQAAeJx9VVtuGzEM/PcpdAEL4kukPpM4LYoiNtCmvUP+e390uE60G1ToOkus5PFolhwyp5LXj8v3tz9lXnw5nUpp//kbY5Tf0lo7vZR8KI/PX79dy9Prw+PHztPt1/X1ZxEqovgNPp+xD6+3l48dKk/l7FU8gqy02qWZ50Pbrv2n/A7k7u6FK/Hozgug3IHs6jKK1M7hfSyAWm7lHDXYwjUZg5zaAmjJaAB6Dwipzb3nm/0D7OVLAptI64ajRUcsNfqdkVhoBL53E7GVxijXcs53UGqUwEbCtACOZOQ6aHSKckYimYetROIVb8nppCxSzlRjGI0VKW3VoarcDKcmq+tYQ7f65LE2WgfAhrP2FVLwTq2Gy/1QU+MWK6CCkqoh2y7J7Q5qXyENlIK6wBstkSFEbeUi6uAUpMki05S1VI0lZ9bIqpgj+ZmE3pvLqpggSqS20Tvn6dSpy/L0rFKvZmGc1Y7GHkuztw3Iw93ScexjqKyAWSGvqh1n4sVYVfoSyEhRoCqmwUUrUu6xBGb/aA30Y8uu8MHp+gVQt6SjyVgCdQoO7kugbYy5SZlpMRRneXQWB2UOzIB7cYykrTzMfnebU29oclQHY4mX3uCthWAjQk9KGp+dbM067qzROiZBOWumC6ZbDZm2SUXaW+/ZyjIgZEUq9E5qwQ1Se20Djlt1xvP18mk23qfl4+162adlfnifiVgU2SdfLnWfb7m0fYoR7r7Pqlz6PpEId+xzh3CPfbowbjrOEMoNOkwKzUBTGwaCZqApD42vGWgqpJSYYYpEJ+cSfXroWM1AUypMpBloqkUHagaagtFpmoGPLUUZeGpG70gG3vOZmhMzNXNqRuCpGbbXDDw186YZO1Mzp2YEnpo584vAUzNnihF4aob9KIMcXUZl89DBTbqR7TtpAqEDj2ya7ZBV0fedeXpa7WisXH/8C8fz6S+B44Aq7A4G0wAAAXt6VFh0U01JTEVTIHJka2l0IDIwMjIuMDMuNQAAeJwlkTuOHDEMRK9iwEk3oCH4/2DgSIDD2UN0vifYw5uUFRZYxcfS3te+r697X3/v/dnXn6/7oef7uV7f/DyPPM+1f3/uVoTv56HPpr3p18/1CpDIpIXggha23iOxRy4G4vI4CoeGLgHnjFESki1jZpKCWrFWwseFES5HQRGMdolWxlGIhXtXmIhVK5Oosz2QhCeHoaic16uJmMv0TAUpy3oRZBmNkUAZ7f9YaNVYx2GF3nFWwerrjZAhVLPB1BhzvQmsAWOcET3dYNLMHkdKIUIbqciy8+ce1V5pIBYDRuCOIaMolvvYyMmlbQ5madLrEjnyKFzRvXJ3WNXXBKh65wiwqjRjNq1pLoXm697fCjlfwhDF3WizhBTr6us52WcA+02RYo0rc2dk/18eXiM5bQQ5Sg1wVXGc1ozQbXWjHGRnKtHnB186GLMeoflw7uqTaxLOWLeBHeaApZnr/vkHZseAvA1x5W8AAAAASUVORK5CYII=\" alt=\"Mol\"/></td>\n",
       "    </tr>\n",
       "  </tbody>\n",
       "</table>\n",
       "</div>"
      ],
      "text/plain": [
       "                                              SMILES  \\\n",
       "0  CC(C)(O)C(F)CNC(=O)c1cnc(-n2ccc3cc(C#N)cnc32)c...   \n",
       "\n",
       "                                               RDMol  \n",
       "0  <img data-content=\"rdkit/molecule\" src=\"data:i...  "
      ]
     },
     "execution_count": 4,
     "metadata": {},
     "output_type": "execute_result"
    }
   ],
   "source": [
    "from scaffviz.data.dataset import DataSetSMILES\n",
    "\n",
    "dataset = DataSetSMILES(\"data/pretrained_sampled.tsv\", smiles=smiles_pretrained, use_existing=False)\n",
    "dataset.asDataFrame().head(1)"
   ]
  },
  {
   "cell_type": "code",
   "execution_count": 5,
   "id": "50960900-3142-4ba7-9389-b37d293df6ef",
   "metadata": {},
   "outputs": [
    {
     "name": "stderr",
     "output_type": "stream",
     "text": [
      "/home/sichom/software/miniconda/envs/drugex-demo/lib/python3.9/site-packages/sklearn/manifold/_t_sne.py:800: FutureWarning: The default initialization in TSNE will change from 'random' to 'pca' in 1.2.\n",
      "  warnings.warn(\n",
      "/home/sichom/software/miniconda/envs/drugex-demo/lib/python3.9/site-packages/sklearn/manifold/_t_sne.py:810: FutureWarning: The default learning rate in TSNE will change from 200.0 to 'auto' in 1.2.\n",
      "  warnings.warn(\n"
     ]
    },
    {
     "data": {
      "text/html": [
       "\n",
       "        <iframe\n",
       "            width=\"100%\"\n",
       "            height=\"800\"\n",
       "            src=\"http://127.0.0.1:9292/\"\n",
       "            frameborder=\"0\"\n",
       "            allowfullscreen\n",
       "            \n",
       "        ></iframe>\n",
       "        "
      ],
      "text/plain": [
       "<IPython.lib.display.IFrame at 0x7ffa124bbc40>"
      ]
     },
     "metadata": {},
     "output_type": "display_data"
    }
   ],
   "source": [
    "from scaffviz.depiction.plot import Plot\n",
    "from scaffviz.clustering.manifold import TSNE\n",
    "from scaffviz.clustering.descriptors import MorganFP\n",
    "\n",
    "dataset.addDescriptors([MorganFP(radius=2, nBits=1024)], recalculate=False) \n",
    "\n",
    "# make an interactive plot that will use t-SNE to embed the data set in 2D (all current descriptors in the data set will be used)\n",
    "plt = Plot(dataset, TSNE())\n",
    "\n",
    "# start the server, you can open the plot in the browser\n",
    "plt.plot(\n",
    "    recalculate=False,\n",
    "    viewport_height=800,\n",
    "    port=9292\n",
    ")"
   ]
  },
  {
   "cell_type": "code",
   "execution_count": 6,
   "id": "b42b4b0c-996c-46c2-8917-006c47e73419",
   "metadata": {},
   "outputs": [
    {
     "data": {
      "text/html": [
       "<div>\n",
       "<style scoped>\n",
       "    .dataframe tbody tr th:only-of-type {\n",
       "        vertical-align: middle;\n",
       "    }\n",
       "\n",
       "    .dataframe tbody tr th {\n",
       "        vertical-align: top;\n",
       "    }\n",
       "\n",
       "    .dataframe thead th {\n",
       "        text-align: right;\n",
       "    }\n",
       "</style>\n",
       "<table border=\"1\" class=\"dataframe\">\n",
       "  <thead>\n",
       "    <tr style=\"text-align: right;\">\n",
       "      <th></th>\n",
       "      <th>Activity_ID</th>\n",
       "      <th>Quality</th>\n",
       "      <th>source</th>\n",
       "      <th>CID</th>\n",
       "      <th>SMILES</th>\n",
       "      <th>connectivity</th>\n",
       "      <th>InChIKey</th>\n",
       "      <th>InChI</th>\n",
       "      <th>InChI_AuxInfo</th>\n",
       "      <th>target_id</th>\n",
       "      <th>...</th>\n",
       "      <th>Descriptor_MorganFP_1016</th>\n",
       "      <th>Descriptor_MorganFP_1017</th>\n",
       "      <th>Descriptor_MorganFP_1018</th>\n",
       "      <th>Descriptor_MorganFP_1019</th>\n",
       "      <th>Descriptor_MorganFP_1020</th>\n",
       "      <th>Descriptor_MorganFP_1021</th>\n",
       "      <th>Descriptor_MorganFP_1022</th>\n",
       "      <th>Descriptor_MorganFP_1023</th>\n",
       "      <th>TSNE_1</th>\n",
       "      <th>TSNE_2</th>\n",
       "    </tr>\n",
       "  </thead>\n",
       "  <tbody>\n",
       "    <tr>\n",
       "      <th>0</th>\n",
       "      <td>AACWUFIIMOHGSO_on_P29274_WT</td>\n",
       "      <td>High</td>\n",
       "      <td>ChEMBL30</td>\n",
       "      <td>CHEMBL410234</td>\n",
       "      <td>Cc1nn(-c2cc(NC(=O)CCN(C)C)nc(-c3ccc(C)o3)n2)c(...</td>\n",
       "      <td>AACWUFIIMOHGSO</td>\n",
       "      <td>AACWUFIIMOHGSO-UHFFFAOYSA-N</td>\n",
       "      <td>InChI=1S/C19H24N6O2/c1-12-10-13(2)25(23-12)17-...</td>\n",
       "      <td>\"AuxInfo=1/1/N:1,26,22,14,15,20,19,11,12,27,6,...</td>\n",
       "      <td>P29274_WT</td>\n",
       "      <td>...</td>\n",
       "      <td>0.0</td>\n",
       "      <td>1.0</td>\n",
       "      <td>0.0</td>\n",
       "      <td>0.0</td>\n",
       "      <td>0.0</td>\n",
       "      <td>0.0</td>\n",
       "      <td>0.0</td>\n",
       "      <td>0.0</td>\n",
       "      <td>-49.262220</td>\n",
       "      <td>-18.827414</td>\n",
       "    </tr>\n",
       "    <tr>\n",
       "      <th>1</th>\n",
       "      <td>AAEYTMMNWWKSKZ_on_P29274_WT</td>\n",
       "      <td>High</td>\n",
       "      <td>ChEMBL30</td>\n",
       "      <td>CHEMBL601208</td>\n",
       "      <td>Nc1c(C(=O)Nc2ccc([N+](=O)[O-])cc2)sc2c1cc1CCCC...</td>\n",
       "      <td>AAEYTMMNWWKSKZ</td>\n",
       "      <td>AAEYTMMNWWKSKZ-UHFFFAOYSA-N</td>\n",
       "      <td>InChI=1S/C18H16N4O3S/c19-15-13-9-10-3-1-2-4-14...</td>\n",
       "      <td>\"AuxInfo=1/1/N:22,23,21,24,8,15,9,14,19,20,7,1...</td>\n",
       "      <td>P29274_WT</td>\n",
       "      <td>...</td>\n",
       "      <td>0.0</td>\n",
       "      <td>0.0</td>\n",
       "      <td>0.0</td>\n",
       "      <td>0.0</td>\n",
       "      <td>0.0</td>\n",
       "      <td>0.0</td>\n",
       "      <td>0.0</td>\n",
       "      <td>0.0</td>\n",
       "      <td>-30.326859</td>\n",
       "      <td>6.892628</td>\n",
       "    </tr>\n",
       "    <tr>\n",
       "      <th>2</th>\n",
       "      <td>AAGFKZWKWAMJNP_on_P29274_WT</td>\n",
       "      <td>High</td>\n",
       "      <td>ChEMBL30</td>\n",
       "      <td>CHEMBL473650</td>\n",
       "      <td>O=C(Nc1nc2ncccc2n2c(=O)n(-c3ccccc3)nc12)c1ccccc1</td>\n",
       "      <td>AAGFKZWKWAMJNP</td>\n",
       "      <td>AAGFKZWKWAMJNP-UHFFFAOYSA-N</td>\n",
       "      <td>InChI=1S/C21H14N6O2/c28-20(14-8-3-1-4-9-14)24-...</td>\n",
       "      <td>\"AuxInfo=1/1/N:27,19,26,28,18,20,9,25,29,17,21...</td>\n",
       "      <td>P29274_WT</td>\n",
       "      <td>...</td>\n",
       "      <td>0.0</td>\n",
       "      <td>0.0</td>\n",
       "      <td>0.0</td>\n",
       "      <td>0.0</td>\n",
       "      <td>0.0</td>\n",
       "      <td>0.0</td>\n",
       "      <td>0.0</td>\n",
       "      <td>0.0</td>\n",
       "      <td>25.112610</td>\n",
       "      <td>-4.832593</td>\n",
       "    </tr>\n",
       "    <tr>\n",
       "      <th>3</th>\n",
       "      <td>AAJLGNFYNMJGSY_on_P29274_WT</td>\n",
       "      <td>High</td>\n",
       "      <td>ExCAPE-DB</td>\n",
       "      <td>9586623</td>\n",
       "      <td>NC(=NC(=O)Cn1c(O)c2CCCCc2c1O)Nc1nc2c(cccc2)s1</td>\n",
       "      <td>AAJLGNFYNMJGSY</td>\n",
       "      <td>AAJLGNFYNMJGSY-UHFFFAOYSA-N</td>\n",
       "      <td>InChI=1S/C18H19N5O3S/c19-17(22-18-20-12-7-3-4-...</td>\n",
       "      <td>\"AuxInfo=1/1/N:12,13,25,24,11,14,26,23,6,10,15...</td>\n",
       "      <td>P29274_WT</td>\n",
       "      <td>...</td>\n",
       "      <td>0.0</td>\n",
       "      <td>0.0</td>\n",
       "      <td>0.0</td>\n",
       "      <td>0.0</td>\n",
       "      <td>0.0</td>\n",
       "      <td>0.0</td>\n",
       "      <td>0.0</td>\n",
       "      <td>0.0</td>\n",
       "      <td>-21.665638</td>\n",
       "      <td>-12.843870</td>\n",
       "    </tr>\n",
       "    <tr>\n",
       "      <th>4</th>\n",
       "      <td>AANUKDYJZPKTKN_on_P29274_WT</td>\n",
       "      <td>High</td>\n",
       "      <td>ChEMBL30</td>\n",
       "      <td>CHEMBL573125;45483959;CHEMBL573125;45483959;CH...</td>\n",
       "      <td>CNC(=O)C12CC1C(n1cnc3c1nc(C#CCCCCC(=O)OC)nc3NC...</td>\n",
       "      <td>AANUKDYJZPKTKN</td>\n",
       "      <td>AANUKDYJZPKTKN-UHFFFAOYSA-N</td>\n",
       "      <td>InChI=1S/C28H31ClN6O5/c1-30-27(39)28-13-18(28)...</td>\n",
       "      <td>\"AuxInfo=1/1/N:1,25,18,19,17,20,35,36,34,16,21...</td>\n",
       "      <td>P29274_WT</td>\n",
       "      <td>...</td>\n",
       "      <td>0.0</td>\n",
       "      <td>0.0</td>\n",
       "      <td>0.0</td>\n",
       "      <td>1.0</td>\n",
       "      <td>0.0</td>\n",
       "      <td>0.0</td>\n",
       "      <td>0.0</td>\n",
       "      <td>0.0</td>\n",
       "      <td>6.994354</td>\n",
       "      <td>38.663483</td>\n",
       "    </tr>\n",
       "    <tr>\n",
       "      <th>...</th>\n",
       "      <td>...</td>\n",
       "      <td>...</td>\n",
       "      <td>...</td>\n",
       "      <td>...</td>\n",
       "      <td>...</td>\n",
       "      <td>...</td>\n",
       "      <td>...</td>\n",
       "      <td>...</td>\n",
       "      <td>...</td>\n",
       "      <td>...</td>\n",
       "      <td>...</td>\n",
       "      <td>...</td>\n",
       "      <td>...</td>\n",
       "      <td>...</td>\n",
       "      <td>...</td>\n",
       "      <td>...</td>\n",
       "      <td>...</td>\n",
       "      <td>...</td>\n",
       "      <td>...</td>\n",
       "      <td>...</td>\n",
       "      <td>...</td>\n",
       "    </tr>\n",
       "    <tr>\n",
       "      <th>3986</th>\n",
       "      <td>ZYXGKENMDDPQIE_on_P29274_WT</td>\n",
       "      <td>High</td>\n",
       "      <td>ChEMBL30</td>\n",
       "      <td>CHEMBL4283826</td>\n",
       "      <td>CNc1ncc(C(=O)NCc2ccc(OC)cc2)c2nc(-c3ccco3)nn12</td>\n",
       "      <td>ZYXGKENMDDPQIE</td>\n",
       "      <td>ZYXGKENMDDPQIE-UHFFFAOYSA-N</td>\n",
       "      <td>InChI=1S/C19H18N6O3/c1-20-19-22-11-14(17-23-16...</td>\n",
       "      <td>\"AuxInfo=1/1/N:1,16,24,23,12,18,13,17,25,10,5,...</td>\n",
       "      <td>P29274_WT</td>\n",
       "      <td>...</td>\n",
       "      <td>0.0</td>\n",
       "      <td>0.0</td>\n",
       "      <td>0.0</td>\n",
       "      <td>0.0</td>\n",
       "      <td>0.0</td>\n",
       "      <td>0.0</td>\n",
       "      <td>0.0</td>\n",
       "      <td>0.0</td>\n",
       "      <td>29.856173</td>\n",
       "      <td>-70.698350</td>\n",
       "    </tr>\n",
       "    <tr>\n",
       "      <th>3987</th>\n",
       "      <td>ZYZWFDVXMLCIOU_on_P29274_WT</td>\n",
       "      <td>High</td>\n",
       "      <td>ChEMBL30</td>\n",
       "      <td>CHEMBL260989;10132473;CHEMBL260989;10132473;CH...</td>\n",
       "      <td>Nc1nc(-c2ccco2)c2ncn(C(=O)NCCc3ccccc3)c2n1</td>\n",
       "      <td>ZYZWFDVXMLCIOU</td>\n",
       "      <td>ZYZWFDVXMLCIOU-UHFFFAOYSA-N</td>\n",
       "      <td>InChI=1S/C18H16N6O2/c19-17-22-14(13-7-4-10-26-...</td>\n",
       "      <td>\"AuxInfo=1/1/N:22,21,23,7,20,24,6,18,17,8,12,1...</td>\n",
       "      <td>P29274_WT</td>\n",
       "      <td>...</td>\n",
       "      <td>0.0</td>\n",
       "      <td>0.0</td>\n",
       "      <td>0.0</td>\n",
       "      <td>0.0</td>\n",
       "      <td>0.0</td>\n",
       "      <td>0.0</td>\n",
       "      <td>0.0</td>\n",
       "      <td>0.0</td>\n",
       "      <td>-11.900303</td>\n",
       "      <td>-42.615310</td>\n",
       "    </tr>\n",
       "    <tr>\n",
       "      <th>3988</th>\n",
       "      <td>ZZBZWSYDXUPJCT_on_P29274_WT</td>\n",
       "      <td>High</td>\n",
       "      <td>ChEMBL30</td>\n",
       "      <td>CHEMBL600404</td>\n",
       "      <td>Nc1nc(Nc2ccc(F)cc2)nc(CSc2nnc(N)s2)n1</td>\n",
       "      <td>ZZBZWSYDXUPJCT</td>\n",
       "      <td>ZZBZWSYDXUPJCT-UHFFFAOYSA-N</td>\n",
       "      <td>InChI=1S/C12H11FN8S2/c13-6-1-3-7(4-2-6)16-11-1...</td>\n",
       "      <td>\"AuxInfo=1/1/N:8,11,7,12,15,9,6,14,2,20,4,17,1...</td>\n",
       "      <td>P29274_WT</td>\n",
       "      <td>...</td>\n",
       "      <td>0.0</td>\n",
       "      <td>0.0</td>\n",
       "      <td>0.0</td>\n",
       "      <td>0.0</td>\n",
       "      <td>0.0</td>\n",
       "      <td>0.0</td>\n",
       "      <td>0.0</td>\n",
       "      <td>0.0</td>\n",
       "      <td>-1.871733</td>\n",
       "      <td>13.171981</td>\n",
       "    </tr>\n",
       "    <tr>\n",
       "      <th>3989</th>\n",
       "      <td>ZZMIPZLRKFEGIA_on_P29274_WT</td>\n",
       "      <td>High</td>\n",
       "      <td>ChEMBL30</td>\n",
       "      <td>CHEMBL2312988;71563052;CHEMBL2312988;71563052;...</td>\n",
       "      <td>CCCOc1ccc(C=Cc2cc3c(c(=O)n(C)c(=O)n3C)n2C)cc1</td>\n",
       "      <td>ZZMIPZLRKFEGIA</td>\n",
       "      <td>ZZMIPZLRKFEGIA-UHFFFAOYSA-N</td>\n",
       "      <td>InChI=1S/C20H23N3O3/c1-5-12-26-16-10-7-14(8-11...</td>\n",
       "      <td>\"AuxInfo=1/0/N:1,24,22,18,2,9,7,25,10,6,26,3,1...</td>\n",
       "      <td>P29274_WT</td>\n",
       "      <td>...</td>\n",
       "      <td>0.0</td>\n",
       "      <td>0.0</td>\n",
       "      <td>0.0</td>\n",
       "      <td>0.0</td>\n",
       "      <td>0.0</td>\n",
       "      <td>0.0</td>\n",
       "      <td>0.0</td>\n",
       "      <td>0.0</td>\n",
       "      <td>46.046997</td>\n",
       "      <td>12.641930</td>\n",
       "    </tr>\n",
       "    <tr>\n",
       "      <th>3990</th>\n",
       "      <td>ZZXIVHBZTITUIW_on_P29274_WT</td>\n",
       "      <td>High</td>\n",
       "      <td>ChEMBL30</td>\n",
       "      <td>CHEMBL3314913</td>\n",
       "      <td>CCOC(=O)c1cnc(NCC(C)C)n2nc(-c3ccco3)nc12</td>\n",
       "      <td>ZZXIVHBZTITUIW</td>\n",
       "      <td>ZZXIVHBZTITUIW-UHFFFAOYSA-N</td>\n",
       "      <td>InChI=1S/C16H19N5O3/c1-4-23-15(22)11-9-18-16(1...</td>\n",
       "      <td>\"AuxInfo=1/1/N:1,13,14,2,20,19,21,11,7,12,6,18...</td>\n",
       "      <td>P29274_WT</td>\n",
       "      <td>...</td>\n",
       "      <td>0.0</td>\n",
       "      <td>0.0</td>\n",
       "      <td>0.0</td>\n",
       "      <td>0.0</td>\n",
       "      <td>0.0</td>\n",
       "      <td>0.0</td>\n",
       "      <td>0.0</td>\n",
       "      <td>0.0</td>\n",
       "      <td>36.403248</td>\n",
       "      <td>-70.872660</td>\n",
       "    </tr>\n",
       "  </tbody>\n",
       "</table>\n",
       "<p>3991 rows × 1056 columns</p>\n",
       "</div>"
      ],
      "text/plain": [
       "                      Activity_ID Quality     source  \\\n",
       "0     AACWUFIIMOHGSO_on_P29274_WT    High   ChEMBL30   \n",
       "1     AAEYTMMNWWKSKZ_on_P29274_WT    High   ChEMBL30   \n",
       "2     AAGFKZWKWAMJNP_on_P29274_WT    High   ChEMBL30   \n",
       "3     AAJLGNFYNMJGSY_on_P29274_WT    High  ExCAPE-DB   \n",
       "4     AANUKDYJZPKTKN_on_P29274_WT    High   ChEMBL30   \n",
       "...                           ...     ...        ...   \n",
       "3986  ZYXGKENMDDPQIE_on_P29274_WT    High   ChEMBL30   \n",
       "3987  ZYZWFDVXMLCIOU_on_P29274_WT    High   ChEMBL30   \n",
       "3988  ZZBZWSYDXUPJCT_on_P29274_WT    High   ChEMBL30   \n",
       "3989  ZZMIPZLRKFEGIA_on_P29274_WT    High   ChEMBL30   \n",
       "3990  ZZXIVHBZTITUIW_on_P29274_WT    High   ChEMBL30   \n",
       "\n",
       "                                                    CID  \\\n",
       "0                                          CHEMBL410234   \n",
       "1                                          CHEMBL601208   \n",
       "2                                          CHEMBL473650   \n",
       "3                                               9586623   \n",
       "4     CHEMBL573125;45483959;CHEMBL573125;45483959;CH...   \n",
       "...                                                 ...   \n",
       "3986                                      CHEMBL4283826   \n",
       "3987  CHEMBL260989;10132473;CHEMBL260989;10132473;CH...   \n",
       "3988                                       CHEMBL600404   \n",
       "3989  CHEMBL2312988;71563052;CHEMBL2312988;71563052;...   \n",
       "3990                                      CHEMBL3314913   \n",
       "\n",
       "                                                 SMILES    connectivity  \\\n",
       "0     Cc1nn(-c2cc(NC(=O)CCN(C)C)nc(-c3ccc(C)o3)n2)c(...  AACWUFIIMOHGSO   \n",
       "1     Nc1c(C(=O)Nc2ccc([N+](=O)[O-])cc2)sc2c1cc1CCCC...  AAEYTMMNWWKSKZ   \n",
       "2      O=C(Nc1nc2ncccc2n2c(=O)n(-c3ccccc3)nc12)c1ccccc1  AAGFKZWKWAMJNP   \n",
       "3         NC(=NC(=O)Cn1c(O)c2CCCCc2c1O)Nc1nc2c(cccc2)s1  AAJLGNFYNMJGSY   \n",
       "4     CNC(=O)C12CC1C(n1cnc3c1nc(C#CCCCCC(=O)OC)nc3NC...  AANUKDYJZPKTKN   \n",
       "...                                                 ...             ...   \n",
       "3986     CNc1ncc(C(=O)NCc2ccc(OC)cc2)c2nc(-c3ccco3)nn12  ZYXGKENMDDPQIE   \n",
       "3987         Nc1nc(-c2ccco2)c2ncn(C(=O)NCCc3ccccc3)c2n1  ZYZWFDVXMLCIOU   \n",
       "3988              Nc1nc(Nc2ccc(F)cc2)nc(CSc2nnc(N)s2)n1  ZZBZWSYDXUPJCT   \n",
       "3989      CCCOc1ccc(C=Cc2cc3c(c(=O)n(C)c(=O)n3C)n2C)cc1  ZZMIPZLRKFEGIA   \n",
       "3990           CCOC(=O)c1cnc(NCC(C)C)n2nc(-c3ccco3)nc12  ZZXIVHBZTITUIW   \n",
       "\n",
       "                         InChIKey  \\\n",
       "0     AACWUFIIMOHGSO-UHFFFAOYSA-N   \n",
       "1     AAEYTMMNWWKSKZ-UHFFFAOYSA-N   \n",
       "2     AAGFKZWKWAMJNP-UHFFFAOYSA-N   \n",
       "3     AAJLGNFYNMJGSY-UHFFFAOYSA-N   \n",
       "4     AANUKDYJZPKTKN-UHFFFAOYSA-N   \n",
       "...                           ...   \n",
       "3986  ZYXGKENMDDPQIE-UHFFFAOYSA-N   \n",
       "3987  ZYZWFDVXMLCIOU-UHFFFAOYSA-N   \n",
       "3988  ZZBZWSYDXUPJCT-UHFFFAOYSA-N   \n",
       "3989  ZZMIPZLRKFEGIA-UHFFFAOYSA-N   \n",
       "3990  ZZXIVHBZTITUIW-UHFFFAOYSA-N   \n",
       "\n",
       "                                                  InChI  \\\n",
       "0     InChI=1S/C19H24N6O2/c1-12-10-13(2)25(23-12)17-...   \n",
       "1     InChI=1S/C18H16N4O3S/c19-15-13-9-10-3-1-2-4-14...   \n",
       "2     InChI=1S/C21H14N6O2/c28-20(14-8-3-1-4-9-14)24-...   \n",
       "3     InChI=1S/C18H19N5O3S/c19-17(22-18-20-12-7-3-4-...   \n",
       "4     InChI=1S/C28H31ClN6O5/c1-30-27(39)28-13-18(28)...   \n",
       "...                                                 ...   \n",
       "3986  InChI=1S/C19H18N6O3/c1-20-19-22-11-14(17-23-16...   \n",
       "3987  InChI=1S/C18H16N6O2/c19-17-22-14(13-7-4-10-26-...   \n",
       "3988  InChI=1S/C12H11FN8S2/c13-6-1-3-7(4-2-6)16-11-1...   \n",
       "3989  InChI=1S/C20H23N3O3/c1-5-12-26-16-10-7-14(8-11...   \n",
       "3990  InChI=1S/C16H19N5O3/c1-4-23-15(22)11-9-18-16(1...   \n",
       "\n",
       "                                          InChI_AuxInfo  target_id  ...  \\\n",
       "0     \"AuxInfo=1/1/N:1,26,22,14,15,20,19,11,12,27,6,...  P29274_WT  ...   \n",
       "1     \"AuxInfo=1/1/N:22,23,21,24,8,15,9,14,19,20,7,1...  P29274_WT  ...   \n",
       "2     \"AuxInfo=1/1/N:27,19,26,28,18,20,9,25,29,17,21...  P29274_WT  ...   \n",
       "3     \"AuxInfo=1/1/N:12,13,25,24,11,14,26,23,6,10,15...  P29274_WT  ...   \n",
       "4     \"AuxInfo=1/1/N:1,25,18,19,17,20,35,36,34,16,21...  P29274_WT  ...   \n",
       "...                                                 ...        ...  ...   \n",
       "3986  \"AuxInfo=1/1/N:1,16,24,23,12,18,13,17,25,10,5,...  P29274_WT  ...   \n",
       "3987  \"AuxInfo=1/1/N:22,21,23,7,20,24,6,18,17,8,12,1...  P29274_WT  ...   \n",
       "3988  \"AuxInfo=1/1/N:8,11,7,12,15,9,6,14,2,20,4,17,1...  P29274_WT  ...   \n",
       "3989  \"AuxInfo=1/0/N:1,24,22,18,2,9,7,25,10,6,26,3,1...  P29274_WT  ...   \n",
       "3990  \"AuxInfo=1/1/N:1,13,14,2,20,19,21,11,7,12,6,18...  P29274_WT  ...   \n",
       "\n",
       "     Descriptor_MorganFP_1016 Descriptor_MorganFP_1017  \\\n",
       "0                         0.0                      1.0   \n",
       "1                         0.0                      0.0   \n",
       "2                         0.0                      0.0   \n",
       "3                         0.0                      0.0   \n",
       "4                         0.0                      0.0   \n",
       "...                       ...                      ...   \n",
       "3986                      0.0                      0.0   \n",
       "3987                      0.0                      0.0   \n",
       "3988                      0.0                      0.0   \n",
       "3989                      0.0                      0.0   \n",
       "3990                      0.0                      0.0   \n",
       "\n",
       "     Descriptor_MorganFP_1018 Descriptor_MorganFP_1019  \\\n",
       "0                         0.0                      0.0   \n",
       "1                         0.0                      0.0   \n",
       "2                         0.0                      0.0   \n",
       "3                         0.0                      0.0   \n",
       "4                         0.0                      1.0   \n",
       "...                       ...                      ...   \n",
       "3986                      0.0                      0.0   \n",
       "3987                      0.0                      0.0   \n",
       "3988                      0.0                      0.0   \n",
       "3989                      0.0                      0.0   \n",
       "3990                      0.0                      0.0   \n",
       "\n",
       "      Descriptor_MorganFP_1020 Descriptor_MorganFP_1021  \\\n",
       "0                          0.0                      0.0   \n",
       "1                          0.0                      0.0   \n",
       "2                          0.0                      0.0   \n",
       "3                          0.0                      0.0   \n",
       "4                          0.0                      0.0   \n",
       "...                        ...                      ...   \n",
       "3986                       0.0                      0.0   \n",
       "3987                       0.0                      0.0   \n",
       "3988                       0.0                      0.0   \n",
       "3989                       0.0                      0.0   \n",
       "3990                       0.0                      0.0   \n",
       "\n",
       "     Descriptor_MorganFP_1022 Descriptor_MorganFP_1023     TSNE_1     TSNE_2  \n",
       "0                         0.0                      0.0 -49.262220 -18.827414  \n",
       "1                         0.0                      0.0 -30.326859   6.892628  \n",
       "2                         0.0                      0.0  25.112610  -4.832593  \n",
       "3                         0.0                      0.0 -21.665638 -12.843870  \n",
       "4                         0.0                      0.0   6.994354  38.663483  \n",
       "...                       ...                      ...        ...        ...  \n",
       "3986                      0.0                      0.0  29.856173 -70.698350  \n",
       "3987                      0.0                      0.0 -11.900303 -42.615310  \n",
       "3988                      0.0                      0.0  -1.871733  13.171981  \n",
       "3989                      0.0                      0.0  46.046997  12.641930  \n",
       "3990                      0.0                      0.0  36.403248 -70.872660  \n",
       "\n",
       "[3991 rows x 1056 columns]"
      ]
     },
     "execution_count": 6,
     "metadata": {},
     "output_type": "execute_result"
    }
   ],
   "source": [
    "import pandas as pd\n",
    "\n",
    "df_a2a = pd.read_table('data/A2A_LIGANDS.tsv')\n",
    "df_a2a"
   ]
  },
  {
   "cell_type": "code",
   "execution_count": 7,
   "id": "80a97434-d8a4-4e14-ad5f-b513b320d26d",
   "metadata": {},
   "outputs": [
    {
     "data": {
      "text/plain": [
       "0       Cc1nn(-c2cc(NC(=O)CCN(C)C)nc(-c3ccc(C)o3)n2)c(...\n",
       "1       Nc1c(C(=O)Nc2ccc([N+](=O)[O-])cc2)sc2c1cc1CCCC...\n",
       "2        O=C(Nc1nc2ncccc2n2c(=O)n(-c3ccccc3)nc12)c1ccccc1\n",
       "3           NC(=NC(=O)Cn1c(O)c2CCCCc2c1O)Nc1nc2c(cccc2)s1\n",
       "4       CNC(=O)C12CC1C(n1cnc3c1nc(C#CCCCCC(=O)OC)nc3NC...\n",
       "                              ...                        \n",
       "3986       CNc1ncc(C(=O)NCc2ccc(OC)cc2)c2nc(-c3ccco3)nn12\n",
       "3987           Nc1nc(-c2ccco2)c2ncn(C(=O)NCCc3ccccc3)c2n1\n",
       "3988                Nc1nc(Nc2ccc(F)cc2)nc(CSc2nnc(N)s2)n1\n",
       "3989        CCCOc1ccc(C=Cc2cc3c(c(=O)n(C)c(=O)n3C)n2C)cc1\n",
       "3990             CCOC(=O)c1cnc(NCC(C)C)n2nc(-c3ccco3)nc12\n",
       "Name: SMILES, Length: 3991, dtype: object"
      ]
     },
     "execution_count": 7,
     "metadata": {},
     "output_type": "execute_result"
    }
   ],
   "source": [
    "smiles_train = df_a2a.SMILES\n",
    "smiles_train"
   ]
  },
  {
   "cell_type": "code",
   "execution_count": 8,
   "id": "d13f4c31-86db-45f3-8cd1-c98c1f22727f",
   "metadata": {},
   "outputs": [
    {
     "data": {
      "application/vnd.jupyter.widget-view+json": {
       "model_id": "7dfebf5dd4e74471ad39d09c7633d4d8",
       "version_major": 2,
       "version_minor": 0
      },
      "text/plain": [
       "Standardizing molecules (batch processing):   0%|          | 0/1 [00:00<?, ?it/s]"
      ]
     },
     "metadata": {},
     "output_type": "display_data"
    },
    {
     "data": {
      "text/plain": [
       "['Cc1cc(C)n(-c2cc(NC(=O)CCN(C)C)nc(-c3ccc(C)o3)n2)n1',\n",
       " 'Nc1c(C(=O)Nc2ccc([N+](=O)[O-])cc2)sc2nc3c(cc12)CCCC3',\n",
       " 'O=C(Nc1nc2ncccc2n2c(=O)n(-c3ccccc3)nc12)c1ccccc1',\n",
       " 'NC(=NC(=O)Cn1c(O)c2c(c1O)CCCC2)Nc1nc2ccccc2s1',\n",
       " 'CNC(=O)C12CC1C(n1cnc3c(NCc4cccc(Cl)c4)nc(C#CCCCCC(=O)OC)nc31)C(O)C2O',\n",
       " 'Cn1c(-n2nccn2)nc2c(N)nc(CCc3ccccc3)nc21',\n",
       " 'Nc1nc(-c2ccccc2)cn2cc(-c3ccco3)nc12',\n",
       " 'CCCn1c(=O)c2c(nc3n2CCCN3c2ccc(OCCN3CCCC3)cc2)n(CCC)c1=O',\n",
       " 'N#Cc1c(-c2ccccc2)cc(-c2ccco2)nc1N',\n",
       " 'CCCn1c(=O)c2nc(-c3ccccc3)[nH]c2n(CCCOC)c1=O']"
      ]
     },
     "execution_count": 8,
     "metadata": {},
     "output_type": "execute_result"
    }
   ],
   "source": [
    "from drugex.data.processing import Standardization\n",
    "\n",
    "N_PROCESSES = 12\n",
    "CHUNK_SIZE = 1000\n",
    "\n",
    "standardizer = Standardization(n_proc=N_PROCESSES, chunk_size=CHUNK_SIZE)\n",
    "smiles_train = standardizer.apply(smiles_train)\n",
    "smiles_train[0:10]"
   ]
  },
  {
   "cell_type": "code",
   "execution_count": 9,
   "id": "d53cf8e2-0f67-4ff4-8147-fd53d8f9de42",
   "metadata": {},
   "outputs": [
    {
     "data": {
      "application/vnd.jupyter.widget-view+json": {
       "model_id": "901f4a26a98c4129b50fde2d03ba765b",
       "version_major": 2,
       "version_minor": 0
      },
      "text/plain": [
       "SequenceCorpus (batch processing):   0%|          | 0/1 [00:00<?, ?it/s]"
      ]
     },
     "metadata": {},
     "output_type": "display_data"
    },
    {
     "name": "stderr",
     "output_type": "stream",
     "text": [
      "Molecule does not meet min/max words requirements (min: 10, max: 100). Words found: {'6', '7', '1', '(', 'N', '[N+]', 'o', '4', 'n', '[B-]', 's', 'C', '=', ')', 'O', '5', 'EOS', '3', '-', 'F', 'c', '2'} (occurrence count: 126). It will be ignored.\n",
      "Molecule does not meet min/max words requirements (min: 10, max: 100). Words found: {'O', 'C', '1', '=', '4', '(', '5', '3', 'EOS', 'N', 'n', ')', 'c', '2'} (occurrence count: 107). It will be ignored.\n",
      "Molecule does not meet min/max words requirements (min: 10, max: 100). Words found: {'6', '7', '1', '(', 'N', 'o', '4', 'n', 'S', 'C', '=', ')', 'O', '5', 'EOS', '3', '-', 'c', '2'} (occurrence count: 128). It will be ignored.\n",
      "Molecule does not meet min/max words requirements (min: 10, max: 100). Words found: {'6', '7', '1', '(', 'N', '[N+]', 'o', '4', 'n', 'C', '=', ')', 'O', '5', 'EOS', '3', '-', 'c', '2'} (occurrence count: 114). It will be ignored.\n",
      "Molecule does not meet min/max words requirements (min: 10, max: 100). Words found: {'O', 'C', '1', '=', '4', '(', '5', '3', 'EOS', 'N', 'n', ')', 'c', '2'} (occurrence count: 109). It will be ignored.\n",
      "Molecule does not meet min/max words requirements (min: 10, max: 100). Words found: {'#', '6', '1', '(', 'N', '[N+]', '4', 'n', 'L', 'S', 'C', '=', ')', 'O', '5', 'EOS', '3', 'c', '2'} (occurrence count: 143). It will be ignored.\n",
      "Molecule does not meet min/max words requirements (min: 10, max: 100). Words found: {'S', 'o', 'C', 'O', '1', '=', '4', '(', '5', '3', 'EOS', 'N', '-', 'n', ')', 'c', '2'} (occurrence count: 106). It will be ignored.\n",
      "Molecule does not meet min/max words requirements (min: 10, max: 100). Words found: {'S', 'o', 'C', 'O', '1', '=', '4', '(', '5', '3', 'EOS', 'N', '-', '[N+]', 'n', ')', 'c', '2'} (occurrence count: 164). It will be ignored.\n",
      "Molecule does not meet min/max words requirements (min: 10, max: 100). Words found: {'S', 'o', 'C', 'O', '1', '=', '4', '(', '5', '3', 'EOS', 'N', '-', 'n', ')', 'c', '2'} (occurrence count: 125). It will be ignored.\n",
      "Molecule does not meet min/max words requirements (min: 10, max: 100). Words found: {'#', '6', '1', '(', 'N', '[N+]', '4', 'n', 'L', 'S', 'C', '=', ')', 'O', '5', 'EOS', '3', 'c', '2'} (occurrence count: 155). It will be ignored.\n",
      "Molecule does not meet min/max words requirements (min: 10, max: 100). Words found: {'s', 'O', 'C', '1', '=', '4', '(', 'EOS', '3', 'N', '-', 'n', ')', 'c', 'F', '2'} (occurrence count: 103). It will be ignored.\n",
      "Molecule does not meet min/max words requirements (min: 10, max: 100). Words found: {'6', '7', '1', '(', 'N', 'o', '4', 'n', 'S', 'C', '=', ')', 'O', '5', 'EOS', '3', '-', 'c', '2'} (occurrence count: 130). It will be ignored.\n",
      "Molecule does not meet min/max words requirements (min: 10, max: 100). Words found: {'s', 'C', 'O', '1', '=', '4', '(', 'EOS', '3', 'N', '-', 'n', ')', 'c', 'F', '2'} (occurrence count: 102). It will be ignored.\n",
      "Molecule does not meet min/max words requirements (min: 10, max: 100). Words found: {'s', 'O', 'C', '6', '1', '=', '4', '(', '5', '3', 'EOS', 'N', '-', 'n', ')', 'c', 'F', '2'} (occurrence count: 105). It will be ignored.\n",
      "Molecule does not meet min/max words requirements (min: 10, max: 100). Words found: {'6', '7', '1', '8', '(', 'N', '[N+]', '4', 'n', '[B-]', 's', 'C', '=', ')', 'O', '5', 'EOS', '3', '-', 'F', 'c', '2'} (occurrence count: 111). It will be ignored.\n",
      "Molecule does not meet min/max words requirements (min: 10, max: 100). Words found: {'S', 'o', 'C', 'O', '1', '=', '4', '(', '5', '3', 'EOS', 'N', '-', '[N+]', 'n', ')', 'c', '2'} (occurrence count: 166). It will be ignored.\n",
      "Molecule does not meet min/max words requirements (min: 10, max: 100). Words found: {'6', '7', '1', '(', 'N', '[N+]', '4', 'n', 'S', '[O-]', 'C', '=', ')', 'O', '5', 'EOS', '3', 'c', '2'} (occurrence count: 105). It will be ignored.\n",
      "Molecule does not meet min/max words requirements (min: 10, max: 100). Words found: {'S', 'o', 'C', 'O', '6', '1', '=', '4', '(', '5', '3', 'EOS', 'N', '-', 'n', ')', 'c', '2'} (occurrence count: 135). It will be ignored.\n",
      "Molecule does not meet min/max words requirements (min: 10, max: 100). Words found: {'O', 'C', '1', '=', '4', '(', '5', '3', 'EOS', 'N', 'n', ')', 'c', '2'} (occurrence count: 110). It will be ignored.\n",
      "Molecule does not meet min/max words requirements (min: 10, max: 100). Words found: {'6', '7', '1', '(', 'N', '[N+]', 'o', '4', 'n', '[B-]', 'C', '=', ')', 'O', '5', 'EOS', '3', '-', '[nH]', 'F', 'c', '2'} (occurrence count: 127). It will be ignored.\n"
     ]
    }
   ],
   "source": [
    "from drugex.data.processing import CorpusEncoder, RandomTrainTestSplitter\n",
    "from drugex.data.corpus.corpus import SequenceCorpus\n",
    "from drugex.data.datasets import SmilesDataSet\n",
    "import os\n",
    "\n",
    "DATA_DIR = \"data/drugex/sets/\"\n",
    "os.makedirs(DATA_DIR, exist_ok=True)\n",
    "\n",
    "voc = VocSmiles.fromFile(\"data/drugex/models/pretrained/DrugEx_v2_PT_Papyrus05.5/Papyrus05.5_smiles_rnn_PT.vocab\")\n",
    "encoder = CorpusEncoder(\n",
    "    SequenceCorpus,\n",
    "    {\n",
    "        'vocabulary': voc,\n",
    "        'update_voc': False,\n",
    "        'throw': True\n",
    "\n",
    "    },\n",
    "    n_proc=N_PROCESSES,\n",
    "    chunk_size=CHUNK_SIZE\n",
    ")\n",
    "\n",
    "data_collector = SmilesDataSet(os.path.join(DATA_DIR, 'ligand_corpus.tsv'), rewrite=True)\n",
    "encoder.apply(smiles_train, collector=data_collector)\n",
    "\n",
    "splitter = RandomTrainTestSplitter(0.1, 1e4)\n",
    "train, test = splitter(data_collector.getData())\n",
    "for df, name in zip([train, test], ['train', 'test']):\n",
    "    df.to_csv(os.path.join(DATA_DIR, f'ligand_{name}.tsv'), header=True, index=False, sep='\\t')\n",
    "\n",
    "voc.toFile(os.path.join(DATA_DIR, 'ligand.vocab'))"
   ]
  },
  {
   "cell_type": "code",
   "execution_count": 10,
   "id": "947ff14c-478e-4505-b625-ce9b2fbc6e95",
   "metadata": {},
   "outputs": [],
   "source": [
    "BATCH_SIZE = 256\n",
    "\n",
    "data_set_train = SmilesDataSet(os.path.join(DATA_DIR, 'ligand_train.tsv'), voc=voc)\n",
    "data_set_train.voc = voc\n",
    "train_loader = data_set_train.asDataLoader(batch_size=BATCH_SIZE)\n",
    "\n",
    "data_set_test = SmilesDataSet(os.path.join(DATA_DIR, 'ligand_test.tsv'), voc=voc)\n",
    "data_set_test.voc = voc\n",
    "valid_loader = data_set_test.asDataLoader(batch_size=BATCH_SIZE)"
   ]
  },
  {
   "cell_type": "code",
   "execution_count": 11,
   "id": "a7a7087d-110c-4a20-a29a-9ea911666150",
   "metadata": {},
   "outputs": [],
   "source": [
    "from drugex.training.monitors import FileMonitor\n",
    "\n",
    "EPOCHS = 50\n",
    "MODEL_DIR = \"data/drugex/models/finetuned/\"\n",
    "\n",
    "ft_path = os.path.join(MODEL_DIR, 'ligand_finetune')\n",
    "finetuned = RNN(voc, is_lstm=True, use_gpus=GPUS)\n",
    "finetuned.loadStatesFromFile('data/drugex/models/pretrained/DrugEx_v2_PT_Papyrus05.5/Papyrus05.5_smiles_rnn_PT.pkg')\n",
    "monitor = FileMonitor(ft_path, verbose=True)\n",
    "finetuned.fit(train_loader, valid_loader, epochs=EPOCHS, monitor=monitor, patience=10)\n",
    "\n",
    "voc.toFile(os.path.join(MODEL_DIR, 'finetune.vocab'))"
   ]
  },
  {
   "cell_type": "code",
   "execution_count": 12,
   "id": "72d6f496-96ff-4df9-a43a-afce5f63164e",
   "metadata": {},
   "outputs": [
    {
     "data": {
      "text/html": [
       "<div>\n",
       "<style scoped>\n",
       "    .dataframe tbody tr th:only-of-type {\n",
       "        vertical-align: middle;\n",
       "    }\n",
       "\n",
       "    .dataframe tbody tr th {\n",
       "        vertical-align: top;\n",
       "    }\n",
       "\n",
       "    .dataframe thead th {\n",
       "        text-align: right;\n",
       "    }\n",
       "</style>\n",
       "<table border=\"1\" class=\"dataframe\">\n",
       "  <thead>\n",
       "    <tr style=\"text-align: right;\">\n",
       "      <th></th>\n",
       "      <th>epoch</th>\n",
       "      <th>loss_train</th>\n",
       "      <th>loss_valid</th>\n",
       "      <th>valid_ratio</th>\n",
       "      <th>unique_ratio</th>\n",
       "      <th>desire_ratio</th>\n",
       "      <th>mean_train_loss</th>\n",
       "    </tr>\n",
       "  </thead>\n",
       "  <tbody>\n",
       "    <tr>\n",
       "      <th>0</th>\n",
       "      <td>1</td>\n",
       "      <td>0.152064</td>\n",
       "      <td>0.149214</td>\n",
       "      <td>0.913934</td>\n",
       "      <td>NaN</td>\n",
       "      <td>NaN</td>\n",
       "      <td>NaN</td>\n",
       "    </tr>\n",
       "    <tr>\n",
       "      <th>1</th>\n",
       "      <td>2</td>\n",
       "      <td>0.128081</td>\n",
       "      <td>0.142791</td>\n",
       "      <td>0.942623</td>\n",
       "      <td>NaN</td>\n",
       "      <td>NaN</td>\n",
       "      <td>NaN</td>\n",
       "    </tr>\n",
       "    <tr>\n",
       "      <th>2</th>\n",
       "      <td>3</td>\n",
       "      <td>0.114477</td>\n",
       "      <td>0.140908</td>\n",
       "      <td>0.971193</td>\n",
       "      <td>NaN</td>\n",
       "      <td>NaN</td>\n",
       "      <td>NaN</td>\n",
       "    </tr>\n",
       "    <tr>\n",
       "      <th>3</th>\n",
       "      <td>4</td>\n",
       "      <td>0.107636</td>\n",
       "      <td>0.140044</td>\n",
       "      <td>0.970833</td>\n",
       "      <td>NaN</td>\n",
       "      <td>NaN</td>\n",
       "      <td>NaN</td>\n",
       "    </tr>\n",
       "    <tr>\n",
       "      <th>4</th>\n",
       "      <td>5</td>\n",
       "      <td>0.104233</td>\n",
       "      <td>0.141259</td>\n",
       "      <td>0.946502</td>\n",
       "      <td>NaN</td>\n",
       "      <td>NaN</td>\n",
       "      <td>NaN</td>\n",
       "    </tr>\n",
       "  </tbody>\n",
       "</table>\n",
       "</div>"
      ],
      "text/plain": [
       "   epoch  loss_train  loss_valid  valid_ratio  unique_ratio  desire_ratio  \\\n",
       "0      1    0.152064    0.149214     0.913934           NaN           NaN   \n",
       "1      2    0.128081    0.142791     0.942623           NaN           NaN   \n",
       "2      3    0.114477    0.140908     0.971193           NaN           NaN   \n",
       "3      4    0.107636    0.140044     0.970833           NaN           NaN   \n",
       "4      5    0.104233    0.141259     0.946502           NaN           NaN   \n",
       "\n",
       "   mean_train_loss  \n",
       "0              NaN  \n",
       "1              NaN  \n",
       "2              NaN  \n",
       "3              NaN  \n",
       "4              NaN  "
      ]
     },
     "execution_count": 12,
     "metadata": {},
     "output_type": "execute_result"
    }
   ],
   "source": [
    "df_info = pd.read_csv('data/drugex/models/finetuned/ligand_finetune_fit.tsv', sep='\\t')\n",
    "df_info.head()"
   ]
  },
  {
   "cell_type": "code",
   "execution_count": 13,
   "id": "d10ca1f3-4005-43be-b936-65c496c1984a",
   "metadata": {},
   "outputs": [
    {
     "data": {
      "text/plain": [
       "<AxesSubplot: >"
      ]
     },
     "execution_count": 13,
     "metadata": {},
     "output_type": "execute_result"
    },
    {
     "data": {
      "image/png": "[encoded data removed]",
      "text/plain": [
       "<Figure size 640x480 with 1 Axes>"
      ]
     },
     "metadata": {},
     "output_type": "display_data"
    }
   ],
   "source": [
    "df_info[['loss_train', 'loss_valid']].plot.line()"
   ]
  },
  {
   "cell_type": "code",
   "execution_count": 14,
   "id": "cbcc5ce3-c56c-43d1-8b59-d77ad59622bf",
   "metadata": {},
   "outputs": [
    {
     "data": {
      "text/plain": [
       "<scaffviz.data.dataset.DataSetSMILES at 0x7ff9e423c430>"
      ]
     },
     "execution_count": 14,
     "metadata": {},
     "output_type": "execute_result"
    }
   ],
   "source": [
    "finetuned.loadStatesFromFile('data/drugex/models/finetuned/ligand_finetune.pkg')\n",
    "\n",
    "smiles_finetuned = sample_smiles(finetuned, 1000)\n",
    "dataset = DataSetSMILES(\"data/finetuned_sampled.tsv\", smiles=smiles_finetuned, use_existing=False)\n",
    "dataset"
   ]
  },
  {
   "cell_type": "code",
   "execution_count": 15,
   "id": "bee832ad-dfe2-4cee-9206-500fad0bf260",
   "metadata": {},
   "outputs": [
    {
     "name": "stderr",
     "output_type": "stream",
     "text": [
      "/home/sichom/software/miniconda/envs/drugex-demo/lib/python3.9/site-packages/sklearn/manifold/_t_sne.py:800: FutureWarning:\n",
      "\n",
      "The default initialization in TSNE will change from 'random' to 'pca' in 1.2.\n",
      "\n",
      "/home/sichom/software/miniconda/envs/drugex-demo/lib/python3.9/site-packages/sklearn/manifold/_t_sne.py:810: FutureWarning:\n",
      "\n",
      "The default learning rate in TSNE will change from 200.0 to 'auto' in 1.2.\n",
      "\n"
     ]
    },
    {
     "data": {
      "text/html": [
       "\n",
       "        <iframe\n",
       "            width=\"100%\"\n",
       "            height=\"800\"\n",
       "            src=\"http://127.0.0.1:9393/\"\n",
       "            frameborder=\"0\"\n",
       "            allowfullscreen\n",
       "            \n",
       "        ></iframe>\n",
       "        "
      ],
      "text/plain": [
       "<IPython.lib.display.IFrame at 0x7ffa3f5a0a00>"
      ]
     },
     "metadata": {},
     "output_type": "display_data"
    }
   ],
   "source": [
    "from scaffviz.depiction.plot import Plot\n",
    "from scaffviz.clustering.manifold import TSNE\n",
    "from scaffviz.clustering.descriptors import MorganFP\n",
    "\n",
    "dataset.addDescriptors([MorganFP(radius=2, nBits=1024)], recalculate=False) \n",
    "\n",
    "# make an interactive plot that will use t-SNE to embed the data set in 2D (all current descriptors in the data set will be used)\n",
    "plt = Plot(dataset, TSNE())\n",
    "\n",
    "# start the server, you can open the plot in the browser\n",
    "plt.plot(\n",
    "    recalculate=False,\n",
    "    viewport_height=800,\n",
    "    port=9393\n",
    ")"
   ]
  },
  {
   "cell_type": "code",
   "execution_count": 16,
   "id": "afb4fcec-3c90-4aa2-9bf2-9ad8f4600b05",
   "metadata": {},
   "outputs": [
    {
     "data": {
      "text/html": [
       "<style>#sk-container-id-1 {color: black;background-color: white;}#sk-container-id-1 pre{padding: 0;}#sk-container-id-1 div.sk-toggleable {background-color: white;}#sk-container-id-1 label.sk-toggleable__label {cursor: pointer;display: block;width: 100%;margin-bottom: 0;padding: 0.3em;box-sizing: border-box;text-align: center;}#sk-container-id-1 label.sk-toggleable__label-arrow:before {content: \"▸\";float: left;margin-right: 0.25em;color: #696969;}#sk-container-id-1 label.sk-toggleable__label-arrow:hover:before {color: black;}#sk-container-id-1 div.sk-estimator:hover label.sk-toggleable__label-arrow:before {color: black;}#sk-container-id-1 div.sk-toggleable__content {max-height: 0;max-width: 0;overflow: hidden;text-align: left;background-color: #f0f8ff;}#sk-container-id-1 div.sk-toggleable__content pre {margin: 0.2em;color: black;border-radius: 0.25em;background-color: #f0f8ff;}#sk-container-id-1 input.sk-toggleable__control:checked~div.sk-toggleable__content {max-height: 200px;max-width: 100%;overflow: auto;}#sk-container-id-1 input.sk-toggleable__control:checked~label.sk-toggleable__label-arrow:before {content: \"▾\";}#sk-container-id-1 div.sk-estimator input.sk-toggleable__control:checked~label.sk-toggleable__label {background-color: #d4ebff;}#sk-container-id-1 div.sk-label input.sk-toggleable__control:checked~label.sk-toggleable__label {background-color: #d4ebff;}#sk-container-id-1 input.sk-hidden--visually {border: 0;clip: rect(1px 1px 1px 1px);clip: rect(1px, 1px, 1px, 1px);height: 1px;margin: -1px;overflow: hidden;padding: 0;position: absolute;width: 1px;}#sk-container-id-1 div.sk-estimator {font-family: monospace;background-color: #f0f8ff;border: 1px dotted black;border-radius: 0.25em;box-sizing: border-box;margin-bottom: 0.5em;}#sk-container-id-1 div.sk-estimator:hover {background-color: #d4ebff;}#sk-container-id-1 div.sk-parallel-item::after {content: \"\";width: 100%;border-bottom: 1px solid gray;flex-grow: 1;}#sk-container-id-1 div.sk-label:hover label.sk-toggleable__label {background-color: #d4ebff;}#sk-container-id-1 div.sk-serial::before {content: \"\";position: absolute;border-left: 1px solid gray;box-sizing: border-box;top: 0;bottom: 0;left: 50%;z-index: 0;}#sk-container-id-1 div.sk-serial {display: flex;flex-direction: column;align-items: center;background-color: white;padding-right: 0.2em;padding-left: 0.2em;position: relative;}#sk-container-id-1 div.sk-item {position: relative;z-index: 1;}#sk-container-id-1 div.sk-parallel {display: flex;align-items: stretch;justify-content: center;background-color: white;position: relative;}#sk-container-id-1 div.sk-item::before, #sk-container-id-1 div.sk-parallel-item::before {content: \"\";position: absolute;border-left: 1px solid gray;box-sizing: border-box;top: 0;bottom: 0;left: 50%;z-index: -1;}#sk-container-id-1 div.sk-parallel-item {display: flex;flex-direction: column;z-index: 1;position: relative;background-color: white;}#sk-container-id-1 div.sk-parallel-item:first-child::after {align-self: flex-end;width: 50%;}#sk-container-id-1 div.sk-parallel-item:last-child::after {align-self: flex-start;width: 50%;}#sk-container-id-1 div.sk-parallel-item:only-child::after {width: 0;}#sk-container-id-1 div.sk-dashed-wrapped {border: 1px dashed gray;margin: 0 0.4em 0.5em 0.4em;box-sizing: border-box;padding-bottom: 0.4em;background-color: white;}#sk-container-id-1 div.sk-label label {font-family: monospace;font-weight: bold;display: inline-block;line-height: 1.2em;}#sk-container-id-1 div.sk-label-container {text-align: center;}#sk-container-id-1 div.sk-container {/* jupyter's `normalize.less` sets `[hidden] { display: none; }` but bootstrap.min.css set `[hidden] { display: none !important; }` so we also need the `!important` here to be able to override the default hidden behavior on the sphinx rendered scikit-learn.org. See: https://github.com/scikit-learn/scikit-learn/issues/21755 */display: inline-block !important;position: relative;}#sk-container-id-1 div.sk-text-repr-fallback {display: none;}</style><div id=\"sk-container-id-1\" class=\"sk-top-container\"><div class=\"sk-text-repr-fallback\"><pre>ExtraTreesClassifier(n_estimators=250)</pre><b>In a Jupyter environment, please rerun this cell to show the HTML representation or trust the notebook. <br />On GitHub, the HTML representation is unable to render, please try loading this page with nbviewer.org.</b></div><div class=\"sk-container\" hidden><div class=\"sk-item\"><div class=\"sk-estimator sk-toggleable\"><input class=\"sk-toggleable__control sk-hidden--visually\" id=\"sk-estimator-id-1\" type=\"checkbox\" checked><label for=\"sk-estimator-id-1\" class=\"sk-toggleable__label sk-toggleable__label-arrow\">ExtraTreesClassifier</label><div class=\"sk-toggleable__content\"><pre>ExtraTreesClassifier(n_estimators=250)</pre></div></div></div></div></div>"
      ],
      "text/plain": [
       "ExtraTreesClassifier(n_estimators=250)"
      ]
     },
     "execution_count": 16,
     "metadata": {},
     "output_type": "execute_result"
    }
   ],
   "source": [
    "import joblib\n",
    "\n",
    "model = joblib.load('data/qsar/models/A2A_CLS_ET_250.pickle')\n",
    "model"
   ]
  },
  {
   "cell_type": "code",
   "execution_count": 17,
   "id": "0480612b-780e-4b7c-bd37-551d23e1c785",
   "metadata": {},
   "outputs": [
    {
     "data": {
      "text/plain": [
       "<__main__.ModelScorer at 0x7ffa3f404b50>"
      ]
     },
     "execution_count": 17,
     "metadata": {},
     "output_type": "execute_result"
    }
   ],
   "source": [
    "from drugex.training.interfaces import Scorer\n",
    "\n",
    "class ModelScorer(Scorer):\n",
    "    \n",
    "    def __init__(self, model, prefix, descriptor = MorganFP(radius=2, nBits=1024)):\n",
    "        super().__init__()\n",
    "        self.model = model\n",
    "        self.prefix = prefix\n",
    "        self.descriptor = descriptor\n",
    "    \n",
    "    def getScores(self, mols, frags=None):\n",
    "        X = pd.Series(mols).apply(lambda x : pd.Series(self.descriptor(x) if x else [0] * 1024))\n",
    "        preds = self.model.predict_proba(X)[::,1]\n",
    "        return preds\n",
    "    \n",
    "    def getKey(self):\n",
    "        return f\"{self.prefix}_{type(self.model)}\"\n",
    "\n",
    "\n",
    "\n",
    "scorer_model = ModelScorer(model, 'A2A_CLS')\n",
    "scorer_model"
   ]
  },
  {
   "cell_type": "code",
   "execution_count": 18,
   "id": "6be660b7-e310-4292-aa67-0dc335282eaa",
   "metadata": {},
   "outputs": [
    {
     "name": "stderr",
     "output_type": "stream",
     "text": [
      "/home/sichom/software/miniconda/envs/drugex-demo/lib/python3.9/site-packages/sklearn/base.py:450: UserWarning:\n",
      "\n",
      "X does not have valid feature names, but ExtraTreesClassifier was fitted with feature names\n",
      "\n"
     ]
    },
    {
     "data": {
      "text/plain": [
       "array([0.186, 0.7  , 1.   , 0.682, 0.932, 0.   , 0.96 , 0.572, 0.896,\n",
       "       0.32 ])"
      ]
     },
     "execution_count": 18,
     "metadata": {},
     "output_type": "execute_result"
    }
   ],
   "source": [
    "predictions = scorer_model([None] + list(smiles_finetuned))\n",
    "predictions[0:10]"
   ]
  },
  {
   "cell_type": "code",
   "execution_count": 19,
   "id": "323b5b75-817a-449c-b935-2e44297c6da7",
   "metadata": {},
   "outputs": [
    {
     "data": {
      "text/plain": [
       "0.5194805194805194"
      ]
     },
     "execution_count": 19,
     "metadata": {},
     "output_type": "execute_result"
    }
   ],
   "source": [
    "sum(predictions > 0.5) / len(predictions)"
   ]
  },
  {
   "cell_type": "code",
   "execution_count": 20,
   "id": "d3141815-f27e-470e-89d9-31754dc2577a",
   "metadata": {},
   "outputs": [],
   "source": [
    "from drugex.training.scorers.modifiers import ClippedScore, SmoothClippedScore\n",
    "\n",
    "# active target\n",
    "scorer_model.setModifier(ClippedScore(lower_x=0.2, upper_x=0.8))"
   ]
  },
  {
   "cell_type": "code",
   "execution_count": 21,
   "id": "0e345109-fc3a-482e-9176-0fca6c13da42",
   "metadata": {},
   "outputs": [
    {
     "data": {
      "text/plain": [
       "<AxesSubplot: xlabel='Score', ylabel='Clipped Score'>"
      ]
     },
     "execution_count": 21,
     "metadata": {},
     "output_type": "execute_result"
    },
    {
     "data": {
      "image/png": "[encoded data removed]",
      "text/plain": [
       "<Figure size 640x480 with 1 Axes>"
      ]
     },
     "metadata": {},
     "output_type": "display_data"
    }
   ],
   "source": [
    "import numpy as np\n",
    "\n",
    "def depict_modifier(modifier, start=0, end=1, step=0.01):\n",
    "    vals = np.arange(start,end, step)\n",
    "    scores = [(x, modifier(x)) for x in vals] # get the A1R modifier for inactivity (the lower the activity, the higher the reward)\n",
    "    scores = pd.DataFrame(scores, columns=['Score', 'Clipped Score'])\n",
    "    return scores.plot.scatter(x = 'Score', y = 'Clipped Score')\n",
    "\n",
    "depict_modifier(scorer_model.getModifier())"
   ]
  },
  {
   "cell_type": "code",
   "execution_count": 22,
   "id": "e65447f5-82bb-44e9-8f30-e812ceb80f1e",
   "metadata": {},
   "outputs": [],
   "source": [
    "from drugex.training.scorers.properties import Property\n",
    "from drugex.training.scorers.modifiers import SmoothClippedScore\n",
    "\n",
    "sascore = Property(\n",
    "    \"SA\",\n",
    "    modifier=SmoothClippedScore(lower_x=6, upper_x=3)\n",
    ")"
   ]
  },
  {
   "cell_type": "code",
   "execution_count": 23,
   "id": "e33afe7a-49cc-444c-9ce4-098bf3fce28f",
   "metadata": {},
   "outputs": [
    {
     "data": {
      "text/plain": [
       "<AxesSubplot: xlabel='Score', ylabel='Clipped Score'>"
      ]
     },
     "execution_count": 23,
     "metadata": {},
     "output_type": "execute_result"
    },
    {
     "data": {
      "image/png": "[encoded data removed]",
      "text/plain": [
       "<Figure size 640x480 with 1 Axes>"
      ]
     },
     "metadata": {},
     "output_type": "display_data"
    }
   ],
   "source": [
    "depict_modifier(sascore.getModifier(), 0, 10, 0.1)"
   ]
  },
  {
   "cell_type": "code",
   "execution_count": 24,
   "id": "10bb41b5-3337-45ec-88c3-e61e6943f727",
   "metadata": {},
   "outputs": [],
   "source": [
    "from drugex.training.environment import DrugExEnvironment\n",
    "from drugex.training.rewards import ParetoCrowdingDistance\n",
    "\n",
    "scorers = [\n",
    "    scorer_model,\n",
    "    sascore\n",
    "]\n",
    "thresholds = [\n",
    "    0.5,\n",
    "    0.1\n",
    "]\n",
    "\n",
    "environment = DrugExEnvironment(scorers, thresholds, reward_scheme=ParetoCrowdingDistance())"
   ]
  },
  {
   "cell_type": "code",
   "execution_count": 25,
   "id": "78cd2a11-04bf-4473-a1d0-f9bc5dd0ca76",
   "metadata": {},
   "outputs": [
    {
     "name": "stderr",
     "output_type": "stream",
     "text": [
      "/home/sichom/software/miniconda/envs/drugex-demo/lib/python3.9/site-packages/sklearn/base.py:450: UserWarning:\n",
      "\n",
      "X does not have valid feature names, but ExtraTreesClassifier was fitted with feature names\n",
      "\n"
     ]
    },
    {
     "data": {
      "text/html": [
       "<div>\n",
       "<style scoped>\n",
       "    .dataframe tbody tr th:only-of-type {\n",
       "        vertical-align: middle;\n",
       "    }\n",
       "\n",
       "    .dataframe tbody tr th {\n",
       "        vertical-align: top;\n",
       "    }\n",
       "\n",
       "    .dataframe thead th {\n",
       "        text-align: right;\n",
       "    }\n",
       "</style>\n",
       "<table border=\"1\" class=\"dataframe\">\n",
       "  <thead>\n",
       "    <tr style=\"text-align: right;\">\n",
       "      <th></th>\n",
       "      <th>A2A_CLS_&lt;class 'sklearn.ensemble._forest.ExtraTreesClassifier'&gt;</th>\n",
       "      <th>SA</th>\n",
       "      <th>DESIRE</th>\n",
       "      <th>VALID</th>\n",
       "    </tr>\n",
       "  </thead>\n",
       "  <tbody>\n",
       "    <tr>\n",
       "      <th>0</th>\n",
       "      <td>0.833333</td>\n",
       "      <td>0.872962</td>\n",
       "      <td>1</td>\n",
       "      <td>1</td>\n",
       "    </tr>\n",
       "    <tr>\n",
       "      <th>1</th>\n",
       "      <td>1.000000</td>\n",
       "      <td>0.931695</td>\n",
       "      <td>1</td>\n",
       "      <td>1</td>\n",
       "    </tr>\n",
       "    <tr>\n",
       "      <th>2</th>\n",
       "      <td>0.803333</td>\n",
       "      <td>0.951500</td>\n",
       "      <td>1</td>\n",
       "      <td>1</td>\n",
       "    </tr>\n",
       "    <tr>\n",
       "      <th>3</th>\n",
       "      <td>1.000000</td>\n",
       "      <td>0.906433</td>\n",
       "      <td>1</td>\n",
       "      <td>1</td>\n",
       "    </tr>\n",
       "    <tr>\n",
       "      <th>4</th>\n",
       "      <td>0.000000</td>\n",
       "      <td>0.955998</td>\n",
       "      <td>0</td>\n",
       "      <td>1</td>\n",
       "    </tr>\n",
       "    <tr>\n",
       "      <th>...</th>\n",
       "      <td>...</td>\n",
       "      <td>...</td>\n",
       "      <td>...</td>\n",
       "      <td>...</td>\n",
       "    </tr>\n",
       "    <tr>\n",
       "      <th>995</th>\n",
       "      <td>0.846667</td>\n",
       "      <td>0.905904</td>\n",
       "      <td>1</td>\n",
       "      <td>1</td>\n",
       "    </tr>\n",
       "    <tr>\n",
       "      <th>996</th>\n",
       "      <td>1.000000</td>\n",
       "      <td>0.920248</td>\n",
       "      <td>1</td>\n",
       "      <td>1</td>\n",
       "    </tr>\n",
       "    <tr>\n",
       "      <th>997</th>\n",
       "      <td>1.000000</td>\n",
       "      <td>0.918549</td>\n",
       "      <td>1</td>\n",
       "      <td>1</td>\n",
       "    </tr>\n",
       "    <tr>\n",
       "      <th>998</th>\n",
       "      <td>1.000000</td>\n",
       "      <td>0.930176</td>\n",
       "      <td>1</td>\n",
       "      <td>1</td>\n",
       "    </tr>\n",
       "    <tr>\n",
       "      <th>999</th>\n",
       "      <td>1.000000</td>\n",
       "      <td>0.942899</td>\n",
       "      <td>1</td>\n",
       "      <td>1</td>\n",
       "    </tr>\n",
       "  </tbody>\n",
       "</table>\n",
       "<p>1000 rows × 4 columns</p>\n",
       "</div>"
      ],
      "text/plain": [
       "     A2A_CLS_<class 'sklearn.ensemble._forest.ExtraTreesClassifier'>  \\\n",
       "0                                             0.833333                 \n",
       "1                                             1.000000                 \n",
       "2                                             0.803333                 \n",
       "3                                             1.000000                 \n",
       "4                                             0.000000                 \n",
       "..                                                 ...                 \n",
       "995                                           0.846667                 \n",
       "996                                           1.000000                 \n",
       "997                                           1.000000                 \n",
       "998                                           1.000000                 \n",
       "999                                           1.000000                 \n",
       "\n",
       "           SA  DESIRE  VALID  \n",
       "0    0.872962       1      1  \n",
       "1    0.931695       1      1  \n",
       "2    0.951500       1      1  \n",
       "3    0.906433       1      1  \n",
       "4    0.955998       0      1  \n",
       "..        ...     ...    ...  \n",
       "995  0.905904       1      1  \n",
       "996  0.920248       1      1  \n",
       "997  0.918549       1      1  \n",
       "998  0.930176       1      1  \n",
       "999  0.942899       1      1  \n",
       "\n",
       "[1000 rows x 4 columns]"
      ]
     },
     "execution_count": 25,
     "metadata": {},
     "output_type": "execute_result"
    }
   ],
   "source": [
    "environment.getScores(smiles_finetuned)"
   ]
  },
  {
   "cell_type": "code",
   "execution_count": 26,
   "id": "784f031e-2d82-418e-97a8-73e4de4a7c17",
   "metadata": {},
   "outputs": [
    {
     "name": "stderr",
     "output_type": "stream",
     "text": [
      "/home/sichom/software/miniconda/envs/drugex-demo/lib/python3.9/site-packages/sklearn/base.py:450: UserWarning:\n",
      "\n",
      "X does not have valid feature names, but ExtraTreesClassifier was fitted with feature names\n",
      "\n",
      "/home/sichom/software/miniconda/envs/drugex-demo/lib/python3.9/site-packages/sklearn/base.py:450: UserWarning:\n",
      "\n",
      "X does not have valid feature names, but ExtraTreesClassifier was fitted with feature names\n",
      "\n",
      "/home/sichom/software/miniconda/envs/drugex-demo/lib/python3.9/site-packages/sklearn/base.py:450: UserWarning:\n",
      "\n",
      "X does not have valid feature names, but ExtraTreesClassifier was fitted with feature names\n",
      "\n",
      "/home/sichom/software/miniconda/envs/drugex-demo/lib/python3.9/site-packages/sklearn/base.py:450: UserWarning:\n",
      "\n",
      "X does not have valid feature names, but ExtraTreesClassifier was fitted with feature names\n",
      "\n",
      "/home/sichom/software/miniconda/envs/drugex-demo/lib/python3.9/site-packages/sklearn/base.py:450: UserWarning:\n",
      "\n",
      "X does not have valid feature names, but ExtraTreesClassifier was fitted with feature names\n",
      "\n",
      "/home/sichom/software/miniconda/envs/drugex-demo/lib/python3.9/site-packages/sklearn/base.py:450: UserWarning:\n",
      "\n",
      "X does not have valid feature names, but ExtraTreesClassifier was fitted with feature names\n",
      "\n",
      "/home/sichom/software/miniconda/envs/drugex-demo/lib/python3.9/site-packages/sklearn/base.py:450: UserWarning:\n",
      "\n",
      "X does not have valid feature names, but ExtraTreesClassifier was fitted with feature names\n",
      "\n",
      "/home/sichom/software/miniconda/envs/drugex-demo/lib/python3.9/site-packages/sklearn/base.py:450: UserWarning:\n",
      "\n",
      "X does not have valid feature names, but ExtraTreesClassifier was fitted with feature names\n",
      "\n",
      "/home/sichom/software/miniconda/envs/drugex-demo/lib/python3.9/site-packages/sklearn/base.py:450: UserWarning:\n",
      "\n",
      "X does not have valid feature names, but ExtraTreesClassifier was fitted with feature names\n",
      "\n",
      "/home/sichom/software/miniconda/envs/drugex-demo/lib/python3.9/site-packages/sklearn/base.py:450: UserWarning:\n",
      "\n",
      "X does not have valid feature names, but ExtraTreesClassifier was fitted with feature names\n",
      "\n",
      "/home/sichom/software/miniconda/envs/drugex-demo/lib/python3.9/site-packages/sklearn/base.py:450: UserWarning:\n",
      "\n",
      "X does not have valid feature names, but ExtraTreesClassifier was fitted with feature names\n",
      "\n",
      "/home/sichom/software/miniconda/envs/drugex-demo/lib/python3.9/site-packages/sklearn/base.py:450: UserWarning:\n",
      "\n",
      "X does not have valid feature names, but ExtraTreesClassifier was fitted with feature names\n",
      "\n",
      "/home/sichom/software/miniconda/envs/drugex-demo/lib/python3.9/site-packages/sklearn/base.py:450: UserWarning:\n",
      "\n",
      "X does not have valid feature names, but ExtraTreesClassifier was fitted with feature names\n",
      "\n",
      "/home/sichom/software/miniconda/envs/drugex-demo/lib/python3.9/site-packages/sklearn/base.py:450: UserWarning:\n",
      "\n",
      "X does not have valid feature names, but ExtraTreesClassifier was fitted with feature names\n",
      "\n",
      "/home/sichom/software/miniconda/envs/drugex-demo/lib/python3.9/site-packages/sklearn/base.py:450: UserWarning:\n",
      "\n",
      "X does not have valid feature names, but ExtraTreesClassifier was fitted with feature names\n",
      "\n",
      "/home/sichom/software/miniconda/envs/drugex-demo/lib/python3.9/site-packages/sklearn/base.py:450: UserWarning:\n",
      "\n",
      "X does not have valid feature names, but ExtraTreesClassifier was fitted with feature names\n",
      "\n",
      "/home/sichom/software/miniconda/envs/drugex-demo/lib/python3.9/site-packages/sklearn/base.py:450: UserWarning:\n",
      "\n",
      "X does not have valid feature names, but ExtraTreesClassifier was fitted with feature names\n",
      "\n",
      "/home/sichom/software/miniconda/envs/drugex-demo/lib/python3.9/site-packages/sklearn/base.py:450: UserWarning:\n",
      "\n",
      "X does not have valid feature names, but ExtraTreesClassifier was fitted with feature names\n",
      "\n",
      "/home/sichom/software/miniconda/envs/drugex-demo/lib/python3.9/site-packages/sklearn/base.py:450: UserWarning:\n",
      "\n",
      "X does not have valid feature names, but ExtraTreesClassifier was fitted with feature names\n",
      "\n",
      "/home/sichom/software/miniconda/envs/drugex-demo/lib/python3.9/site-packages/sklearn/base.py:450: UserWarning:\n",
      "\n",
      "X does not have valid feature names, but ExtraTreesClassifier was fitted with feature names\n",
      "\n"
     ]
    }
   ],
   "source": [
    "from drugex.training.models.explorer import SmilesExplorerNoFrag\n",
    "\n",
    "pretrained = RNN(voc, is_lstm=True, use_gpus=GPUS)\n",
    "pretrained.loadStatesFromFile('data/drugex/models/pretrained/DrugEx_v2_PT_Papyrus05.5/Papyrus05.5_smiles_rnn_PT.pkg')\n",
    "\n",
    "finetuned = RNN(voc, is_lstm=True, use_gpus=GPUS)\n",
    "finetuned.loadStatesFromFile('data/drugex/models/finetuned/ligand_finetune.pkg')\n",
    "\n",
    "explorer = SmilesExplorerNoFrag(\n",
    "    finetuned,\n",
    "    environment,\n",
    "    mutate = pretrained,\n",
    "    crover = finetuned,\n",
    "    sigma = 0,\n",
    "    epsilon = 0.01,\n",
    "    use_gpus = GPUS\n",
    ")\n",
    "monitor = FileMonitor(os.path.join(MODEL_DIR, 'ligand_agent_rl'), verbose=True)\n",
    "explorer.fit(train_loader, valid_loader, monitor=monitor, epochs=10)"
   ]
  },
  {
   "cell_type": "code",
   "execution_count": 27,
   "id": "10961ed4-d2f4-4132-b3ff-d5317ee57026",
   "metadata": {},
   "outputs": [
    {
     "data": {
      "text/html": [
       "<div>\n",
       "<style scoped>\n",
       "    .dataframe tbody tr th:only-of-type {\n",
       "        vertical-align: middle;\n",
       "    }\n",
       "\n",
       "    .dataframe tbody tr th {\n",
       "        vertical-align: top;\n",
       "    }\n",
       "\n",
       "    .dataframe thead th {\n",
       "        text-align: right;\n",
       "    }\n",
       "</style>\n",
       "<table border=\"1\" class=\"dataframe\">\n",
       "  <thead>\n",
       "    <tr style=\"text-align: right;\">\n",
       "      <th></th>\n",
       "      <th>epoch</th>\n",
       "      <th>loss_train</th>\n",
       "      <th>loss_valid</th>\n",
       "      <th>valid_ratio</th>\n",
       "      <th>unique_ratio</th>\n",
       "      <th>desire_ratio</th>\n",
       "      <th>mean_train_loss</th>\n",
       "    </tr>\n",
       "  </thead>\n",
       "  <tbody>\n",
       "    <tr>\n",
       "      <th>0</th>\n",
       "      <td>1</td>\n",
       "      <td>NaN</td>\n",
       "      <td>NaN</td>\n",
       "      <td>0.859375</td>\n",
       "      <td>NaN</td>\n",
       "      <td>NaN</td>\n",
       "      <td>-1.125704</td>\n",
       "    </tr>\n",
       "    <tr>\n",
       "      <th>1</th>\n",
       "      <td>2</td>\n",
       "      <td>NaN</td>\n",
       "      <td>NaN</td>\n",
       "      <td>0.835938</td>\n",
       "      <td>NaN</td>\n",
       "      <td>NaN</td>\n",
       "      <td>-0.092438</td>\n",
       "    </tr>\n",
       "    <tr>\n",
       "      <th>2</th>\n",
       "      <td>3</td>\n",
       "      <td>NaN</td>\n",
       "      <td>NaN</td>\n",
       "      <td>0.875000</td>\n",
       "      <td>NaN</td>\n",
       "      <td>NaN</td>\n",
       "      <td>-0.093063</td>\n",
       "    </tr>\n",
       "    <tr>\n",
       "      <th>3</th>\n",
       "      <td>4</td>\n",
       "      <td>NaN</td>\n",
       "      <td>NaN</td>\n",
       "      <td>0.921875</td>\n",
       "      <td>NaN</td>\n",
       "      <td>NaN</td>\n",
       "      <td>-0.087151</td>\n",
       "    </tr>\n",
       "    <tr>\n",
       "      <th>4</th>\n",
       "      <td>5</td>\n",
       "      <td>NaN</td>\n",
       "      <td>NaN</td>\n",
       "      <td>0.929688</td>\n",
       "      <td>NaN</td>\n",
       "      <td>NaN</td>\n",
       "      <td>-0.085320</td>\n",
       "    </tr>\n",
       "  </tbody>\n",
       "</table>\n",
       "</div>"
      ],
      "text/plain": [
       "   epoch  loss_train  loss_valid  valid_ratio  unique_ratio  desire_ratio  \\\n",
       "0      1         NaN         NaN     0.859375           NaN           NaN   \n",
       "1      2         NaN         NaN     0.835938           NaN           NaN   \n",
       "2      3         NaN         NaN     0.875000           NaN           NaN   \n",
       "3      4         NaN         NaN     0.921875           NaN           NaN   \n",
       "4      5         NaN         NaN     0.929688           NaN           NaN   \n",
       "\n",
       "   mean_train_loss  \n",
       "0        -1.125704  \n",
       "1        -0.092438  \n",
       "2        -0.093063  \n",
       "3        -0.087151  \n",
       "4        -0.085320  "
      ]
     },
     "execution_count": 27,
     "metadata": {},
     "output_type": "execute_result"
    }
   ],
   "source": [
    "df_info = pd.read_csv('data/drugex/models/finetuned/ligand_agent_rl_fit.tsv', sep='\\t')\n",
    "df_info.head()"
   ]
  },
  {
   "cell_type": "code",
   "execution_count": 29,
   "id": "024f80f1-dc7d-4d64-a19a-c8660a3222a5",
   "metadata": {},
   "outputs": [
    {
     "data": {
      "text/plain": [
       "<AxesSubplot: >"
      ]
     },
     "execution_count": 29,
     "metadata": {},
     "output_type": "execute_result"
    },
    {
     "data": {
      "image/png": "[encoded data removed]",
      "text/plain": [
       "<Figure size 640x480 with 1 Axes>"
      ]
     },
     "metadata": {},
     "output_type": "display_data"
    }
   ],
   "source": [
    "df_info[['valid_ratio', 'mean_train_loss']].plot.line()"
   ]
  },
  {
   "cell_type": "code",
   "execution_count": 30,
   "id": "7b4b51a2-f2c5-422c-a5f3-145f54bee748",
   "metadata": {},
   "outputs": [],
   "source": [
    "agent = RNN(voc, is_lstm=True, use_gpus=GPUS)\n",
    "agent.loadStatesFromFile('data/drugex/models/finetuned/ligand_agent_rl.pkg')\n",
    "\n",
    "smiles = sample_smiles(agent, 1000)"
   ]
  },
  {
   "cell_type": "code",
   "execution_count": 35,
   "id": "1a0d277c-8425-4856-88e1-9ccc2d1af161",
   "metadata": {},
   "outputs": [
    {
     "name": "stderr",
     "output_type": "stream",
     "text": [
      "/home/sichom/software/miniconda/envs/drugex-demo/lib/python3.9/site-packages/sklearn/base.py:450: UserWarning:\n",
      "\n",
      "X does not have valid feature names, but ExtraTreesClassifier was fitted with feature names\n",
      "\n"
     ]
    },
    {
     "data": {
      "text/html": [
       "<div>\n",
       "<style scoped>\n",
       "    .dataframe tbody tr th:only-of-type {\n",
       "        vertical-align: middle;\n",
       "    }\n",
       "\n",
       "    .dataframe tbody tr th {\n",
       "        vertical-align: top;\n",
       "    }\n",
       "\n",
       "    .dataframe thead th {\n",
       "        text-align: right;\n",
       "    }\n",
       "</style>\n",
       "<table border=\"1\" class=\"dataframe\">\n",
       "  <thead>\n",
       "    <tr style=\"text-align: right;\">\n",
       "      <th></th>\n",
       "      <th>A2A_CLS_&lt;class 'sklearn.ensemble._forest.ExtraTreesClassifier'&gt;</th>\n",
       "      <th>SA</th>\n",
       "      <th>DESIRE</th>\n",
       "      <th>VALID</th>\n",
       "    </tr>\n",
       "  </thead>\n",
       "  <tbody>\n",
       "    <tr>\n",
       "      <th>0</th>\n",
       "      <td>0.706667</td>\n",
       "      <td>0.959731</td>\n",
       "      <td>1</td>\n",
       "      <td>1</td>\n",
       "    </tr>\n",
       "    <tr>\n",
       "      <th>1</th>\n",
       "      <td>1.000000</td>\n",
       "      <td>0.939109</td>\n",
       "      <td>1</td>\n",
       "      <td>1</td>\n",
       "    </tr>\n",
       "    <tr>\n",
       "      <th>2</th>\n",
       "      <td>1.000000</td>\n",
       "      <td>0.947251</td>\n",
       "      <td>1</td>\n",
       "      <td>1</td>\n",
       "    </tr>\n",
       "    <tr>\n",
       "      <th>3</th>\n",
       "      <td>0.586667</td>\n",
       "      <td>0.955955</td>\n",
       "      <td>1</td>\n",
       "      <td>1</td>\n",
       "    </tr>\n",
       "    <tr>\n",
       "      <th>4</th>\n",
       "      <td>1.000000</td>\n",
       "      <td>0.965169</td>\n",
       "      <td>1</td>\n",
       "      <td>1</td>\n",
       "    </tr>\n",
       "    <tr>\n",
       "      <th>...</th>\n",
       "      <td>...</td>\n",
       "      <td>...</td>\n",
       "      <td>...</td>\n",
       "      <td>...</td>\n",
       "    </tr>\n",
       "    <tr>\n",
       "      <th>995</th>\n",
       "      <td>1.000000</td>\n",
       "      <td>0.949258</td>\n",
       "      <td>1</td>\n",
       "      <td>1</td>\n",
       "    </tr>\n",
       "    <tr>\n",
       "      <th>996</th>\n",
       "      <td>1.000000</td>\n",
       "      <td>0.937217</td>\n",
       "      <td>1</td>\n",
       "      <td>1</td>\n",
       "    </tr>\n",
       "    <tr>\n",
       "      <th>997</th>\n",
       "      <td>0.953333</td>\n",
       "      <td>0.927319</td>\n",
       "      <td>1</td>\n",
       "      <td>1</td>\n",
       "    </tr>\n",
       "    <tr>\n",
       "      <th>998</th>\n",
       "      <td>1.000000</td>\n",
       "      <td>0.949339</td>\n",
       "      <td>1</td>\n",
       "      <td>1</td>\n",
       "    </tr>\n",
       "    <tr>\n",
       "      <th>999</th>\n",
       "      <td>0.426667</td>\n",
       "      <td>0.959348</td>\n",
       "      <td>0</td>\n",
       "      <td>1</td>\n",
       "    </tr>\n",
       "  </tbody>\n",
       "</table>\n",
       "<p>1000 rows × 4 columns</p>\n",
       "</div>"
      ],
      "text/plain": [
       "     A2A_CLS_<class 'sklearn.ensemble._forest.ExtraTreesClassifier'>  \\\n",
       "0                                             0.706667                 \n",
       "1                                             1.000000                 \n",
       "2                                             1.000000                 \n",
       "3                                             0.586667                 \n",
       "4                                             1.000000                 \n",
       "..                                                 ...                 \n",
       "995                                           1.000000                 \n",
       "996                                           1.000000                 \n",
       "997                                           0.953333                 \n",
       "998                                           1.000000                 \n",
       "999                                           0.426667                 \n",
       "\n",
       "           SA  DESIRE  VALID  \n",
       "0    0.959731       1      1  \n",
       "1    0.939109       1      1  \n",
       "2    0.947251       1      1  \n",
       "3    0.955955       1      1  \n",
       "4    0.965169       1      1  \n",
       "..        ...     ...    ...  \n",
       "995  0.949258       1      1  \n",
       "996  0.937217       1      1  \n",
       "997  0.927319       1      1  \n",
       "998  0.949339       1      1  \n",
       "999  0.959348       0      1  \n",
       "\n",
       "[1000 rows x 4 columns]"
      ]
     },
     "execution_count": 35,
     "metadata": {},
     "output_type": "execute_result"
    }
   ],
   "source": [
    "scores = environment.getScores(smiles)\n",
    "scores"
   ]
  },
  {
   "cell_type": "code",
   "execution_count": 39,
   "id": "0b152b73-e5f2-4156-ba7e-cb24459c06d5",
   "metadata": {},
   "outputs": [
    {
     "data": {
      "text/plain": [
       "0.715"
      ]
     },
     "execution_count": 39,
     "metadata": {},
     "output_type": "execute_result"
    }
   ],
   "source": [
    "sum(scores[\"A2A_CLS_<class 'sklearn.ensemble._forest.ExtraTreesClassifier'>\"] > 0.5) / len(scores)"
   ]
  },
  {
   "cell_type": "code",
   "execution_count": 32,
   "id": "7ed26665-bb3a-4121-be5c-4dc5b16228dd",
   "metadata": {},
   "outputs": [
    {
     "data": {
      "text/plain": [
       "<scaffviz.data.dataset.DataSetSMILES at 0x7ffa3f660a60>"
      ]
     },
     "execution_count": 32,
     "metadata": {},
     "output_type": "execute_result"
    }
   ],
   "source": [
    "dataset = DataSetSMILES(\"data/finetuned_rl_sampled.tsv\", smiles=smiles, use_existing=False)\n",
    "dataset"
   ]
  },
  {
   "cell_type": "code",
   "execution_count": 40,
   "id": "56684b01-256a-48e1-a689-91d25de35f05",
   "metadata": {},
   "outputs": [],
   "source": [
    "dataset.addData('CLS', scores[\"A2A_CLS_<class 'sklearn.ensemble._forest.ExtraTreesClassifier'>\"])"
   ]
  },
  {
   "cell_type": "code",
   "execution_count": 43,
   "id": "0733bcb3-7b34-4c1a-8730-dc9fe6fe4455",
   "metadata": {},
   "outputs": [
    {
     "data": {
      "text/html": [
       "\n",
       "        <iframe\n",
       "            width=\"100%\"\n",
       "            height=\"800\"\n",
       "            src=\"http://127.0.0.1:9696/\"\n",
       "            frameborder=\"0\"\n",
       "            allowfullscreen\n",
       "            \n",
       "        ></iframe>\n",
       "        "
      ],
      "text/plain": [
       "<IPython.lib.display.IFrame at 0x7ff9767c9ac0>"
      ]
     },
     "metadata": {},
     "output_type": "display_data"
    }
   ],
   "source": [
    "dataset.addDescriptors([MorganFP(radius=2, nBits=1024)], recalculate=False) \n",
    "\n",
    "# make an interactive plot that will use t-SNE to embed the data set in 2D (all current descriptors in the data set will be used)\n",
    "plt = Plot(dataset, TSNE())\n",
    "\n",
    "# start the server, you can open the plot in the browser\n",
    "plt.plot(\n",
    "    recalculate=False,\n",
    "    color_by='CLS',\n",
    "    color_continuous_scale=\"rdylgn\",\n",
    "    color_style='continuous',\n",
    "    viewport_height=800,\n",
    "    port=9696\n",
    ")"
   ]
  },
  {
   "cell_type": "code",
   "execution_count": null,
   "id": "c445ab75-22ff-4e85-9b51-423b0c5d5d72",
   "metadata": {},
   "outputs": [],
   "source": []
  }
 ],
 "metadata": {
  "kernelspec": {
   "display_name": "Python 3 (ipykernel)",
   "language": "python",
   "name": "python3"
  },
  "language_info": {
   "codemirror_mode": {
    "name": "ipython",
    "version": 3
   },
   "file_extension": ".py",
   "mimetype": "text/x-python",
   "name": "python",
   "nbconvert_exporter": "python",
   "pygments_lexer": "ipython3",
   "version": "3.9.13"
  }
 },
 "nbformat": 4,
 "nbformat_minor": 5
}
