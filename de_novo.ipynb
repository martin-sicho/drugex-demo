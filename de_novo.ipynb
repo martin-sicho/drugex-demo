{
 "cells": [
  {
   "cell_type": "markdown",
   "id": "fc212f45-d2da-4382-b25f-a7546fb35490",
   "metadata": {},
   "source": [
    "# De Novo Drug Design with AI\n",
    "\n",
    "In this last section of the tutorial, we will show how we can generate new compounds with artificial intelligence (AI). Historically, [there have been many attempts](https://doi.org/10.3390/ijms22041676) to develop an algorithm that can generate chemical entities with desirable properties. Many of the early methods relied on evolutionary aglorithms, but today deep neural networks have become very popular for this task. It is still not clear if one approach works better than the other, but in this tutorial we will use the [DrugEx package](https://github.com/CDDLeiden/DrugEx), which integrates multiple generative deep learning models and provides a framework to train them with multiple objectives. However, there are many similar models and packages out there each with its own caveats and benefits. Therefore, it is generally a good idea to combine multiple approaches in real world applications because the overlap of the generated compounds between different methodlogies is usually very small.\n",
    "\n",
    "\n",
    "## Transfer Learning (Pretrained & Finetuned Model)\n",
    "\n",
    "We will not be training a generative model from scratch in this tutorial, but instead we will use a common technique called *transfer learning*. In transfer learning, we use an already pretrained model for one task as a starting point to finetune a second model for another task. The workflow is illustrated below:\n",
    "\n",
    "![TL](img/TL.drawio.svg)\n",
    "\n",
    "In the context of this tutorial, the pretrained model will be a large model trained on a large data set ([Papyrus](https://zenodo.org/record/7096859)). The task of this model was to observe the entirety of Papyrus data set and learn what a chemical structure looks like and be able to generate chemically valid molecules that resemble known chemistry. For this tutorial, we chose the model based on recurrent neural netoworks (RNNs). These are ususally easier to train so you can run these experiments on a regular GPU that you might have at home without too much waiting. This choice will also affect all other choices we will make in this tutorial so note that for a different model, slightly different workflow would be necessary.\n",
    "\n",
    "This global pretrained model is not very useful for our task, however, because it will likely only be able to generate very small percentage of molecules that might have some activity on the A2A receptor. Therefore, we will use the concept of transfer learning to obtain a finetuned model that can both generate valid molecules, but make those molecules much more similar to those that we extracted previously and should be relevant to the A2A receptor. \n",
    "\n",
    "### Preatrained Model\n",
    "\n",
    "First, let us start by loading and testing the pretrained model. This model is [archived on the Zenodo service](https://zenodo.org/record/7096859). There are many files archived along with the model, but at this point we only care about the `.vocab` and `.pkg` files:"
   ]
  },
  {
   "cell_type": "code",
   "execution_count": 1,
   "id": "70a859d9-a55e-4a64-8c87-8995d43f676b",
   "metadata": {},
   "outputs": [],
   "source": [
    "import os\n",
    "from drugex.training.models import RNN\n",
    "from drugex.data.corpus.vocabulary import VocSmiles\n",
    "\n",
    "PT_MODEL_FOLDER = \"data/drugex/models/pretrained/DrugEx_v2_PT_Papyrus05.5/\"\n",
    "GPUS = [0] # we will use only one GPU with ID=0, but if you have more, you can list more GPU IDs here\n",
    "\n",
    "voc = VocSmiles.fromFile(os.path.join(PT_MODEL_FOLDER, \"Papyrus05.5_smiles_rnn_PT.vocab\"))\n",
    "pretrained = RNN(voc, is_lstm=True, use_gpus=GPUS)\n",
    "pretrained.loadStatesFromFile(os.path.join(PT_MODEL_FOLDER, \"Papyrus05.5_smiles_rnn_PT.pkg\"))"
   ]
  },
  {
   "cell_type": "markdown",
   "id": "f495c430-c5f6-4d28-a6d8-caf24f4fa6ad",
   "metadata": {},
   "source": [
    "The `RNN` model requires a vocabulary of tokens to be provided. You can open this file and see the tokens defined in it. These are the words of the SMILES language that we use to define structures of molecules. What the model learned is how to combine these words into viable sentences (chemical structures) in the SMILES language. The data saved in the `.pkg` file are the weights (learned states) of the model that define the learned parameters and tell the model how to combine the tokens in the vocabulary in the correct way to generate a random compound that resembles known chemistry.\n",
    "\n",
    "At this point, we should have the pretrained model loaded and be ready to generate some molecules with it. We can validate that the model functions as expected by sampling a small number of molecules from it:"
   ]
  },
  {
   "cell_type": "code",
   "execution_count": 2,
   "id": "e2c64ef2-e7b4-4d3e-8376-fa1782bfb5ee",
   "metadata": {},
   "outputs": [
    {
     "name": "stdout",
     "output_type": "stream",
     "text": [
      "['COc1ccc(S(=O)(=O)NCCC2CCC(NS(=O)(=O)c3cccc(OC)c3)C(CO)O2)cc1', 'O=C(c1cc([N+](=O)[O-])cc([N+](=O)[O-])c1)c1ccco1', 'CCOc1cc(C(=O)NCC(C)C)ccc1OCC(=O)N1CCOCC1', 'Cc1c(NS(=O)(=O)c2c(Cl)cc(Br)cc2Cl)c(=O)n(-c2ccccc2)n1C', 'CC(C)COc1ccc(CN2CCCC3(CCN(c4cnc5ccccc5n4)CC3)C2)cc1', 'CCCC1(CCc2ccccc2)CC(=O)C(C(c2cccc(F)c2)c2cc(C)c(O)c(C(=O)O)c2)=C(O)O1', 'O=C(Cc1ccccc1)Oc1ccc2c(c1)C13CCCCC1C(C2)N(CC1CCC1)CC3', 'COCCCn1c(O)c(O)c(C(=O)c2ccc(F)c(F)c2)c1-c1cccs1', 'COc1ccc(CC(=O)NC2CCOc3ncccc32)cc1', 'COc1ccc(S(=O)(=O)NCc2ccccc2Cl)cc1Oc1nc2ccccc2[nH]1']\n"
     ]
    }
   ],
   "source": [
    "from drugex.utils import canonicalize_list\n",
    "from drugex.training.scorers.smiles import SmilesChecker\n",
    "import numpy as np\n",
    "\n",
    "def sample_smiles(self, num_smiles, batch_size=100, drop_duplicates=True, drop_invalid=True):\n",
    "    smiles = []\n",
    "    while len(smiles) < num_smiles:\n",
    "        # sample SMILES\n",
    "        sequences = self.sample(batch_size)\n",
    "        # decode according to vocabulary\n",
    "        new_smiles = canonicalize_list([self.voc.decode(s, is_tk = False) for s in sequences])\n",
    "        # drop duplicates\n",
    "        if drop_duplicates:\n",
    "            new_smiles = np.array(new_smiles)\n",
    "            new_smiles = new_smiles[np.logical_not(np.isin(new_smiles, smiles))]\n",
    "            new_smiles = new_smiles.tolist()\n",
    "        # drop invalid smiles\n",
    "        if drop_invalid:\n",
    "            scores = SmilesChecker.checkSmiles(new_smiles, frags=None).ravel()\n",
    "            new_smiles = np.array(new_smiles)[scores > 0].tolist()\n",
    "        smiles += new_smiles\n",
    "    return smiles[:num_smiles]\n",
    "\n",
    "smiles_pretrained = sample_smiles(pretrained, 1000)\n",
    "print(smiles_pretrained[0:10])"
   ]
  },
  {
   "cell_type": "markdown",
   "id": "28f05f05-4a16-4f35-8976-c671fbc37f8b",
   "metadata": {},
   "source": [
    "These are the first ten SMILES strings from the 1000 requested. It is a little hard to read into the structures from the SMILES strings so let's convert them to the `scaffviz` data set, which we can use to make a visualization:"
   ]
  },
  {
   "cell_type": "code",
   "execution_count": 3,
   "id": "4ab32fa0-a0c8-4f76-8a4f-0960ce3d0abf",
   "metadata": {},
   "outputs": [
    {
     "data": {
      "text/html": [
       "<div>\n",
       "<style scoped>\n",
       "    .dataframe tbody tr th:only-of-type {\n",
       "        vertical-align: middle;\n",
       "    }\n",
       "\n",
       "    .dataframe tbody tr th {\n",
       "        vertical-align: top;\n",
       "    }\n",
       "\n",
       "    .dataframe thead th {\n",
       "        text-align: right;\n",
       "    }\n",
       "</style>\n",
       "<table border=\"1\" class=\"dataframe\">\n",
       "  <thead>\n",
       "    <tr style=\"text-align: right;\">\n",
       "      <th></th>\n",
       "      <th>SMILES</th>\n",
       "      <th>RDMol</th>\n",
       "    </tr>\n",
       "  </thead>\n",
       "  <tbody>\n",
       "    <tr>\n",
       "      <th>0</th>\n",
       "      <td>COc1ccc(S(=O)(=O)NCCC2CCC(NS(=O)(=O)c3cccc(OC)...</td>\n",
       "      <td style=\"text-align: center;\"><img data-content=\"rdkit/molecule\" src=\"data:image/png;base64,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\" alt=\"Mol\"/></td>\n",
       "    </tr>\n",
       "    <tr>\n",
       "      <th>1</th>\n",
       "      <td>O=C(c1cc([N+](=O)[O-])cc([N+](=O)[O-])c1)c1ccco1</td>\n",
       "      <td style=\"text-align: center;\"><img data-content=\"rdkit/molecule\" src=\"data:image/png;base64,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\" alt=\"Mol\"/></td>\n",
       "    </tr>\n",
       "    <tr>\n",
       "      <th>2</th>\n",
       "      <td>CCOc1cc(C(=O)NCC(C)C)ccc1OCC(=O)N1CCOCC1</td>\n",
       "      <td style=\"text-align: center;\"><img data-content=\"rdkit/molecule\" src=\"data:image/png;base64,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\" alt=\"Mol\"/></td>\n",
       "    </tr>\n",
       "  </tbody>\n",
       "</table>\n",
       "</div>"
      ],
      "text/plain": [
       "                                              SMILES  \\\n",
       "0  COc1ccc(S(=O)(=O)NCCC2CCC(NS(=O)(=O)c3cccc(OC)...   \n",
       "1   O=C(c1cc([N+](=O)[O-])cc([N+](=O)[O-])c1)c1ccco1   \n",
       "2           CCOc1cc(C(=O)NCC(C)C)ccc1OCC(=O)N1CCOCC1   \n",
       "\n",
       "                                               RDMol  \n",
       "0  <img data-content=\"rdkit/molecule\" src=\"data:i...  \n",
       "1  <img data-content=\"rdkit/molecule\" src=\"data:i...  \n",
       "2  <img data-content=\"rdkit/molecule\" src=\"data:i...  "
      ]
     },
     "execution_count": 3,
     "metadata": {},
     "output_type": "execute_result"
    }
   ],
   "source": [
    "from scaffviz.data.dataset import DataSetSMILES\n",
    "\n",
    "dataset = DataSetSMILES(\"data/pretrained_sampled.tsv\", smiles=smiles_pretrained, use_existing=False)\n",
    "dataset.asDataFrame().head(3)"
   ]
  },
  {
   "cell_type": "markdown",
   "id": "5961abff-792c-4ae5-bd6b-8d0d919a0369",
   "metadata": {},
   "source": [
    "You can see that the generated `DataFrame` also includes a picture of the structure, but plotting the full chemical space plot is easy so let's do that too:"
   ]
  },
  {
   "cell_type": "code",
   "execution_count": 4,
   "id": "50960900-3142-4ba7-9389-b37d293df6ef",
   "metadata": {},
   "outputs": [
    {
     "name": "stderr",
     "output_type": "stream",
     "text": [
      "/home/sichom/software/miniconda/envs/drugex-demo/lib/python3.9/site-packages/sklearn/manifold/_t_sne.py:800: FutureWarning: The default initialization in TSNE will change from 'random' to 'pca' in 1.2.\n",
      "  warnings.warn(\n",
      "/home/sichom/software/miniconda/envs/drugex-demo/lib/python3.9/site-packages/sklearn/manifold/_t_sne.py:810: FutureWarning: The default learning rate in TSNE will change from 200.0 to 'auto' in 1.2.\n",
      "  warnings.warn(\n"
     ]
    },
    {
     "data": {
      "text/html": [
       "\n",
       "        <iframe\n",
       "            width=\"100%\"\n",
       "            height=\"800\"\n",
       "            src=\"http://127.0.0.1:9292/\"\n",
       "            frameborder=\"0\"\n",
       "            allowfullscreen\n",
       "            \n",
       "        ></iframe>\n",
       "        "
      ],
      "text/plain": [
       "<IPython.lib.display.IFrame at 0x7fec054efcd0>"
      ]
     },
     "metadata": {},
     "output_type": "display_data"
    }
   ],
   "source": [
    "from scaffviz.depiction.plot import Plot\n",
    "from scaffviz.clustering.manifold import TSNE\n",
    "from scaffviz.clustering.descriptors import MorganFP\n",
    "\n",
    "dataset.addDescriptors([MorganFP(radius=2, nBits=1024)], recalculate=False) \n",
    "\n",
    "# make an interactive plot that will use t-SNE to embed the data set in 2D (all current descriptors in the data set will be used)\n",
    "plt = Plot(dataset, TSNE())\n",
    "\n",
    "# start the server, you can open the plot in the browser\n",
    "plt.plot(\n",
    "    recalculate=False,\n",
    "    viewport_height=800,\n",
    "    port=9292\n",
    ")"
   ]
  },
  {
   "cell_type": "markdown",
   "id": "8ff001ff-5bfd-40c8-bc45-a6eec035e44c",
   "metadata": {},
   "source": [
    "If we compare this plot to the plots generated in previous tutorials, we will notice that there are no clusters of points here. The compounds are spread out more or less evenly around the center of the plot. This is to be expected because the pretrained model is designed to make generally drug-like chemistry and should not be biased towards a particular group of compounds. \n",
    "\n",
    "### Finetuned Model\n",
    "\n",
    "Generating more concrete and more defined chemical space will be the task for the finetuned model, which we will train with transfer learning. The task will be to generate structures that resemble more the structures in our A2A data set introduced previously:"
   ]
  },
  {
   "cell_type": "code",
   "execution_count": 5,
   "id": "b42b4b0c-996c-46c2-8917-006c47e73419",
   "metadata": {},
   "outputs": [
    {
     "data": {
      "text/html": [
       "<div>\n",
       "<style scoped>\n",
       "    .dataframe tbody tr th:only-of-type {\n",
       "        vertical-align: middle;\n",
       "    }\n",
       "\n",
       "    .dataframe tbody tr th {\n",
       "        vertical-align: top;\n",
       "    }\n",
       "\n",
       "    .dataframe thead th {\n",
       "        text-align: right;\n",
       "    }\n",
       "</style>\n",
       "<table border=\"1\" class=\"dataframe\">\n",
       "  <thead>\n",
       "    <tr style=\"text-align: right;\">\n",
       "      <th></th>\n",
       "      <th>Activity_ID</th>\n",
       "      <th>Quality</th>\n",
       "      <th>source</th>\n",
       "      <th>CID</th>\n",
       "      <th>SMILES</th>\n",
       "      <th>connectivity</th>\n",
       "      <th>InChIKey</th>\n",
       "      <th>InChI</th>\n",
       "      <th>InChI_AuxInfo</th>\n",
       "      <th>target_id</th>\n",
       "      <th>...</th>\n",
       "      <th>Descriptor_MorganFP_1016</th>\n",
       "      <th>Descriptor_MorganFP_1017</th>\n",
       "      <th>Descriptor_MorganFP_1018</th>\n",
       "      <th>Descriptor_MorganFP_1019</th>\n",
       "      <th>Descriptor_MorganFP_1020</th>\n",
       "      <th>Descriptor_MorganFP_1021</th>\n",
       "      <th>Descriptor_MorganFP_1022</th>\n",
       "      <th>Descriptor_MorganFP_1023</th>\n",
       "      <th>TSNE_1</th>\n",
       "      <th>TSNE_2</th>\n",
       "    </tr>\n",
       "  </thead>\n",
       "  <tbody>\n",
       "    <tr>\n",
       "      <th>0</th>\n",
       "      <td>AACWUFIIMOHGSO_on_P29274_WT</td>\n",
       "      <td>High</td>\n",
       "      <td>ChEMBL30</td>\n",
       "      <td>CHEMBL410234</td>\n",
       "      <td>Cc1nn(-c2cc(NC(=O)CCN(C)C)nc(-c3ccc(C)o3)n2)c(...</td>\n",
       "      <td>AACWUFIIMOHGSO</td>\n",
       "      <td>AACWUFIIMOHGSO-UHFFFAOYSA-N</td>\n",
       "      <td>InChI=1S/C19H24N6O2/c1-12-10-13(2)25(23-12)17-...</td>\n",
       "      <td>\"AuxInfo=1/1/N:1,26,22,14,15,20,19,11,12,27,6,...</td>\n",
       "      <td>P29274_WT</td>\n",
       "      <td>...</td>\n",
       "      <td>0.0</td>\n",
       "      <td>1.0</td>\n",
       "      <td>0.0</td>\n",
       "      <td>0.0</td>\n",
       "      <td>0.0</td>\n",
       "      <td>0.0</td>\n",
       "      <td>0.0</td>\n",
       "      <td>0.0</td>\n",
       "      <td>-49.262220</td>\n",
       "      <td>-18.827414</td>\n",
       "    </tr>\n",
       "    <tr>\n",
       "      <th>1</th>\n",
       "      <td>AAEYTMMNWWKSKZ_on_P29274_WT</td>\n",
       "      <td>High</td>\n",
       "      <td>ChEMBL30</td>\n",
       "      <td>CHEMBL601208</td>\n",
       "      <td>Nc1c(C(=O)Nc2ccc([N+](=O)[O-])cc2)sc2c1cc1CCCC...</td>\n",
       "      <td>AAEYTMMNWWKSKZ</td>\n",
       "      <td>AAEYTMMNWWKSKZ-UHFFFAOYSA-N</td>\n",
       "      <td>InChI=1S/C18H16N4O3S/c19-15-13-9-10-3-1-2-4-14...</td>\n",
       "      <td>\"AuxInfo=1/1/N:22,23,21,24,8,15,9,14,19,20,7,1...</td>\n",
       "      <td>P29274_WT</td>\n",
       "      <td>...</td>\n",
       "      <td>0.0</td>\n",
       "      <td>0.0</td>\n",
       "      <td>0.0</td>\n",
       "      <td>0.0</td>\n",
       "      <td>0.0</td>\n",
       "      <td>0.0</td>\n",
       "      <td>0.0</td>\n",
       "      <td>0.0</td>\n",
       "      <td>-30.326859</td>\n",
       "      <td>6.892628</td>\n",
       "    </tr>\n",
       "    <tr>\n",
       "      <th>2</th>\n",
       "      <td>AAGFKZWKWAMJNP_on_P29274_WT</td>\n",
       "      <td>High</td>\n",
       "      <td>ChEMBL30</td>\n",
       "      <td>CHEMBL473650</td>\n",
       "      <td>O=C(Nc1nc2ncccc2n2c(=O)n(-c3ccccc3)nc12)c1ccccc1</td>\n",
       "      <td>AAGFKZWKWAMJNP</td>\n",
       "      <td>AAGFKZWKWAMJNP-UHFFFAOYSA-N</td>\n",
       "      <td>InChI=1S/C21H14N6O2/c28-20(14-8-3-1-4-9-14)24-...</td>\n",
       "      <td>\"AuxInfo=1/1/N:27,19,26,28,18,20,9,25,29,17,21...</td>\n",
       "      <td>P29274_WT</td>\n",
       "      <td>...</td>\n",
       "      <td>0.0</td>\n",
       "      <td>0.0</td>\n",
       "      <td>0.0</td>\n",
       "      <td>0.0</td>\n",
       "      <td>0.0</td>\n",
       "      <td>0.0</td>\n",
       "      <td>0.0</td>\n",
       "      <td>0.0</td>\n",
       "      <td>25.112610</td>\n",
       "      <td>-4.832593</td>\n",
       "    </tr>\n",
       "    <tr>\n",
       "      <th>3</th>\n",
       "      <td>AAJLGNFYNMJGSY_on_P29274_WT</td>\n",
       "      <td>High</td>\n",
       "      <td>ExCAPE-DB</td>\n",
       "      <td>9586623</td>\n",
       "      <td>NC(=NC(=O)Cn1c(O)c2CCCCc2c1O)Nc1nc2c(cccc2)s1</td>\n",
       "      <td>AAJLGNFYNMJGSY</td>\n",
       "      <td>AAJLGNFYNMJGSY-UHFFFAOYSA-N</td>\n",
       "      <td>InChI=1S/C18H19N5O3S/c19-17(22-18-20-12-7-3-4-...</td>\n",
       "      <td>\"AuxInfo=1/1/N:12,13,25,24,11,14,26,23,6,10,15...</td>\n",
       "      <td>P29274_WT</td>\n",
       "      <td>...</td>\n",
       "      <td>0.0</td>\n",
       "      <td>0.0</td>\n",
       "      <td>0.0</td>\n",
       "      <td>0.0</td>\n",
       "      <td>0.0</td>\n",
       "      <td>0.0</td>\n",
       "      <td>0.0</td>\n",
       "      <td>0.0</td>\n",
       "      <td>-21.665638</td>\n",
       "      <td>-12.843870</td>\n",
       "    </tr>\n",
       "    <tr>\n",
       "      <th>4</th>\n",
       "      <td>AANUKDYJZPKTKN_on_P29274_WT</td>\n",
       "      <td>High</td>\n",
       "      <td>ChEMBL30</td>\n",
       "      <td>CHEMBL573125;45483959;CHEMBL573125;45483959;CH...</td>\n",
       "      <td>CNC(=O)C12CC1C(n1cnc3c1nc(C#CCCCCC(=O)OC)nc3NC...</td>\n",
       "      <td>AANUKDYJZPKTKN</td>\n",
       "      <td>AANUKDYJZPKTKN-UHFFFAOYSA-N</td>\n",
       "      <td>InChI=1S/C28H31ClN6O5/c1-30-27(39)28-13-18(28)...</td>\n",
       "      <td>\"AuxInfo=1/1/N:1,25,18,19,17,20,35,36,34,16,21...</td>\n",
       "      <td>P29274_WT</td>\n",
       "      <td>...</td>\n",
       "      <td>0.0</td>\n",
       "      <td>0.0</td>\n",
       "      <td>0.0</td>\n",
       "      <td>1.0</td>\n",
       "      <td>0.0</td>\n",
       "      <td>0.0</td>\n",
       "      <td>0.0</td>\n",
       "      <td>0.0</td>\n",
       "      <td>6.994354</td>\n",
       "      <td>38.663483</td>\n",
       "    </tr>\n",
       "    <tr>\n",
       "      <th>...</th>\n",
       "      <td>...</td>\n",
       "      <td>...</td>\n",
       "      <td>...</td>\n",
       "      <td>...</td>\n",
       "      <td>...</td>\n",
       "      <td>...</td>\n",
       "      <td>...</td>\n",
       "      <td>...</td>\n",
       "      <td>...</td>\n",
       "      <td>...</td>\n",
       "      <td>...</td>\n",
       "      <td>...</td>\n",
       "      <td>...</td>\n",
       "      <td>...</td>\n",
       "      <td>...</td>\n",
       "      <td>...</td>\n",
       "      <td>...</td>\n",
       "      <td>...</td>\n",
       "      <td>...</td>\n",
       "      <td>...</td>\n",
       "      <td>...</td>\n",
       "    </tr>\n",
       "    <tr>\n",
       "      <th>3986</th>\n",
       "      <td>ZYXGKENMDDPQIE_on_P29274_WT</td>\n",
       "      <td>High</td>\n",
       "      <td>ChEMBL30</td>\n",
       "      <td>CHEMBL4283826</td>\n",
       "      <td>CNc1ncc(C(=O)NCc2ccc(OC)cc2)c2nc(-c3ccco3)nn12</td>\n",
       "      <td>ZYXGKENMDDPQIE</td>\n",
       "      <td>ZYXGKENMDDPQIE-UHFFFAOYSA-N</td>\n",
       "      <td>InChI=1S/C19H18N6O3/c1-20-19-22-11-14(17-23-16...</td>\n",
       "      <td>\"AuxInfo=1/1/N:1,16,24,23,12,18,13,17,25,10,5,...</td>\n",
       "      <td>P29274_WT</td>\n",
       "      <td>...</td>\n",
       "      <td>0.0</td>\n",
       "      <td>0.0</td>\n",
       "      <td>0.0</td>\n",
       "      <td>0.0</td>\n",
       "      <td>0.0</td>\n",
       "      <td>0.0</td>\n",
       "      <td>0.0</td>\n",
       "      <td>0.0</td>\n",
       "      <td>29.856173</td>\n",
       "      <td>-70.698350</td>\n",
       "    </tr>\n",
       "    <tr>\n",
       "      <th>3987</th>\n",
       "      <td>ZYZWFDVXMLCIOU_on_P29274_WT</td>\n",
       "      <td>High</td>\n",
       "      <td>ChEMBL30</td>\n",
       "      <td>CHEMBL260989;10132473;CHEMBL260989;10132473;CH...</td>\n",
       "      <td>Nc1nc(-c2ccco2)c2ncn(C(=O)NCCc3ccccc3)c2n1</td>\n",
       "      <td>ZYZWFDVXMLCIOU</td>\n",
       "      <td>ZYZWFDVXMLCIOU-UHFFFAOYSA-N</td>\n",
       "      <td>InChI=1S/C18H16N6O2/c19-17-22-14(13-7-4-10-26-...</td>\n",
       "      <td>\"AuxInfo=1/1/N:22,21,23,7,20,24,6,18,17,8,12,1...</td>\n",
       "      <td>P29274_WT</td>\n",
       "      <td>...</td>\n",
       "      <td>0.0</td>\n",
       "      <td>0.0</td>\n",
       "      <td>0.0</td>\n",
       "      <td>0.0</td>\n",
       "      <td>0.0</td>\n",
       "      <td>0.0</td>\n",
       "      <td>0.0</td>\n",
       "      <td>0.0</td>\n",
       "      <td>-11.900303</td>\n",
       "      <td>-42.615310</td>\n",
       "    </tr>\n",
       "    <tr>\n",
       "      <th>3988</th>\n",
       "      <td>ZZBZWSYDXUPJCT_on_P29274_WT</td>\n",
       "      <td>High</td>\n",
       "      <td>ChEMBL30</td>\n",
       "      <td>CHEMBL600404</td>\n",
       "      <td>Nc1nc(Nc2ccc(F)cc2)nc(CSc2nnc(N)s2)n1</td>\n",
       "      <td>ZZBZWSYDXUPJCT</td>\n",
       "      <td>ZZBZWSYDXUPJCT-UHFFFAOYSA-N</td>\n",
       "      <td>InChI=1S/C12H11FN8S2/c13-6-1-3-7(4-2-6)16-11-1...</td>\n",
       "      <td>\"AuxInfo=1/1/N:8,11,7,12,15,9,6,14,2,20,4,17,1...</td>\n",
       "      <td>P29274_WT</td>\n",
       "      <td>...</td>\n",
       "      <td>0.0</td>\n",
       "      <td>0.0</td>\n",
       "      <td>0.0</td>\n",
       "      <td>0.0</td>\n",
       "      <td>0.0</td>\n",
       "      <td>0.0</td>\n",
       "      <td>0.0</td>\n",
       "      <td>0.0</td>\n",
       "      <td>-1.871733</td>\n",
       "      <td>13.171981</td>\n",
       "    </tr>\n",
       "    <tr>\n",
       "      <th>3989</th>\n",
       "      <td>ZZMIPZLRKFEGIA_on_P29274_WT</td>\n",
       "      <td>High</td>\n",
       "      <td>ChEMBL30</td>\n",
       "      <td>CHEMBL2312988;71563052;CHEMBL2312988;71563052;...</td>\n",
       "      <td>CCCOc1ccc(C=Cc2cc3c(c(=O)n(C)c(=O)n3C)n2C)cc1</td>\n",
       "      <td>ZZMIPZLRKFEGIA</td>\n",
       "      <td>ZZMIPZLRKFEGIA-UHFFFAOYSA-N</td>\n",
       "      <td>InChI=1S/C20H23N3O3/c1-5-12-26-16-10-7-14(8-11...</td>\n",
       "      <td>\"AuxInfo=1/0/N:1,24,22,18,2,9,7,25,10,6,26,3,1...</td>\n",
       "      <td>P29274_WT</td>\n",
       "      <td>...</td>\n",
       "      <td>0.0</td>\n",
       "      <td>0.0</td>\n",
       "      <td>0.0</td>\n",
       "      <td>0.0</td>\n",
       "      <td>0.0</td>\n",
       "      <td>0.0</td>\n",
       "      <td>0.0</td>\n",
       "      <td>0.0</td>\n",
       "      <td>46.046997</td>\n",
       "      <td>12.641930</td>\n",
       "    </tr>\n",
       "    <tr>\n",
       "      <th>3990</th>\n",
       "      <td>ZZXIVHBZTITUIW_on_P29274_WT</td>\n",
       "      <td>High</td>\n",
       "      <td>ChEMBL30</td>\n",
       "      <td>CHEMBL3314913</td>\n",
       "      <td>CCOC(=O)c1cnc(NCC(C)C)n2nc(-c3ccco3)nc12</td>\n",
       "      <td>ZZXIVHBZTITUIW</td>\n",
       "      <td>ZZXIVHBZTITUIW-UHFFFAOYSA-N</td>\n",
       "      <td>InChI=1S/C16H19N5O3/c1-4-23-15(22)11-9-18-16(1...</td>\n",
       "      <td>\"AuxInfo=1/1/N:1,13,14,2,20,19,21,11,7,12,6,18...</td>\n",
       "      <td>P29274_WT</td>\n",
       "      <td>...</td>\n",
       "      <td>0.0</td>\n",
       "      <td>0.0</td>\n",
       "      <td>0.0</td>\n",
       "      <td>0.0</td>\n",
       "      <td>0.0</td>\n",
       "      <td>0.0</td>\n",
       "      <td>0.0</td>\n",
       "      <td>0.0</td>\n",
       "      <td>36.403248</td>\n",
       "      <td>-70.872660</td>\n",
       "    </tr>\n",
       "  </tbody>\n",
       "</table>\n",
       "<p>3991 rows × 1056 columns</p>\n",
       "</div>"
      ],
      "text/plain": [
       "                      Activity_ID Quality     source  \\\n",
       "0     AACWUFIIMOHGSO_on_P29274_WT    High   ChEMBL30   \n",
       "1     AAEYTMMNWWKSKZ_on_P29274_WT    High   ChEMBL30   \n",
       "2     AAGFKZWKWAMJNP_on_P29274_WT    High   ChEMBL30   \n",
       "3     AAJLGNFYNMJGSY_on_P29274_WT    High  ExCAPE-DB   \n",
       "4     AANUKDYJZPKTKN_on_P29274_WT    High   ChEMBL30   \n",
       "...                           ...     ...        ...   \n",
       "3986  ZYXGKENMDDPQIE_on_P29274_WT    High   ChEMBL30   \n",
       "3987  ZYZWFDVXMLCIOU_on_P29274_WT    High   ChEMBL30   \n",
       "3988  ZZBZWSYDXUPJCT_on_P29274_WT    High   ChEMBL30   \n",
       "3989  ZZMIPZLRKFEGIA_on_P29274_WT    High   ChEMBL30   \n",
       "3990  ZZXIVHBZTITUIW_on_P29274_WT    High   ChEMBL30   \n",
       "\n",
       "                                                    CID  \\\n",
       "0                                          CHEMBL410234   \n",
       "1                                          CHEMBL601208   \n",
       "2                                          CHEMBL473650   \n",
       "3                                               9586623   \n",
       "4     CHEMBL573125;45483959;CHEMBL573125;45483959;CH...   \n",
       "...                                                 ...   \n",
       "3986                                      CHEMBL4283826   \n",
       "3987  CHEMBL260989;10132473;CHEMBL260989;10132473;CH...   \n",
       "3988                                       CHEMBL600404   \n",
       "3989  CHEMBL2312988;71563052;CHEMBL2312988;71563052;...   \n",
       "3990                                      CHEMBL3314913   \n",
       "\n",
       "                                                 SMILES    connectivity  \\\n",
       "0     Cc1nn(-c2cc(NC(=O)CCN(C)C)nc(-c3ccc(C)o3)n2)c(...  AACWUFIIMOHGSO   \n",
       "1     Nc1c(C(=O)Nc2ccc([N+](=O)[O-])cc2)sc2c1cc1CCCC...  AAEYTMMNWWKSKZ   \n",
       "2      O=C(Nc1nc2ncccc2n2c(=O)n(-c3ccccc3)nc12)c1ccccc1  AAGFKZWKWAMJNP   \n",
       "3         NC(=NC(=O)Cn1c(O)c2CCCCc2c1O)Nc1nc2c(cccc2)s1  AAJLGNFYNMJGSY   \n",
       "4     CNC(=O)C12CC1C(n1cnc3c1nc(C#CCCCCC(=O)OC)nc3NC...  AANUKDYJZPKTKN   \n",
       "...                                                 ...             ...   \n",
       "3986     CNc1ncc(C(=O)NCc2ccc(OC)cc2)c2nc(-c3ccco3)nn12  ZYXGKENMDDPQIE   \n",
       "3987         Nc1nc(-c2ccco2)c2ncn(C(=O)NCCc3ccccc3)c2n1  ZYZWFDVXMLCIOU   \n",
       "3988              Nc1nc(Nc2ccc(F)cc2)nc(CSc2nnc(N)s2)n1  ZZBZWSYDXUPJCT   \n",
       "3989      CCCOc1ccc(C=Cc2cc3c(c(=O)n(C)c(=O)n3C)n2C)cc1  ZZMIPZLRKFEGIA   \n",
       "3990           CCOC(=O)c1cnc(NCC(C)C)n2nc(-c3ccco3)nc12  ZZXIVHBZTITUIW   \n",
       "\n",
       "                         InChIKey  \\\n",
       "0     AACWUFIIMOHGSO-UHFFFAOYSA-N   \n",
       "1     AAEYTMMNWWKSKZ-UHFFFAOYSA-N   \n",
       "2     AAGFKZWKWAMJNP-UHFFFAOYSA-N   \n",
       "3     AAJLGNFYNMJGSY-UHFFFAOYSA-N   \n",
       "4     AANUKDYJZPKTKN-UHFFFAOYSA-N   \n",
       "...                           ...   \n",
       "3986  ZYXGKENMDDPQIE-UHFFFAOYSA-N   \n",
       "3987  ZYZWFDVXMLCIOU-UHFFFAOYSA-N   \n",
       "3988  ZZBZWSYDXUPJCT-UHFFFAOYSA-N   \n",
       "3989  ZZMIPZLRKFEGIA-UHFFFAOYSA-N   \n",
       "3990  ZZXIVHBZTITUIW-UHFFFAOYSA-N   \n",
       "\n",
       "                                                  InChI  \\\n",
       "0     InChI=1S/C19H24N6O2/c1-12-10-13(2)25(23-12)17-...   \n",
       "1     InChI=1S/C18H16N4O3S/c19-15-13-9-10-3-1-2-4-14...   \n",
       "2     InChI=1S/C21H14N6O2/c28-20(14-8-3-1-4-9-14)24-...   \n",
       "3     InChI=1S/C18H19N5O3S/c19-17(22-18-20-12-7-3-4-...   \n",
       "4     InChI=1S/C28H31ClN6O5/c1-30-27(39)28-13-18(28)...   \n",
       "...                                                 ...   \n",
       "3986  InChI=1S/C19H18N6O3/c1-20-19-22-11-14(17-23-16...   \n",
       "3987  InChI=1S/C18H16N6O2/c19-17-22-14(13-7-4-10-26-...   \n",
       "3988  InChI=1S/C12H11FN8S2/c13-6-1-3-7(4-2-6)16-11-1...   \n",
       "3989  InChI=1S/C20H23N3O3/c1-5-12-26-16-10-7-14(8-11...   \n",
       "3990  InChI=1S/C16H19N5O3/c1-4-23-15(22)11-9-18-16(1...   \n",
       "\n",
       "                                          InChI_AuxInfo  target_id  ...  \\\n",
       "0     \"AuxInfo=1/1/N:1,26,22,14,15,20,19,11,12,27,6,...  P29274_WT  ...   \n",
       "1     \"AuxInfo=1/1/N:22,23,21,24,8,15,9,14,19,20,7,1...  P29274_WT  ...   \n",
       "2     \"AuxInfo=1/1/N:27,19,26,28,18,20,9,25,29,17,21...  P29274_WT  ...   \n",
       "3     \"AuxInfo=1/1/N:12,13,25,24,11,14,26,23,6,10,15...  P29274_WT  ...   \n",
       "4     \"AuxInfo=1/1/N:1,25,18,19,17,20,35,36,34,16,21...  P29274_WT  ...   \n",
       "...                                                 ...        ...  ...   \n",
       "3986  \"AuxInfo=1/1/N:1,16,24,23,12,18,13,17,25,10,5,...  P29274_WT  ...   \n",
       "3987  \"AuxInfo=1/1/N:22,21,23,7,20,24,6,18,17,8,12,1...  P29274_WT  ...   \n",
       "3988  \"AuxInfo=1/1/N:8,11,7,12,15,9,6,14,2,20,4,17,1...  P29274_WT  ...   \n",
       "3989  \"AuxInfo=1/0/N:1,24,22,18,2,9,7,25,10,6,26,3,1...  P29274_WT  ...   \n",
       "3990  \"AuxInfo=1/1/N:1,13,14,2,20,19,21,11,7,12,6,18...  P29274_WT  ...   \n",
       "\n",
       "     Descriptor_MorganFP_1016 Descriptor_MorganFP_1017  \\\n",
       "0                         0.0                      1.0   \n",
       "1                         0.0                      0.0   \n",
       "2                         0.0                      0.0   \n",
       "3                         0.0                      0.0   \n",
       "4                         0.0                      0.0   \n",
       "...                       ...                      ...   \n",
       "3986                      0.0                      0.0   \n",
       "3987                      0.0                      0.0   \n",
       "3988                      0.0                      0.0   \n",
       "3989                      0.0                      0.0   \n",
       "3990                      0.0                      0.0   \n",
       "\n",
       "     Descriptor_MorganFP_1018 Descriptor_MorganFP_1019  \\\n",
       "0                         0.0                      0.0   \n",
       "1                         0.0                      0.0   \n",
       "2                         0.0                      0.0   \n",
       "3                         0.0                      0.0   \n",
       "4                         0.0                      1.0   \n",
       "...                       ...                      ...   \n",
       "3986                      0.0                      0.0   \n",
       "3987                      0.0                      0.0   \n",
       "3988                      0.0                      0.0   \n",
       "3989                      0.0                      0.0   \n",
       "3990                      0.0                      0.0   \n",
       "\n",
       "      Descriptor_MorganFP_1020 Descriptor_MorganFP_1021  \\\n",
       "0                          0.0                      0.0   \n",
       "1                          0.0                      0.0   \n",
       "2                          0.0                      0.0   \n",
       "3                          0.0                      0.0   \n",
       "4                          0.0                      0.0   \n",
       "...                        ...                      ...   \n",
       "3986                       0.0                      0.0   \n",
       "3987                       0.0                      0.0   \n",
       "3988                       0.0                      0.0   \n",
       "3989                       0.0                      0.0   \n",
       "3990                       0.0                      0.0   \n",
       "\n",
       "     Descriptor_MorganFP_1022 Descriptor_MorganFP_1023     TSNE_1     TSNE_2  \n",
       "0                         0.0                      0.0 -49.262220 -18.827414  \n",
       "1                         0.0                      0.0 -30.326859   6.892628  \n",
       "2                         0.0                      0.0  25.112610  -4.832593  \n",
       "3                         0.0                      0.0 -21.665638 -12.843870  \n",
       "4                         0.0                      0.0   6.994354  38.663483  \n",
       "...                       ...                      ...        ...        ...  \n",
       "3986                      0.0                      0.0  29.856173 -70.698350  \n",
       "3987                      0.0                      0.0 -11.900303 -42.615310  \n",
       "3988                      0.0                      0.0  -1.871733  13.171981  \n",
       "3989                      0.0                      0.0  46.046997  12.641930  \n",
       "3990                      0.0                      0.0  36.403248 -70.872660  \n",
       "\n",
       "[3991 rows x 1056 columns]"
      ]
     },
     "execution_count": 5,
     "metadata": {},
     "output_type": "execute_result"
    }
   ],
   "source": [
    "import pandas as pd\n",
    "\n",
    "df_a2a = pd.read_table('data/A2A_LIGANDS.tsv')\n",
    "df_a2a"
   ]
  },
  {
   "cell_type": "markdown",
   "id": "9a8ec8d9-f9e3-499b-9f05-80d2a8a46aa3",
   "metadata": {},
   "source": [
    "There is a lot of data in this table, but for our transfer learning exercise only the SMILES are important:"
   ]
  },
  {
   "cell_type": "code",
   "execution_count": 6,
   "id": "80a97434-d8a4-4e14-ad5f-b513b320d26d",
   "metadata": {},
   "outputs": [
    {
     "data": {
      "text/plain": [
       "0       Cc1nn(-c2cc(NC(=O)CCN(C)C)nc(-c3ccc(C)o3)n2)c(...\n",
       "1       Nc1c(C(=O)Nc2ccc([N+](=O)[O-])cc2)sc2c1cc1CCCC...\n",
       "2        O=C(Nc1nc2ncccc2n2c(=O)n(-c3ccccc3)nc12)c1ccccc1\n",
       "3           NC(=NC(=O)Cn1c(O)c2CCCCc2c1O)Nc1nc2c(cccc2)s1\n",
       "4       CNC(=O)C12CC1C(n1cnc3c1nc(C#CCCCCC(=O)OC)nc3NC...\n",
       "                              ...                        \n",
       "3986       CNc1ncc(C(=O)NCc2ccc(OC)cc2)c2nc(-c3ccco3)nn12\n",
       "3987           Nc1nc(-c2ccco2)c2ncn(C(=O)NCCc3ccccc3)c2n1\n",
       "3988                Nc1nc(Nc2ccc(F)cc2)nc(CSc2nnc(N)s2)n1\n",
       "3989        CCCOc1ccc(C=Cc2cc3c(c(=O)n(C)c(=O)n3C)n2C)cc1\n",
       "3990             CCOC(=O)c1cnc(NCC(C)C)n2nc(-c3ccco3)nc12\n",
       "Name: SMILES, Length: 3991, dtype: object"
      ]
     },
     "execution_count": 6,
     "metadata": {},
     "output_type": "execute_result"
    }
   ],
   "source": [
    "smiles_train = df_a2a.SMILES\n",
    "smiles_train"
   ]
  },
  {
   "cell_type": "markdown",
   "id": "2331bb54-bc4b-45ca-a3e9-22c1dcff7a90",
   "metadata": {},
   "source": [
    "In order to train the finetuned model, we need to first standardize and prepare the SMILES strings. DrugEx has its own utility to do that for all its models:"
   ]
  },
  {
   "cell_type": "code",
   "execution_count": 7,
   "id": "d13f4c31-86db-45f3-8cd1-c98c1f22727f",
   "metadata": {},
   "outputs": [
    {
     "data": {
      "application/vnd.jupyter.widget-view+json": {
       "model_id": "047a2701d5e6481c8e950d434e1c5bf6",
       "version_major": 2,
       "version_minor": 0
      },
      "text/plain": [
       "Standardizing molecules (batch processing):   0%|          | 0/1 [00:00<?, ?it/s]"
      ]
     },
     "metadata": {},
     "output_type": "display_data"
    },
    {
     "data": {
      "text/plain": [
       "['Cc1cc(C)n(-c2cc(NC(=O)CCN(C)C)nc(-c3ccc(C)o3)n2)n1',\n",
       " 'Nc1c(C(=O)Nc2ccc([N+](=O)[O-])cc2)sc2nc3c(cc12)CCCC3',\n",
       " 'O=C(Nc1nc2ncccc2n2c(=O)n(-c3ccccc3)nc12)c1ccccc1',\n",
       " 'NC(=NC(=O)Cn1c(O)c2c(c1O)CCCC2)Nc1nc2ccccc2s1',\n",
       " 'CNC(=O)C12CC1C(n1cnc3c(NCc4cccc(Cl)c4)nc(C#CCCCCC(=O)OC)nc31)C(O)C2O',\n",
       " 'Cn1c(-n2nccn2)nc2c(N)nc(CCc3ccccc3)nc21',\n",
       " 'Nc1nc(-c2ccccc2)cn2cc(-c3ccco3)nc12',\n",
       " 'CCCn1c(=O)c2c(nc3n2CCCN3c2ccc(OCCN3CCCC3)cc2)n(CCC)c1=O',\n",
       " 'N#Cc1c(-c2ccccc2)cc(-c2ccco2)nc1N',\n",
       " 'CCCn1c(=O)c2nc(-c3ccccc3)[nH]c2n(CCCOC)c1=O']"
      ]
     },
     "execution_count": 7,
     "metadata": {},
     "output_type": "execute_result"
    }
   ],
   "source": [
    "from drugex.data.processing import Standardization\n",
    "\n",
    "N_PROCESSES = 12 # number of CPU cores to use\n",
    "CHUNK_SIZE = 1000 # largest chunk per CPU core (regulates RAM usage)\n",
    "\n",
    "standardizer = Standardization(n_proc=N_PROCESSES, chunk_size=CHUNK_SIZE)\n",
    "smiles_train = standardizer.apply(smiles_train)\n",
    "smiles_train[0:10]"
   ]
  },
  {
   "cell_type": "markdown",
   "id": "42b8fab3-2920-48c7-8b1f-97206cfc3000",
   "metadata": {},
   "source": [
    "We write the list of SMILES back into `smiles_train` because we will not need the original SMILES anymore and proceed to generate our training data sets. In this step, the so called 'corpus' data set is generated that is nothing more than the SMILES seperated into words/tokens according to the given vocabulary. You can check out the `ligand_corpus.tsv` for yourself and see there really is nothing too special about it. The code is a little verbose, but that comes mostly from the way the data is handled by parallel processes to take advantage of multiple CPUs:"
   ]
  },
  {
   "cell_type": "code",
   "execution_count": 8,
   "id": "d53cf8e2-0f67-4ff4-8147-fd53d8f9de42",
   "metadata": {},
   "outputs": [
    {
     "data": {
      "application/vnd.jupyter.widget-view+json": {
       "model_id": "5363e574352a4e2eb1957f39fc0697f9",
       "version_major": 2,
       "version_minor": 0
      },
      "text/plain": [
       "SequenceCorpus (batch processing):   0%|          | 0/1 [00:00<?, ?it/s]"
      ]
     },
     "metadata": {},
     "output_type": "display_data"
    }
   ],
   "source": [
    "from drugex.data.processing import CorpusEncoder, RandomTrainTestSplitter\n",
    "from drugex.data.corpus.corpus import SequenceCorpus\n",
    "from drugex.data.datasets import SmilesDataSet\n",
    "from drugex.logs import logger\n",
    "logger.setLevel('ERROR')\n",
    "\n",
    "DATA_DIR = \"data/drugex/sets/\"\n",
    "os.makedirs(DATA_DIR, exist_ok=True)\n",
    "\n",
    "voc = VocSmiles.fromFile(\"data/drugex/models/pretrained/DrugEx_v2_PT_Papyrus05.5/Papyrus05.5_smiles_rnn_PT.vocab\")\n",
    "encoder = CorpusEncoder( # CorpusEcoder uses the supplied corpus class to encode tokens for the new data set\n",
    "    SequenceCorpus, # The corpus class implements how each SMILES string is divided into words by the vocabulary\n",
    "    {\n",
    "        # arguments of the SequenceCorpus\n",
    "        'vocabulary': voc, # used vocabulary\n",
    "        'update_voc': False, # if False, the vocabulary stays fixed (no new tokens are added to it)\n",
    "        'throw': True # compounds containing unknown tokens are thrown out of the resulting data set\n",
    "\n",
    "    },\n",
    "    n_proc=N_PROCESSES,\n",
    "    chunk_size=CHUNK_SIZE\n",
    ")\n",
    "\n",
    "data_collector = SmilesDataSet(os.path.join(DATA_DIR, 'ligand_corpus.tsv'), rewrite=True)\n",
    "encoder.apply(smiles_train, collector=data_collector)"
   ]
  },
  {
   "cell_type": "markdown",
   "id": "0269afd3-3c9c-456a-9756-cd4d20ca54a5",
   "metadata": {},
   "source": [
    "In this scenario, we will also compile a test/validation set of compounds. This will help us identify when the model starts to loose its ability to generate diverse and/or valid chemistry and begins overfitting on the training set. While we do want the generated structures to look like those in the training data, we also do not want them to be exactly the same. The validation set will serve as an indicator of such behaviour and the model will know to stop the training once the performance starts to deteriorate. \n",
    "\n",
    "In this case, we choose to select 10% (or a maximum of 10,000) compounds to the test set. We save the training and test set to separate files and we also save the vocabulary for safe keeping (we did not modify the original vocabulary in any way, but it is a good idea to save it anyway for future reference): "
   ]
  },
  {
   "cell_type": "code",
   "execution_count": 9,
   "id": "2777c52a-952d-432c-a560-ae030e56b9d8",
   "metadata": {},
   "outputs": [],
   "source": [
    "splitter = RandomTrainTestSplitter(0.1, 1e4)\n",
    "train, test = splitter(data_collector.getData())\n",
    "for df, name in zip([train, test], ['train', 'test']):\n",
    "    df.to_csv(os.path.join(DATA_DIR, f'ligand_{name}.tsv'), header=True, index=False, sep='\\t')\n",
    "\n",
    "voc.toFile(os.path.join(DATA_DIR, 'ligand.vocab'))"
   ]
  },
  {
   "cell_type": "markdown",
   "id": "d180d008-2fbb-4ff4-b523-9a84a17be787",
   "metadata": {},
   "source": [
    "Now, we wrap our training and test set to `SmilesDataSet` instances so that we can generate data loaders for training:"
   ]
  },
  {
   "cell_type": "code",
   "execution_count": 10,
   "id": "947ff14c-478e-4505-b625-ce9b2fbc6e95",
   "metadata": {},
   "outputs": [],
   "source": [
    "BATCH_SIZE = 256\n",
    "\n",
    "data_set_train = SmilesDataSet(os.path.join(DATA_DIR, 'ligand_train.tsv'), voc=voc)\n",
    "data_set_train.voc = voc\n",
    "train_loader = data_set_train.asDataLoader(batch_size=BATCH_SIZE)\n",
    "\n",
    "data_set_test = SmilesDataSet(os.path.join(DATA_DIR, 'ligand_test.tsv'), voc=voc)\n",
    "data_set_test.voc = voc\n",
    "valid_loader = data_set_test.asDataLoader(batch_size=BATCH_SIZE)"
   ]
  },
  {
   "cell_type": "markdown",
   "id": "40b70e56-c5da-4b44-9a3e-7d6f19410b6c",
   "metadata": {},
   "source": [
    "Data loaders are a data structure used by [PyTorch](https://pytorch.org/) library for deep learning, which DrugEx uses to handle data and define models. They are responsible for batching the data so that it can be offloaded to the GPU for training because the whole data set would not be able to fit. In addition, batch size is an important hyperparameter in neural networks. The training does not proceed sample by sample, but rather the model processes each batch at a time and adjusts its parameters only after passing the whole batch through the network. This helps to save computational resources, but also affects the training process because it sometimes also has influence on how often and how significantly the model parameters are adjusted. Therefore, choosing the correct batch size is someting we might want play around with during training.\n",
    "\n",
    "Another term commonly used in the language of neural networks is an 'epoch'. It is simply one iteration of training during which the model goes through all the batches and, thus, the whole data set. It is usual after each epoch that we evaluate the performance of the model and decided if it needs further training or not. In this case, we setup our training as follows:"
   ]
  },
  {
   "cell_type": "code",
   "execution_count": 11,
   "id": "a7a7087d-110c-4a20-a29a-9ea911666150",
   "metadata": {},
   "outputs": [],
   "source": [
    "from drugex.training.monitors import FileMonitor\n",
    "\n",
    "MODEL_DIR = \"data/drugex/models/finetuned/\"\n",
    "\n",
    "ft_path = os.path.join(MODEL_DIR, 'ligand_finetune')\n",
    "finetuned = RNN(voc, is_lstm=True, use_gpus=GPUS)\n",
    "finetuned.loadStatesFromFile(os.path.join(PT_MODEL_FOLDER, 'Papyrus05.5_smiles_rnn_PT.pkg'))\n",
    "monitor = FileMonitor(ft_path, verbose=True)\n",
    "finetuned.fit(train_loader, valid_loader, epochs=10, monitor=monitor)\n",
    "\n",
    "voc.toFile(os.path.join(MODEL_DIR, 'finetune.vocab'))"
   ]
  },
  {
   "cell_type": "markdown",
   "id": "b155ce93-fb78-4edd-85cd-25195f9f908c",
   "metadata": {},
   "source": [
    "Facilitating transfer learning in this case is easy. We load the pretrained model just like we did above, but instead of generting smiles with it, we call the `fit` method and supply the finetuning data loaders. We set the number of epochs to 10 in this case. Training should not take more than an hour in this case even on an older GPU. On an NVIDIA RTX 2070 this took only a few minutes.\n",
    "\n",
    "We also set up a training monitor (`FileMonitor`), which saves some improtant data during training. You will find these files in the `MODEL_DIR` directory with the `ligand_finetune` perfix. The following file saves the training and validation loss (`loss_train` and `loss-valid`, respectively). In simple terms, the losses indicate how well the model is able to capture the probability distribution of tokens in either the training set or the test set with the compounds it generates at each epoch. We also get information about the percentage of valid SMILES it produces (`valid_ratio`). There are also some empty values that are not relevant at the moment, but will come into play later. We can load the table as any other data file:"
   ]
  },
  {
   "cell_type": "code",
   "execution_count": 12,
   "id": "72d6f496-96ff-4df9-a43a-afce5f63164e",
   "metadata": {},
   "outputs": [
    {
     "data": {
      "text/html": [
       "<div>\n",
       "<style scoped>\n",
       "    .dataframe tbody tr th:only-of-type {\n",
       "        vertical-align: middle;\n",
       "    }\n",
       "\n",
       "    .dataframe tbody tr th {\n",
       "        vertical-align: top;\n",
       "    }\n",
       "\n",
       "    .dataframe thead th {\n",
       "        text-align: right;\n",
       "    }\n",
       "</style>\n",
       "<table border=\"1\" class=\"dataframe\">\n",
       "  <thead>\n",
       "    <tr style=\"text-align: right;\">\n",
       "      <th></th>\n",
       "      <th>epoch</th>\n",
       "      <th>loss_train</th>\n",
       "      <th>loss_valid</th>\n",
       "      <th>valid_ratio</th>\n",
       "      <th>unique_ratio</th>\n",
       "      <th>desire_ratio</th>\n",
       "      <th>mean_train_loss</th>\n",
       "    </tr>\n",
       "  </thead>\n",
       "  <tbody>\n",
       "    <tr>\n",
       "      <th>0</th>\n",
       "      <td>1</td>\n",
       "      <td>0.147440</td>\n",
       "      <td>0.150589</td>\n",
       "      <td>0.934156</td>\n",
       "      <td>NaN</td>\n",
       "      <td>NaN</td>\n",
       "      <td>NaN</td>\n",
       "    </tr>\n",
       "    <tr>\n",
       "      <th>1</th>\n",
       "      <td>2</td>\n",
       "      <td>0.121214</td>\n",
       "      <td>0.143323</td>\n",
       "      <td>0.945833</td>\n",
       "      <td>NaN</td>\n",
       "      <td>NaN</td>\n",
       "      <td>NaN</td>\n",
       "    </tr>\n",
       "    <tr>\n",
       "      <th>2</th>\n",
       "      <td>3</td>\n",
       "      <td>0.112652</td>\n",
       "      <td>0.141534</td>\n",
       "      <td>0.949791</td>\n",
       "      <td>NaN</td>\n",
       "      <td>NaN</td>\n",
       "      <td>NaN</td>\n",
       "    </tr>\n",
       "    <tr>\n",
       "      <th>3</th>\n",
       "      <td>4</td>\n",
       "      <td>0.107933</td>\n",
       "      <td>0.141218</td>\n",
       "      <td>0.983264</td>\n",
       "      <td>NaN</td>\n",
       "      <td>NaN</td>\n",
       "      <td>NaN</td>\n",
       "    </tr>\n",
       "    <tr>\n",
       "      <th>4</th>\n",
       "      <td>5</td>\n",
       "      <td>0.103878</td>\n",
       "      <td>0.141244</td>\n",
       "      <td>0.975104</td>\n",
       "      <td>NaN</td>\n",
       "      <td>NaN</td>\n",
       "      <td>NaN</td>\n",
       "    </tr>\n",
       "  </tbody>\n",
       "</table>\n",
       "</div>"
      ],
      "text/plain": [
       "   epoch  loss_train  loss_valid  valid_ratio  unique_ratio  desire_ratio  \\\n",
       "0      1    0.147440    0.150589     0.934156           NaN           NaN   \n",
       "1      2    0.121214    0.143323     0.945833           NaN           NaN   \n",
       "2      3    0.112652    0.141534     0.949791           NaN           NaN   \n",
       "3      4    0.107933    0.141218     0.983264           NaN           NaN   \n",
       "4      5    0.103878    0.141244     0.975104           NaN           NaN   \n",
       "\n",
       "   mean_train_loss  \n",
       "0              NaN  \n",
       "1              NaN  \n",
       "2              NaN  \n",
       "3              NaN  \n",
       "4              NaN  "
      ]
     },
     "execution_count": 12,
     "metadata": {},
     "output_type": "execute_result"
    }
   ],
   "source": [
    "df_info = pd.read_csv('data/drugex/models/finetuned/ligand_finetune_fit.tsv', sep='\\t')\n",
    "df_info.head()"
   ]
  },
  {
   "cell_type": "markdown",
   "id": "734b4fc8-4299-447b-a10a-a51310f42cec",
   "metadata": {},
   "source": [
    "We can also plot everything quite easily:"
   ]
  },
  {
   "cell_type": "code",
   "execution_count": 13,
   "id": "d10ca1f3-4005-43be-b936-65c496c1984a",
   "metadata": {},
   "outputs": [
    {
     "data": {
      "text/plain": [
       "<AxesSubplot: >"
      ]
     },
     "execution_count": 13,
     "metadata": {},
     "output_type": "execute_result"
    },
    {
     "data": {
      "image/png": "[encoded data removed]",
      "text/plain": [
       "<Figure size 640x480 with 1 Axes>"
      ]
     },
     "metadata": {},
     "output_type": "display_data"
    }
   ],
   "source": [
    "df_info[['loss_train', 'loss_valid']].plot.line()"
   ]
  },
  {
   "cell_type": "markdown",
   "id": "b57b110d-10e9-478d-a3d0-48ef40c2a6f3",
   "metadata": {},
   "source": [
    "We can see that while the training loss is going down during training the validation loss starts to dwindle and even increases slightly. This indicates that our model is starting to overfit the training set a little so we might want to think about tweaking the parameters a little bit here. However, it is OK for the purpose of our tutorial and as we will see, even such a short round of transfer learning had an effect on our model. We can show that by sampling another set of SMILES with this model and showing the chemical space plot:"
   ]
  },
  {
   "cell_type": "code",
   "execution_count": 14,
   "id": "cbcc5ce3-c56c-43d1-8b59-d77ad59622bf",
   "metadata": {},
   "outputs": [
    {
     "name": "stderr",
     "output_type": "stream",
     "text": [
      "/home/sichom/software/miniconda/envs/drugex-demo/lib/python3.9/site-packages/sklearn/manifold/_t_sne.py:800: FutureWarning:\n",
      "\n",
      "The default initialization in TSNE will change from 'random' to 'pca' in 1.2.\n",
      "\n",
      "/home/sichom/software/miniconda/envs/drugex-demo/lib/python3.9/site-packages/sklearn/manifold/_t_sne.py:810: FutureWarning:\n",
      "\n",
      "The default learning rate in TSNE will change from 200.0 to 'auto' in 1.2.\n",
      "\n"
     ]
    },
    {
     "data": {
      "text/html": [
       "\n",
       "        <iframe\n",
       "            width=\"100%\"\n",
       "            height=\"800\"\n",
       "            src=\"http://127.0.0.1:9393/\"\n",
       "            frameborder=\"0\"\n",
       "            allowfullscreen\n",
       "            \n",
       "        ></iframe>\n",
       "        "
      ],
      "text/plain": [
       "<IPython.lib.display.IFrame at 0x7fec1f60fdf0>"
      ]
     },
     "metadata": {},
     "output_type": "display_data"
    }
   ],
   "source": [
    "finetuned.loadStatesFromFile('data/drugex/models/finetuned/ligand_finetune.pkg')\n",
    "\n",
    "smiles_finetuned = sample_smiles(finetuned, 1000)\n",
    "\n",
    "dataset = DataSetSMILES(\"data/finetuned_sampled.tsv\", smiles=smiles_finetuned, use_existing=False)\n",
    "dataset.addDescriptors([MorganFP(radius=2, nBits=1024)], recalculate=False) \n",
    "\n",
    "plt = Plot(dataset, TSNE())\n",
    "plt.plot(\n",
    "    recalculate=False,\n",
    "    viewport_height=800,\n",
    "    port=9393\n",
    ")"
   ]
  },
  {
   "cell_type": "markdown",
   "id": "de68bdd1-a956-4516-9ea1-0d5f01cd106e",
   "metadata": {},
   "source": [
    "When we compare this chemical space to the space generated with the pretrained model above, it is clear that these compounds are differently distributed and if we take a look at the structures we might be able to spot some patterns commonly seen in adenosine receptor ligands, which means that the transfer learning did seem to work.\n",
    "\n",
    "### Optimizing Compound Properties with Reinforcement Learning\n",
    "\n",
    "We now successfully used transfer learning to create a model that can generate new molecules that resemble known data. That is very nice, but not often useful. Consider for example a case of a pharmaceutical company that is trying to develop a new drug, which has not been published or patented, yet. It is unlikely that with this model, we will be able to find completely new scaffolds. All it can do is copy and mimick known chemical space related to adenosine receptor A2A. It also has no information about activity of the compounds. It just creates new molecule that look like the known ligands. But what if we could create a model that can generate structures that are more likely to be binders than nonbinders of the A2A receptor? We will explain how to do exactly that in this chapter.\n",
    "\n",
    "Reinforcement learning is a well-known concept in machine learning and AI and can be used to train neural networks to successfully accomplish various tasks. The most famous example is [AlphaGo](https://en.wikipedia.org/wiki/AlphaGo), a machine learning model that was trained to successfully play the borad game Go, but there are also models that learned to [walk](https://arxiv.org/pdf/1812.11103.pdf), [play computer games](https://www.theverge.com/2018/8/6/17655086/dota2-openai-bots-professional-gaming-ai) or many [other things](https://rl-book.com/applications/). This is a simple schematic that illustrates the idea of reinforcement learning:\n",
    "\n",
    "![RL](https://upload.wikimedia.org/wikipedia/commons/1/1b/Reinforcement_learning_diagram.svg)\n",
    "\n",
    "Picture Credit: [WikiMedia Commons](https://commons.wikimedia.org/wiki/File:Reinforcement_learning_diagram.svg), Megajuice\n",
    "\n",
    "Regardless of whether the AI is learning to walk or generate molecules, the concept is the same. The model acts as an *agent* in the *environment*. The agent performs an *action* in the environment (i.e. generates a molecular structure). Based on the action, the agent then receives a *reward* from an *interpreter* (i.e. a QSAR model predicting activity on the A2A receptor). The obtained reward can then be used to adjust the actions made by the agant, for example by changing it's *state* (i.e. the weights of the neural network). This loop is repeated until the agent learns to walk, play a game or generates molecules interesting for us. \n",
    "\n",
    "In this tutorial, we will teach our model (*agent*) to generate more active and synthetically accessible molecules. That means we will have two *observers* in our environment that will each give feedback to our models. This is called multi-objective optimization and reflects more the way we think about 'good molecules' in drug discovery. It is not always just perceived activity that is important, but other criteria like synthetic accessibility play an important role too.\n",
    "\n",
    "#### Observer 1 (The QSAR Model)\n",
    "\n",
    "Therefore, the first of our observers (or more often scoring functions) will be the QSAR model we trained previously. It will provide the *agent* with information about the likely activity agains A2A receptor:"
   ]
  },
  {
   "cell_type": "code",
   "execution_count": 15,
   "id": "afb4fcec-3c90-4aa2-9bf2-9ad8f4600b05",
   "metadata": {},
   "outputs": [
    {
     "data": {
      "text/html": [
       "<style>#sk-container-id-1 {color: black;background-color: white;}#sk-container-id-1 pre{padding: 0;}#sk-container-id-1 div.sk-toggleable {background-color: white;}#sk-container-id-1 label.sk-toggleable__label {cursor: pointer;display: block;width: 100%;margin-bottom: 0;padding: 0.3em;box-sizing: border-box;text-align: center;}#sk-container-id-1 label.sk-toggleable__label-arrow:before {content: \"▸\";float: left;margin-right: 0.25em;color: #696969;}#sk-container-id-1 label.sk-toggleable__label-arrow:hover:before {color: black;}#sk-container-id-1 div.sk-estimator:hover label.sk-toggleable__label-arrow:before {color: black;}#sk-container-id-1 div.sk-toggleable__content {max-height: 0;max-width: 0;overflow: hidden;text-align: left;background-color: #f0f8ff;}#sk-container-id-1 div.sk-toggleable__content pre {margin: 0.2em;color: black;border-radius: 0.25em;background-color: #f0f8ff;}#sk-container-id-1 input.sk-toggleable__control:checked~div.sk-toggleable__content {max-height: 200px;max-width: 100%;overflow: auto;}#sk-container-id-1 input.sk-toggleable__control:checked~label.sk-toggleable__label-arrow:before {content: \"▾\";}#sk-container-id-1 div.sk-estimator input.sk-toggleable__control:checked~label.sk-toggleable__label {background-color: #d4ebff;}#sk-container-id-1 div.sk-label input.sk-toggleable__control:checked~label.sk-toggleable__label {background-color: #d4ebff;}#sk-container-id-1 input.sk-hidden--visually {border: 0;clip: rect(1px 1px 1px 1px);clip: rect(1px, 1px, 1px, 1px);height: 1px;margin: -1px;overflow: hidden;padding: 0;position: absolute;width: 1px;}#sk-container-id-1 div.sk-estimator {font-family: monospace;background-color: #f0f8ff;border: 1px dotted black;border-radius: 0.25em;box-sizing: border-box;margin-bottom: 0.5em;}#sk-container-id-1 div.sk-estimator:hover {background-color: #d4ebff;}#sk-container-id-1 div.sk-parallel-item::after {content: \"\";width: 100%;border-bottom: 1px solid gray;flex-grow: 1;}#sk-container-id-1 div.sk-label:hover label.sk-toggleable__label {background-color: #d4ebff;}#sk-container-id-1 div.sk-serial::before {content: \"\";position: absolute;border-left: 1px solid gray;box-sizing: border-box;top: 0;bottom: 0;left: 50%;z-index: 0;}#sk-container-id-1 div.sk-serial {display: flex;flex-direction: column;align-items: center;background-color: white;padding-right: 0.2em;padding-left: 0.2em;position: relative;}#sk-container-id-1 div.sk-item {position: relative;z-index: 1;}#sk-container-id-1 div.sk-parallel {display: flex;align-items: stretch;justify-content: center;background-color: white;position: relative;}#sk-container-id-1 div.sk-item::before, #sk-container-id-1 div.sk-parallel-item::before {content: \"\";position: absolute;border-left: 1px solid gray;box-sizing: border-box;top: 0;bottom: 0;left: 50%;z-index: -1;}#sk-container-id-1 div.sk-parallel-item {display: flex;flex-direction: column;z-index: 1;position: relative;background-color: white;}#sk-container-id-1 div.sk-parallel-item:first-child::after {align-self: flex-end;width: 50%;}#sk-container-id-1 div.sk-parallel-item:last-child::after {align-self: flex-start;width: 50%;}#sk-container-id-1 div.sk-parallel-item:only-child::after {width: 0;}#sk-container-id-1 div.sk-dashed-wrapped {border: 1px dashed gray;margin: 0 0.4em 0.5em 0.4em;box-sizing: border-box;padding-bottom: 0.4em;background-color: white;}#sk-container-id-1 div.sk-label label {font-family: monospace;font-weight: bold;display: inline-block;line-height: 1.2em;}#sk-container-id-1 div.sk-label-container {text-align: center;}#sk-container-id-1 div.sk-container {/* jupyter's `normalize.less` sets `[hidden] { display: none; }` but bootstrap.min.css set `[hidden] { display: none !important; }` so we also need the `!important` here to be able to override the default hidden behavior on the sphinx rendered scikit-learn.org. See: https://github.com/scikit-learn/scikit-learn/issues/21755 */display: inline-block !important;position: relative;}#sk-container-id-1 div.sk-text-repr-fallback {display: none;}</style><div id=\"sk-container-id-1\" class=\"sk-top-container\"><div class=\"sk-text-repr-fallback\"><pre>ExtraTreesClassifier(n_estimators=250)</pre><b>In a Jupyter environment, please rerun this cell to show the HTML representation or trust the notebook. <br />On GitHub, the HTML representation is unable to render, please try loading this page with nbviewer.org.</b></div><div class=\"sk-container\" hidden><div class=\"sk-item\"><div class=\"sk-estimator sk-toggleable\"><input class=\"sk-toggleable__control sk-hidden--visually\" id=\"sk-estimator-id-1\" type=\"checkbox\" checked><label for=\"sk-estimator-id-1\" class=\"sk-toggleable__label sk-toggleable__label-arrow\">ExtraTreesClassifier</label><div class=\"sk-toggleable__content\"><pre>ExtraTreesClassifier(n_estimators=250)</pre></div></div></div></div></div>"
      ],
      "text/plain": [
       "ExtraTreesClassifier(n_estimators=250)"
      ]
     },
     "execution_count": 15,
     "metadata": {},
     "output_type": "execute_result"
    }
   ],
   "source": [
    "import joblib\n",
    "\n",
    "model = joblib.load('data/qsar/models/A2A_CLS_ET_250.pickle')\n",
    "model"
   ]
  },
  {
   "cell_type": "markdown",
   "id": "4f5f5119-1936-485b-af49-99d60f215110",
   "metadata": {},
   "source": [
    "In order to feed this model to our DrugEx agent, we need to wrap it in the `Scorer` interface:"
   ]
  },
  {
   "cell_type": "code",
   "execution_count": 16,
   "id": "0480612b-780e-4b7c-bd37-551d23e1c785",
   "metadata": {},
   "outputs": [
    {
     "data": {
      "text/plain": [
       "<__main__.ModelScorer at 0x7fec1f51e520>"
      ]
     },
     "execution_count": 16,
     "metadata": {},
     "output_type": "execute_result"
    }
   ],
   "source": [
    "from drugex.training.interfaces import Scorer\n",
    "\n",
    "class ModelScorer(Scorer):\n",
    "    \n",
    "    def __init__(self, model, prefix, descriptor = MorganFP(radius=2, nBits=1024)):\n",
    "        super().__init__()\n",
    "        self.model = model\n",
    "        self.prefix = prefix\n",
    "        self.descriptor = descriptor\n",
    "    \n",
    "    def getScores(self, mols, frags=None):\n",
    "        X = pd.Series(mols).apply(lambda x : pd.Series(self.descriptor(x) if x else [0] * 1024))\n",
    "        preds = self.model.predict_proba(X)[::,1]\n",
    "        return preds\n",
    "    \n",
    "    def getKey(self):\n",
    "        return f\"{self.prefix}_MS\"\n",
    "\n",
    "\n",
    "\n",
    "scorer_model = ModelScorer(model, 'A2A_CLS')\n",
    "scorer_model"
   ]
  },
  {
   "cell_type": "markdown",
   "id": "7b29c1e8-61e4-4272-8f7c-221861cbd6f0",
   "metadata": {},
   "source": [
    "A scorer is a simple Python class that needs to have the `getScores` and `getKey` methods. The `getScores` method is the most important one and is used to calculate scores (model predictions) for the generated molecules at each epoch of training. The `getKey` method just gives the scorer a unique name that will appear in the outputs and will be used by the model.\n",
    "\n",
    "We can illustrate how the scorer functions by feeding it our list of smiles from the finetuned model:"
   ]
  },
  {
   "cell_type": "code",
   "execution_count": 17,
   "id": "6be660b7-e310-4292-aa67-0dc335282eaa",
   "metadata": {},
   "outputs": [
    {
     "name": "stderr",
     "output_type": "stream",
     "text": [
      "/home/sichom/software/miniconda/envs/drugex-demo/lib/python3.9/site-packages/sklearn/base.py:450: UserWarning:\n",
      "\n",
      "X does not have valid feature names, but ExtraTreesClassifier was fitted with feature names\n",
      "\n"
     ]
    },
    {
     "data": {
      "text/plain": [
       "array([1.   , 0.996, 0.924, 0.256, 0.72 , 0.284, 1.   , 1.   , 0.   ,\n",
       "       0.   ])"
      ]
     },
     "execution_count": 17,
     "metadata": {},
     "output_type": "execute_result"
    }
   ],
   "source": [
    "predictions = scorer_model(smiles_finetuned)\n",
    "predictions[0:10]"
   ]
  },
  {
   "cell_type": "markdown",
   "id": "2d350504-8367-4397-a3b5-66370bf078b6",
   "metadata": {},
   "source": [
    "We can also calculate the percentage of molecules that would be classified as active at this point. It is just molecules for which the predicted value is more than 0.5:"
   ]
  },
  {
   "cell_type": "code",
   "execution_count": 18,
   "id": "323b5b75-817a-449c-b935-2e44297c6da7",
   "metadata": {},
   "outputs": [
    {
     "data": {
      "text/plain": [
       "0.564"
      ]
     },
     "execution_count": 18,
     "metadata": {},
     "output_type": "execute_result"
    }
   ],
   "source": [
    "sum(predictions > 0.5) / len(predictions)"
   ]
  },
  {
   "cell_type": "markdown",
   "id": "aac135ee-4d36-488a-a64e-87dfa450739a",
   "metadata": {},
   "source": [
    "Therefore, almost half of the generated molecules are perceived as likely binders by our model. Not bad for such a simple model. But let's see if we can further improve this ration with reinforcement learning.\n",
    "\n",
    "#### Observer 2 (Synthetic Accessibility Score)\n",
    "\n",
    "Our second observer in this experiment will be the [Synthetic Accessibility Score](https://jcheminf.biomedcentral.com/articles/10.1186/1758-2946-1-8) (SAScore). It has been around for a long time and is generally considered as a reasonable measure of how complex (hard to synthesize) a compound structure is. It is available in DrugEx and we can easily create this scoring function as follows:"
   ]
  },
  {
   "cell_type": "code",
   "execution_count": 19,
   "id": "e65447f5-82bb-44e9-8f30-e812ceb80f1e",
   "metadata": {},
   "outputs": [],
   "source": [
    "from drugex.training.scorers.properties import Property\n",
    "\n",
    "sascore = Property(\"SA\")"
   ]
  },
  {
   "cell_type": "markdown",
   "id": "e5eadc0e-76ca-4c39-91a2-a6682f9767da",
   "metadata": {},
   "source": [
    "#### Desirability Score Modifiers\n",
    "\n",
    "Because the scorers that we created above each work on a different scale, it might be a good idea to normalize them somehow and make them work on the same scale and express to the model what values of the scores are actually desirable and what are not. For example, we want the SAScore as low as possible while we want the score from the model as close to 1 as possible (have the most confidence in the prediction that the generated compounds are active). This where the desirability modifier comes in. It helps us to keep things on one scale while telling the model what distribution of scores is good for us.\n",
    "\n",
    "For the QSAR model, we will choose the `ClippedScore` modifier:"
   ]
  },
  {
   "cell_type": "code",
   "execution_count": 20,
   "id": "d3141815-f27e-470e-89d9-31754dc2577a",
   "metadata": {},
   "outputs": [],
   "source": [
    "from drugex.training.scorers.modifiers import ClippedScore\n",
    "\n",
    "scorer_model.setModifier(ClippedScore(lower_x=0.2, upper_x=0.8))"
   ]
  },
  {
   "cell_type": "markdown",
   "id": "91e51f22-b27e-4e63-a941-294af282acae",
   "metadata": {},
   "source": [
    "With this modifier we are telling the agent that molecules with scores that are less than 0.2 are no good for us while scores of more than 0.8 are good with some linear progressin in between. We can easily visualize the modifier with the following code:"
   ]
  },
  {
   "cell_type": "code",
   "execution_count": 21,
   "id": "0e345109-fc3a-482e-9176-0fca6c13da42",
   "metadata": {},
   "outputs": [
    {
     "data": {
      "text/plain": [
       "<AxesSubplot: xlabel='Score', ylabel='Clipped Score'>"
      ]
     },
     "execution_count": 21,
     "metadata": {},
     "output_type": "execute_result"
    },
    {
     "data": {
      "image/png": "[encoded data removed]",
      "text/plain": [
       "<Figure size 640x480 with 1 Axes>"
      ]
     },
     "metadata": {},
     "output_type": "display_data"
    }
   ],
   "source": [
    "import numpy as np\n",
    "\n",
    "def depict_modifier(modifier, start=0, end=1, step=0.01, name = 'Clipped Score'):\n",
    "    vals = np.arange(start,end, step)\n",
    "    scores = [(x, modifier(x)) for x in vals] # get the A1R modifier for inactivity (the lower the activity, the higher the reward)\n",
    "    scores = pd.DataFrame(scores, columns=['Score', name])\n",
    "    return scores.plot.scatter(x = 'Score', y = name)\n",
    "\n",
    "depict_modifier(scorer_model.getModifier())"
   ]
  },
  {
   "cell_type": "markdown",
   "id": "6eb4cbca-a1d6-4aa0-8942-3ed527be9b3a",
   "metadata": {},
   "source": [
    "As we can see the agent will be told to stay away from molecules of scores lower then 0.2 and move towards molecules of at least score 0.8. The reason for the linear progression in between is there so that the model can evaluate whether one molecule is better than the other, but not generally desired.\n",
    "\n",
    "For the SAScore we will opt for the smoothed out variant of clipped score, `SmoothClippedScore`:"
   ]
  },
  {
   "cell_type": "code",
   "execution_count": 22,
   "id": "96d2468d-f3a6-45d4-897a-108e0c7918b5",
   "metadata": {},
   "outputs": [],
   "source": [
    "from drugex.training.scorers.modifiers import SmoothClippedScore\n",
    "\n",
    "sascore.setModifier(SmoothClippedScore(lower_x=5, upper_x=3))"
   ]
  },
  {
   "cell_type": "markdown",
   "id": "e48842df-d2cc-4ad0-9134-aed692de1c9a",
   "metadata": {},
   "source": [
    "This funtion looks as follows:"
   ]
  },
  {
   "cell_type": "code",
   "execution_count": 23,
   "id": "e33afe7a-49cc-444c-9ce4-098bf3fce28f",
   "metadata": {},
   "outputs": [
    {
     "data": {
      "text/plain": [
       "<AxesSubplot: xlabel='Score', ylabel='Clipped Score - Smooth'>"
      ]
     },
     "execution_count": 23,
     "metadata": {},
     "output_type": "execute_result"
    },
    {
     "data": {
      "image/png": "[encoded data removed]",
      "text/plain": [
       "<Figure size 640x480 with 1 Axes>"
      ]
     },
     "metadata": {},
     "output_type": "display_data"
    }
   ],
   "source": [
    "depict_modifier(sascore.getModifier(), 0, 10, 0.1, 'Clipped Score - Smooth')"
   ]
  },
  {
   "cell_type": "markdown",
   "id": "d7427aca-d783-4878-88d4-c0be85a12bad",
   "metadata": {},
   "source": [
    "In general, molecules with SAScore higher than 6 are considered quite complex, but can still be present in data sets so we give the distribution a more gradual decrease with a longer right tail. We will also never achieve the perfect SAScore of 1, but that is OK as long as we tell the model we want the score as close to one as possible.\n",
    "\n",
    "#### The Environment\n",
    "\n",
    "The last thing we have to do is to create the environment and to specify desirability thresholds for our scoring functions. We also need to apply a suitable multi-objective reward scheme:"
   ]
  },
  {
   "cell_type": "code",
   "execution_count": 24,
   "id": "10bb41b5-3337-45ec-88c3-e61e6943f727",
   "metadata": {},
   "outputs": [],
   "source": [
    "from drugex.training.environment import DrugExEnvironment\n",
    "from drugex.training.rewards import ParetoCrowdingDistance\n",
    "\n",
    "scorers = [\n",
    "    scorer_model,\n",
    "    sascore\n",
    "]\n",
    "thresholds = [\n",
    "    0.5,\n",
    "    0.1\n",
    "]\n",
    "\n",
    "environment = DrugExEnvironment(scorers, thresholds, reward_scheme=ParetoCrowdingDistance())"
   ]
  },
  {
   "cell_type": "markdown",
   "id": "93aa23e1-fd55-457d-8e83-891e6be15595",
   "metadata": {},
   "source": [
    "The thresholds can play some role in some reward schemes (i.e. `WeightedSum`), but in this case they will just be used to deem whether a molecule is desirable or not. We can show what that means if we get the scores for our previously generated compounds with the environment: "
   ]
  },
  {
   "cell_type": "code",
   "execution_count": 25,
   "id": "78cd2a11-04bf-4473-a1d0-f9bc5dd0ca76",
   "metadata": {},
   "outputs": [
    {
     "name": "stderr",
     "output_type": "stream",
     "text": [
      "/home/sichom/software/miniconda/envs/drugex-demo/lib/python3.9/site-packages/sklearn/base.py:450: UserWarning:\n",
      "\n",
      "X does not have valid feature names, but ExtraTreesClassifier was fitted with feature names\n",
      "\n"
     ]
    },
    {
     "data": {
      "text/html": [
       "<div>\n",
       "<style scoped>\n",
       "    .dataframe tbody tr th:only-of-type {\n",
       "        vertical-align: middle;\n",
       "    }\n",
       "\n",
       "    .dataframe tbody tr th {\n",
       "        vertical-align: top;\n",
       "    }\n",
       "\n",
       "    .dataframe thead th {\n",
       "        text-align: right;\n",
       "    }\n",
       "</style>\n",
       "<table border=\"1\" class=\"dataframe\">\n",
       "  <thead>\n",
       "    <tr style=\"text-align: right;\">\n",
       "      <th></th>\n",
       "      <th>A2A_CLS_MS</th>\n",
       "      <th>SA</th>\n",
       "      <th>DESIRE</th>\n",
       "      <th>VALID</th>\n",
       "    </tr>\n",
       "  </thead>\n",
       "  <tbody>\n",
       "    <tr>\n",
       "      <th>0</th>\n",
       "      <td>1.000000</td>\n",
       "      <td>0.960227</td>\n",
       "      <td>1</td>\n",
       "      <td>1</td>\n",
       "    </tr>\n",
       "    <tr>\n",
       "      <th>1</th>\n",
       "      <td>1.000000</td>\n",
       "      <td>0.967537</td>\n",
       "      <td>1</td>\n",
       "      <td>1</td>\n",
       "    </tr>\n",
       "    <tr>\n",
       "      <th>2</th>\n",
       "      <td>1.000000</td>\n",
       "      <td>0.923479</td>\n",
       "      <td>1</td>\n",
       "      <td>1</td>\n",
       "    </tr>\n",
       "    <tr>\n",
       "      <th>3</th>\n",
       "      <td>0.093333</td>\n",
       "      <td>0.812690</td>\n",
       "      <td>0</td>\n",
       "      <td>1</td>\n",
       "    </tr>\n",
       "    <tr>\n",
       "      <th>4</th>\n",
       "      <td>0.866667</td>\n",
       "      <td>0.906227</td>\n",
       "      <td>1</td>\n",
       "      <td>1</td>\n",
       "    </tr>\n",
       "    <tr>\n",
       "      <th>...</th>\n",
       "      <td>...</td>\n",
       "      <td>...</td>\n",
       "      <td>...</td>\n",
       "      <td>...</td>\n",
       "    </tr>\n",
       "    <tr>\n",
       "      <th>995</th>\n",
       "      <td>1.000000</td>\n",
       "      <td>0.959026</td>\n",
       "      <td>1</td>\n",
       "      <td>1</td>\n",
       "    </tr>\n",
       "    <tr>\n",
       "      <th>996</th>\n",
       "      <td>0.540000</td>\n",
       "      <td>0.926320</td>\n",
       "      <td>1</td>\n",
       "      <td>1</td>\n",
       "    </tr>\n",
       "    <tr>\n",
       "      <th>997</th>\n",
       "      <td>0.140000</td>\n",
       "      <td>0.936109</td>\n",
       "      <td>0</td>\n",
       "      <td>1</td>\n",
       "    </tr>\n",
       "    <tr>\n",
       "      <th>998</th>\n",
       "      <td>0.490000</td>\n",
       "      <td>0.656216</td>\n",
       "      <td>0</td>\n",
       "      <td>1</td>\n",
       "    </tr>\n",
       "    <tr>\n",
       "      <th>999</th>\n",
       "      <td>0.000000</td>\n",
       "      <td>0.580597</td>\n",
       "      <td>0</td>\n",
       "      <td>1</td>\n",
       "    </tr>\n",
       "  </tbody>\n",
       "</table>\n",
       "<p>1000 rows × 4 columns</p>\n",
       "</div>"
      ],
      "text/plain": [
       "     A2A_CLS_MS        SA  DESIRE  VALID\n",
       "0      1.000000  0.960227       1      1\n",
       "1      1.000000  0.967537       1      1\n",
       "2      1.000000  0.923479       1      1\n",
       "3      0.093333  0.812690       0      1\n",
       "4      0.866667  0.906227       1      1\n",
       "..          ...       ...     ...    ...\n",
       "995    1.000000  0.959026       1      1\n",
       "996    0.540000  0.926320       1      1\n",
       "997    0.140000  0.936109       0      1\n",
       "998    0.490000  0.656216       0      1\n",
       "999    0.000000  0.580597       0      1\n",
       "\n",
       "[1000 rows x 4 columns]"
      ]
     },
     "execution_count": 25,
     "metadata": {},
     "output_type": "execute_result"
    }
   ],
   "source": [
    "scores = environment.getScores(smiles_finetuned)\n",
    "scores"
   ]
  },
  {
   "cell_type": "markdown",
   "id": "bc21bb0d-ba7a-446e-86d8-a498b160f024",
   "metadata": {},
   "source": [
    "The `DESIRE` column shows a 1 for all molecules that satisfy the desirability thresholds for all objectives (SAScore higher than 0.1 and the predicted active probability from QSAE of more than 0.5). Note that the thresholds relate to the modified scores and not the original values.\n",
    "\n",
    "We can now calculate how many desirable compounds there are in this initial set:"
   ]
  },
  {
   "cell_type": "code",
   "execution_count": 26,
   "id": "d1d704d0-1f29-4d13-8c7f-608d5df3276d",
   "metadata": {},
   "outputs": [
    {
     "data": {
      "text/plain": [
       "0.568"
      ]
     },
     "execution_count": 26,
     "metadata": {},
     "output_type": "execute_result"
    }
   ],
   "source": [
    "sum(scores[\"DESIRE\"]) / len(scores)"
   ]
  },
  {
   "cell_type": "markdown",
   "id": "24ab0d11-fc02-45b0-b3b2-be9bba4bef40",
   "metadata": {},
   "source": [
    "We can also analyze the distribution of the score for each objective:"
   ]
  },
  {
   "cell_type": "code",
   "execution_count": 27,
   "id": "ee583960-ff07-4be0-af08-c4072c167be4",
   "metadata": {},
   "outputs": [
    {
     "data": {
      "text/plain": [
       "<AxesSubplot: >"
      ]
     },
     "execution_count": 27,
     "metadata": {},
     "output_type": "execute_result"
    },
    {
     "data": {
      "image/png": "[encoded data removed]",
      "text/plain": [
       "<Figure size 640x480 with 1 Axes>"
      ]
     },
     "metadata": {},
     "output_type": "display_data"
    }
   ],
   "source": [
    "scores.A2A_CLS_MS.hist()"
   ]
  },
  {
   "cell_type": "code",
   "execution_count": 28,
   "id": "1849d53c-b824-4c4d-a368-f4bffe834ed9",
   "metadata": {},
   "outputs": [
    {
     "data": {
      "text/plain": [
       "<AxesSubplot: >"
      ]
     },
     "execution_count": 28,
     "metadata": {},
     "output_type": "execute_result"
    },
    {
     "data": {
      "image/png": "[encoded data removed]",
      "text/plain": [
       "<Figure size 640x480 with 1 Axes>"
      ]
     },
     "metadata": {},
     "output_type": "display_data"
    }
   ],
   "source": [
    "scores.SA.hist()"
   ]
  },
  {
   "cell_type": "markdown",
   "id": "1b60e537-b361-40dc-8eec-6d2b95877520",
   "metadata": {},
   "source": [
    "We can see that this is not bad for just an initial model, but we can surely do better, especially when it comes to biological activity predictions. Let's see if we can manage that with reinforcement learning. For the RNN model, the reinforcement learning framework is implemented with the `SmilesExplorerNoFrag` class:"
   ]
  },
  {
   "cell_type": "code",
   "execution_count": 29,
   "id": "784f031e-2d82-418e-97a8-73e4de4a7c17",
   "metadata": {},
   "outputs": [],
   "source": [
    "from drugex.training.models.explorer import SmilesExplorerNoFrag\n",
    "import warnings\n",
    "warnings.filterwarnings('ignore')\n",
    "\n",
    "pretrained = RNN(voc, is_lstm=True, use_gpus=GPUS)\n",
    "pretrained.loadStatesFromFile('data/drugex/models/pretrained/DrugEx_v2_PT_Papyrus05.5/Papyrus05.5_smiles_rnn_PT.pkg')\n",
    "\n",
    "finetuned = RNN(voc, is_lstm=True, use_gpus=GPUS)\n",
    "finetuned.loadStatesFromFile('data/drugex/models/finetuned/ligand_finetune.pkg')\n",
    "\n",
    "explorer = SmilesExplorerNoFrag(\n",
    "    agent = finetuned,\n",
    "    env = environment,\n",
    "    mutate = pretrained,\n",
    "    crover = finetuned,\n",
    "    sigma = 0,\n",
    "    epsilon = 0.01,\n",
    "    use_gpus = GPUS\n",
    ")"
   ]
  },
  {
   "cell_type": "markdown",
   "id": "34cd5576-1d47-4b33-92e9-a9d1fd1e1e2a",
   "metadata": {},
   "source": [
    "There are quite a few things we can tweak about the explorer here and the way it approaches reinforcement learning. We could for example choose the pretrained network to be the agent instead of the finetuned network. Doing that could help us find more novel structures that are also active. When using the finetuned model as the agent, the structures will be more similar to known ligands. In our current scenario, we are also using a rather low exploration parameter (`epsilon`), which is another way to influence the diversity of the generated compounds. The higher the `epsilon`, the larger the influence of the mutations introduced by the pretrained model, which adds more randomness to our structures. In short, there is a lot of space for experimentation and you can read more information in the [original paper](https://doi.org/10.1186/s13321-019-0355-6). In this particular case, we just chose the easiest setup for the algorithm so that it converges more easily and we can train it faster, but at the expense of more diverse exploration of chemical space.\n",
    "\n",
    "With that said, let's get to training. Thanks to this simplified setup, 30 epochs should be enough for us to already see a result:"
   ]
  },
  {
   "cell_type": "code",
   "execution_count": 30,
   "id": "6fc9604d-9979-477c-bef7-9d7ccba7376a",
   "metadata": {},
   "outputs": [],
   "source": [
    "monitor = FileMonitor(os.path.join(MODEL_DIR, 'ligand_agent_rl'), verbose=True)\n",
    "explorer.fit(train_loader, valid_loader, monitor=monitor, epochs=30)"
   ]
  },
  {
   "cell_type": "markdown",
   "id": "f1796692-07ec-4003-8409-a384c5ffb4fb",
   "metadata": {},
   "source": [
    "Again, we can observer the evolution of certain parameters during training. Most improtantly the validity of the generated structures and the training loss:"
   ]
  },
  {
   "cell_type": "code",
   "execution_count": 31,
   "id": "10961ed4-d2f4-4132-b3ff-d5317ee57026",
   "metadata": {},
   "outputs": [
    {
     "data": {
      "text/html": [
       "<div>\n",
       "<style scoped>\n",
       "    .dataframe tbody tr th:only-of-type {\n",
       "        vertical-align: middle;\n",
       "    }\n",
       "\n",
       "    .dataframe tbody tr th {\n",
       "        vertical-align: top;\n",
       "    }\n",
       "\n",
       "    .dataframe thead th {\n",
       "        text-align: right;\n",
       "    }\n",
       "</style>\n",
       "<table border=\"1\" class=\"dataframe\">\n",
       "  <thead>\n",
       "    <tr style=\"text-align: right;\">\n",
       "      <th></th>\n",
       "      <th>epoch</th>\n",
       "      <th>loss_train</th>\n",
       "      <th>loss_valid</th>\n",
       "      <th>valid_ratio</th>\n",
       "      <th>unique_ratio</th>\n",
       "      <th>desire_ratio</th>\n",
       "      <th>mean_train_loss</th>\n",
       "    </tr>\n",
       "  </thead>\n",
       "  <tbody>\n",
       "    <tr>\n",
       "      <th>0</th>\n",
       "      <td>1</td>\n",
       "      <td>NaN</td>\n",
       "      <td>NaN</td>\n",
       "      <td>0.882812</td>\n",
       "      <td>NaN</td>\n",
       "      <td>0.468750</td>\n",
       "      <td>-1.035898</td>\n",
       "    </tr>\n",
       "    <tr>\n",
       "      <th>1</th>\n",
       "      <td>2</td>\n",
       "      <td>NaN</td>\n",
       "      <td>NaN</td>\n",
       "      <td>0.835938</td>\n",
       "      <td>NaN</td>\n",
       "      <td>0.429688</td>\n",
       "      <td>-0.100127</td>\n",
       "    </tr>\n",
       "    <tr>\n",
       "      <th>2</th>\n",
       "      <td>3</td>\n",
       "      <td>NaN</td>\n",
       "      <td>NaN</td>\n",
       "      <td>0.875000</td>\n",
       "      <td>NaN</td>\n",
       "      <td>0.484375</td>\n",
       "      <td>-0.091035</td>\n",
       "    </tr>\n",
       "    <tr>\n",
       "      <th>3</th>\n",
       "      <td>4</td>\n",
       "      <td>NaN</td>\n",
       "      <td>NaN</td>\n",
       "      <td>0.968750</td>\n",
       "      <td>NaN</td>\n",
       "      <td>0.585938</td>\n",
       "      <td>-0.089925</td>\n",
       "    </tr>\n",
       "    <tr>\n",
       "      <th>4</th>\n",
       "      <td>5</td>\n",
       "      <td>NaN</td>\n",
       "      <td>NaN</td>\n",
       "      <td>0.906250</td>\n",
       "      <td>NaN</td>\n",
       "      <td>0.539062</td>\n",
       "      <td>-0.086788</td>\n",
       "    </tr>\n",
       "  </tbody>\n",
       "</table>\n",
       "</div>"
      ],
      "text/plain": [
       "   epoch  loss_train  loss_valid  valid_ratio  unique_ratio  desire_ratio  \\\n",
       "0      1         NaN         NaN     0.882812           NaN      0.468750   \n",
       "1      2         NaN         NaN     0.835938           NaN      0.429688   \n",
       "2      3         NaN         NaN     0.875000           NaN      0.484375   \n",
       "3      4         NaN         NaN     0.968750           NaN      0.585938   \n",
       "4      5         NaN         NaN     0.906250           NaN      0.539062   \n",
       "\n",
       "   mean_train_loss  \n",
       "0        -1.035898  \n",
       "1        -0.100127  \n",
       "2        -0.091035  \n",
       "3        -0.089925  \n",
       "4        -0.086788  "
      ]
     },
     "execution_count": 31,
     "metadata": {},
     "output_type": "execute_result"
    }
   ],
   "source": [
    "df_info = pd.read_csv('data/drugex/models/finetuned/ligand_agent_rl_fit.tsv', sep='\\t')\n",
    "df_info.head()"
   ]
  },
  {
   "cell_type": "code",
   "execution_count": 32,
   "id": "024f80f1-dc7d-4d64-a19a-c8660a3222a5",
   "metadata": {},
   "outputs": [
    {
     "data": {
      "text/plain": [
       "<AxesSubplot: >"
      ]
     },
     "execution_count": 32,
     "metadata": {},
     "output_type": "execute_result"
    },
    {
     "data": {
      "image/png": "[encoded data removed]",
      "text/plain": [
       "<Figure size 640x480 with 1 Axes>"
      ]
     },
     "metadata": {},
     "output_type": "display_data"
    }
   ],
   "source": [
    "df_info[['valid_ratio', 'mean_train_loss', 'desire_ratio']].plot.line()"
   ]
  },
  {
   "cell_type": "markdown",
   "id": "f31060f7-0830-437c-9bbc-e90fbae0ac7b",
   "metadata": {},
   "source": [
    "We can see that most of the compounds remain valid and the training loss also improves slightly. We also have a little drop in validity and loss after the first epoch, but the model quickly stabilizes itself. \n",
    "\n",
    "Let's test if this model is now able to produce better molecules. We just need to load it from the saved state and sample new structures:"
   ]
  },
  {
   "cell_type": "code",
   "execution_count": 33,
   "id": "7b4b51a2-f2c5-422c-a5f3-145f54bee748",
   "metadata": {},
   "outputs": [],
   "source": [
    "agent = RNN(voc, is_lstm=True, use_gpus=GPUS)\n",
    "agent.loadStatesFromFile('data/drugex/models/finetuned/ligand_agent_rl.pkg')\n",
    "\n",
    "smiles_rl = sample_smiles(agent, 1000)"
   ]
  },
  {
   "cell_type": "markdown",
   "id": "b9abc3b9-16c9-4d8f-b9c0-0c91be74a6a4",
   "metadata": {},
   "source": [
    "We can again push them through our environment and see how many of them are desirable according to our settings:"
   ]
  },
  {
   "cell_type": "code",
   "execution_count": 34,
   "id": "1a0d277c-8425-4856-88e1-9ccc2d1af161",
   "metadata": {},
   "outputs": [
    {
     "data": {
      "text/html": [
       "<div>\n",
       "<style scoped>\n",
       "    .dataframe tbody tr th:only-of-type {\n",
       "        vertical-align: middle;\n",
       "    }\n",
       "\n",
       "    .dataframe tbody tr th {\n",
       "        vertical-align: top;\n",
       "    }\n",
       "\n",
       "    .dataframe thead th {\n",
       "        text-align: right;\n",
       "    }\n",
       "</style>\n",
       "<table border=\"1\" class=\"dataframe\">\n",
       "  <thead>\n",
       "    <tr style=\"text-align: right;\">\n",
       "      <th></th>\n",
       "      <th>A2A_CLS_MS</th>\n",
       "      <th>SA</th>\n",
       "      <th>DESIRE</th>\n",
       "      <th>VALID</th>\n",
       "    </tr>\n",
       "  </thead>\n",
       "  <tbody>\n",
       "    <tr>\n",
       "      <th>0</th>\n",
       "      <td>1.00</td>\n",
       "      <td>0.984993</td>\n",
       "      <td>1</td>\n",
       "      <td>1</td>\n",
       "    </tr>\n",
       "    <tr>\n",
       "      <th>1</th>\n",
       "      <td>1.00</td>\n",
       "      <td>0.982648</td>\n",
       "      <td>1</td>\n",
       "      <td>1</td>\n",
       "    </tr>\n",
       "    <tr>\n",
       "      <th>2</th>\n",
       "      <td>1.00</td>\n",
       "      <td>0.975210</td>\n",
       "      <td>1</td>\n",
       "      <td>1</td>\n",
       "    </tr>\n",
       "    <tr>\n",
       "      <th>3</th>\n",
       "      <td>1.00</td>\n",
       "      <td>0.981393</td>\n",
       "      <td>1</td>\n",
       "      <td>1</td>\n",
       "    </tr>\n",
       "    <tr>\n",
       "      <th>4</th>\n",
       "      <td>1.00</td>\n",
       "      <td>0.982988</td>\n",
       "      <td>1</td>\n",
       "      <td>1</td>\n",
       "    </tr>\n",
       "    <tr>\n",
       "      <th>...</th>\n",
       "      <td>...</td>\n",
       "      <td>...</td>\n",
       "      <td>...</td>\n",
       "      <td>...</td>\n",
       "    </tr>\n",
       "    <tr>\n",
       "      <th>995</th>\n",
       "      <td>0.90</td>\n",
       "      <td>0.954932</td>\n",
       "      <td>1</td>\n",
       "      <td>1</td>\n",
       "    </tr>\n",
       "    <tr>\n",
       "      <th>996</th>\n",
       "      <td>1.00</td>\n",
       "      <td>0.976857</td>\n",
       "      <td>1</td>\n",
       "      <td>1</td>\n",
       "    </tr>\n",
       "    <tr>\n",
       "      <th>997</th>\n",
       "      <td>1.00</td>\n",
       "      <td>0.981857</td>\n",
       "      <td>1</td>\n",
       "      <td>1</td>\n",
       "    </tr>\n",
       "    <tr>\n",
       "      <th>998</th>\n",
       "      <td>1.00</td>\n",
       "      <td>0.983741</td>\n",
       "      <td>1</td>\n",
       "      <td>1</td>\n",
       "    </tr>\n",
       "    <tr>\n",
       "      <th>999</th>\n",
       "      <td>0.82</td>\n",
       "      <td>0.969804</td>\n",
       "      <td>1</td>\n",
       "      <td>1</td>\n",
       "    </tr>\n",
       "  </tbody>\n",
       "</table>\n",
       "<p>1000 rows × 4 columns</p>\n",
       "</div>"
      ],
      "text/plain": [
       "     A2A_CLS_MS        SA  DESIRE  VALID\n",
       "0          1.00  0.984993       1      1\n",
       "1          1.00  0.982648       1      1\n",
       "2          1.00  0.975210       1      1\n",
       "3          1.00  0.981393       1      1\n",
       "4          1.00  0.982988       1      1\n",
       "..          ...       ...     ...    ...\n",
       "995        0.90  0.954932       1      1\n",
       "996        1.00  0.976857       1      1\n",
       "997        1.00  0.981857       1      1\n",
       "998        1.00  0.983741       1      1\n",
       "999        0.82  0.969804       1      1\n",
       "\n",
       "[1000 rows x 4 columns]"
      ]
     },
     "execution_count": 34,
     "metadata": {},
     "output_type": "execute_result"
    }
   ],
   "source": [
    "scores = environment.getScores(smiles_rl)\n",
    "scores"
   ]
  },
  {
   "cell_type": "code",
   "execution_count": 35,
   "id": "0b152b73-e5f2-4156-ba7e-cb24459c06d5",
   "metadata": {},
   "outputs": [
    {
     "data": {
      "text/plain": [
       "0.954"
      ]
     },
     "execution_count": 35,
     "metadata": {},
     "output_type": "execute_result"
    }
   ],
   "source": [
    "sum(scores[\"DESIRE\"] > 0.5) / len(scores)"
   ]
  },
  {
   "cell_type": "code",
   "execution_count": 36,
   "id": "c695ca75-6914-4911-bd54-3ebdf2129f32",
   "metadata": {},
   "outputs": [
    {
     "data": {
      "text/plain": [
       "<AxesSubplot: >"
      ]
     },
     "execution_count": 36,
     "metadata": {},
     "output_type": "execute_result"
    },
    {
     "data": {
      "image/png": "[encoded data removed]",
      "text/plain": [
       "<Figure size 640x480 with 1 Axes>"
      ]
     },
     "metadata": {},
     "output_type": "display_data"
    }
   ],
   "source": [
    "scores.A2A_CLS_MS.hist()"
   ]
  },
  {
   "cell_type": "code",
   "execution_count": 37,
   "id": "1e7d8e63-416d-48bd-ad69-aa7e2582494a",
   "metadata": {},
   "outputs": [
    {
     "data": {
      "text/plain": [
       "<AxesSubplot: >"
      ]
     },
     "execution_count": 37,
     "metadata": {},
     "output_type": "execute_result"
    },
    {
     "data": {
      "image/png": "[encoded data removed]",
      "text/plain": [
       "<Figure size 640x480 with 1 Axes>"
      ]
     },
     "metadata": {},
     "output_type": "display_data"
    }
   ],
   "source": [
    "scores.SA.hist()"
   ]
  },
  {
   "cell_type": "markdown",
   "id": "82da99c5-d9ca-4378-9b7b-f39503a1ca2a",
   "metadata": {},
   "source": [
    "That definitely looks better than before. We now have a much higher ratio of desirable molecules. Let's take a look at the structures and use the model output to color them based on predicted activity:"
   ]
  },
  {
   "cell_type": "code",
   "execution_count": 38,
   "id": "7ed26665-bb3a-4121-be5c-4dc5b16228dd",
   "metadata": {},
   "outputs": [
    {
     "data": {
      "text/html": [
       "\n",
       "        <iframe\n",
       "            width=\"100%\"\n",
       "            height=\"800\"\n",
       "            src=\"http://127.0.0.1:9494/\"\n",
       "            frameborder=\"0\"\n",
       "            allowfullscreen\n",
       "            \n",
       "        ></iframe>\n",
       "        "
      ],
      "text/plain": [
       "<IPython.lib.display.IFrame at 0x7fec1f250f10>"
      ]
     },
     "metadata": {},
     "output_type": "display_data"
    }
   ],
   "source": [
    "dataset = DataSetSMILES(\"data/finetuned_rl_sampled.tsv\", smiles=smiles_rl, use_existing=False)\n",
    "dataset.addData('CLS', scores.A2A_CLS_MS)\n",
    "dataset.addDescriptors([MorganFP(radius=2, nBits=1024)], recalculate=False) \n",
    "\n",
    "plt = Plot(dataset, TSNE())\n",
    "plt.plot(\n",
    "    recalculate=False,\n",
    "    color_by='CLS',\n",
    "    color_continuous_scale=\"rdylgn\",\n",
    "    color_style='continuous',\n",
    "    viewport_height=800,\n",
    "    port=9494\n",
    ")"
   ]
  },
  {
   "cell_type": "markdown",
   "id": "34e80371-51a2-4d4c-898d-20f2f964bdca",
   "metadata": {},
   "source": [
    "A lot of the molecules are lit up green, which is good. It means the model is confident that these structures belong to active ligands. It seems that we were able to improve the original model's ability to produce more active and synthetically accessible compounds. Congratulations, maybe there is a new drug in there :) \n",
    "\n",
    "But before jumping into conclusions we should be critical of what we accomplished here. We merely optimized the original finetuned model so it is likely there is a big overlap between the original data set and this new set of compounds. We can easily check how our compounds compare to the original set by visualizing them together:"
   ]
  },
  {
   "cell_type": "code",
   "execution_count": 39,
   "id": "f78404ec-f232-47a3-b11f-a0a68ed59fbc",
   "metadata": {},
   "outputs": [
    {
     "data": {
      "text/html": [
       "<div>\n",
       "<style scoped>\n",
       "    .dataframe tbody tr th:only-of-type {\n",
       "        vertical-align: middle;\n",
       "    }\n",
       "\n",
       "    .dataframe tbody tr th {\n",
       "        vertical-align: top;\n",
       "    }\n",
       "\n",
       "    .dataframe thead th {\n",
       "        text-align: right;\n",
       "    }\n",
       "</style>\n",
       "<table border=\"1\" class=\"dataframe\">\n",
       "  <thead>\n",
       "    <tr style=\"text-align: right;\">\n",
       "      <th></th>\n",
       "      <th>SMILES</th>\n",
       "      <th>Group</th>\n",
       "    </tr>\n",
       "  </thead>\n",
       "  <tbody>\n",
       "    <tr>\n",
       "      <th>0</th>\n",
       "      <td>Cc1nn(-c2cc(NC(=O)CCN(C)C)nc(-c3ccc(C)o3)n2)c(...</td>\n",
       "      <td>A2A Set</td>\n",
       "    </tr>\n",
       "    <tr>\n",
       "      <th>1</th>\n",
       "      <td>Nc1c(C(=O)Nc2ccc([N+](=O)[O-])cc2)sc2c1cc1CCCC...</td>\n",
       "      <td>A2A Set</td>\n",
       "    </tr>\n",
       "    <tr>\n",
       "      <th>2</th>\n",
       "      <td>O=C(Nc1nc2ncccc2n2c(=O)n(-c3ccccc3)nc12)c1ccccc1</td>\n",
       "      <td>A2A Set</td>\n",
       "    </tr>\n",
       "    <tr>\n",
       "      <th>3</th>\n",
       "      <td>NC(=NC(=O)Cn1c(O)c2CCCCc2c1O)Nc1nc2c(cccc2)s1</td>\n",
       "      <td>A2A Set</td>\n",
       "    </tr>\n",
       "    <tr>\n",
       "      <th>4</th>\n",
       "      <td>CNC(=O)C12CC1C(n1cnc3c1nc(C#CCCCCC(=O)OC)nc3NC...</td>\n",
       "      <td>A2A Set</td>\n",
       "    </tr>\n",
       "    <tr>\n",
       "      <th>...</th>\n",
       "      <td>...</td>\n",
       "      <td>...</td>\n",
       "    </tr>\n",
       "    <tr>\n",
       "      <th>995</th>\n",
       "      <td>CCNc1nc(-c2ccco2)c2cnccc2n1</td>\n",
       "      <td>Generated</td>\n",
       "    </tr>\n",
       "    <tr>\n",
       "      <th>996</th>\n",
       "      <td>Cc1ccc(CNC(=O)c2nc(N)nc3cccc(F)c23)cc1</td>\n",
       "      <td>Generated</td>\n",
       "    </tr>\n",
       "    <tr>\n",
       "      <th>997</th>\n",
       "      <td>Nc1nc(-c2cccc(Cl)c2)nc(-c2ccccc2F)n1</td>\n",
       "      <td>Generated</td>\n",
       "    </tr>\n",
       "    <tr>\n",
       "      <th>998</th>\n",
       "      <td>Nc1ncc(-c2ccc(Br)cc2)c(-c2ccc(Cl)cc2)n1</td>\n",
       "      <td>Generated</td>\n",
       "    </tr>\n",
       "    <tr>\n",
       "      <th>999</th>\n",
       "      <td>Nc1nc(Cl)c2cccc(F)c2n1</td>\n",
       "      <td>Generated</td>\n",
       "    </tr>\n",
       "  </tbody>\n",
       "</table>\n",
       "<p>4991 rows × 2 columns</p>\n",
       "</div>"
      ],
      "text/plain": [
       "                                                SMILES      Group\n",
       "0    Cc1nn(-c2cc(NC(=O)CCN(C)C)nc(-c3ccc(C)o3)n2)c(...    A2A Set\n",
       "1    Nc1c(C(=O)Nc2ccc([N+](=O)[O-])cc2)sc2c1cc1CCCC...    A2A Set\n",
       "2     O=C(Nc1nc2ncccc2n2c(=O)n(-c3ccccc3)nc12)c1ccccc1    A2A Set\n",
       "3        NC(=NC(=O)Cn1c(O)c2CCCCc2c1O)Nc1nc2c(cccc2)s1    A2A Set\n",
       "4    CNC(=O)C12CC1C(n1cnc3c1nc(C#CCCCCC(=O)OC)nc3NC...    A2A Set\n",
       "..                                                 ...        ...\n",
       "995                        CCNc1nc(-c2ccco2)c2cnccc2n1  Generated\n",
       "996             Cc1ccc(CNC(=O)c2nc(N)nc3cccc(F)c23)cc1  Generated\n",
       "997               Nc1nc(-c2cccc(Cl)c2)nc(-c2ccccc2F)n1  Generated\n",
       "998            Nc1ncc(-c2ccc(Br)cc2)c(-c2ccc(Cl)cc2)n1  Generated\n",
       "999                             Nc1nc(Cl)c2cccc(F)c2n1  Generated\n",
       "\n",
       "[4991 rows x 2 columns]"
      ]
     },
     "execution_count": 39,
     "metadata": {},
     "output_type": "execute_result"
    }
   ],
   "source": [
    "df_joined = pd.concat(\n",
    "    [\n",
    "        pd.DataFrame(\n",
    "            {'SMILES' : df_a2a.SMILES.tolist(), 'Group': 'A2A Set'}\n",
    "        ),\n",
    "        pd.DataFrame(\n",
    "            {'SMILES' : smiles_rl, 'Group': 'Generated'}\n",
    "        )\n",
    "    ]\n",
    ")\n",
    "df_joined"
   ]
  },
  {
   "cell_type": "code",
   "execution_count": 40,
   "id": "c445ab75-22ff-4e85-9b51-423b0c5d5d72",
   "metadata": {},
   "outputs": [
    {
     "data": {
      "text/html": [
       "\n",
       "        <iframe\n",
       "            width=\"100%\"\n",
       "            height=\"800\"\n",
       "            src=\"http://127.0.0.1:9595/\"\n",
       "            frameborder=\"0\"\n",
       "            allowfullscreen\n",
       "            \n",
       "        ></iframe>\n",
       "        "
      ],
      "text/plain": [
       "<IPython.lib.display.IFrame at 0x7feb820a5340>"
      ]
     },
     "metadata": {},
     "output_type": "display_data"
    }
   ],
   "source": [
    "from scaffviz.data.dataset import DataSetTSV\n",
    "\n",
    "dataset = DataSetTSV(\"data/original_and_generated.tsv\", data=df_joined)\n",
    "dataset.addDescriptors([MorganFP(radius=2, nBits=1024)], recalculate=False) \n",
    "\n",
    "plt = Plot(dataset, TSNE())\n",
    "plt.plot(\n",
    "    recalculate=False,\n",
    "    color_by='Group',\n",
    "    viewport_height=800,\n",
    "    port=9595\n",
    ")"
   ]
  },
  {
   "cell_type": "markdown",
   "id": "401e6d46-15ae-433b-b08e-1b5550772560",
   "metadata": {},
   "source": [
    "Indeed, there is some overlap between the original data set and the generated structures, but we also manage to generate some compounds outside of these orginal clusters so maybe there is some merit to this model and we might want to generate even more compounds with it and try to verify and screen the generated library with more precise methods (i.e. molecular docking)."
   ]
  },
  {
   "cell_type": "code",
   "execution_count": null,
   "id": "ff999cbf-787d-4b1f-bb22-c5d1f7daf7eb",
   "metadata": {},
   "outputs": [],
   "source": []
  }
 ],
 "metadata": {
  "kernelspec": {
   "display_name": "Python 3 (ipykernel)",
   "language": "python",
   "name": "python3"
  },
  "language_info": {
   "codemirror_mode": {
    "name": "ipython",
    "version": 3
   },
   "file_extension": ".py",
   "mimetype": "text/x-python",
   "name": "python",
   "nbconvert_exporter": "python",
   "pygments_lexer": "ipython3",
   "version": "3.9.13"
  }
 },
 "nbformat": 4,
 "nbformat_minor": 5
}
