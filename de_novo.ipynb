{
 "cells": [
  {
   "cell_type": "markdown",
   "id": "fc212f45-d2da-4382-b25f-a7546fb35490",
   "metadata": {},
   "source": [
    "# De Novo Drug Design with AI\n",
    "\n",
    "In this last section of the tutorial, we will show how we can generate new compounds with artificial intelligence (AI). Historically, [there have been many attempts](https://doi.org/10.3390/ijms22041676) to develop an algorithm that can generate chemical entities with desirable properties. Many of the early methods relied on evolutionary aglorithms, but today deep neural networks have become very popular for this task. It is still not clear if one approach works better than the other, but in this tutorial we will use the [DrugEx package](https://github.com/CDDLeiden/DrugEx), which integrates multiple generative deep learning models and provides a framework to train them with multiple objectives. However, there are many similar models and packages out there each with its own caveats and benefits. Therefore, it is generally a good idea to combine multiple approaches in real world applications because the overlap of the generated compounds between different methodlogies is usually very small.\n",
    "\n",
    "\n",
    "## Transfer Learning (Pretrained & Finetuned Model)\n",
    "\n",
    "We will not be training a generative model from scratch in this tutorial, but instead we will use a common technique called *transfer learning*. In transfer learning, we use an already pretrained model for one task as a starting point to finetune a second model for another task. The workflow is illustrated below:\n",
    "\n",
    "![TL](img/TL.drawio.svg)\n",
    "\n",
    "In the context of this tutorial, the pretrained model will be a large model trained on a large data set ([Papyrus](https://zenodo.org/record/7096859)). The task of this model was to observe the entirety of Papyrus data set and learn what a chemical structure looks like and be able to generate chemically valid molecules that resemble known chemistry. For this tutorial, we chose the model based on recurrent neural netoworks (RNNs). These are ususally easier to train so you can run these experiments on a regular GPU that you might have at home without too much waiting. This choice will also affect all other choices we will make in this tutorial so note that for a different model, slightly different workflow would be necessary.\n",
    "\n",
    "This global pretrained model is not very useful for our task, however, because it will likely only be able to generate very small percentage of molecules that might have some activity on the A2A receptor. Therefore, we will use the concept of transfer learning to obtain a finetuned model that can both generate valid molecules, but make those molecules much more similar to those that we extracted previously and should be relevant to the A2A receptor. \n",
    "\n",
    "### Preatrained Model\n",
    "\n",
    "First, let us start by loading and testing the pretrained model. This model is [archived on the Zenodo service](https://zenodo.org/record/7096859). There are many files archived along with the model, but at this point we only care about the `.vocab` and `.pkg` files:"
   ]
  },
  {
   "cell_type": "code",
   "execution_count": 1,
   "id": "70a859d9-a55e-4a64-8c87-8995d43f676b",
   "metadata": {},
   "outputs": [],
   "source": [
    "import os\n",
    "from drugex.training.models import RNN\n",
    "from drugex.data.corpus.vocabulary import VocSmiles\n",
    "\n",
    "PT_MODEL_FOLDER = \"data/drugex/models/pretrained/DrugEx_v2_PT_Papyrus05.5/\"\n",
    "GPUS = [0] # we will use only one GPU with ID=0, but if you have more, you can list more GPU IDs here\n",
    "\n",
    "voc = VocSmiles.fromFile(os.path.join(PT_MODEL_FOLDER, \"Papyrus05.5_smiles_rnn_PT.vocab\"))\n",
    "pretrained = RNN(voc, is_lstm=True, use_gpus=GPUS)\n",
    "pretrained.loadStatesFromFile(os.path.join(PT_MODEL_FOLDER, \"Papyrus05.5_smiles_rnn_PT.pkg\"))"
   ]
  },
  {
   "cell_type": "markdown",
   "id": "f495c430-c5f6-4d28-a6d8-caf24f4fa6ad",
   "metadata": {},
   "source": [
    "The `RNN` model requires a vocabulary of tokens to be provided. You can open this file and see the tokens defined in it. These are the words of the SMILES language that we use to define structures of molecules. What the model learned is how to combine these words into viable sentences (chemical structures) in the SMILES language. The data saved in the `.pkg` file are the weights (learned states) of the model that define the learned parameters and tell the model how to combine the tokens in the vocabulary in the correct way to generate a random compound that resembles known chemistry.\n",
    "\n",
    "At this point, we should have the pretrained model loaded and be ready to generate some molecules with it. We can validate that the model functions as expected by sampling a small number of molecules from it:"
   ]
  },
  {
   "cell_type": "code",
   "execution_count": 2,
   "id": "e2c64ef2-e7b4-4d3e-8376-fa1782bfb5ee",
   "metadata": {},
   "outputs": [
    {
     "name": "stdout",
     "output_type": "stream",
     "text": [
      "['COc1ccc(NC(=O)c2cnccn2)cc1OC', 'COc1ccc(CN2CCC(NC(=O)c3ccc4cc(C(N)=O)ccc4c3)CC2)cc1', 'O=c1cccc2[nH]c(Cc3ccccc3)nc2c1', 'COc1cc(C2CCN(C(=O)CN3C(=O)NC4(CCCC4C)C3=O)CC2)ccc1C', 'CCOc1ccc(N(C(=O)c2cc3ccccc3oc2=O)C2=CC=S(O)(O)=C2)cc1', 'CCOC(=O)CC(c1ccccc1)C(C#N)C(=O)OC(C)(C)C', 'CCCCCn1nc(CCCC)n(Cc2ccc(-c3ccccc3-c3nnn(C)n3)cc2)c1=O', 'COCC(=O)N1CCC(c2[nH]nc(-c3ccc(Cl)cc3)c2-c2ccnc(Oc3ccccc3)n2)CC1', 'CNC(Cn1c(=O)c(-c2ccccc2Cl)cn(Cc2c(F)cccc2C(F)(F)F)c1=O)c1ccccc1', 'O=C(NO)c1cnc(NC2(c3cccc(F)c3)CCCC2)nc1']\n"
     ]
    }
   ],
   "source": [
    "from drugex.utils import canonicalize_list\n",
    "from drugex.training.scorers.smiles import SmilesChecker\n",
    "import numpy as np\n",
    "\n",
    "def sample_smiles(self, num_smiles, batch_size=100, drop_duplicates=True, drop_invalid=True):\n",
    "    smiles = []\n",
    "    while len(smiles) < num_smiles:\n",
    "        # sample SMILES\n",
    "        sequences = self.sample(batch_size)\n",
    "        # decode according to vocabulary\n",
    "        new_smiles = canonicalize_list([self.voc.decode(s, is_tk = False) for s in sequences])\n",
    "        # drop duplicates\n",
    "        if drop_duplicates:\n",
    "            new_smiles = np.array(new_smiles)\n",
    "            new_smiles = new_smiles[np.logical_not(np.isin(new_smiles, smiles))]\n",
    "            new_smiles = new_smiles.tolist()\n",
    "        # drop invalid smiles\n",
    "        if drop_invalid:\n",
    "            scores = SmilesChecker.checkSmiles(new_smiles, frags=None).ravel()\n",
    "            new_smiles = np.array(new_smiles)[scores > 0].tolist()\n",
    "        smiles += new_smiles\n",
    "    return smiles[:num_smiles]\n",
    "\n",
    "smiles_pretrained = sample_smiles(pretrained, 1000)\n",
    "print(smiles_pretrained[0:10])"
   ]
  },
  {
   "cell_type": "markdown",
   "id": "28f05f05-4a16-4f35-8976-c671fbc37f8b",
   "metadata": {},
   "source": [
    "These are the first ten SMILES strings from the 1000 requested. It is a little hard to read into the structures from the SMILES strings so let's convert them to the `scaffviz` data set, which we can use to make a visualization:"
   ]
  },
  {
   "cell_type": "code",
   "execution_count": 3,
   "id": "4ab32fa0-a0c8-4f76-8a4f-0960ce3d0abf",
   "metadata": {},
   "outputs": [
    {
     "data": {
      "text/html": [
       "<div>\n",
       "<style scoped>\n",
       "    .dataframe tbody tr th:only-of-type {\n",
       "        vertical-align: middle;\n",
       "    }\n",
       "\n",
       "    .dataframe tbody tr th {\n",
       "        vertical-align: top;\n",
       "    }\n",
       "\n",
       "    .dataframe thead th {\n",
       "        text-align: right;\n",
       "    }\n",
       "</style>\n",
       "<table border=\"1\" class=\"dataframe\">\n",
       "  <thead>\n",
       "    <tr style=\"text-align: right;\">\n",
       "      <th></th>\n",
       "      <th>SMILES</th>\n",
       "      <th>RDMol</th>\n",
       "    </tr>\n",
       "  </thead>\n",
       "  <tbody>\n",
       "    <tr>\n",
       "      <th>0</th>\n",
       "      <td>COc1ccc(NC(=O)c2cnccn2)cc1OC</td>\n",
       "      <td style=\"text-align: center;\"><img data-content=\"rdkit/molecule\" src=\"data:image/png;base64,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\" alt=\"Mol\"/></td>\n",
       "    </tr>\n",
       "    <tr>\n",
       "      <th>1</th>\n",
       "      <td>COc1ccc(CN2CCC(NC(=O)c3ccc4cc(C(N)=O)ccc4c3)CC...</td>\n",
       "      <td style=\"text-align: center;\"><img data-content=\"rdkit/molecule\" src=\"data:image/png;base64,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\" alt=\"Mol\"/></td>\n",
       "    </tr>\n",
       "    <tr>\n",
       "      <th>2</th>\n",
       "      <td>O=c1cccc2[nH]c(Cc3ccccc3)nc2c1</td>\n",
       "      <td style=\"text-align: center;\"><img data-content=\"rdkit/molecule\" src=\"data:image/png;base64,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\" alt=\"Mol\"/></td>\n",
       "    </tr>\n",
       "  </tbody>\n",
       "</table>\n",
       "</div>"
      ],
      "text/plain": [
       "                                              SMILES  \\\n",
       "0                       COc1ccc(NC(=O)c2cnccn2)cc1OC   \n",
       "1  COc1ccc(CN2CCC(NC(=O)c3ccc4cc(C(N)=O)ccc4c3)CC...   \n",
       "2                     O=c1cccc2[nH]c(Cc3ccccc3)nc2c1   \n",
       "\n",
       "                                               RDMol  \n",
       "0  <img data-content=\"rdkit/molecule\" src=\"data:i...  \n",
       "1  <img data-content=\"rdkit/molecule\" src=\"data:i...  \n",
       "2  <img data-content=\"rdkit/molecule\" src=\"data:i...  "
      ]
     },
     "execution_count": 3,
     "metadata": {},
     "output_type": "execute_result"
    }
   ],
   "source": [
    "from scaffviz.data.dataset import DataSetSMILES\n",
    "\n",
    "dataset = DataSetSMILES(\"data/pretrained_sampled.tsv\", smiles=smiles_pretrained, use_existing=False)\n",
    "dataset.asDataFrame().head(3)"
   ]
  },
  {
   "cell_type": "markdown",
   "id": "5961abff-792c-4ae5-bd6b-8d0d919a0369",
   "metadata": {},
   "source": [
    "You can see that the generated `DataFrame` also includes a picture of the structure, but plotting the full chemical space plot is easy so let's do that too:"
   ]
  },
  {
   "cell_type": "code",
   "execution_count": 4,
   "id": "50960900-3142-4ba7-9389-b37d293df6ef",
   "metadata": {},
   "outputs": [
    {
     "name": "stderr",
     "output_type": "stream",
     "text": [
      "/home/sichom/software/miniconda/envs/drugex-demo/lib/python3.9/site-packages/sklearn/manifold/_t_sne.py:800: FutureWarning: The default initialization in TSNE will change from 'random' to 'pca' in 1.2.\n",
      "  warnings.warn(\n",
      "/home/sichom/software/miniconda/envs/drugex-demo/lib/python3.9/site-packages/sklearn/manifold/_t_sne.py:810: FutureWarning: The default learning rate in TSNE will change from 200.0 to 'auto' in 1.2.\n",
      "  warnings.warn(\n"
     ]
    },
    {
     "data": {
      "text/html": [
       "\n",
       "        <iframe\n",
       "            width=\"100%\"\n",
       "            height=\"800\"\n",
       "            src=\"http://127.0.0.1:9292/\"\n",
       "            frameborder=\"0\"\n",
       "            allowfullscreen\n",
       "            \n",
       "        ></iframe>\n",
       "        "
      ],
      "text/plain": [
       "<IPython.lib.display.IFrame at 0x7f19bc202e50>"
      ]
     },
     "metadata": {},
     "output_type": "display_data"
    }
   ],
   "source": [
    "from scaffviz.depiction.plot import Plot\n",
    "from scaffviz.clustering.manifold import TSNE\n",
    "from scaffviz.clustering.descriptors import MorganFP\n",
    "\n",
    "dataset.addDescriptors([MorganFP(radius=2, nBits=1024)], recalculate=False) \n",
    "\n",
    "# make an interactive plot that will use t-SNE to embed the data set in 2D (all current descriptors in the data set will be used)\n",
    "plt = Plot(dataset, TSNE())\n",
    "\n",
    "# start the server, you can open the plot in the browser\n",
    "plt.plot(\n",
    "    recalculate=False,\n",
    "    viewport_height=800,\n",
    "    port=9292\n",
    ")"
   ]
  },
  {
   "cell_type": "markdown",
   "id": "8ff001ff-5bfd-40c8-bc45-a6eec035e44c",
   "metadata": {},
   "source": [
    "If we compare this plot to the plots generated in previous tutorials, we will notice that there are no clusters of points here. The compounds are spread out more or less evenly around the center of the plot. This is to be expected because the pretrained model is designed to make generally drug-like chemistry and should not be biased towards a particular group of compounds. \n",
    "\n",
    "### Finetuned Model\n",
    "\n",
    "Generating more concrete and more defined chemical space will be the task for the finetuned model, which we will train with transfer learning. The task will be to generate structures that resemble more the structures in our A2A data set introduced previously:"
   ]
  },
  {
   "cell_type": "code",
   "execution_count": 5,
   "id": "b42b4b0c-996c-46c2-8917-006c47e73419",
   "metadata": {},
   "outputs": [
    {
     "data": {
      "text/html": [
       "<div>\n",
       "<style scoped>\n",
       "    .dataframe tbody tr th:only-of-type {\n",
       "        vertical-align: middle;\n",
       "    }\n",
       "\n",
       "    .dataframe tbody tr th {\n",
       "        vertical-align: top;\n",
       "    }\n",
       "\n",
       "    .dataframe thead th {\n",
       "        text-align: right;\n",
       "    }\n",
       "</style>\n",
       "<table border=\"1\" class=\"dataframe\">\n",
       "  <thead>\n",
       "    <tr style=\"text-align: right;\">\n",
       "      <th></th>\n",
       "      <th>Activity_ID</th>\n",
       "      <th>Quality</th>\n",
       "      <th>source</th>\n",
       "      <th>CID</th>\n",
       "      <th>SMILES</th>\n",
       "      <th>connectivity</th>\n",
       "      <th>InChIKey</th>\n",
       "      <th>InChI</th>\n",
       "      <th>InChI_AuxInfo</th>\n",
       "      <th>target_id</th>\n",
       "      <th>...</th>\n",
       "      <th>Descriptor_MorganFP_1016</th>\n",
       "      <th>Descriptor_MorganFP_1017</th>\n",
       "      <th>Descriptor_MorganFP_1018</th>\n",
       "      <th>Descriptor_MorganFP_1019</th>\n",
       "      <th>Descriptor_MorganFP_1020</th>\n",
       "      <th>Descriptor_MorganFP_1021</th>\n",
       "      <th>Descriptor_MorganFP_1022</th>\n",
       "      <th>Descriptor_MorganFP_1023</th>\n",
       "      <th>TSNE_1</th>\n",
       "      <th>TSNE_2</th>\n",
       "    </tr>\n",
       "  </thead>\n",
       "  <tbody>\n",
       "    <tr>\n",
       "      <th>0</th>\n",
       "      <td>AACWUFIIMOHGSO_on_P29274_WT</td>\n",
       "      <td>High</td>\n",
       "      <td>ChEMBL30</td>\n",
       "      <td>CHEMBL410234</td>\n",
       "      <td>Cc1nn(-c2cc(NC(=O)CCN(C)C)nc(-c3ccc(C)o3)n2)c(...</td>\n",
       "      <td>AACWUFIIMOHGSO</td>\n",
       "      <td>AACWUFIIMOHGSO-UHFFFAOYSA-N</td>\n",
       "      <td>InChI=1S/C19H24N6O2/c1-12-10-13(2)25(23-12)17-...</td>\n",
       "      <td>\"AuxInfo=1/1/N:1,26,22,14,15,20,19,11,12,27,6,...</td>\n",
       "      <td>P29274_WT</td>\n",
       "      <td>...</td>\n",
       "      <td>0.0</td>\n",
       "      <td>1.0</td>\n",
       "      <td>0.0</td>\n",
       "      <td>0.0</td>\n",
       "      <td>0.0</td>\n",
       "      <td>0.0</td>\n",
       "      <td>0.0</td>\n",
       "      <td>0.0</td>\n",
       "      <td>-49.262220</td>\n",
       "      <td>-18.827414</td>\n",
       "    </tr>\n",
       "    <tr>\n",
       "      <th>1</th>\n",
       "      <td>AAEYTMMNWWKSKZ_on_P29274_WT</td>\n",
       "      <td>High</td>\n",
       "      <td>ChEMBL30</td>\n",
       "      <td>CHEMBL601208</td>\n",
       "      <td>Nc1c(C(=O)Nc2ccc([N+](=O)[O-])cc2)sc2c1cc1CCCC...</td>\n",
       "      <td>AAEYTMMNWWKSKZ</td>\n",
       "      <td>AAEYTMMNWWKSKZ-UHFFFAOYSA-N</td>\n",
       "      <td>InChI=1S/C18H16N4O3S/c19-15-13-9-10-3-1-2-4-14...</td>\n",
       "      <td>\"AuxInfo=1/1/N:22,23,21,24,8,15,9,14,19,20,7,1...</td>\n",
       "      <td>P29274_WT</td>\n",
       "      <td>...</td>\n",
       "      <td>0.0</td>\n",
       "      <td>0.0</td>\n",
       "      <td>0.0</td>\n",
       "      <td>0.0</td>\n",
       "      <td>0.0</td>\n",
       "      <td>0.0</td>\n",
       "      <td>0.0</td>\n",
       "      <td>0.0</td>\n",
       "      <td>-30.326859</td>\n",
       "      <td>6.892628</td>\n",
       "    </tr>\n",
       "    <tr>\n",
       "      <th>2</th>\n",
       "      <td>AAGFKZWKWAMJNP_on_P29274_WT</td>\n",
       "      <td>High</td>\n",
       "      <td>ChEMBL30</td>\n",
       "      <td>CHEMBL473650</td>\n",
       "      <td>O=C(Nc1nc2ncccc2n2c(=O)n(-c3ccccc3)nc12)c1ccccc1</td>\n",
       "      <td>AAGFKZWKWAMJNP</td>\n",
       "      <td>AAGFKZWKWAMJNP-UHFFFAOYSA-N</td>\n",
       "      <td>InChI=1S/C21H14N6O2/c28-20(14-8-3-1-4-9-14)24-...</td>\n",
       "      <td>\"AuxInfo=1/1/N:27,19,26,28,18,20,9,25,29,17,21...</td>\n",
       "      <td>P29274_WT</td>\n",
       "      <td>...</td>\n",
       "      <td>0.0</td>\n",
       "      <td>0.0</td>\n",
       "      <td>0.0</td>\n",
       "      <td>0.0</td>\n",
       "      <td>0.0</td>\n",
       "      <td>0.0</td>\n",
       "      <td>0.0</td>\n",
       "      <td>0.0</td>\n",
       "      <td>25.112610</td>\n",
       "      <td>-4.832593</td>\n",
       "    </tr>\n",
       "    <tr>\n",
       "      <th>3</th>\n",
       "      <td>AAJLGNFYNMJGSY_on_P29274_WT</td>\n",
       "      <td>High</td>\n",
       "      <td>ExCAPE-DB</td>\n",
       "      <td>9586623</td>\n",
       "      <td>NC(=NC(=O)Cn1c(O)c2CCCCc2c1O)Nc1nc2c(cccc2)s1</td>\n",
       "      <td>AAJLGNFYNMJGSY</td>\n",
       "      <td>AAJLGNFYNMJGSY-UHFFFAOYSA-N</td>\n",
       "      <td>InChI=1S/C18H19N5O3S/c19-17(22-18-20-12-7-3-4-...</td>\n",
       "      <td>\"AuxInfo=1/1/N:12,13,25,24,11,14,26,23,6,10,15...</td>\n",
       "      <td>P29274_WT</td>\n",
       "      <td>...</td>\n",
       "      <td>0.0</td>\n",
       "      <td>0.0</td>\n",
       "      <td>0.0</td>\n",
       "      <td>0.0</td>\n",
       "      <td>0.0</td>\n",
       "      <td>0.0</td>\n",
       "      <td>0.0</td>\n",
       "      <td>0.0</td>\n",
       "      <td>-21.665638</td>\n",
       "      <td>-12.843870</td>\n",
       "    </tr>\n",
       "    <tr>\n",
       "      <th>4</th>\n",
       "      <td>AANUKDYJZPKTKN_on_P29274_WT</td>\n",
       "      <td>High</td>\n",
       "      <td>ChEMBL30</td>\n",
       "      <td>CHEMBL573125;45483959;CHEMBL573125;45483959;CH...</td>\n",
       "      <td>CNC(=O)C12CC1C(n1cnc3c1nc(C#CCCCCC(=O)OC)nc3NC...</td>\n",
       "      <td>AANUKDYJZPKTKN</td>\n",
       "      <td>AANUKDYJZPKTKN-UHFFFAOYSA-N</td>\n",
       "      <td>InChI=1S/C28H31ClN6O5/c1-30-27(39)28-13-18(28)...</td>\n",
       "      <td>\"AuxInfo=1/1/N:1,25,18,19,17,20,35,36,34,16,21...</td>\n",
       "      <td>P29274_WT</td>\n",
       "      <td>...</td>\n",
       "      <td>0.0</td>\n",
       "      <td>0.0</td>\n",
       "      <td>0.0</td>\n",
       "      <td>1.0</td>\n",
       "      <td>0.0</td>\n",
       "      <td>0.0</td>\n",
       "      <td>0.0</td>\n",
       "      <td>0.0</td>\n",
       "      <td>6.994354</td>\n",
       "      <td>38.663483</td>\n",
       "    </tr>\n",
       "    <tr>\n",
       "      <th>...</th>\n",
       "      <td>...</td>\n",
       "      <td>...</td>\n",
       "      <td>...</td>\n",
       "      <td>...</td>\n",
       "      <td>...</td>\n",
       "      <td>...</td>\n",
       "      <td>...</td>\n",
       "      <td>...</td>\n",
       "      <td>...</td>\n",
       "      <td>...</td>\n",
       "      <td>...</td>\n",
       "      <td>...</td>\n",
       "      <td>...</td>\n",
       "      <td>...</td>\n",
       "      <td>...</td>\n",
       "      <td>...</td>\n",
       "      <td>...</td>\n",
       "      <td>...</td>\n",
       "      <td>...</td>\n",
       "      <td>...</td>\n",
       "      <td>...</td>\n",
       "    </tr>\n",
       "    <tr>\n",
       "      <th>3986</th>\n",
       "      <td>ZYXGKENMDDPQIE_on_P29274_WT</td>\n",
       "      <td>High</td>\n",
       "      <td>ChEMBL30</td>\n",
       "      <td>CHEMBL4283826</td>\n",
       "      <td>CNc1ncc(C(=O)NCc2ccc(OC)cc2)c2nc(-c3ccco3)nn12</td>\n",
       "      <td>ZYXGKENMDDPQIE</td>\n",
       "      <td>ZYXGKENMDDPQIE-UHFFFAOYSA-N</td>\n",
       "      <td>InChI=1S/C19H18N6O3/c1-20-19-22-11-14(17-23-16...</td>\n",
       "      <td>\"AuxInfo=1/1/N:1,16,24,23,12,18,13,17,25,10,5,...</td>\n",
       "      <td>P29274_WT</td>\n",
       "      <td>...</td>\n",
       "      <td>0.0</td>\n",
       "      <td>0.0</td>\n",
       "      <td>0.0</td>\n",
       "      <td>0.0</td>\n",
       "      <td>0.0</td>\n",
       "      <td>0.0</td>\n",
       "      <td>0.0</td>\n",
       "      <td>0.0</td>\n",
       "      <td>29.856173</td>\n",
       "      <td>-70.698350</td>\n",
       "    </tr>\n",
       "    <tr>\n",
       "      <th>3987</th>\n",
       "      <td>ZYZWFDVXMLCIOU_on_P29274_WT</td>\n",
       "      <td>High</td>\n",
       "      <td>ChEMBL30</td>\n",
       "      <td>CHEMBL260989;10132473;CHEMBL260989;10132473;CH...</td>\n",
       "      <td>Nc1nc(-c2ccco2)c2ncn(C(=O)NCCc3ccccc3)c2n1</td>\n",
       "      <td>ZYZWFDVXMLCIOU</td>\n",
       "      <td>ZYZWFDVXMLCIOU-UHFFFAOYSA-N</td>\n",
       "      <td>InChI=1S/C18H16N6O2/c19-17-22-14(13-7-4-10-26-...</td>\n",
       "      <td>\"AuxInfo=1/1/N:22,21,23,7,20,24,6,18,17,8,12,1...</td>\n",
       "      <td>P29274_WT</td>\n",
       "      <td>...</td>\n",
       "      <td>0.0</td>\n",
       "      <td>0.0</td>\n",
       "      <td>0.0</td>\n",
       "      <td>0.0</td>\n",
       "      <td>0.0</td>\n",
       "      <td>0.0</td>\n",
       "      <td>0.0</td>\n",
       "      <td>0.0</td>\n",
       "      <td>-11.900303</td>\n",
       "      <td>-42.615310</td>\n",
       "    </tr>\n",
       "    <tr>\n",
       "      <th>3988</th>\n",
       "      <td>ZZBZWSYDXUPJCT_on_P29274_WT</td>\n",
       "      <td>High</td>\n",
       "      <td>ChEMBL30</td>\n",
       "      <td>CHEMBL600404</td>\n",
       "      <td>Nc1nc(Nc2ccc(F)cc2)nc(CSc2nnc(N)s2)n1</td>\n",
       "      <td>ZZBZWSYDXUPJCT</td>\n",
       "      <td>ZZBZWSYDXUPJCT-UHFFFAOYSA-N</td>\n",
       "      <td>InChI=1S/C12H11FN8S2/c13-6-1-3-7(4-2-6)16-11-1...</td>\n",
       "      <td>\"AuxInfo=1/1/N:8,11,7,12,15,9,6,14,2,20,4,17,1...</td>\n",
       "      <td>P29274_WT</td>\n",
       "      <td>...</td>\n",
       "      <td>0.0</td>\n",
       "      <td>0.0</td>\n",
       "      <td>0.0</td>\n",
       "      <td>0.0</td>\n",
       "      <td>0.0</td>\n",
       "      <td>0.0</td>\n",
       "      <td>0.0</td>\n",
       "      <td>0.0</td>\n",
       "      <td>-1.871733</td>\n",
       "      <td>13.171981</td>\n",
       "    </tr>\n",
       "    <tr>\n",
       "      <th>3989</th>\n",
       "      <td>ZZMIPZLRKFEGIA_on_P29274_WT</td>\n",
       "      <td>High</td>\n",
       "      <td>ChEMBL30</td>\n",
       "      <td>CHEMBL2312988;71563052;CHEMBL2312988;71563052;...</td>\n",
       "      <td>CCCOc1ccc(C=Cc2cc3c(c(=O)n(C)c(=O)n3C)n2C)cc1</td>\n",
       "      <td>ZZMIPZLRKFEGIA</td>\n",
       "      <td>ZZMIPZLRKFEGIA-UHFFFAOYSA-N</td>\n",
       "      <td>InChI=1S/C20H23N3O3/c1-5-12-26-16-10-7-14(8-11...</td>\n",
       "      <td>\"AuxInfo=1/0/N:1,24,22,18,2,9,7,25,10,6,26,3,1...</td>\n",
       "      <td>P29274_WT</td>\n",
       "      <td>...</td>\n",
       "      <td>0.0</td>\n",
       "      <td>0.0</td>\n",
       "      <td>0.0</td>\n",
       "      <td>0.0</td>\n",
       "      <td>0.0</td>\n",
       "      <td>0.0</td>\n",
       "      <td>0.0</td>\n",
       "      <td>0.0</td>\n",
       "      <td>46.046997</td>\n",
       "      <td>12.641930</td>\n",
       "    </tr>\n",
       "    <tr>\n",
       "      <th>3990</th>\n",
       "      <td>ZZXIVHBZTITUIW_on_P29274_WT</td>\n",
       "      <td>High</td>\n",
       "      <td>ChEMBL30</td>\n",
       "      <td>CHEMBL3314913</td>\n",
       "      <td>CCOC(=O)c1cnc(NCC(C)C)n2nc(-c3ccco3)nc12</td>\n",
       "      <td>ZZXIVHBZTITUIW</td>\n",
       "      <td>ZZXIVHBZTITUIW-UHFFFAOYSA-N</td>\n",
       "      <td>InChI=1S/C16H19N5O3/c1-4-23-15(22)11-9-18-16(1...</td>\n",
       "      <td>\"AuxInfo=1/1/N:1,13,14,2,20,19,21,11,7,12,6,18...</td>\n",
       "      <td>P29274_WT</td>\n",
       "      <td>...</td>\n",
       "      <td>0.0</td>\n",
       "      <td>0.0</td>\n",
       "      <td>0.0</td>\n",
       "      <td>0.0</td>\n",
       "      <td>0.0</td>\n",
       "      <td>0.0</td>\n",
       "      <td>0.0</td>\n",
       "      <td>0.0</td>\n",
       "      <td>36.403248</td>\n",
       "      <td>-70.872660</td>\n",
       "    </tr>\n",
       "  </tbody>\n",
       "</table>\n",
       "<p>3991 rows × 1056 columns</p>\n",
       "</div>"
      ],
      "text/plain": [
       "                      Activity_ID Quality     source  \\\n",
       "0     AACWUFIIMOHGSO_on_P29274_WT    High   ChEMBL30   \n",
       "1     AAEYTMMNWWKSKZ_on_P29274_WT    High   ChEMBL30   \n",
       "2     AAGFKZWKWAMJNP_on_P29274_WT    High   ChEMBL30   \n",
       "3     AAJLGNFYNMJGSY_on_P29274_WT    High  ExCAPE-DB   \n",
       "4     AANUKDYJZPKTKN_on_P29274_WT    High   ChEMBL30   \n",
       "...                           ...     ...        ...   \n",
       "3986  ZYXGKENMDDPQIE_on_P29274_WT    High   ChEMBL30   \n",
       "3987  ZYZWFDVXMLCIOU_on_P29274_WT    High   ChEMBL30   \n",
       "3988  ZZBZWSYDXUPJCT_on_P29274_WT    High   ChEMBL30   \n",
       "3989  ZZMIPZLRKFEGIA_on_P29274_WT    High   ChEMBL30   \n",
       "3990  ZZXIVHBZTITUIW_on_P29274_WT    High   ChEMBL30   \n",
       "\n",
       "                                                    CID  \\\n",
       "0                                          CHEMBL410234   \n",
       "1                                          CHEMBL601208   \n",
       "2                                          CHEMBL473650   \n",
       "3                                               9586623   \n",
       "4     CHEMBL573125;45483959;CHEMBL573125;45483959;CH...   \n",
       "...                                                 ...   \n",
       "3986                                      CHEMBL4283826   \n",
       "3987  CHEMBL260989;10132473;CHEMBL260989;10132473;CH...   \n",
       "3988                                       CHEMBL600404   \n",
       "3989  CHEMBL2312988;71563052;CHEMBL2312988;71563052;...   \n",
       "3990                                      CHEMBL3314913   \n",
       "\n",
       "                                                 SMILES    connectivity  \\\n",
       "0     Cc1nn(-c2cc(NC(=O)CCN(C)C)nc(-c3ccc(C)o3)n2)c(...  AACWUFIIMOHGSO   \n",
       "1     Nc1c(C(=O)Nc2ccc([N+](=O)[O-])cc2)sc2c1cc1CCCC...  AAEYTMMNWWKSKZ   \n",
       "2      O=C(Nc1nc2ncccc2n2c(=O)n(-c3ccccc3)nc12)c1ccccc1  AAGFKZWKWAMJNP   \n",
       "3         NC(=NC(=O)Cn1c(O)c2CCCCc2c1O)Nc1nc2c(cccc2)s1  AAJLGNFYNMJGSY   \n",
       "4     CNC(=O)C12CC1C(n1cnc3c1nc(C#CCCCCC(=O)OC)nc3NC...  AANUKDYJZPKTKN   \n",
       "...                                                 ...             ...   \n",
       "3986     CNc1ncc(C(=O)NCc2ccc(OC)cc2)c2nc(-c3ccco3)nn12  ZYXGKENMDDPQIE   \n",
       "3987         Nc1nc(-c2ccco2)c2ncn(C(=O)NCCc3ccccc3)c2n1  ZYZWFDVXMLCIOU   \n",
       "3988              Nc1nc(Nc2ccc(F)cc2)nc(CSc2nnc(N)s2)n1  ZZBZWSYDXUPJCT   \n",
       "3989      CCCOc1ccc(C=Cc2cc3c(c(=O)n(C)c(=O)n3C)n2C)cc1  ZZMIPZLRKFEGIA   \n",
       "3990           CCOC(=O)c1cnc(NCC(C)C)n2nc(-c3ccco3)nc12  ZZXIVHBZTITUIW   \n",
       "\n",
       "                         InChIKey  \\\n",
       "0     AACWUFIIMOHGSO-UHFFFAOYSA-N   \n",
       "1     AAEYTMMNWWKSKZ-UHFFFAOYSA-N   \n",
       "2     AAGFKZWKWAMJNP-UHFFFAOYSA-N   \n",
       "3     AAJLGNFYNMJGSY-UHFFFAOYSA-N   \n",
       "4     AANUKDYJZPKTKN-UHFFFAOYSA-N   \n",
       "...                           ...   \n",
       "3986  ZYXGKENMDDPQIE-UHFFFAOYSA-N   \n",
       "3987  ZYZWFDVXMLCIOU-UHFFFAOYSA-N   \n",
       "3988  ZZBZWSYDXUPJCT-UHFFFAOYSA-N   \n",
       "3989  ZZMIPZLRKFEGIA-UHFFFAOYSA-N   \n",
       "3990  ZZXIVHBZTITUIW-UHFFFAOYSA-N   \n",
       "\n",
       "                                                  InChI  \\\n",
       "0     InChI=1S/C19H24N6O2/c1-12-10-13(2)25(23-12)17-...   \n",
       "1     InChI=1S/C18H16N4O3S/c19-15-13-9-10-3-1-2-4-14...   \n",
       "2     InChI=1S/C21H14N6O2/c28-20(14-8-3-1-4-9-14)24-...   \n",
       "3     InChI=1S/C18H19N5O3S/c19-17(22-18-20-12-7-3-4-...   \n",
       "4     InChI=1S/C28H31ClN6O5/c1-30-27(39)28-13-18(28)...   \n",
       "...                                                 ...   \n",
       "3986  InChI=1S/C19H18N6O3/c1-20-19-22-11-14(17-23-16...   \n",
       "3987  InChI=1S/C18H16N6O2/c19-17-22-14(13-7-4-10-26-...   \n",
       "3988  InChI=1S/C12H11FN8S2/c13-6-1-3-7(4-2-6)16-11-1...   \n",
       "3989  InChI=1S/C20H23N3O3/c1-5-12-26-16-10-7-14(8-11...   \n",
       "3990  InChI=1S/C16H19N5O3/c1-4-23-15(22)11-9-18-16(1...   \n",
       "\n",
       "                                          InChI_AuxInfo  target_id  ...  \\\n",
       "0     \"AuxInfo=1/1/N:1,26,22,14,15,20,19,11,12,27,6,...  P29274_WT  ...   \n",
       "1     \"AuxInfo=1/1/N:22,23,21,24,8,15,9,14,19,20,7,1...  P29274_WT  ...   \n",
       "2     \"AuxInfo=1/1/N:27,19,26,28,18,20,9,25,29,17,21...  P29274_WT  ...   \n",
       "3     \"AuxInfo=1/1/N:12,13,25,24,11,14,26,23,6,10,15...  P29274_WT  ...   \n",
       "4     \"AuxInfo=1/1/N:1,25,18,19,17,20,35,36,34,16,21...  P29274_WT  ...   \n",
       "...                                                 ...        ...  ...   \n",
       "3986  \"AuxInfo=1/1/N:1,16,24,23,12,18,13,17,25,10,5,...  P29274_WT  ...   \n",
       "3987  \"AuxInfo=1/1/N:22,21,23,7,20,24,6,18,17,8,12,1...  P29274_WT  ...   \n",
       "3988  \"AuxInfo=1/1/N:8,11,7,12,15,9,6,14,2,20,4,17,1...  P29274_WT  ...   \n",
       "3989  \"AuxInfo=1/0/N:1,24,22,18,2,9,7,25,10,6,26,3,1...  P29274_WT  ...   \n",
       "3990  \"AuxInfo=1/1/N:1,13,14,2,20,19,21,11,7,12,6,18...  P29274_WT  ...   \n",
       "\n",
       "     Descriptor_MorganFP_1016 Descriptor_MorganFP_1017  \\\n",
       "0                         0.0                      1.0   \n",
       "1                         0.0                      0.0   \n",
       "2                         0.0                      0.0   \n",
       "3                         0.0                      0.0   \n",
       "4                         0.0                      0.0   \n",
       "...                       ...                      ...   \n",
       "3986                      0.0                      0.0   \n",
       "3987                      0.0                      0.0   \n",
       "3988                      0.0                      0.0   \n",
       "3989                      0.0                      0.0   \n",
       "3990                      0.0                      0.0   \n",
       "\n",
       "     Descriptor_MorganFP_1018 Descriptor_MorganFP_1019  \\\n",
       "0                         0.0                      0.0   \n",
       "1                         0.0                      0.0   \n",
       "2                         0.0                      0.0   \n",
       "3                         0.0                      0.0   \n",
       "4                         0.0                      1.0   \n",
       "...                       ...                      ...   \n",
       "3986                      0.0                      0.0   \n",
       "3987                      0.0                      0.0   \n",
       "3988                      0.0                      0.0   \n",
       "3989                      0.0                      0.0   \n",
       "3990                      0.0                      0.0   \n",
       "\n",
       "      Descriptor_MorganFP_1020 Descriptor_MorganFP_1021  \\\n",
       "0                          0.0                      0.0   \n",
       "1                          0.0                      0.0   \n",
       "2                          0.0                      0.0   \n",
       "3                          0.0                      0.0   \n",
       "4                          0.0                      0.0   \n",
       "...                        ...                      ...   \n",
       "3986                       0.0                      0.0   \n",
       "3987                       0.0                      0.0   \n",
       "3988                       0.0                      0.0   \n",
       "3989                       0.0                      0.0   \n",
       "3990                       0.0                      0.0   \n",
       "\n",
       "     Descriptor_MorganFP_1022 Descriptor_MorganFP_1023     TSNE_1     TSNE_2  \n",
       "0                         0.0                      0.0 -49.262220 -18.827414  \n",
       "1                         0.0                      0.0 -30.326859   6.892628  \n",
       "2                         0.0                      0.0  25.112610  -4.832593  \n",
       "3                         0.0                      0.0 -21.665638 -12.843870  \n",
       "4                         0.0                      0.0   6.994354  38.663483  \n",
       "...                       ...                      ...        ...        ...  \n",
       "3986                      0.0                      0.0  29.856173 -70.698350  \n",
       "3987                      0.0                      0.0 -11.900303 -42.615310  \n",
       "3988                      0.0                      0.0  -1.871733  13.171981  \n",
       "3989                      0.0                      0.0  46.046997  12.641930  \n",
       "3990                      0.0                      0.0  36.403248 -70.872660  \n",
       "\n",
       "[3991 rows x 1056 columns]"
      ]
     },
     "execution_count": 5,
     "metadata": {},
     "output_type": "execute_result"
    }
   ],
   "source": [
    "import pandas as pd\n",
    "\n",
    "df_a2a = pd.read_table('data/A2A_LIGANDS.tsv')\n",
    "df_a2a"
   ]
  },
  {
   "cell_type": "markdown",
   "id": "9a8ec8d9-f9e3-499b-9f05-80d2a8a46aa3",
   "metadata": {},
   "source": [
    "There is a lot of data in this table, but for our transfer learning exercise only the SMILES are important:"
   ]
  },
  {
   "cell_type": "code",
   "execution_count": 6,
   "id": "80a97434-d8a4-4e14-ad5f-b513b320d26d",
   "metadata": {},
   "outputs": [
    {
     "data": {
      "text/plain": [
       "0       Cc1nn(-c2cc(NC(=O)CCN(C)C)nc(-c3ccc(C)o3)n2)c(...\n",
       "1       Nc1c(C(=O)Nc2ccc([N+](=O)[O-])cc2)sc2c1cc1CCCC...\n",
       "2        O=C(Nc1nc2ncccc2n2c(=O)n(-c3ccccc3)nc12)c1ccccc1\n",
       "3           NC(=NC(=O)Cn1c(O)c2CCCCc2c1O)Nc1nc2c(cccc2)s1\n",
       "4       CNC(=O)C12CC1C(n1cnc3c1nc(C#CCCCCC(=O)OC)nc3NC...\n",
       "                              ...                        \n",
       "3986       CNc1ncc(C(=O)NCc2ccc(OC)cc2)c2nc(-c3ccco3)nn12\n",
       "3987           Nc1nc(-c2ccco2)c2ncn(C(=O)NCCc3ccccc3)c2n1\n",
       "3988                Nc1nc(Nc2ccc(F)cc2)nc(CSc2nnc(N)s2)n1\n",
       "3989        CCCOc1ccc(C=Cc2cc3c(c(=O)n(C)c(=O)n3C)n2C)cc1\n",
       "3990             CCOC(=O)c1cnc(NCC(C)C)n2nc(-c3ccco3)nc12\n",
       "Name: SMILES, Length: 3991, dtype: object"
      ]
     },
     "execution_count": 6,
     "metadata": {},
     "output_type": "execute_result"
    }
   ],
   "source": [
    "smiles_train = df_a2a.SMILES\n",
    "smiles_train"
   ]
  },
  {
   "cell_type": "markdown",
   "id": "2331bb54-bc4b-45ca-a3e9-22c1dcff7a90",
   "metadata": {},
   "source": [
    "In order to train the finetuned model, we need to first standardize and prepare the SMILES strings. DrugEx has its own utility to do that for all its models:"
   ]
  },
  {
   "cell_type": "code",
   "execution_count": 7,
   "id": "d13f4c31-86db-45f3-8cd1-c98c1f22727f",
   "metadata": {},
   "outputs": [
    {
     "data": {
      "application/vnd.jupyter.widget-view+json": {
       "model_id": "f3adaf47314b435d9cf1f56526483095",
       "version_major": 2,
       "version_minor": 0
      },
      "text/plain": [
       "Standardizing molecules (batch processing):   0%|          | 0/1 [00:00<?, ?it/s]"
      ]
     },
     "metadata": {},
     "output_type": "display_data"
    },
    {
     "data": {
      "text/plain": [
       "['Cc1cc(C)n(-c2cc(NC(=O)CCN(C)C)nc(-c3ccc(C)o3)n2)n1',\n",
       " 'Nc1c(C(=O)Nc2ccc([N+](=O)[O-])cc2)sc2nc3c(cc12)CCCC3',\n",
       " 'O=C(Nc1nc2ncccc2n2c(=O)n(-c3ccccc3)nc12)c1ccccc1',\n",
       " 'NC(=NC(=O)Cn1c(O)c2c(c1O)CCCC2)Nc1nc2ccccc2s1',\n",
       " 'CNC(=O)C12CC1C(n1cnc3c(NCc4cccc(Cl)c4)nc(C#CCCCCC(=O)OC)nc31)C(O)C2O',\n",
       " 'Cn1c(-n2nccn2)nc2c(N)nc(CCc3ccccc3)nc21',\n",
       " 'Nc1nc(-c2ccccc2)cn2cc(-c3ccco3)nc12',\n",
       " 'CCCn1c(=O)c2c(nc3n2CCCN3c2ccc(OCCN3CCCC3)cc2)n(CCC)c1=O',\n",
       " 'N#Cc1c(-c2ccccc2)cc(-c2ccco2)nc1N',\n",
       " 'CCCn1c(=O)c2nc(-c3ccccc3)[nH]c2n(CCCOC)c1=O']"
      ]
     },
     "execution_count": 7,
     "metadata": {},
     "output_type": "execute_result"
    }
   ],
   "source": [
    "from drugex.data.processing import Standardization\n",
    "\n",
    "N_PROCESSES = 12 # number of CPU cores to use\n",
    "CHUNK_SIZE = 1000 # largest chunk per CPU core (regulates RAM usage)\n",
    "\n",
    "standardizer = Standardization(n_proc=N_PROCESSES, chunk_size=CHUNK_SIZE)\n",
    "smiles_train = standardizer.apply(smiles_train)\n",
    "smiles_train[0:10]"
   ]
  },
  {
   "cell_type": "markdown",
   "id": "42b8fab3-2920-48c7-8b1f-97206cfc3000",
   "metadata": {},
   "source": [
    "We write the list of SMILES back into `smiles_train` because we will not need the original SMILES anymore and proceed to generate our training data sets. In this step, the so called 'corpus' data set is generated that is nothing more than the SMILES seperated into words/tokens according to the given vocabulary. You can check out the `ligand_corpus.tsv` for yourself and see there really is nothing too special about it. The code is a little verbose, but that comes mostly from the way the data is handled by parallel processes to take advantage of multiple CPUs:"
   ]
  },
  {
   "cell_type": "code",
   "execution_count": 8,
   "id": "d53cf8e2-0f67-4ff4-8147-fd53d8f9de42",
   "metadata": {},
   "outputs": [
    {
     "data": {
      "application/vnd.jupyter.widget-view+json": {
       "model_id": "3501b288facc4ea890b53ad206e70335",
       "version_major": 2,
       "version_minor": 0
      },
      "text/plain": [
       "SequenceCorpus (batch processing):   0%|          | 0/1 [00:00<?, ?it/s]"
      ]
     },
     "metadata": {},
     "output_type": "display_data"
    }
   ],
   "source": [
    "from drugex.data.processing import CorpusEncoder, RandomTrainTestSplitter\n",
    "from drugex.data.corpus.corpus import SequenceCorpus\n",
    "from drugex.data.datasets import SmilesDataSet\n",
    "from drugex.logs import logger\n",
    "logger.setLevel('ERROR')\n",
    "\n",
    "DATA_DIR = \"data/drugex/sets/\"\n",
    "os.makedirs(DATA_DIR, exist_ok=True)\n",
    "\n",
    "voc = VocSmiles.fromFile(\"data/drugex/models/pretrained/DrugEx_v2_PT_Papyrus05.5/Papyrus05.5_smiles_rnn_PT.vocab\")\n",
    "encoder = CorpusEncoder( # CorpusEcoder uses the supplied corpus class to encode tokens for the new data set\n",
    "    SequenceCorpus, # The corpus class implements how each SMILES string is divided into words by the vocabulary\n",
    "    {\n",
    "        # arguments of the SequenceCorpus\n",
    "        'vocabulary': voc, # used vocabulary\n",
    "        'update_voc': False, # if False, the vocabulary stays fixed (no new tokens are added to it)\n",
    "        'throw': True # compounds containing unknown tokens are thrown out of the resulting data set\n",
    "\n",
    "    },\n",
    "    n_proc=N_PROCESSES,\n",
    "    chunk_size=CHUNK_SIZE\n",
    ")\n",
    "\n",
    "data_collector = SmilesDataSet(os.path.join(DATA_DIR, 'ligand_corpus.tsv'), rewrite=True)\n",
    "encoder.apply(smiles_train, collector=data_collector)"
   ]
  },
  {
   "cell_type": "markdown",
   "id": "0269afd3-3c9c-456a-9756-cd4d20ca54a5",
   "metadata": {},
   "source": [
    "In this scenario, we will also compile a test/validation set of compounds. This will help us identify when the model starts to loose its ability to generate diverse and/or valid chemistry and begins overfitting on the training set. While we do want the generated structures to look like those in the training data, we also do not want them to be exactly the same. The validation set will serve as an indicator of such behaviour and the model will know to stop the training once the performance starts to deteriorate. \n",
    "\n",
    "In this case, we choose to select 10% (or a maximum of 10,000) compounds to the test set. We save the training and test set to separate files and we also save the vocabulary for safe keeping (we did not modify the original vocabulary in any way, but it is a good idea to save it anyway for future reference): "
   ]
  },
  {
   "cell_type": "code",
   "execution_count": 9,
   "id": "2777c52a-952d-432c-a560-ae030e56b9d8",
   "metadata": {},
   "outputs": [],
   "source": [
    "splitter = RandomTrainTestSplitter(0.1, 1e4)\n",
    "train, test = splitter(data_collector.getData())\n",
    "for df, name in zip([train, test], ['train', 'test']):\n",
    "    df.to_csv(os.path.join(DATA_DIR, f'ligand_{name}.tsv'), header=True, index=False, sep='\\t')\n",
    "\n",
    "voc.toFile(os.path.join(DATA_DIR, 'ligand.vocab'))"
   ]
  },
  {
   "cell_type": "markdown",
   "id": "d180d008-2fbb-4ff4-b523-9a84a17be787",
   "metadata": {},
   "source": [
    "Now, we wrap our training and test set to `SmilesDataSet` instances so that we can generate data loaders for training:"
   ]
  },
  {
   "cell_type": "code",
   "execution_count": 10,
   "id": "947ff14c-478e-4505-b625-ce9b2fbc6e95",
   "metadata": {},
   "outputs": [],
   "source": [
    "BATCH_SIZE = 256\n",
    "\n",
    "data_set_train = SmilesDataSet(os.path.join(DATA_DIR, 'ligand_train.tsv'), voc=voc)\n",
    "data_set_train.voc = voc\n",
    "train_loader = data_set_train.asDataLoader(batch_size=BATCH_SIZE)\n",
    "\n",
    "data_set_test = SmilesDataSet(os.path.join(DATA_DIR, 'ligand_test.tsv'), voc=voc)\n",
    "data_set_test.voc = voc\n",
    "valid_loader = data_set_test.asDataLoader(batch_size=BATCH_SIZE)"
   ]
  },
  {
   "cell_type": "markdown",
   "id": "40b70e56-c5da-4b44-9a3e-7d6f19410b6c",
   "metadata": {},
   "source": [
    "Data loaders are a data structure used by [PyTorch](https://pytorch.org/) library for deep learning, which DrugEx uses to handle data and define models. They are responsible for batching the data so that it can be offloaded to the GPU for training because the whole data set would not be able to fit. In addition, batch size is an important hyperparameter in neural networks. The training does not proceed sample by sample, but rather the model processes each batch at a time and adjusts its parameters only after passing the whole batch through the network. This helps to save computational resources, but also affects the training process because it sometimes also has influence on how often and how significantly the model parameters are adjusted. Therefore, choosing the correct batch size is someting we might want play around with during training.\n",
    "\n",
    "Another term commonly used in the language of neural networks is an 'epoch'. It is simply one iteration of training during which the model goes through all the batches and, thus, the whole data set. It is usual after each epoch that we evaluate the performance of the model and decided if it needs further training or not. In this case, we setup our training as follows:"
   ]
  },
  {
   "cell_type": "code",
   "execution_count": 11,
   "id": "a7a7087d-110c-4a20-a29a-9ea911666150",
   "metadata": {},
   "outputs": [],
   "source": [
    "from drugex.training.monitors import FileMonitor\n",
    "\n",
    "MODEL_DIR = \"data/drugex/models/finetuned/\"\n",
    "\n",
    "ft_path = os.path.join(MODEL_DIR, 'ligand_finetune')\n",
    "finetuned = RNN(voc, is_lstm=True, use_gpus=GPUS)\n",
    "finetuned.loadStatesFromFile(os.path.join(PT_MODEL_FOLDER, 'Papyrus05.5_smiles_rnn_PT.pkg'))\n",
    "monitor = FileMonitor(ft_path, verbose=True)\n",
    "finetuned.fit(train_loader, valid_loader, epochs=10, monitor=monitor)\n",
    "\n",
    "voc.toFile(os.path.join(MODEL_DIR, 'finetune.vocab'))"
   ]
  },
  {
   "cell_type": "markdown",
   "id": "b155ce93-fb78-4edd-85cd-25195f9f908c",
   "metadata": {},
   "source": [
    "Facilitating transfer learning in this case is easy. We load the pretrained model just like we did above, but instead of generting smiles with it, we call the `fit` method and supply the finetuning data loaders. We set the number of epochs to 10 in this case. Training should not take more than an hour in this case even on an older GPU. On an NVIDIA RTX 2070 this took only a few minutes.\n",
    "\n",
    "We also set up a training monitor (`FileMonitor`), which saves some improtant data during training. You will find these files in the `MODEL_DIR` directory with the `ligand_finetune` perfix. The following file saves the training and validation loss (`loss_train` and `loss-valid`, respectively). In simple terms, the losses indicate how well the model is able to capture the probability distribution of tokens in either the training set or the test set with the compounds it generates at each epoch. We also get information about the percentage of valid SMILES it produces (`valid_ratio`). There are also some empty values that are not relevant at the moment, but will come into play later. We can load the table as any other data file:"
   ]
  },
  {
   "cell_type": "code",
   "execution_count": 12,
   "id": "72d6f496-96ff-4df9-a43a-afce5f63164e",
   "metadata": {},
   "outputs": [
    {
     "data": {
      "text/html": [
       "<div>\n",
       "<style scoped>\n",
       "    .dataframe tbody tr th:only-of-type {\n",
       "        vertical-align: middle;\n",
       "    }\n",
       "\n",
       "    .dataframe tbody tr th {\n",
       "        vertical-align: top;\n",
       "    }\n",
       "\n",
       "    .dataframe thead th {\n",
       "        text-align: right;\n",
       "    }\n",
       "</style>\n",
       "<table border=\"1\" class=\"dataframe\">\n",
       "  <thead>\n",
       "    <tr style=\"text-align: right;\">\n",
       "      <th></th>\n",
       "      <th>epoch</th>\n",
       "      <th>loss_train</th>\n",
       "      <th>loss_valid</th>\n",
       "      <th>valid_ratio</th>\n",
       "      <th>unique_ratio</th>\n",
       "      <th>desire_ratio</th>\n",
       "      <th>mean_train_loss</th>\n",
       "    </tr>\n",
       "  </thead>\n",
       "  <tbody>\n",
       "    <tr>\n",
       "      <th>0</th>\n",
       "      <td>1</td>\n",
       "      <td>0.147338</td>\n",
       "      <td>0.146468</td>\n",
       "      <td>0.946281</td>\n",
       "      <td>NaN</td>\n",
       "      <td>NaN</td>\n",
       "      <td>NaN</td>\n",
       "    </tr>\n",
       "    <tr>\n",
       "      <th>1</th>\n",
       "      <td>2</td>\n",
       "      <td>0.126649</td>\n",
       "      <td>0.138809</td>\n",
       "      <td>0.937759</td>\n",
       "      <td>NaN</td>\n",
       "      <td>NaN</td>\n",
       "      <td>NaN</td>\n",
       "    </tr>\n",
       "    <tr>\n",
       "      <th>2</th>\n",
       "      <td>3</td>\n",
       "      <td>0.113744</td>\n",
       "      <td>0.138373</td>\n",
       "      <td>0.950617</td>\n",
       "      <td>NaN</td>\n",
       "      <td>NaN</td>\n",
       "      <td>NaN</td>\n",
       "    </tr>\n",
       "    <tr>\n",
       "      <th>3</th>\n",
       "      <td>4</td>\n",
       "      <td>0.108611</td>\n",
       "      <td>0.137607</td>\n",
       "      <td>0.987500</td>\n",
       "      <td>NaN</td>\n",
       "      <td>NaN</td>\n",
       "      <td>NaN</td>\n",
       "    </tr>\n",
       "    <tr>\n",
       "      <th>4</th>\n",
       "      <td>5</td>\n",
       "      <td>0.102403</td>\n",
       "      <td>0.138658</td>\n",
       "      <td>0.983402</td>\n",
       "      <td>NaN</td>\n",
       "      <td>NaN</td>\n",
       "      <td>NaN</td>\n",
       "    </tr>\n",
       "  </tbody>\n",
       "</table>\n",
       "</div>"
      ],
      "text/plain": [
       "   epoch  loss_train  loss_valid  valid_ratio  unique_ratio  desire_ratio  \\\n",
       "0      1    0.147338    0.146468     0.946281           NaN           NaN   \n",
       "1      2    0.126649    0.138809     0.937759           NaN           NaN   \n",
       "2      3    0.113744    0.138373     0.950617           NaN           NaN   \n",
       "3      4    0.108611    0.137607     0.987500           NaN           NaN   \n",
       "4      5    0.102403    0.138658     0.983402           NaN           NaN   \n",
       "\n",
       "   mean_train_loss  \n",
       "0              NaN  \n",
       "1              NaN  \n",
       "2              NaN  \n",
       "3              NaN  \n",
       "4              NaN  "
      ]
     },
     "execution_count": 12,
     "metadata": {},
     "output_type": "execute_result"
    }
   ],
   "source": [
    "df_info = pd.read_csv('data/drugex/models/finetuned/ligand_finetune_fit.tsv', sep='\\t')\n",
    "df_info.head()"
   ]
  },
  {
   "cell_type": "markdown",
   "id": "734b4fc8-4299-447b-a10a-a51310f42cec",
   "metadata": {},
   "source": [
    "We can also plot everything quite easily:"
   ]
  },
  {
   "cell_type": "code",
   "execution_count": 13,
   "id": "d10ca1f3-4005-43be-b936-65c496c1984a",
   "metadata": {},
   "outputs": [
    {
     "data": {
      "text/plain": [
       "<AxesSubplot: >"
      ]
     },
     "execution_count": 13,
     "metadata": {},
     "output_type": "execute_result"
    },
    {
     "data": {
      "image/png": "[encoded data removed]",
      "text/plain": [
       "<Figure size 640x480 with 1 Axes>"
      ]
     },
     "metadata": {},
     "output_type": "display_data"
    }
   ],
   "source": [
    "df_info[['loss_train', 'loss_valid']].plot.line()"
   ]
  },
  {
   "cell_type": "markdown",
   "id": "b57b110d-10e9-478d-a3d0-48ef40c2a6f3",
   "metadata": {},
   "source": [
    "We can see that while the training loss is going down during training the validation loss starts to dwindle and even increases slightly. This indicates that our model is starting to overfit the training set a little so we might want to think about tweaking the parameters a little bit here. However, it is OK for the purpose of our tutorial and as we will see, even such a short round of transfer learning had an effect on our model. We can show that by sampling another set of SMILES with this model and showing the chemical space plot:"
   ]
  },
  {
   "cell_type": "code",
   "execution_count": 14,
   "id": "cbcc5ce3-c56c-43d1-8b59-d77ad59622bf",
   "metadata": {},
   "outputs": [
    {
     "name": "stderr",
     "output_type": "stream",
     "text": [
      "/home/sichom/software/miniconda/envs/drugex-demo/lib/python3.9/site-packages/sklearn/manifold/_t_sne.py:800: FutureWarning:\n",
      "\n",
      "The default initialization in TSNE will change from 'random' to 'pca' in 1.2.\n",
      "\n",
      "/home/sichom/software/miniconda/envs/drugex-demo/lib/python3.9/site-packages/sklearn/manifold/_t_sne.py:810: FutureWarning:\n",
      "\n",
      "The default learning rate in TSNE will change from 200.0 to 'auto' in 1.2.\n",
      "\n"
     ]
    },
    {
     "data": {
      "text/html": [
       "\n",
       "        <iframe\n",
       "            width=\"100%\"\n",
       "            height=\"800\"\n",
       "            src=\"http://127.0.0.1:9393/\"\n",
       "            frameborder=\"0\"\n",
       "            allowfullscreen\n",
       "            \n",
       "        ></iframe>\n",
       "        "
      ],
      "text/plain": [
       "<IPython.lib.display.IFrame at 0x7f196266d1f0>"
      ]
     },
     "metadata": {},
     "output_type": "display_data"
    }
   ],
   "source": [
    "finetuned.loadStatesFromFile('data/drugex/models/finetuned/ligand_finetune.pkg')\n",
    "\n",
    "smiles_finetuned = sample_smiles(finetuned, 1000)\n",
    "\n",
    "dataset = DataSetSMILES(\"data/finetuned_sampled.tsv\", smiles=smiles_finetuned, use_existing=False)\n",
    "dataset.addDescriptors([MorganFP(radius=2, nBits=1024)], recalculate=False) \n",
    "\n",
    "plt = Plot(dataset, TSNE())\n",
    "plt.plot(\n",
    "    recalculate=False,\n",
    "    viewport_height=800,\n",
    "    port=9393\n",
    ")"
   ]
  },
  {
   "cell_type": "markdown",
   "id": "de68bdd1-a956-4516-9ea1-0d5f01cd106e",
   "metadata": {},
   "source": [
    "When we compare this chemical space to the space generated with the pretrained model above, it is clear that these compounds are differently distributed and if we take a look at the structures we might be able to spot some patterns commonly seen in adenosine receptor ligands, which means that the transfer learning did seem to work.\n",
    "\n",
    "### Optimizing Compound Properties with Reinforcement Learning\n",
    "\n",
    "We now successfully used transfer learning to create a model that can generate new molecules that resemble known data. That is very nice, but not often useful. Consider for example a case of a pharmaceutical company that is trying to develop a new drug, which has not been published or patented, yet. It is unlikely that with this model, we will be able to find completely new scaffolds. All it can do is copy and mimick known chemical space related to adenosine receptor A2A. It also has no information about activity of the compounds. It just creates new molecule that look like the known ligands. But what if we could create a model that can generate structures that are more likely to be binders than nonbinders of the A2A receptor? We will explain how to do exactly that in this chapter.\n",
    "\n",
    "Reinforcement learning is a well-known concept in machine learning and AI and can be used to train neural networks to successfully accomplish various tasks. The most famous example is [AlphaGo](https://en.wikipedia.org/wiki/AlphaGo), a machine learning model that was trained to successfully play the borad game Go, but there are also models that learned to [walk](https://arxiv.org/pdf/1812.11103.pdf), [play computer games](https://www.theverge.com/2018/8/6/17655086/dota2-openai-bots-professional-gaming-ai) or many [other things](https://rl-book.com/applications/). This is a simple schematic that illustrates the idea of reinforcement learning:\n",
    "\n",
    "![RL](https://upload.wikimedia.org/wikipedia/commons/1/1b/Reinforcement_learning_diagram.svg)\n",
    "\n",
    "Picture Credit: [WikiMedia Commons](https://commons.wikimedia.org/wiki/File:Reinforcement_learning_diagram.svg), Megajuice\n",
    "\n",
    "Regardless of whether the AI is learning to walk or generate molecules, the concept is the same. The model acts as an *agent* in the *environment*. The agent performs an *action* in the environment (i.e. generates a molecular structure). Based on the action, the agent then receives a *reward* from an *interpreter* (i.e. a QSAR model predicting activity on the A2A receptor). The obtained reward can then be used to adjust the actions made by the agant, for example by changing it's *state* (i.e. the weights of the neural network). This loop is repeated until the agent learns to walk, play a game or generates molecules interesting for us. \n",
    "\n",
    "In this tutorial, we will teach our model (*agent*) to generate more active and synthetically accessible molecules. That means we will have two *observers* in our environment that will each give feedback to our models. This is called multi-objective optimization and reflects more the way we think about 'good molecules' in drug discovery. It is not always just perceived activity that is important, but other criteria like synthetic accessibility play an important role too.\n",
    "\n",
    "#### Observer 1 (The QSAR Model)\n",
    "\n",
    "Therefore, the first of our observers (or more often scoring functions) will be the QSAR model we trained previously. It will provide the *agent* with information about the likely activity agains A2A receptor:"
   ]
  },
  {
   "cell_type": "code",
   "execution_count": 15,
   "id": "afb4fcec-3c90-4aa2-9bf2-9ad8f4600b05",
   "metadata": {},
   "outputs": [
    {
     "data": {
      "text/html": [
       "<style>#sk-container-id-1 {color: black;background-color: white;}#sk-container-id-1 pre{padding: 0;}#sk-container-id-1 div.sk-toggleable {background-color: white;}#sk-container-id-1 label.sk-toggleable__label {cursor: pointer;display: block;width: 100%;margin-bottom: 0;padding: 0.3em;box-sizing: border-box;text-align: center;}#sk-container-id-1 label.sk-toggleable__label-arrow:before {content: \"▸\";float: left;margin-right: 0.25em;color: #696969;}#sk-container-id-1 label.sk-toggleable__label-arrow:hover:before {color: black;}#sk-container-id-1 div.sk-estimator:hover label.sk-toggleable__label-arrow:before {color: black;}#sk-container-id-1 div.sk-toggleable__content {max-height: 0;max-width: 0;overflow: hidden;text-align: left;background-color: #f0f8ff;}#sk-container-id-1 div.sk-toggleable__content pre {margin: 0.2em;color: black;border-radius: 0.25em;background-color: #f0f8ff;}#sk-container-id-1 input.sk-toggleable__control:checked~div.sk-toggleable__content {max-height: 200px;max-width: 100%;overflow: auto;}#sk-container-id-1 input.sk-toggleable__control:checked~label.sk-toggleable__label-arrow:before {content: \"▾\";}#sk-container-id-1 div.sk-estimator input.sk-toggleable__control:checked~label.sk-toggleable__label {background-color: #d4ebff;}#sk-container-id-1 div.sk-label input.sk-toggleable__control:checked~label.sk-toggleable__label {background-color: #d4ebff;}#sk-container-id-1 input.sk-hidden--visually {border: 0;clip: rect(1px 1px 1px 1px);clip: rect(1px, 1px, 1px, 1px);height: 1px;margin: -1px;overflow: hidden;padding: 0;position: absolute;width: 1px;}#sk-container-id-1 div.sk-estimator {font-family: monospace;background-color: #f0f8ff;border: 1px dotted black;border-radius: 0.25em;box-sizing: border-box;margin-bottom: 0.5em;}#sk-container-id-1 div.sk-estimator:hover {background-color: #d4ebff;}#sk-container-id-1 div.sk-parallel-item::after {content: \"\";width: 100%;border-bottom: 1px solid gray;flex-grow: 1;}#sk-container-id-1 div.sk-label:hover label.sk-toggleable__label {background-color: #d4ebff;}#sk-container-id-1 div.sk-serial::before {content: \"\";position: absolute;border-left: 1px solid gray;box-sizing: border-box;top: 0;bottom: 0;left: 50%;z-index: 0;}#sk-container-id-1 div.sk-serial {display: flex;flex-direction: column;align-items: center;background-color: white;padding-right: 0.2em;padding-left: 0.2em;position: relative;}#sk-container-id-1 div.sk-item {position: relative;z-index: 1;}#sk-container-id-1 div.sk-parallel {display: flex;align-items: stretch;justify-content: center;background-color: white;position: relative;}#sk-container-id-1 div.sk-item::before, #sk-container-id-1 div.sk-parallel-item::before {content: \"\";position: absolute;border-left: 1px solid gray;box-sizing: border-box;top: 0;bottom: 0;left: 50%;z-index: -1;}#sk-container-id-1 div.sk-parallel-item {display: flex;flex-direction: column;z-index: 1;position: relative;background-color: white;}#sk-container-id-1 div.sk-parallel-item:first-child::after {align-self: flex-end;width: 50%;}#sk-container-id-1 div.sk-parallel-item:last-child::after {align-self: flex-start;width: 50%;}#sk-container-id-1 div.sk-parallel-item:only-child::after {width: 0;}#sk-container-id-1 div.sk-dashed-wrapped {border: 1px dashed gray;margin: 0 0.4em 0.5em 0.4em;box-sizing: border-box;padding-bottom: 0.4em;background-color: white;}#sk-container-id-1 div.sk-label label {font-family: monospace;font-weight: bold;display: inline-block;line-height: 1.2em;}#sk-container-id-1 div.sk-label-container {text-align: center;}#sk-container-id-1 div.sk-container {/* jupyter's `normalize.less` sets `[hidden] { display: none; }` but bootstrap.min.css set `[hidden] { display: none !important; }` so we also need the `!important` here to be able to override the default hidden behavior on the sphinx rendered scikit-learn.org. See: https://github.com/scikit-learn/scikit-learn/issues/21755 */display: inline-block !important;position: relative;}#sk-container-id-1 div.sk-text-repr-fallback {display: none;}</style><div id=\"sk-container-id-1\" class=\"sk-top-container\"><div class=\"sk-text-repr-fallback\"><pre>ExtraTreesClassifier(n_estimators=250)</pre><b>In a Jupyter environment, please rerun this cell to show the HTML representation or trust the notebook. <br />On GitHub, the HTML representation is unable to render, please try loading this page with nbviewer.org.</b></div><div class=\"sk-container\" hidden><div class=\"sk-item\"><div class=\"sk-estimator sk-toggleable\"><input class=\"sk-toggleable__control sk-hidden--visually\" id=\"sk-estimator-id-1\" type=\"checkbox\" checked><label for=\"sk-estimator-id-1\" class=\"sk-toggleable__label sk-toggleable__label-arrow\">ExtraTreesClassifier</label><div class=\"sk-toggleable__content\"><pre>ExtraTreesClassifier(n_estimators=250)</pre></div></div></div></div></div>"
      ],
      "text/plain": [
       "ExtraTreesClassifier(n_estimators=250)"
      ]
     },
     "execution_count": 15,
     "metadata": {},
     "output_type": "execute_result"
    }
   ],
   "source": [
    "import joblib\n",
    "\n",
    "model = joblib.load('data/qsar/models/A2A_CLS_ET_250.pickle')\n",
    "model"
   ]
  },
  {
   "cell_type": "markdown",
   "id": "4f5f5119-1936-485b-af49-99d60f215110",
   "metadata": {},
   "source": [
    "In order to feed this model to our DrugEx agent, we need to wrap it in the `Scorer` interface:"
   ]
  },
  {
   "cell_type": "code",
   "execution_count": 16,
   "id": "0480612b-780e-4b7c-bd37-551d23e1c785",
   "metadata": {},
   "outputs": [
    {
     "data": {
      "text/plain": [
       "<__main__.ModelScorer at 0x7f19dc5a2340>"
      ]
     },
     "execution_count": 16,
     "metadata": {},
     "output_type": "execute_result"
    }
   ],
   "source": [
    "from drugex.training.interfaces import Scorer\n",
    "\n",
    "class ModelScorer(Scorer):\n",
    "    \n",
    "    def __init__(self, model, prefix, descriptor = MorganFP(radius=2, nBits=1024)):\n",
    "        super().__init__()\n",
    "        self.model = model\n",
    "        self.prefix = prefix\n",
    "        self.descriptor = descriptor\n",
    "    \n",
    "    def getScores(self, mols, frags=None):\n",
    "        X = pd.Series(mols).apply(lambda x : pd.Series(self.descriptor(x) if x else [0] * 1024))\n",
    "        preds = self.model.predict_proba(X)[::,1]\n",
    "        return preds\n",
    "    \n",
    "    def getKey(self):\n",
    "        return f\"{self.prefix}_MS\"\n",
    "\n",
    "\n",
    "\n",
    "scorer_model = ModelScorer(model, 'A2A_CLS')\n",
    "scorer_model"
   ]
  },
  {
   "cell_type": "markdown",
   "id": "7b29c1e8-61e4-4272-8f7c-221861cbd6f0",
   "metadata": {},
   "source": [
    "A scorer is a simple Python class that needs to have the `getScores` and `getKey` methods. The `getScores` method is the most important one and is used to calculate scores (model predictions) for the generated molecules at each epoch of training. The `getKey` method just gives the scorer a unique name that will appear in the outputs and will be used by the model.\n",
    "\n",
    "We can illustrate how the scorer functions by feeding it our list of smiles from the finetuned model:"
   ]
  },
  {
   "cell_type": "code",
   "execution_count": 17,
   "id": "6be660b7-e310-4292-aa67-0dc335282eaa",
   "metadata": {},
   "outputs": [
    {
     "name": "stderr",
     "output_type": "stream",
     "text": [
      "/home/sichom/software/miniconda/envs/drugex-demo/lib/python3.9/site-packages/sklearn/base.py:450: UserWarning:\n",
      "\n",
      "X does not have valid feature names, but ExtraTreesClassifier was fitted with feature names\n",
      "\n"
     ]
    },
    {
     "data": {
      "text/plain": [
       "array([0.32 , 0.492, 1.   , 0.936, 0.356, 0.904, 0.984, 0.968, 0.88 ,\n",
       "       0.412])"
      ]
     },
     "execution_count": 17,
     "metadata": {},
     "output_type": "execute_result"
    }
   ],
   "source": [
    "predictions = scorer_model(smiles_finetuned)\n",
    "predictions[0:10]"
   ]
  },
  {
   "cell_type": "markdown",
   "id": "2d350504-8367-4397-a3b5-66370bf078b6",
   "metadata": {},
   "source": [
    "We can also calculate the percentage of molecules that would be classified as active at this point. It is just molecules for which the predicted value is more than 0.5:"
   ]
  },
  {
   "cell_type": "code",
   "execution_count": 18,
   "id": "323b5b75-817a-449c-b935-2e44297c6da7",
   "metadata": {},
   "outputs": [
    {
     "data": {
      "text/plain": [
       "0.527"
      ]
     },
     "execution_count": 18,
     "metadata": {},
     "output_type": "execute_result"
    }
   ],
   "source": [
    "sum(predictions > 0.5) / len(predictions)"
   ]
  },
  {
   "cell_type": "markdown",
   "id": "aac135ee-4d36-488a-a64e-87dfa450739a",
   "metadata": {},
   "source": [
    "Therefore, almost half of the generated molecules are perceived as likely binders by our model. Not bad for such a simple model. But let's see if we can further improve this ration with reinforcement learning.\n",
    "\n",
    "#### Observer 2 (Synthetic Accessibility Score)\n",
    "\n",
    "Our second observer in this experiment will be the [Synthetic Accessibility Score](https://jcheminf.biomedcentral.com/articles/10.1186/1758-2946-1-8) (SAScore). It has been around for a long time and is generally considered as a reasonable measure of how complex (hard to synthesize) a compound structure is. It is available in DrugEx and we can easily create this scoring function as follows:"
   ]
  },
  {
   "cell_type": "code",
   "execution_count": 19,
   "id": "e65447f5-82bb-44e9-8f30-e812ceb80f1e",
   "metadata": {},
   "outputs": [],
   "source": [
    "from drugex.training.scorers.properties import Property\n",
    "\n",
    "sascore = Property(\"SA\")"
   ]
  },
  {
   "cell_type": "markdown",
   "id": "e5eadc0e-76ca-4c39-91a2-a6682f9767da",
   "metadata": {},
   "source": [
    "#### Desirability Score Modifiers\n",
    "\n",
    "Because the scorers that we created above each work on a different scale, it might be a good idea to normalize them somehow and make them work on the same scale and express to the model what values of the scores are actually desirable and what are not. For example, we want the SAScore as low as possible while we want the score from the model as close to 1 as possible (have the most confidence in the prediction that the generated compounds are active). This where the desirability modifier comes in. It helps us to keep things on one scale while telling the model what distribution of scores is good for us.\n",
    "\n",
    "For the QSAR model, we will choose the `ClippedScore` modifier:"
   ]
  },
  {
   "cell_type": "code",
   "execution_count": 20,
   "id": "d3141815-f27e-470e-89d9-31754dc2577a",
   "metadata": {},
   "outputs": [],
   "source": [
    "from drugex.training.scorers.modifiers import ClippedScore\n",
    "\n",
    "scorer_model.setModifier(ClippedScore(lower_x=0.2, upper_x=0.8))"
   ]
  },
  {
   "cell_type": "markdown",
   "id": "91e51f22-b27e-4e63-a941-294af282acae",
   "metadata": {},
   "source": [
    "With this modifier we are telling the agent that molecules with scores that are less than 0.2 are no good for us while scores of more than 0.8 are good with some linear progressin in between. We can easily visualize the modifier with the following code:"
   ]
  },
  {
   "cell_type": "code",
   "execution_count": 21,
   "id": "0e345109-fc3a-482e-9176-0fca6c13da42",
   "metadata": {},
   "outputs": [
    {
     "data": {
      "text/plain": [
       "<AxesSubplot: xlabel='Score', ylabel='Clipped Score'>"
      ]
     },
     "execution_count": 21,
     "metadata": {},
     "output_type": "execute_result"
    },
    {
     "data": {
      "image/png": "[encoded data removed]",
      "text/plain": [
       "<Figure size 640x480 with 1 Axes>"
      ]
     },
     "metadata": {},
     "output_type": "display_data"
    }
   ],
   "source": [
    "import numpy as np\n",
    "\n",
    "def depict_modifier(modifier, start=0, end=1, step=0.01, name = 'Clipped Score'):\n",
    "    vals = np.arange(start,end, step)\n",
    "    scores = [(x, modifier(x)) for x in vals] # get the A1R modifier for inactivity (the lower the activity, the higher the reward)\n",
    "    scores = pd.DataFrame(scores, columns=['Score', name])\n",
    "    return scores.plot.scatter(x = 'Score', y = name)\n",
    "\n",
    "depict_modifier(scorer_model.getModifier())"
   ]
  },
  {
   "cell_type": "markdown",
   "id": "6eb4cbca-a1d6-4aa0-8942-3ed527be9b3a",
   "metadata": {},
   "source": [
    "As we can see the agent will be told to stay away from molecules of scores lower then 0.2 and move towards molecules of at least score 0.8. The reason for the linear progression in between is there so that the model can evaluate whether one molecule is better than the other, but not generally desired.\n",
    "\n",
    "For the SAScore we will opt for the smoothed out variant of clipped score, `SmoothClippedScore`:"
   ]
  },
  {
   "cell_type": "code",
   "execution_count": 22,
   "id": "96d2468d-f3a6-45d4-897a-108e0c7918b5",
   "metadata": {},
   "outputs": [],
   "source": [
    "from drugex.training.scorers.modifiers import SmoothClippedScore\n",
    "\n",
    "sascore.setModifier(SmoothClippedScore(lower_x=5, upper_x=3))"
   ]
  },
  {
   "cell_type": "markdown",
   "id": "e48842df-d2cc-4ad0-9134-aed692de1c9a",
   "metadata": {},
   "source": [
    "This funtion looks as follows:"
   ]
  },
  {
   "cell_type": "code",
   "execution_count": 23,
   "id": "e33afe7a-49cc-444c-9ce4-098bf3fce28f",
   "metadata": {},
   "outputs": [
    {
     "data": {
      "text/plain": [
       "<AxesSubplot: xlabel='Score', ylabel='Clipped Score - Smooth'>"
      ]
     },
     "execution_count": 23,
     "metadata": {},
     "output_type": "execute_result"
    },
    {
     "data": {
      "image/png": "[encoded data removed]",
      "text/plain": [
       "<Figure size 640x480 with 1 Axes>"
      ]
     },
     "metadata": {},
     "output_type": "display_data"
    }
   ],
   "source": [
    "depict_modifier(sascore.getModifier(), 0, 10, 0.1, 'Clipped Score - Smooth')"
   ]
  },
  {
   "cell_type": "markdown",
   "id": "d7427aca-d783-4878-88d4-c0be85a12bad",
   "metadata": {},
   "source": [
    "In general, molecules with SAScore higher than 6 are considered quite complex, but can still be present in data sets so we give the distribution a more gradual decrease with a longer right tail. We will also never achieve the perfect SAScore of 1, but that is OK as long as we tell the model we want the score as close to one as possible.\n",
    "\n",
    "#### The Environment\n",
    "\n",
    "The last thing we have to do is to create the environment and to specify desirability thresholds for our scoring functions. We also need to apply a suitable multi-objective reward scheme:"
   ]
  },
  {
   "cell_type": "code",
   "execution_count": 24,
   "id": "10bb41b5-3337-45ec-88c3-e61e6943f727",
   "metadata": {},
   "outputs": [],
   "source": [
    "from drugex.training.environment import DrugExEnvironment\n",
    "from drugex.training.rewards import ParetoCrowdingDistance\n",
    "\n",
    "scorers = [\n",
    "    scorer_model,\n",
    "    sascore\n",
    "]\n",
    "thresholds = [\n",
    "    0.5,\n",
    "    0.1\n",
    "]\n",
    "\n",
    "environment = DrugExEnvironment(scorers, thresholds, reward_scheme=ParetoCrowdingDistance())"
   ]
  },
  {
   "cell_type": "markdown",
   "id": "93aa23e1-fd55-457d-8e83-891e6be15595",
   "metadata": {},
   "source": [
    "The thresholds can play some role in some reward schemes (i.e. `WeightedSum`), but in this case they will just be used to deem whether a molecule is desirable or not. We can show what that means if we get the scores for our previously generated compounds with the environment: "
   ]
  },
  {
   "cell_type": "code",
   "execution_count": 25,
   "id": "78cd2a11-04bf-4473-a1d0-f9bc5dd0ca76",
   "metadata": {},
   "outputs": [
    {
     "name": "stderr",
     "output_type": "stream",
     "text": [
      "/home/sichom/software/miniconda/envs/drugex-demo/lib/python3.9/site-packages/sklearn/base.py:450: UserWarning:\n",
      "\n",
      "X does not have valid feature names, but ExtraTreesClassifier was fitted with feature names\n",
      "\n"
     ]
    },
    {
     "data": {
      "text/html": [
       "<div>\n",
       "<style scoped>\n",
       "    .dataframe tbody tr th:only-of-type {\n",
       "        vertical-align: middle;\n",
       "    }\n",
       "\n",
       "    .dataframe tbody tr th {\n",
       "        vertical-align: top;\n",
       "    }\n",
       "\n",
       "    .dataframe thead th {\n",
       "        text-align: right;\n",
       "    }\n",
       "</style>\n",
       "<table border=\"1\" class=\"dataframe\">\n",
       "  <thead>\n",
       "    <tr style=\"text-align: right;\">\n",
       "      <th></th>\n",
       "      <th>A2A_CLS_MS</th>\n",
       "      <th>SA</th>\n",
       "      <th>DESIRE</th>\n",
       "      <th>VALID</th>\n",
       "    </tr>\n",
       "  </thead>\n",
       "  <tbody>\n",
       "    <tr>\n",
       "      <th>0</th>\n",
       "      <td>0.200000</td>\n",
       "      <td>0.959299</td>\n",
       "      <td>0</td>\n",
       "      <td>1</td>\n",
       "    </tr>\n",
       "    <tr>\n",
       "      <th>1</th>\n",
       "      <td>0.486667</td>\n",
       "      <td>0.988385</td>\n",
       "      <td>0</td>\n",
       "      <td>1</td>\n",
       "    </tr>\n",
       "    <tr>\n",
       "      <th>2</th>\n",
       "      <td>1.000000</td>\n",
       "      <td>0.971109</td>\n",
       "      <td>1</td>\n",
       "      <td>1</td>\n",
       "    </tr>\n",
       "    <tr>\n",
       "      <th>3</th>\n",
       "      <td>1.000000</td>\n",
       "      <td>0.959196</td>\n",
       "      <td>1</td>\n",
       "      <td>1</td>\n",
       "    </tr>\n",
       "    <tr>\n",
       "      <th>4</th>\n",
       "      <td>0.260000</td>\n",
       "      <td>0.958204</td>\n",
       "      <td>0</td>\n",
       "      <td>1</td>\n",
       "    </tr>\n",
       "    <tr>\n",
       "      <th>...</th>\n",
       "      <td>...</td>\n",
       "      <td>...</td>\n",
       "      <td>...</td>\n",
       "      <td>...</td>\n",
       "    </tr>\n",
       "    <tr>\n",
       "      <th>995</th>\n",
       "      <td>0.053333</td>\n",
       "      <td>0.985049</td>\n",
       "      <td>0</td>\n",
       "      <td>1</td>\n",
       "    </tr>\n",
       "    <tr>\n",
       "      <th>996</th>\n",
       "      <td>0.000000</td>\n",
       "      <td>0.883987</td>\n",
       "      <td>0</td>\n",
       "      <td>1</td>\n",
       "    </tr>\n",
       "    <tr>\n",
       "      <th>997</th>\n",
       "      <td>0.000000</td>\n",
       "      <td>0.461415</td>\n",
       "      <td>0</td>\n",
       "      <td>1</td>\n",
       "    </tr>\n",
       "    <tr>\n",
       "      <th>998</th>\n",
       "      <td>1.000000</td>\n",
       "      <td>0.939180</td>\n",
       "      <td>1</td>\n",
       "      <td>1</td>\n",
       "    </tr>\n",
       "    <tr>\n",
       "      <th>999</th>\n",
       "      <td>1.000000</td>\n",
       "      <td>0.956260</td>\n",
       "      <td>1</td>\n",
       "      <td>1</td>\n",
       "    </tr>\n",
       "  </tbody>\n",
       "</table>\n",
       "<p>1000 rows × 4 columns</p>\n",
       "</div>"
      ],
      "text/plain": [
       "     A2A_CLS_MS        SA  DESIRE  VALID\n",
       "0      0.200000  0.959299       0      1\n",
       "1      0.486667  0.988385       0      1\n",
       "2      1.000000  0.971109       1      1\n",
       "3      1.000000  0.959196       1      1\n",
       "4      0.260000  0.958204       0      1\n",
       "..          ...       ...     ...    ...\n",
       "995    0.053333  0.985049       0      1\n",
       "996    0.000000  0.883987       0      1\n",
       "997    0.000000  0.461415       0      1\n",
       "998    1.000000  0.939180       1      1\n",
       "999    1.000000  0.956260       1      1\n",
       "\n",
       "[1000 rows x 4 columns]"
      ]
     },
     "execution_count": 25,
     "metadata": {},
     "output_type": "execute_result"
    }
   ],
   "source": [
    "scores = environment.getScores(smiles_finetuned)\n",
    "scores"
   ]
  },
  {
   "cell_type": "markdown",
   "id": "bc21bb0d-ba7a-446e-86d8-a498b160f024",
   "metadata": {},
   "source": [
    "The `DESIRE` column shows a 1 for all molecules that satisfy the desirability thresholds for all objectives (SAScore higher than 0.1 and the predicted active probability from QSAE of more than 0.5). Note that the thresholds relate to the modified scores and not the original values.\n",
    "\n",
    "We can now calculate how many desirable compounds there are in this initial set:"
   ]
  },
  {
   "cell_type": "code",
   "execution_count": 26,
   "id": "d1d704d0-1f29-4d13-8c7f-608d5df3276d",
   "metadata": {},
   "outputs": [
    {
     "data": {
      "text/plain": [
       "0.528"
      ]
     },
     "execution_count": 26,
     "metadata": {},
     "output_type": "execute_result"
    }
   ],
   "source": [
    "sum(scores[\"DESIRE\"]) / len(scores)"
   ]
  },
  {
   "cell_type": "markdown",
   "id": "24ab0d11-fc02-45b0-b3b2-be9bba4bef40",
   "metadata": {},
   "source": [
    "We can also analyze the distribution of the score for each objective:"
   ]
  },
  {
   "cell_type": "code",
   "execution_count": 27,
   "id": "ee583960-ff07-4be0-af08-c4072c167be4",
   "metadata": {},
   "outputs": [
    {
     "data": {
      "text/plain": [
       "<AxesSubplot: >"
      ]
     },
     "execution_count": 27,
     "metadata": {},
     "output_type": "execute_result"
    },
    {
     "data": {
      "image/png": "[encoded data removed]",
      "text/plain": [
       "<Figure size 640x480 with 1 Axes>"
      ]
     },
     "metadata": {},
     "output_type": "display_data"
    }
   ],
   "source": [
    "scores.A2A_CLS_MS.hist()"
   ]
  },
  {
   "cell_type": "code",
   "execution_count": 28,
   "id": "1849d53c-b824-4c4d-a368-f4bffe834ed9",
   "metadata": {},
   "outputs": [
    {
     "data": {
      "text/plain": [
       "<AxesSubplot: >"
      ]
     },
     "execution_count": 28,
     "metadata": {},
     "output_type": "execute_result"
    },
    {
     "data": {
      "image/png": "[encoded data removed]",
      "text/plain": [
       "<Figure size 640x480 with 1 Axes>"
      ]
     },
     "metadata": {},
     "output_type": "display_data"
    }
   ],
   "source": [
    "scores.SA.hist()"
   ]
  },
  {
   "cell_type": "markdown",
   "id": "1b60e537-b361-40dc-8eec-6d2b95877520",
   "metadata": {},
   "source": [
    "We can see that this is not bad for just an initial model, but we can surely do better, especially when it comes to biological activity predictions. Let's see if we can manage that with reinforcement learning. For the RNN model, the reinforcement learning framework is implemented with the `SmilesExplorerNoFrag` class:"
   ]
  },
  {
   "cell_type": "code",
   "execution_count": 29,
   "id": "784f031e-2d82-418e-97a8-73e4de4a7c17",
   "metadata": {},
   "outputs": [],
   "source": [
    "from drugex.training.models.explorer import SmilesExplorerNoFrag\n",
    "import warnings\n",
    "warnings.filterwarnings('ignore')\n",
    "\n",
    "pretrained = RNN(voc, is_lstm=True, use_gpus=GPUS)\n",
    "pretrained.loadStatesFromFile('data/drugex/models/pretrained/DrugEx_v2_PT_Papyrus05.5/Papyrus05.5_smiles_rnn_PT.pkg')\n",
    "\n",
    "finetuned = RNN(voc, is_lstm=True, use_gpus=GPUS)\n",
    "finetuned.loadStatesFromFile('data/drugex/models/finetuned/ligand_finetune.pkg')\n",
    "\n",
    "explorer = SmilesExplorerNoFrag(\n",
    "    agent = finetuned,\n",
    "    env = environment,\n",
    "    mutate = pretrained, # network introducing mutations to the generated structures (rate determined by epsilon)\n",
    "    epsilon = 0.01,\n",
    "    use_gpus = GPUS\n",
    ")"
   ]
  },
  {
   "cell_type": "markdown",
   "id": "34cd5576-1d47-4b33-92e9-a9d1fd1e1e2a",
   "metadata": {},
   "source": [
    "There are quite a few things we can tweak about the explorer here and the way it approaches reinforcement learning. We could for example choose the pretrained network to be the agent instead of the finetuned network. Doing that could help us find more novel structures that are also active. When using the finetuned model as the agent, the structures will be more similar to known ligands. In our current scenario, we are also using a rather low exploration parameter (`epsilon`), which is another way to influence the diversity of the generated compounds. The higher the `epsilon`, the larger the influence of the mutations introduced by the pretrained model, which adds more randomness to our structures. In short, there is a lot of space for experimentation and you can read more information in the [original paper](https://doi.org/10.1186/s13321-019-0355-6). In this particular case, we just chose the easiest setup for the algorithm so that it converges more easily and we can train it faster, but at the expense of more diverse exploration of chemical space.\n",
    "\n",
    "With that said, let's get to training. Thanks to this simplified setup, 30 epochs should be enough for us to already see a result:"
   ]
  },
  {
   "cell_type": "code",
   "execution_count": 30,
   "id": "6fc9604d-9979-477c-bef7-9d7ccba7376a",
   "metadata": {},
   "outputs": [],
   "source": [
    "monitor = FileMonitor(os.path.join(MODEL_DIR, 'ligand_agent_rl'), verbose=True)\n",
    "explorer.fit(train_loader, valid_loader, monitor=monitor, epochs=30)"
   ]
  },
  {
   "cell_type": "markdown",
   "id": "f1796692-07ec-4003-8409-a384c5ffb4fb",
   "metadata": {},
   "source": [
    "Again, we can observer the evolution of certain parameters during training. Most improtantly the validity of the generated structures and the training loss:"
   ]
  },
  {
   "cell_type": "code",
   "execution_count": 31,
   "id": "10961ed4-d2f4-4132-b3ff-d5317ee57026",
   "metadata": {},
   "outputs": [
    {
     "data": {
      "text/html": [
       "<div>\n",
       "<style scoped>\n",
       "    .dataframe tbody tr th:only-of-type {\n",
       "        vertical-align: middle;\n",
       "    }\n",
       "\n",
       "    .dataframe tbody tr th {\n",
       "        vertical-align: top;\n",
       "    }\n",
       "\n",
       "    .dataframe thead th {\n",
       "        text-align: right;\n",
       "    }\n",
       "</style>\n",
       "<table border=\"1\" class=\"dataframe\">\n",
       "  <thead>\n",
       "    <tr style=\"text-align: right;\">\n",
       "      <th></th>\n",
       "      <th>epoch</th>\n",
       "      <th>loss_train</th>\n",
       "      <th>loss_valid</th>\n",
       "      <th>valid_ratio</th>\n",
       "      <th>unique_ratio</th>\n",
       "      <th>desire_ratio</th>\n",
       "      <th>mean_train_loss</th>\n",
       "    </tr>\n",
       "  </thead>\n",
       "  <tbody>\n",
       "    <tr>\n",
       "      <th>0</th>\n",
       "      <td>1</td>\n",
       "      <td>NaN</td>\n",
       "      <td>NaN</td>\n",
       "      <td>0.851562</td>\n",
       "      <td>NaN</td>\n",
       "      <td>0.476562</td>\n",
       "      <td>-1.086659</td>\n",
       "    </tr>\n",
       "    <tr>\n",
       "      <th>1</th>\n",
       "      <td>2</td>\n",
       "      <td>NaN</td>\n",
       "      <td>NaN</td>\n",
       "      <td>0.828125</td>\n",
       "      <td>NaN</td>\n",
       "      <td>0.507812</td>\n",
       "      <td>-0.095240</td>\n",
       "    </tr>\n",
       "    <tr>\n",
       "      <th>2</th>\n",
       "      <td>3</td>\n",
       "      <td>NaN</td>\n",
       "      <td>NaN</td>\n",
       "      <td>0.835938</td>\n",
       "      <td>NaN</td>\n",
       "      <td>0.460938</td>\n",
       "      <td>-0.089508</td>\n",
       "    </tr>\n",
       "    <tr>\n",
       "      <th>3</th>\n",
       "      <td>4</td>\n",
       "      <td>NaN</td>\n",
       "      <td>NaN</td>\n",
       "      <td>0.906250</td>\n",
       "      <td>NaN</td>\n",
       "      <td>0.578125</td>\n",
       "      <td>-0.086478</td>\n",
       "    </tr>\n",
       "    <tr>\n",
       "      <th>4</th>\n",
       "      <td>5</td>\n",
       "      <td>NaN</td>\n",
       "      <td>NaN</td>\n",
       "      <td>0.898438</td>\n",
       "      <td>NaN</td>\n",
       "      <td>0.546875</td>\n",
       "      <td>-0.082004</td>\n",
       "    </tr>\n",
       "  </tbody>\n",
       "</table>\n",
       "</div>"
      ],
      "text/plain": [
       "   epoch  loss_train  loss_valid  valid_ratio  unique_ratio  desire_ratio  \\\n",
       "0      1         NaN         NaN     0.851562           NaN      0.476562   \n",
       "1      2         NaN         NaN     0.828125           NaN      0.507812   \n",
       "2      3         NaN         NaN     0.835938           NaN      0.460938   \n",
       "3      4         NaN         NaN     0.906250           NaN      0.578125   \n",
       "4      5         NaN         NaN     0.898438           NaN      0.546875   \n",
       "\n",
       "   mean_train_loss  \n",
       "0        -1.086659  \n",
       "1        -0.095240  \n",
       "2        -0.089508  \n",
       "3        -0.086478  \n",
       "4        -0.082004  "
      ]
     },
     "execution_count": 31,
     "metadata": {},
     "output_type": "execute_result"
    }
   ],
   "source": [
    "df_info = pd.read_csv('data/drugex/models/finetuned/ligand_agent_rl_fit.tsv', sep='\\t')\n",
    "df_info.head()"
   ]
  },
  {
   "cell_type": "code",
   "execution_count": 32,
   "id": "024f80f1-dc7d-4d64-a19a-c8660a3222a5",
   "metadata": {},
   "outputs": [
    {
     "data": {
      "text/plain": [
       "<AxesSubplot: >"
      ]
     },
     "execution_count": 32,
     "metadata": {},
     "output_type": "execute_result"
    },
    {
     "data": {
      "image/png": "[encoded data removed]",
      "text/plain": [
       "<Figure size 640x480 with 1 Axes>"
      ]
     },
     "metadata": {},
     "output_type": "display_data"
    }
   ],
   "source": [
    "df_info[['valid_ratio', 'mean_train_loss', 'desire_ratio']].plot.line()"
   ]
  },
  {
   "cell_type": "markdown",
   "id": "f31060f7-0830-437c-9bbc-e90fbae0ac7b",
   "metadata": {},
   "source": [
    "We can see that most of the compounds remain valid and the training loss also improves slightly. We also have a little drop in validity and loss after the first epoch, but the model quickly stabilizes itself. \n",
    "\n",
    "Let's test if this model is now able to produce better molecules. We just need to load it from the saved state and sample new structures:"
   ]
  },
  {
   "cell_type": "code",
   "execution_count": 33,
   "id": "7b4b51a2-f2c5-422c-a5f3-145f54bee748",
   "metadata": {},
   "outputs": [],
   "source": [
    "agent = RNN(voc, is_lstm=True, use_gpus=GPUS)\n",
    "agent.loadStatesFromFile('data/drugex/models/finetuned/ligand_agent_rl.pkg')\n",
    "\n",
    "smiles_rl = sample_smiles(agent, 1000)"
   ]
  },
  {
   "cell_type": "markdown",
   "id": "b9abc3b9-16c9-4d8f-b9c0-0c91be74a6a4",
   "metadata": {},
   "source": [
    "We can again push them through our environment and see how many of them are desirable according to our settings:"
   ]
  },
  {
   "cell_type": "code",
   "execution_count": 34,
   "id": "1a0d277c-8425-4856-88e1-9ccc2d1af161",
   "metadata": {},
   "outputs": [
    {
     "data": {
      "text/html": [
       "<div>\n",
       "<style scoped>\n",
       "    .dataframe tbody tr th:only-of-type {\n",
       "        vertical-align: middle;\n",
       "    }\n",
       "\n",
       "    .dataframe tbody tr th {\n",
       "        vertical-align: top;\n",
       "    }\n",
       "\n",
       "    .dataframe thead th {\n",
       "        text-align: right;\n",
       "    }\n",
       "</style>\n",
       "<table border=\"1\" class=\"dataframe\">\n",
       "  <thead>\n",
       "    <tr style=\"text-align: right;\">\n",
       "      <th></th>\n",
       "      <th>A2A_CLS_MS</th>\n",
       "      <th>SA</th>\n",
       "      <th>DESIRE</th>\n",
       "      <th>VALID</th>\n",
       "    </tr>\n",
       "  </thead>\n",
       "  <tbody>\n",
       "    <tr>\n",
       "      <th>0</th>\n",
       "      <td>1.00</td>\n",
       "      <td>0.977042</td>\n",
       "      <td>1</td>\n",
       "      <td>1</td>\n",
       "    </tr>\n",
       "    <tr>\n",
       "      <th>1</th>\n",
       "      <td>0.44</td>\n",
       "      <td>0.988560</td>\n",
       "      <td>0</td>\n",
       "      <td>1</td>\n",
       "    </tr>\n",
       "    <tr>\n",
       "      <th>2</th>\n",
       "      <td>1.00</td>\n",
       "      <td>0.984056</td>\n",
       "      <td>1</td>\n",
       "      <td>1</td>\n",
       "    </tr>\n",
       "    <tr>\n",
       "      <th>3</th>\n",
       "      <td>1.00</td>\n",
       "      <td>0.982988</td>\n",
       "      <td>1</td>\n",
       "      <td>1</td>\n",
       "    </tr>\n",
       "    <tr>\n",
       "      <th>4</th>\n",
       "      <td>1.00</td>\n",
       "      <td>0.982069</td>\n",
       "      <td>1</td>\n",
       "      <td>1</td>\n",
       "    </tr>\n",
       "    <tr>\n",
       "      <th>...</th>\n",
       "      <td>...</td>\n",
       "      <td>...</td>\n",
       "      <td>...</td>\n",
       "      <td>...</td>\n",
       "    </tr>\n",
       "    <tr>\n",
       "      <th>995</th>\n",
       "      <td>1.00</td>\n",
       "      <td>0.971669</td>\n",
       "      <td>1</td>\n",
       "      <td>1</td>\n",
       "    </tr>\n",
       "    <tr>\n",
       "      <th>996</th>\n",
       "      <td>1.00</td>\n",
       "      <td>0.988477</td>\n",
       "      <td>1</td>\n",
       "      <td>1</td>\n",
       "    </tr>\n",
       "    <tr>\n",
       "      <th>997</th>\n",
       "      <td>1.00</td>\n",
       "      <td>0.965347</td>\n",
       "      <td>1</td>\n",
       "      <td>1</td>\n",
       "    </tr>\n",
       "    <tr>\n",
       "      <th>998</th>\n",
       "      <td>1.00</td>\n",
       "      <td>0.982981</td>\n",
       "      <td>1</td>\n",
       "      <td>1</td>\n",
       "    </tr>\n",
       "    <tr>\n",
       "      <th>999</th>\n",
       "      <td>1.00</td>\n",
       "      <td>0.973017</td>\n",
       "      <td>1</td>\n",
       "      <td>1</td>\n",
       "    </tr>\n",
       "  </tbody>\n",
       "</table>\n",
       "<p>1000 rows × 4 columns</p>\n",
       "</div>"
      ],
      "text/plain": [
       "     A2A_CLS_MS        SA  DESIRE  VALID\n",
       "0          1.00  0.977042       1      1\n",
       "1          0.44  0.988560       0      1\n",
       "2          1.00  0.984056       1      1\n",
       "3          1.00  0.982988       1      1\n",
       "4          1.00  0.982069       1      1\n",
       "..          ...       ...     ...    ...\n",
       "995        1.00  0.971669       1      1\n",
       "996        1.00  0.988477       1      1\n",
       "997        1.00  0.965347       1      1\n",
       "998        1.00  0.982981       1      1\n",
       "999        1.00  0.973017       1      1\n",
       "\n",
       "[1000 rows x 4 columns]"
      ]
     },
     "execution_count": 34,
     "metadata": {},
     "output_type": "execute_result"
    }
   ],
   "source": [
    "scores = environment.getScores(smiles_rl)\n",
    "scores"
   ]
  },
  {
   "cell_type": "code",
   "execution_count": 35,
   "id": "0b152b73-e5f2-4156-ba7e-cb24459c06d5",
   "metadata": {},
   "outputs": [
    {
     "data": {
      "text/plain": [
       "0.932"
      ]
     },
     "execution_count": 35,
     "metadata": {},
     "output_type": "execute_result"
    }
   ],
   "source": [
    "sum(scores[\"DESIRE\"] > 0.5) / len(scores)"
   ]
  },
  {
   "cell_type": "code",
   "execution_count": 36,
   "id": "c695ca75-6914-4911-bd54-3ebdf2129f32",
   "metadata": {},
   "outputs": [
    {
     "data": {
      "text/plain": [
       "<AxesSubplot: >"
      ]
     },
     "execution_count": 36,
     "metadata": {},
     "output_type": "execute_result"
    },
    {
     "data": {
      "image/png": "[encoded data removed]",
      "text/plain": [
       "<Figure size 640x480 with 1 Axes>"
      ]
     },
     "metadata": {},
     "output_type": "display_data"
    }
   ],
   "source": [
    "scores.A2A_CLS_MS.hist()"
   ]
  },
  {
   "cell_type": "code",
   "execution_count": 37,
   "id": "1e7d8e63-416d-48bd-ad69-aa7e2582494a",
   "metadata": {},
   "outputs": [
    {
     "data": {
      "text/plain": [
       "<AxesSubplot: >"
      ]
     },
     "execution_count": 37,
     "metadata": {},
     "output_type": "execute_result"
    },
    {
     "data": {
      "image/png": "[encoded data removed]",
      "text/plain": [
       "<Figure size 640x480 with 1 Axes>"
      ]
     },
     "metadata": {},
     "output_type": "display_data"
    }
   ],
   "source": [
    "scores.SA.hist()"
   ]
  },
  {
   "cell_type": "markdown",
   "id": "82da99c5-d9ca-4378-9b7b-f39503a1ca2a",
   "metadata": {},
   "source": [
    "That definitely looks better than before. We now have a much higher ratio of desirable molecules. Let's take a look at the structures and use the model output to color them based on predicted activity:"
   ]
  },
  {
   "cell_type": "code",
   "execution_count": 38,
   "id": "7ed26665-bb3a-4121-be5c-4dc5b16228dd",
   "metadata": {},
   "outputs": [
    {
     "data": {
      "text/html": [
       "\n",
       "        <iframe\n",
       "            width=\"100%\"\n",
       "            height=\"800\"\n",
       "            src=\"http://127.0.0.1:9494/\"\n",
       "            frameborder=\"0\"\n",
       "            allowfullscreen\n",
       "            \n",
       "        ></iframe>\n",
       "        "
      ],
      "text/plain": [
       "<IPython.lib.display.IFrame at 0x7f19dc1938b0>"
      ]
     },
     "metadata": {},
     "output_type": "display_data"
    }
   ],
   "source": [
    "dataset = DataSetSMILES(\"data/finetuned_rl_sampled.tsv\", smiles=smiles_rl, use_existing=False)\n",
    "dataset.addData('CLS', scores.A2A_CLS_MS)\n",
    "dataset.addDescriptors([MorganFP(radius=2, nBits=1024)], recalculate=False) \n",
    "\n",
    "plt = Plot(dataset, TSNE())\n",
    "plt.plot(\n",
    "    recalculate=False,\n",
    "    color_by='CLS',\n",
    "    color_continuous_scale=\"rdylgn\",\n",
    "    color_style='continuous',\n",
    "    viewport_height=800,\n",
    "    port=9494\n",
    ")"
   ]
  },
  {
   "cell_type": "markdown",
   "id": "34e80371-51a2-4d4c-898d-20f2f964bdca",
   "metadata": {},
   "source": [
    "A lot of the molecules are lit up green, which is good. It means the model is confident that these structures belong to active ligands. It seems that we were able to improve the original model's ability to produce more active and synthetically accessible compounds. Congratulations, maybe there is a new drug in there :) \n",
    "\n",
    "But before jumping into conclusions we should be critical of what we accomplished here. We merely optimized the original finetuned model so it is likely there is a big overlap between the original data set and this new set of compounds. We can easily check how our compounds compare to the original set by visualizing them together:"
   ]
  },
  {
   "cell_type": "code",
   "execution_count": 39,
   "id": "f78404ec-f232-47a3-b11f-a0a68ed59fbc",
   "metadata": {},
   "outputs": [
    {
     "data": {
      "text/html": [
       "<div>\n",
       "<style scoped>\n",
       "    .dataframe tbody tr th:only-of-type {\n",
       "        vertical-align: middle;\n",
       "    }\n",
       "\n",
       "    .dataframe tbody tr th {\n",
       "        vertical-align: top;\n",
       "    }\n",
       "\n",
       "    .dataframe thead th {\n",
       "        text-align: right;\n",
       "    }\n",
       "</style>\n",
       "<table border=\"1\" class=\"dataframe\">\n",
       "  <thead>\n",
       "    <tr style=\"text-align: right;\">\n",
       "      <th></th>\n",
       "      <th>SMILES</th>\n",
       "      <th>Group</th>\n",
       "    </tr>\n",
       "  </thead>\n",
       "  <tbody>\n",
       "    <tr>\n",
       "      <th>0</th>\n",
       "      <td>Cc1nn(-c2cc(NC(=O)CCN(C)C)nc(-c3ccc(C)o3)n2)c(...</td>\n",
       "      <td>A2A Set</td>\n",
       "    </tr>\n",
       "    <tr>\n",
       "      <th>1</th>\n",
       "      <td>Nc1c(C(=O)Nc2ccc([N+](=O)[O-])cc2)sc2c1cc1CCCC...</td>\n",
       "      <td>A2A Set</td>\n",
       "    </tr>\n",
       "    <tr>\n",
       "      <th>2</th>\n",
       "      <td>O=C(Nc1nc2ncccc2n2c(=O)n(-c3ccccc3)nc12)c1ccccc1</td>\n",
       "      <td>A2A Set</td>\n",
       "    </tr>\n",
       "    <tr>\n",
       "      <th>3</th>\n",
       "      <td>NC(=NC(=O)Cn1c(O)c2CCCCc2c1O)Nc1nc2c(cccc2)s1</td>\n",
       "      <td>A2A Set</td>\n",
       "    </tr>\n",
       "    <tr>\n",
       "      <th>4</th>\n",
       "      <td>CNC(=O)C12CC1C(n1cnc3c1nc(C#CCCCCC(=O)OC)nc3NC...</td>\n",
       "      <td>A2A Set</td>\n",
       "    </tr>\n",
       "    <tr>\n",
       "      <th>...</th>\n",
       "      <td>...</td>\n",
       "      <td>...</td>\n",
       "    </tr>\n",
       "    <tr>\n",
       "      <th>995</th>\n",
       "      <td>Cc1cc(-c2nnc(N)nc2-c2ccc(F)cc2)cc(-c2ccccc2)n1</td>\n",
       "      <td>Generated</td>\n",
       "    </tr>\n",
       "    <tr>\n",
       "      <th>996</th>\n",
       "      <td>Nc1ccc(-c2ccc(F)cc2)c(-c2ccccc2)n1</td>\n",
       "      <td>Generated</td>\n",
       "    </tr>\n",
       "    <tr>\n",
       "      <th>997</th>\n",
       "      <td>Nc1nc(-c2cccc(Cl)c2)c2ncn(Cc3ccc(F)c(Cl)c3)c2n1</td>\n",
       "      <td>Generated</td>\n",
       "    </tr>\n",
       "    <tr>\n",
       "      <th>998</th>\n",
       "      <td>Cc1ccc(-c2cc(C(=O)NCc3cccc(C)c3)nc(N)n2)cc1</td>\n",
       "      <td>Generated</td>\n",
       "    </tr>\n",
       "    <tr>\n",
       "      <th>999</th>\n",
       "      <td>Nc1nc(-c2ccccc2)c2cnn(Cc3cccc(-c4cccc(F)c4)c3)...</td>\n",
       "      <td>Generated</td>\n",
       "    </tr>\n",
       "  </tbody>\n",
       "</table>\n",
       "<p>4991 rows × 2 columns</p>\n",
       "</div>"
      ],
      "text/plain": [
       "                                                SMILES      Group\n",
       "0    Cc1nn(-c2cc(NC(=O)CCN(C)C)nc(-c3ccc(C)o3)n2)c(...    A2A Set\n",
       "1    Nc1c(C(=O)Nc2ccc([N+](=O)[O-])cc2)sc2c1cc1CCCC...    A2A Set\n",
       "2     O=C(Nc1nc2ncccc2n2c(=O)n(-c3ccccc3)nc12)c1ccccc1    A2A Set\n",
       "3        NC(=NC(=O)Cn1c(O)c2CCCCc2c1O)Nc1nc2c(cccc2)s1    A2A Set\n",
       "4    CNC(=O)C12CC1C(n1cnc3c1nc(C#CCCCCC(=O)OC)nc3NC...    A2A Set\n",
       "..                                                 ...        ...\n",
       "995     Cc1cc(-c2nnc(N)nc2-c2ccc(F)cc2)cc(-c2ccccc2)n1  Generated\n",
       "996                 Nc1ccc(-c2ccc(F)cc2)c(-c2ccccc2)n1  Generated\n",
       "997    Nc1nc(-c2cccc(Cl)c2)c2ncn(Cc3ccc(F)c(Cl)c3)c2n1  Generated\n",
       "998        Cc1ccc(-c2cc(C(=O)NCc3cccc(C)c3)nc(N)n2)cc1  Generated\n",
       "999  Nc1nc(-c2ccccc2)c2cnn(Cc3cccc(-c4cccc(F)c4)c3)...  Generated\n",
       "\n",
       "[4991 rows x 2 columns]"
      ]
     },
     "execution_count": 39,
     "metadata": {},
     "output_type": "execute_result"
    }
   ],
   "source": [
    "df_joined = pd.concat(\n",
    "    [\n",
    "        pd.DataFrame(\n",
    "            {'SMILES' : df_a2a.SMILES.tolist(), 'Group': 'A2A Set'}\n",
    "        ),\n",
    "        pd.DataFrame(\n",
    "            {'SMILES' : smiles_rl, 'Group': 'Generated'}\n",
    "        )\n",
    "    ]\n",
    ")\n",
    "df_joined"
   ]
  },
  {
   "cell_type": "code",
   "execution_count": 40,
   "id": "c445ab75-22ff-4e85-9b51-423b0c5d5d72",
   "metadata": {},
   "outputs": [
    {
     "data": {
      "text/html": [
       "\n",
       "        <iframe\n",
       "            width=\"100%\"\n",
       "            height=\"800\"\n",
       "            src=\"http://127.0.0.1:9595/\"\n",
       "            frameborder=\"0\"\n",
       "            allowfullscreen\n",
       "            \n",
       "        ></iframe>\n",
       "        "
      ],
      "text/plain": [
       "<IPython.lib.display.IFrame at 0x7f1917acfbe0>"
      ]
     },
     "metadata": {},
     "output_type": "display_data"
    }
   ],
   "source": [
    "from scaffviz.data.dataset import DataSetTSV\n",
    "\n",
    "dataset = DataSetTSV(\"data/original_and_generated.tsv\", data=df_joined)\n",
    "dataset.addDescriptors([MorganFP(radius=2, nBits=1024)], recalculate=False) \n",
    "\n",
    "plt = Plot(dataset, TSNE())\n",
    "plt.plot(\n",
    "    recalculate=False,\n",
    "    color_by='Group',\n",
    "    viewport_height=800,\n",
    "    port=9595\n",
    ")"
   ]
  },
  {
   "cell_type": "markdown",
   "id": "401e6d46-15ae-433b-b08e-1b5550772560",
   "metadata": {},
   "source": [
    "Indeed, there is some overlap between the original data set and the generated structures, but we also manage to generate some compounds outside of these orginal clusters. You can try to vary the `epsilon` parameter and see what happens with desirability and diversity of the molecules. However, maybe there is also some merit to this model. It all depends on the task at hand. But in any case we might want to generate even more compounds with the model and try to verify and screen the generated library with more precise methods (i.e. molecular docking)."
   ]
  },
  {
   "cell_type": "code",
   "execution_count": null,
   "id": "ff999cbf-787d-4b1f-bb22-c5d1f7daf7eb",
   "metadata": {},
   "outputs": [],
   "source": []
  }
 ],
 "metadata": {
  "kernelspec": {
   "display_name": "Python 3 (ipykernel)",
   "language": "python",
   "name": "python3"
  },
  "language_info": {
   "codemirror_mode": {
    "name": "ipython",
    "version": 3
   },
   "file_extension": ".py",
   "mimetype": "text/x-python",
   "name": "python",
   "nbconvert_exporter": "python",
   "pygments_lexer": "ipython3",
   "version": "3.9.13"
  }
 },
 "nbformat": 4,
 "nbformat_minor": 5
}
